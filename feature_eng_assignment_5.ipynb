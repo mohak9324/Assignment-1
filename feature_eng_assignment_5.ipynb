{
 "cells": [
  {
   "cell_type": "code",
   "execution_count": 1,
   "id": "bc64956e-d0b1-422a-bef0-d9359d1f5480",
   "metadata": {},
   "outputs": [],
   "source": [
    "# Q1. Pearson correlation coefficient is a measure of the linear relationship between two variables. Suppose\n",
    "# you have collected data on the amount of time students spend studying for an exam and their final exam\n",
    "# scores. Calculate the Pearson correlation coefficient between these two variables and interpret the result."
   ]
  },
  {
   "cell_type": "code",
   "execution_count": 2,
   "id": "7cd463eb-dc47-4e28-b64f-cbacea517200",
   "metadata": {},
   "outputs": [],
   "source": [
    "import pandas as pd\n",
    "import numpy as np"
   ]
  },
  {
   "cell_type": "code",
   "execution_count": 3,
   "id": "bc6d54b3-3bf8-457e-8c15-4b926c45f310",
   "metadata": {},
   "outputs": [],
   "source": [
    "df=pd.DataFrame({'studying_time' : [4, 6, 3, 7, 5, 8, 6, 7, 9, 10],\n",
    "'exam_scores': [75, 82, 60, 85, 78, 90, 81, 88, 92, 95]})"
   ]
  },
  {
   "cell_type": "code",
   "execution_count": 5,
   "id": "c4eff01c-be85-4dc1-ab84-b5ecd83567b8",
   "metadata": {},
   "outputs": [
    {
     "data": {
      "text/html": [
       "<div>\n",
       "<style scoped>\n",
       "    .dataframe tbody tr th:only-of-type {\n",
       "        vertical-align: middle;\n",
       "    }\n",
       "\n",
       "    .dataframe tbody tr th {\n",
       "        vertical-align: top;\n",
       "    }\n",
       "\n",
       "    .dataframe thead th {\n",
       "        text-align: right;\n",
       "    }\n",
       "</style>\n",
       "<table border=\"1\" class=\"dataframe\">\n",
       "  <thead>\n",
       "    <tr style=\"text-align: right;\">\n",
       "      <th></th>\n",
       "      <th>studying_time</th>\n",
       "      <th>exam_scores</th>\n",
       "    </tr>\n",
       "  </thead>\n",
       "  <tbody>\n",
       "    <tr>\n",
       "      <th>studying_time</th>\n",
       "      <td>1.000000</td>\n",
       "      <td>0.948491</td>\n",
       "    </tr>\n",
       "    <tr>\n",
       "      <th>exam_scores</th>\n",
       "      <td>0.948491</td>\n",
       "      <td>1.000000</td>\n",
       "    </tr>\n",
       "  </tbody>\n",
       "</table>\n",
       "</div>"
      ],
      "text/plain": [
       "               studying_time  exam_scores\n",
       "studying_time       1.000000     0.948491\n",
       "exam_scores         0.948491     1.000000"
      ]
     },
     "execution_count": 5,
     "metadata": {},
     "output_type": "execute_result"
    }
   ],
   "source": [
    "df.corr(method='pearson')"
   ]
  },
  {
   "cell_type": "code",
   "execution_count": 6,
   "id": "3982a501-7b2c-401f-9b2d-3a0ab940c276",
   "metadata": {},
   "outputs": [],
   "source": [
    "# Q2. Spearman's rank correlation is a measure of the monotonic relationship between two variables.\n",
    "# Suppose you have collected data on the amount of sleep individuals get each night and their overall job\n",
    "# satisfaction level on a scale of 1 to 10. Calculate the Spearman's rank correlation between these two\n",
    "# variables and interpret the result."
   ]
  },
  {
   "cell_type": "code",
   "execution_count": 7,
   "id": "47e3eee9-2065-4ca4-895d-ad934164a42d",
   "metadata": {},
   "outputs": [],
   "source": [
    "df=pd.DataFrame({'spleep_hours' : [6, 7, 5, 8, 6, 7, 8, 5, 6, 9],\n",
    "'job_satisfaction': [7, 6, 4, 8, 5, 9, 8, 3, 6, 9]})"
   ]
  },
  {
   "cell_type": "code",
   "execution_count": 8,
   "id": "9b274962-d06d-49dc-8d62-7574bb408e78",
   "metadata": {},
   "outputs": [
    {
     "data": {
      "text/html": [
       "<div>\n",
       "<style scoped>\n",
       "    .dataframe tbody tr th:only-of-type {\n",
       "        vertical-align: middle;\n",
       "    }\n",
       "\n",
       "    .dataframe tbody tr th {\n",
       "        vertical-align: top;\n",
       "    }\n",
       "\n",
       "    .dataframe thead th {\n",
       "        text-align: right;\n",
       "    }\n",
       "</style>\n",
       "<table border=\"1\" class=\"dataframe\">\n",
       "  <thead>\n",
       "    <tr style=\"text-align: right;\">\n",
       "      <th></th>\n",
       "      <th>spleep_hours</th>\n",
       "      <th>job_satisfaction</th>\n",
       "    </tr>\n",
       "  </thead>\n",
       "  <tbody>\n",
       "    <tr>\n",
       "      <th>spleep_hours</th>\n",
       "      <td>1.000000</td>\n",
       "      <td>0.868818</td>\n",
       "    </tr>\n",
       "    <tr>\n",
       "      <th>job_satisfaction</th>\n",
       "      <td>0.868818</td>\n",
       "      <td>1.000000</td>\n",
       "    </tr>\n",
       "  </tbody>\n",
       "</table>\n",
       "</div>"
      ],
      "text/plain": [
       "                  spleep_hours  job_satisfaction\n",
       "spleep_hours          1.000000          0.868818\n",
       "job_satisfaction      0.868818          1.000000"
      ]
     },
     "execution_count": 8,
     "metadata": {},
     "output_type": "execute_result"
    }
   ],
   "source": [
    "df.corr(method='spearman')"
   ]
  },
  {
   "cell_type": "code",
   "execution_count": 10,
   "id": "7bc98f04-6b1f-4e6c-8cd4-e3856e204e6f",
   "metadata": {},
   "outputs": [],
   "source": [
    "\n",
    "# Q3. Suppose you are conducting a study to examine the relationship between the number of hours of\n",
    "# exercise per week and body mass index (BMI) in a sample of adults. You collected data on both variables\n",
    "# for 50 participants. Calculate the Pearson correlation coefficient and the Spearman's rank correlation\n",
    "# between these two variables and compare the results."
   ]
  },
  {
   "cell_type": "code",
   "execution_count": 14,
   "id": "52423c43-6005-4e29-bbae-ed181c345343",
   "metadata": {},
   "outputs": [
    {
     "data": {
      "text/plain": [
       "50"
      ]
     },
     "execution_count": 14,
     "metadata": {},
     "output_type": "execute_result"
    }
   ],
   "source": [
    "exercise_hours=  [25.1, 26.5, 27.8, 28.3, 26.0, 25.5, 29.2, 30.1, 28.7, 27.0, 26.3, 31.5, 29.6, 27.8,\n",
    "       26.5, 32.7, 30.8, 28.9, 26.7, 33.5, 31.1, 29.4, 27.2, 34.2, 32.2, 30.5, 28.4, 35.0,\n",
    "       32.8, 30.2, 27.8, 35.8, 33.3, 31.7, 29.9, 36.5, 34.0, 32.0, 30.0, 37.2, 34.7, 32.5,\n",
    "       30.6, 38.0, 35.4, 33.0, 31.0,33.0,31.1, 29.4]\n",
    "len(exercise_hours)"
   ]
  },
  {
   "cell_type": "code",
   "execution_count": 15,
   "id": "3d66faed-f471-4c1d-8471-c7c83a064f84",
   "metadata": {},
   "outputs": [],
   "source": [
    "df=pd.DataFrame({'exercise_hours':  [3, 4, 2, 5, 3, 6, 4, 7, 5, 8, 6, 9, 7, 10, 8, 11, 9, 12, 10, 13,\n",
    "                                    11, 14, 12, 15, 13, 16, 14, 17, 15, 18, 16, 19, 17, 20, 18, 21, 19, 22, 20,\n",
    "                  23, 21, 24, 22, 25, 23, 26, 24, 27, 25,24],\n",
    "'bmi': [25.1, 26.5, 27.8, 28.3, 26.0, 25.5, 29.2, 30.1, 28.7, 27.0, 26.3, 31.5, 29.6, 27.8,\n",
    "       26.5, 32.7, 30.8, 28.9, 26.7, 33.5, 31.1, 29.4, 27.2, 34.2, 32.2, 30.5, 28.4, 35.0,\n",
    "       32.8, 30.2, 27.8, 35.8, 33.3, 31.7, 29.9, 36.5, 34.0, 32.0, 30.0, 37.2, 34.7, 32.5,\n",
    "       30.6, 38.0, 35.4, 33.0, 31.0,33.0,31.1, 29.4]})"
   ]
  },
  {
   "cell_type": "code",
   "execution_count": 18,
   "id": "fe4a51d0-6760-49de-b4da-2416cc567a09",
   "metadata": {},
   "outputs": [
    {
     "data": {
      "text/html": [
       "<div>\n",
       "<style scoped>\n",
       "    .dataframe tbody tr th:only-of-type {\n",
       "        vertical-align: middle;\n",
       "    }\n",
       "\n",
       "    .dataframe tbody tr th {\n",
       "        vertical-align: top;\n",
       "    }\n",
       "\n",
       "    .dataframe thead th {\n",
       "        text-align: right;\n",
       "    }\n",
       "</style>\n",
       "<table border=\"1\" class=\"dataframe\">\n",
       "  <thead>\n",
       "    <tr style=\"text-align: right;\">\n",
       "      <th></th>\n",
       "      <th>exercise_hours</th>\n",
       "      <th>bmi</th>\n",
       "    </tr>\n",
       "  </thead>\n",
       "  <tbody>\n",
       "    <tr>\n",
       "      <th>exercise_hours</th>\n",
       "      <td>1.000000</td>\n",
       "      <td>0.692302</td>\n",
       "    </tr>\n",
       "    <tr>\n",
       "      <th>bmi</th>\n",
       "      <td>0.692302</td>\n",
       "      <td>1.000000</td>\n",
       "    </tr>\n",
       "  </tbody>\n",
       "</table>\n",
       "</div>"
      ],
      "text/plain": [
       "                exercise_hours       bmi\n",
       "exercise_hours        1.000000  0.692302\n",
       "bmi                   0.692302  1.000000"
      ]
     },
     "execution_count": 18,
     "metadata": {},
     "output_type": "execute_result"
    }
   ],
   "source": [
    "df.corr(method='pearson')"
   ]
  },
  {
   "cell_type": "code",
   "execution_count": 19,
   "id": "7bb0a156-2cd3-48b0-8591-5d839b22ed4d",
   "metadata": {},
   "outputs": [
    {
     "data": {
      "text/html": [
       "<div>\n",
       "<style scoped>\n",
       "    .dataframe tbody tr th:only-of-type {\n",
       "        vertical-align: middle;\n",
       "    }\n",
       "\n",
       "    .dataframe tbody tr th {\n",
       "        vertical-align: top;\n",
       "    }\n",
       "\n",
       "    .dataframe thead th {\n",
       "        text-align: right;\n",
       "    }\n",
       "</style>\n",
       "<table border=\"1\" class=\"dataframe\">\n",
       "  <thead>\n",
       "    <tr style=\"text-align: right;\">\n",
       "      <th></th>\n",
       "      <th>exercise_hours</th>\n",
       "      <th>bmi</th>\n",
       "    </tr>\n",
       "  </thead>\n",
       "  <tbody>\n",
       "    <tr>\n",
       "      <th>exercise_hours</th>\n",
       "      <td>1.000000</td>\n",
       "      <td>0.699322</td>\n",
       "    </tr>\n",
       "    <tr>\n",
       "      <th>bmi</th>\n",
       "      <td>0.699322</td>\n",
       "      <td>1.000000</td>\n",
       "    </tr>\n",
       "  </tbody>\n",
       "</table>\n",
       "</div>"
      ],
      "text/plain": [
       "                exercise_hours       bmi\n",
       "exercise_hours        1.000000  0.699322\n",
       "bmi                   0.699322  1.000000"
      ]
     },
     "execution_count": 19,
     "metadata": {},
     "output_type": "execute_result"
    }
   ],
   "source": [
    "df.corr(method='spearman')"
   ]
  },
  {
   "cell_type": "code",
   "execution_count": 29,
   "id": "eeea82af-e33b-412a-82df-dad6abaed063",
   "metadata": {},
   "outputs": [],
   "source": [
    "# Q4. A researcher is interested in examining the relationship between the number of hours individuals\n",
    "# spend watching television per day and their level of physical activity. The researcher collected data on\n",
    "# both variables from a sample of 50 participants. Calculate the Pearson correlation coefficient between\n",
    "# these two variables."
   ]
  },
  {
   "cell_type": "code",
   "execution_count": 27,
   "id": "89979cef-9f07-4db3-aaaa-49fde405cba2",
   "metadata": {},
   "outputs": [],
   "source": [
    "df=pd.DataFrame({'tv_hours_per_day' : [2, 3, 4, 1, 5, 2, 6, 3, 4, 2, 7, 1, 3, 5, 2, 4, 6, 3, 5, 1,\n",
    "                    2, 4, 1, 3, 5, 2, 6, 1, 4, 2, 7, 3, 5, 2, 4, 6, 1, 3, 5, 2,\n",
    "                    7, 4, 6, 3, 5, 1, 2, 4],\n",
    "\n",
    "'physical_activity_level': [3, 2, 2, 4, 1, 3, 1, 2, 2, 3, 1, 4, 2, 1, 3, 2, 1, 2, 1, 4,\n",
    "                            3, 2, 4, 2, 1, 3, 1, 4, 2, 3, 1, 2, 1, 3, 2, 1, 4, 3, 2,\n",
    "                            1, 4, 2, 1, 3, 2, 4, 1, 3]})"
   ]
  },
  {
   "cell_type": "code",
   "execution_count": 28,
   "id": "b77141a2-abd4-419c-b232-3ff2e4e8355e",
   "metadata": {},
   "outputs": [
    {
     "data": {
      "text/html": [
       "<div>\n",
       "<style scoped>\n",
       "    .dataframe tbody tr th:only-of-type {\n",
       "        vertical-align: middle;\n",
       "    }\n",
       "\n",
       "    .dataframe tbody tr th {\n",
       "        vertical-align: top;\n",
       "    }\n",
       "\n",
       "    .dataframe thead th {\n",
       "        text-align: right;\n",
       "    }\n",
       "</style>\n",
       "<table border=\"1\" class=\"dataframe\">\n",
       "  <thead>\n",
       "    <tr style=\"text-align: right;\">\n",
       "      <th></th>\n",
       "      <th>tv_hours_per_day</th>\n",
       "      <th>physical_activity_level</th>\n",
       "    </tr>\n",
       "  </thead>\n",
       "  <tbody>\n",
       "    <tr>\n",
       "      <th>tv_hours_per_day</th>\n",
       "      <td>1.000000</td>\n",
       "      <td>-0.713767</td>\n",
       "    </tr>\n",
       "    <tr>\n",
       "      <th>physical_activity_level</th>\n",
       "      <td>-0.713767</td>\n",
       "      <td>1.000000</td>\n",
       "    </tr>\n",
       "  </tbody>\n",
       "</table>\n",
       "</div>"
      ],
      "text/plain": [
       "                         tv_hours_per_day  physical_activity_level\n",
       "tv_hours_per_day                 1.000000                -0.713767\n",
       "physical_activity_level         -0.713767                 1.000000"
      ]
     },
     "execution_count": 28,
     "metadata": {},
     "output_type": "execute_result"
    }
   ],
   "source": [
    "df.corr(method='pearson')"
   ]
  },
  {
   "cell_type": "code",
   "execution_count": 31,
   "id": "64cc8774-8342-4942-ab79-dd7294987c9e",
   "metadata": {},
   "outputs": [],
   "source": [
    "# Q5. A survey was conducted to examine the relationship between age and preference for a particular\n",
    "# brand of soft drink. The survey results are shown below:"
   ]
  },
  {
   "cell_type": "markdown",
   "id": "1877020f-b899-4de4-8eb1-33c4fd6531a8",
   "metadata": {},
   "source": [
    "correlation can not be found out between Continuous and Categorical Variable"
   ]
  },
  {
   "cell_type": "code",
   "execution_count": 30,
   "id": "a85a2ee7-1d7a-4b70-9e1e-2660c2334f23",
   "metadata": {},
   "outputs": [],
   "source": [
    "# Q6. A company is interested in examining the relationship between the number of sales calls made per day\n",
    "# and the number of sales made per week. The company collected data on both variables from a sample of\n",
    "# 30 sales representatives. Calculate the Pearson correlation coefficient between these two variables."
   ]
  },
  {
   "cell_type": "code",
   "execution_count": 35,
   "id": "e738da7f-cc00-4111-a208-93fdcb9dd66e",
   "metadata": {},
   "outputs": [],
   "source": [
    "df=pd.DataFrame({'sales_calls_per_day': [20, 22, 25, 18, 21, 19, 23, 17, 16, 24, 22, 20, 18, 19, 21, 20, 25, 22, 23, 18,\n",
    "                        20, 17, 19, 26, 22, 24, 23, 21, 20, 18],\n",
    "\n",
    "'sales_per_week': [100, 110, 120, 90, 105, 95, 115, 85, 80, 125, 110, 100, 90, 95, 105, 100, 120, 110, 115, 90,\n",
    "                  100, 85, 95, 130, 110, 125, 115, 105, 100, 90]})"
   ]
  },
  {
   "cell_type": "code",
   "execution_count": 36,
   "id": "e9fef2e4-f14d-4968-a73d-9418cf9d9b76",
   "metadata": {},
   "outputs": [
    {
     "data": {
      "text/html": [
       "<div>\n",
       "<style scoped>\n",
       "    .dataframe tbody tr th:only-of-type {\n",
       "        vertical-align: middle;\n",
       "    }\n",
       "\n",
       "    .dataframe tbody tr th {\n",
       "        vertical-align: top;\n",
       "    }\n",
       "\n",
       "    .dataframe thead th {\n",
       "        text-align: right;\n",
       "    }\n",
       "</style>\n",
       "<table border=\"1\" class=\"dataframe\">\n",
       "  <thead>\n",
       "    <tr style=\"text-align: right;\">\n",
       "      <th></th>\n",
       "      <th>sales_calls_per_day</th>\n",
       "      <th>sales_per_week</th>\n",
       "    </tr>\n",
       "  </thead>\n",
       "  <tbody>\n",
       "    <tr>\n",
       "      <th>sales_calls_per_day</th>\n",
       "      <td>1.000000</td>\n",
       "      <td>0.989968</td>\n",
       "    </tr>\n",
       "    <tr>\n",
       "      <th>sales_per_week</th>\n",
       "      <td>0.989968</td>\n",
       "      <td>1.000000</td>\n",
       "    </tr>\n",
       "  </tbody>\n",
       "</table>\n",
       "</div>"
      ],
      "text/plain": [
       "                     sales_calls_per_day  sales_per_week\n",
       "sales_calls_per_day             1.000000        0.989968\n",
       "sales_per_week                  0.989968        1.000000"
      ]
     },
     "execution_count": 36,
     "metadata": {},
     "output_type": "execute_result"
    }
   ],
   "source": [
    "df.corr(method='pearson')"
   ]
  },
  {
   "cell_type": "code",
   "execution_count": null,
   "id": "d8c0251e-5b2c-4faf-a59a-21ac0f317f81",
   "metadata": {},
   "outputs": [],
   "source": []
  }
 ],
 "metadata": {
  "kernelspec": {
   "display_name": "Python 3 (ipykernel)",
   "language": "python",
   "name": "python3"
  },
  "language_info": {
   "codemirror_mode": {
    "name": "ipython",
    "version": 3
   },
   "file_extension": ".py",
   "mimetype": "text/x-python",
   "name": "python",
   "nbconvert_exporter": "python",
   "pygments_lexer": "ipython3",
   "version": "3.10.8"
  }
 },
 "nbformat": 4,
 "nbformat_minor": 5
}
