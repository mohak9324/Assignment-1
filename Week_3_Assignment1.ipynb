{
 "cells": [
  {
   "cell_type": "code",
   "execution_count": 1,
   "id": "c53a7026-a67a-4497-a491-db969261f8bc",
   "metadata": {},
   "outputs": [],
   "source": [
    "#Q1 Which keyword is used to create a function? Create a function to return a list of odd numbers in the\n",
    "#range of 1 to 25."
   ]
  },
  {
   "cell_type": "code",
   "execution_count": 2,
   "id": "d8c5fc68-4eda-4e34-9cdb-de226e4ac7d4",
   "metadata": {},
   "outputs": [],
   "source": [
    "#def is the keyword to create a function"
   ]
  },
  {
   "cell_type": "code",
   "execution_count": 3,
   "id": "1ba9f473-9fdc-42bd-83e8-f931321297e8",
   "metadata": {},
   "outputs": [],
   "source": [
    "def lst_odd():\n",
    "    l=[]\n",
    "    for i in range(26):\n",
    "        if i%2!=0:\n",
    "            l.append(i)\n",
    "    return l"
   ]
  },
  {
   "cell_type": "code",
   "execution_count": 4,
   "id": "df0c6f10-3ae5-4dcf-a117-e0df45944ef9",
   "metadata": {},
   "outputs": [
    {
     "data": {
      "text/plain": [
       "[1, 3, 5, 7, 9, 11, 13, 15, 17, 19, 21, 23, 25]"
      ]
     },
     "execution_count": 4,
     "metadata": {},
     "output_type": "execute_result"
    }
   ],
   "source": [
    "lst_odd()"
   ]
  },
  {
   "cell_type": "code",
   "execution_count": 5,
   "id": "a4fa4d19-e386-449c-b529-5c10efd263c8",
   "metadata": {},
   "outputs": [],
   "source": [
    "#Q2"
   ]
  },
  {
   "cell_type": "code",
   "execution_count": 6,
   "id": "c5f9532f-58a4-4be9-abdb-257fb00f04f7",
   "metadata": {},
   "outputs": [],
   "source": [
    "def args(*args):\n",
    "    print(*args)"
   ]
  },
  {
   "cell_type": "code",
   "execution_count": 8,
   "id": "ed35a4d8-439f-40b6-a47f-baaf14d47f03",
   "metadata": {},
   "outputs": [
    {
     "name": "stdout",
     "output_type": "stream",
     "text": [
      "1 2 3\n"
     ]
    }
   ],
   "source": [
    "args(1,2,3)"
   ]
  },
  {
   "cell_type": "code",
   "execution_count": 20,
   "id": "1307b43d-56e2-43e2-a3d6-e272f5deb136",
   "metadata": {},
   "outputs": [],
   "source": [
    "def args_use(*args):\n",
    "    l=[]\n",
    "    for i in args:\n",
    "        i=i*2\n",
    "        l.append(i)\n",
    "    return l\n",
    "            "
   ]
  },
  {
   "cell_type": "code",
   "execution_count": 21,
   "id": "a18194bf-2bb6-4494-928d-7875c3a9eff6",
   "metadata": {},
   "outputs": [
    {
     "data": {
      "text/plain": [
       "[2, 4]"
      ]
     },
     "execution_count": 21,
     "metadata": {},
     "output_type": "execute_result"
    }
   ],
   "source": [
    "args_use(1,2)"
   ]
  },
  {
   "cell_type": "code",
   "execution_count": 22,
   "id": "f2ffceb3-d291-4ddd-8cf9-85d59132d5a4",
   "metadata": {},
   "outputs": [],
   "source": [
    "def kwargs(**kwargs):\n",
    "    print(kwargs)"
   ]
  },
  {
   "cell_type": "code",
   "execution_count": 23,
   "id": "23eba697-a1cf-4e01-96f8-2a7fc16dd0c3",
   "metadata": {},
   "outputs": [
    {
     "name": "stdout",
     "output_type": "stream",
     "text": [
      "{'name': 'mohak', 'age': 31}\n"
     ]
    }
   ],
   "source": [
    "kwargs(name='mohak',age=31)"
   ]
  },
  {
   "cell_type": "code",
   "execution_count": 44,
   "id": "583738dd-9cc0-490b-a8ee-0fb4d9597458",
   "metadata": {},
   "outputs": [],
   "source": [
    "def kwargs(**kwargs):\n",
    "    for key,value in kwargs.items():\n",
    "        if key==\"name\":\n",
    "            print(\"hello\",value)\n",
    "            break\n",
    "        else:\n",
    "            print(31)"
   ]
  },
  {
   "cell_type": "code",
   "execution_count": 43,
   "id": "36d1c97b-930e-4966-b4d6-5144bbd989c7",
   "metadata": {},
   "outputs": [
    {
     "name": "stdout",
     "output_type": "stream",
     "text": [
      "hello mohak\n"
     ]
    }
   ],
   "source": [
    "kwargs(name='mohak',age=31)"
   ]
  },
  {
   "cell_type": "code",
   "execution_count": 47,
   "id": "ce8406ff-afc9-46fd-89c9-f9677d6f616a",
   "metadata": {},
   "outputs": [],
   "source": [
    "# *args and **kwargs are used to make ur user defined function more flexible in terms of paramter, user can pass any number of paramters according to its need and in\n",
    "# **kwars user can pass key and vlaue pairs as per the need"
   ]
  },
  {
   "cell_type": "code",
   "execution_count": 48,
   "id": "0db06460-f592-4dd1-b62a-779c7cfca05e",
   "metadata": {},
   "outputs": [],
   "source": [
    "#Q3"
   ]
  },
  {
   "cell_type": "code",
   "execution_count": 49,
   "id": "c95c7168-bbc6-4988-9abf-726fda142e9a",
   "metadata": {},
   "outputs": [],
   "source": [
    "#itrator converts an object into iterable using iter() and next() is used to iterate over each item from iterable."
   ]
  },
  {
   "cell_type": "code",
   "execution_count": 59,
   "id": "7e47b619-ed91-4a9f-ab74-b54ff2222906",
   "metadata": {},
   "outputs": [],
   "source": [
    "lst= [2, 4, 6, 8, 10, 12, 14,16, 18, 20]"
   ]
  },
  {
   "cell_type": "code",
   "execution_count": 60,
   "id": "a6e236ce-4cb8-41f8-b75b-76bcf5e8cf83",
   "metadata": {},
   "outputs": [
    {
     "name": "stdout",
     "output_type": "stream",
     "text": [
      "2\n",
      "4\n",
      "6\n",
      "8\n",
      "10\n",
      "12\n"
     ]
    }
   ],
   "source": [
    "lst= [2, 4, 6, 8, 10, 12, 14,16, 18, 20]\n",
    "iterable_1 =iter(lst)\n",
    "for i in range(6):\n",
    "    print(next(iterable_1))"
   ]
  },
  {
   "cell_type": "code",
   "execution_count": 61,
   "id": "bb380c7c-8159-421d-a2cf-21d2f6fe5b32",
   "metadata": {},
   "outputs": [],
   "source": [
    "#Q4"
   ]
  },
  {
   "cell_type": "code",
   "execution_count": 62,
   "id": "daa04070-3c94-4243-afde-44ddc8cd54a8",
   "metadata": {},
   "outputs": [],
   "source": [
    "#generator functions are used to generate sequence of number , Yield is used to store the previous value and go to the next value"
   ]
  },
  {
   "cell_type": "code",
   "execution_count": 63,
   "id": "d7afad8b-cf64-4777-b72d-88b7a9348062",
   "metadata": {},
   "outputs": [],
   "source": [
    "def even_number(n):\n",
    "    for i in range(n):\n",
    "        if i%2==0:\n",
    "            yield i"
   ]
  },
  {
   "cell_type": "code",
   "execution_count": 64,
   "id": "cf642453-7d2b-4c8a-b4d3-df36c437de4d",
   "metadata": {},
   "outputs": [],
   "source": [
    "even_gen=even_number(10)"
   ]
  },
  {
   "cell_type": "code",
   "execution_count": 66,
   "id": "d682d68a-ed14-4130-b5f3-68267b77dbd7",
   "metadata": {},
   "outputs": [
    {
     "name": "stdout",
     "output_type": "stream",
     "text": [
      "0\n",
      "2\n",
      "4\n",
      "6\n",
      "8\n"
     ]
    }
   ],
   "source": [
    "for i in even_gen:\n",
    "    print (i)"
   ]
  },
  {
   "cell_type": "code",
   "execution_count": 67,
   "id": "4868bde3-62a7-4b29-b391-aa3f1860108f",
   "metadata": {},
   "outputs": [],
   "source": [
    "#Q5"
   ]
  },
  {
   "cell_type": "code",
   "execution_count": 94,
   "id": "9f245fe5-ca0a-42ff-b88b-238d6d6f3aa3",
   "metadata": {},
   "outputs": [],
   "source": [
    "def prime_number():\n",
    "    number=2\n",
    "    while True:\n",
    "        if is_prime(number):\n",
    "            yield number\n",
    "        number=number+1\n",
    "            "
   ]
  },
  {
   "cell_type": "code",
   "execution_count": 95,
   "id": "2d9398e5-03b3-423d-b83b-ce10f2a366ca",
   "metadata": {},
   "outputs": [],
   "source": [
    "def is_prime(number):\n",
    "    if number<2:\n",
    "        return False\n",
    "    for i in range(2,int(number**0.5)+1):\n",
    "        if number%i==0:\n",
    "            return False\n",
    "    return True"
   ]
  },
  {
   "cell_type": "code",
   "execution_count": 96,
   "id": "659d95ae-ae6e-4e5a-90bd-e36cb389eaa0",
   "metadata": {},
   "outputs": [],
   "source": [
    "prime_gen= prime_number()"
   ]
  },
  {
   "cell_type": "code",
   "execution_count": 98,
   "id": "0f36bb3c-e784-4f2f-8650-96baa7b5be50",
   "metadata": {},
   "outputs": [
    {
     "name": "stdout",
     "output_type": "stream",
     "text": [
      "3\n",
      "5\n",
      "7\n",
      "11\n",
      "13\n",
      "17\n",
      "19\n",
      "23\n",
      "29\n",
      "31\n",
      "37\n",
      "41\n",
      "43\n",
      "47\n",
      "53\n",
      "59\n",
      "61\n",
      "67\n",
      "71\n",
      "73\n"
     ]
    }
   ],
   "source": [
    "for i in range(20):\n",
    "    prime_number=next(prime_gen)\n",
    "    print (prime_number)"
   ]
  },
  {
   "cell_type": "code",
   "execution_count": 1,
   "id": "4c3605d1-a063-4c60-b063-558679aa6963",
   "metadata": {},
   "outputs": [],
   "source": [
    "#Q6"
   ]
  },
  {
   "cell_type": "code",
   "execution_count": 5,
   "id": "91589c09-5bad-4074-89ef-8ed5ea5d85b7",
   "metadata": {},
   "outputs": [
    {
     "name": "stdout",
     "output_type": "stream",
     "text": [
      "0\n",
      "1\n",
      "1\n",
      "2\n",
      "3\n",
      "5\n",
      "8\n",
      "13\n",
      "21\n",
      "34\n"
     ]
    }
   ],
   "source": [
    "num1=0\n",
    "num2=1\n",
    "\n",
    "count=0\n",
    "while count<10:\n",
    "    print(num1)\n",
    "    num=num1+num2\n",
    "    num1=num2\n",
    "    num2=num\n",
    "    count=count+1\n"
   ]
  },
  {
   "cell_type": "code",
   "execution_count": 6,
   "id": "8ec69169-0cc8-43a5-95a4-ba94226d3a49",
   "metadata": {},
   "outputs": [],
   "source": [
    "#Q7"
   ]
  },
  {
   "cell_type": "code",
   "execution_count": 16,
   "id": "924605d4-f66c-41c5-a0ae-6f2cd05652a3",
   "metadata": {},
   "outputs": [],
   "source": [
    "string='pwskills'"
   ]
  },
  {
   "cell_type": "code",
   "execution_count": 19,
   "id": "97ebd6ed-677d-4239-883f-f6c9b653b14c",
   "metadata": {},
   "outputs": [
    {
     "data": {
      "text/plain": [
       "['p', 'w', 's', 'k', 'i', 'l', 'l', 's']"
      ]
     },
     "execution_count": 19,
     "metadata": {},
     "output_type": "execute_result"
    }
   ],
   "source": [
    "list(map(lambda x:x,string))"
   ]
  },
  {
   "cell_type": "code",
   "execution_count": 20,
   "id": "099d8a7c-14f7-49ea-bece-cbcf4492ae1c",
   "metadata": {},
   "outputs": [],
   "source": [
    "#Q8"
   ]
  },
  {
   "cell_type": "code",
   "execution_count": 63,
   "id": "97dc085c-0a18-454b-ac02-f69a165b4b1b",
   "metadata": {},
   "outputs": [
    {
     "name": "stdout",
     "output_type": "stream",
     "text": [
      "False\n"
     ]
    }
   ],
   "source": [
    "num=123\n",
    "num_str=str(num)\n",
    "num_rs=num_str[-1::-1]\n",
    "if num_str==num_rs:\n",
    "    print(True)\n",
    "else:\n",
    "        print(False)"
   ]
  },
  {
   "cell_type": "code",
   "execution_count": 64,
   "id": "0bd6bd88-9394-4c54-8834-b621cf89639c",
   "metadata": {},
   "outputs": [],
   "source": [
    "#Q9"
   ]
  },
  {
   "cell_type": "code",
   "execution_count": 72,
   "id": "498e6cdd-d794-43e4-b935-bfa91147b156",
   "metadata": {},
   "outputs": [
    {
     "data": {
      "text/plain": [
       "[1,\n",
       " 3,\n",
       " 5,\n",
       " 7,\n",
       " 9,\n",
       " 11,\n",
       " 13,\n",
       " 15,\n",
       " 17,\n",
       " 19,\n",
       " 21,\n",
       " 23,\n",
       " 25,\n",
       " 27,\n",
       " 29,\n",
       " 31,\n",
       " 33,\n",
       " 35,\n",
       " 37,\n",
       " 39,\n",
       " 41,\n",
       " 43,\n",
       " 45,\n",
       " 47,\n",
       " 49,\n",
       " 51,\n",
       " 53,\n",
       " 55,\n",
       " 57,\n",
       " 59,\n",
       " 61,\n",
       " 63,\n",
       " 65,\n",
       " 67,\n",
       " 69,\n",
       " 71,\n",
       " 73,\n",
       " 75,\n",
       " 77,\n",
       " 79,\n",
       " 81,\n",
       " 83,\n",
       " 85,\n",
       " 87,\n",
       " 89,\n",
       " 91,\n",
       " 93,\n",
       " 95,\n",
       " 97,\n",
       " 99]"
      ]
     },
     "execution_count": 72,
     "metadata": {},
     "output_type": "execute_result"
    }
   ],
   "source": [
    "[i for i in range(1,101) if i%2!=0]"
   ]
  },
  {
   "cell_type": "code",
   "execution_count": null,
   "id": "99fe9e32-5928-4b65-95c4-680a6b147ba4",
   "metadata": {},
   "outputs": [],
   "source": []
  }
 ],
 "metadata": {
  "kernelspec": {
   "display_name": "Python 3 (ipykernel)",
   "language": "python",
   "name": "python3"
  },
  "language_info": {
   "codemirror_mode": {
    "name": "ipython",
    "version": 3
   },
   "file_extension": ".py",
   "mimetype": "text/x-python",
   "name": "python",
   "nbconvert_exporter": "python",
   "pygments_lexer": "ipython3",
   "version": "3.10.8"
  }
 },
 "nbformat": 4,
 "nbformat_minor": 5
}
