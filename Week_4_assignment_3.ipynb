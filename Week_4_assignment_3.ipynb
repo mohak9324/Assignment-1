{
 "cells": [
  {
   "cell_type": "code",
   "execution_count": 1,
   "id": "ea080fca-256b-4eec-9127-242c8ab32ba1",
   "metadata": {},
   "outputs": [],
   "source": [
    "#Q1"
   ]
  },
  {
   "cell_type": "code",
   "execution_count": 2,
   "id": "1d6a4165-6d76-463a-9919-d1a9d385657c",
   "metadata": {},
   "outputs": [],
   "source": [
    "#Abstraction is a fundamental concept in object-oriented programming (OOP) that involves the process of representing complex real-world entities as simplified models within a program.\n",
    "#It allows developers to focus on essential characteristics and behavior of objects, while hiding unnecessary details and implementation complexities"
   ]
  },
  {
   "cell_type": "code",
   "execution_count": 3,
   "id": "5b7451fb-a843-4bc1-a184-8dc40dea0579",
   "metadata": {},
   "outputs": [],
   "source": [
    "import abc"
   ]
  },
  {
   "cell_type": "code",
   "execution_count": 8,
   "id": "c39a19e9-282e-4dcd-85c9-101230118d41",
   "metadata": {},
   "outputs": [],
   "source": [
    "class pwskills:\n",
    "    \n",
    "    @abc.abstractmethod\n",
    "    def student_details(self):\n",
    "        pass\n",
    "    \n",
    "    @abc.abstractmethod\n",
    "    def student_assignment(self):\n",
    "        pass\n",
    "    \n"
   ]
  },
  {
   "cell_type": "code",
   "execution_count": 9,
   "id": "ed2a9144-5ac3-4dc5-9785-623079a9256b",
   "metadata": {},
   "outputs": [],
   "source": [
    "class student(pwskills):\n",
    "    \n",
    "    def student_details(self):\n",
    "        return \"this student details taking from student\"\n",
    "    \n",
    "    def student_assignment(self):\n",
    "        return \"this assignment is from student\""
   ]
  },
  {
   "cell_type": "code",
   "execution_count": 10,
   "id": "a33b794a-5747-495c-8d0d-79190e524961",
   "metadata": {},
   "outputs": [],
   "source": [
    "student_obj=student()"
   ]
  },
  {
   "cell_type": "code",
   "execution_count": 12,
   "id": "c9317daa-8e5f-49c9-9bb1-7770337dab2b",
   "metadata": {},
   "outputs": [
    {
     "data": {
      "text/plain": [
       "'this assignment is from student'"
      ]
     },
     "execution_count": 12,
     "metadata": {},
     "output_type": "execute_result"
    }
   ],
   "source": [
    "student_obj.student_assignment()"
   ]
  },
  {
   "cell_type": "code",
   "execution_count": 13,
   "id": "8256a134-607e-47cb-ac7b-d86870c71da0",
   "metadata": {},
   "outputs": [],
   "source": [
    "#Q2"
   ]
  },
  {
   "cell_type": "code",
   "execution_count": null,
   "id": "c1154092-3a94-41cf-9070-f5fd8917391d",
   "metadata": {},
   "outputs": [],
   "source": [
    "encapsulation is a concept of bundling data and the method."
   ]
  },
  {
   "cell_type": "code",
   "execution_count": 15,
   "id": "5f7009d8-ec10-45b7-8b9a-d72ca7c386c2",
   "metadata": {},
   "outputs": [],
   "source": [
    "class bank_account:\n",
    "    \n",
    "    def __init__(self, balance):\n",
    "        self.balance=balance\n",
    "        \n",
    "        \n",
    "    def deposit(self,amount):\n",
    "        self.balance=self.balance+amount\n",
    "        \n",
    "    def withdraw(self,amount):\n",
    "        if amount<=self.balance:\n",
    "            self.balance=self.balance - amount\n",
    "        else:\n",
    "            print(\"Insufficient Balance\")\n",
    "            \n",
    "    def get_balance(self):\n",
    "        return self.balance"
   ]
  },
  {
   "cell_type": "code",
   "execution_count": 17,
   "id": "91ed5a60-8746-4828-b664-0b9a286e457e",
   "metadata": {},
   "outputs": [],
   "source": [
    "bank_account_obj=bank_account(7000)"
   ]
  },
  {
   "cell_type": "code",
   "execution_count": 21,
   "id": "f610600d-59a1-4079-a62b-a7d852eab139",
   "metadata": {},
   "outputs": [
    {
     "data": {
      "text/plain": [
       "7000"
      ]
     },
     "execution_count": 21,
     "metadata": {},
     "output_type": "execute_result"
    }
   ],
   "source": [
    "bank_account_obj.get_balance()"
   ]
  },
  {
   "cell_type": "code",
   "execution_count": 22,
   "id": "61a63f24-355a-4d24-b6f3-6b6bf7f7cdfa",
   "metadata": {},
   "outputs": [],
   "source": [
    "bank_account_obj.deposit(2000)"
   ]
  },
  {
   "cell_type": "code",
   "execution_count": 23,
   "id": "5e138dfd-ef8b-4409-9daa-f3b6691408ac",
   "metadata": {},
   "outputs": [
    {
     "data": {
      "text/plain": [
       "9000"
      ]
     },
     "execution_count": 23,
     "metadata": {},
     "output_type": "execute_result"
    }
   ],
   "source": [
    "bank_account_obj.get_balance()"
   ]
  },
  {
   "cell_type": "code",
   "execution_count": 24,
   "id": "9cfe6b4b-b0bb-4992-bed2-249d612e15ad",
   "metadata": {},
   "outputs": [],
   "source": [
    "#Q3"
   ]
  },
  {
   "cell_type": "code",
   "execution_count": 25,
   "id": "a867cf64-ae76-40c7-b385-6634291f006d",
   "metadata": {},
   "outputs": [],
   "source": [
    "#The abc module in Python stands for \"Abstract Base Classes.\" It provides a way to define abstract base classes."
   ]
  },
  {
   "cell_type": "code",
   "execution_count": 26,
   "id": "7411e7a1-96bc-484b-9dc4-477be8495b6e",
   "metadata": {},
   "outputs": [],
   "source": [
    "#Q4"
   ]
  },
  {
   "cell_type": "code",
   "execution_count": 28,
   "id": "be420353-c065-44ca-8cae-c475f29ef4c8",
   "metadata": {},
   "outputs": [],
   "source": [
    "#we cab acheive data abstraction by using classes and applying OOPS concept.\n",
    "\n",
    "#1. class\n",
    "#2. Access Modifiers: Public , protected,private\n",
    "#3. Encapsulation : getter and setter\n",
    "#4. Abstraction"
   ]
  },
  {
   "cell_type": "code",
   "execution_count": 29,
   "id": "c74892b9-42dd-44e7-b06b-131cba40a80d",
   "metadata": {},
   "outputs": [],
   "source": [
    "#Q5"
   ]
  },
  {
   "cell_type": "code",
   "execution_count": null,
   "id": "1f19575e-d6e2-41f9-b3be-70efe8c665cf",
   "metadata": {},
   "outputs": [],
   "source": [
    "NO , we can not create instance of an abstract class"
   ]
  },
  {
   "cell_type": "code",
   "execution_count": 34,
   "id": "fa724abd-ea2a-42e6-a537-5c4b1e36e2f0",
   "metadata": {},
   "outputs": [
    {
     "ename": "TypeError",
     "evalue": "module() takes at most 2 arguments (3 given)",
     "output_type": "error",
     "traceback": [
      "\u001b[0;31m---------------------------------------------------------------------------\u001b[0m",
      "\u001b[0;31mTypeError\u001b[0m                                 Traceback (most recent call last)",
      "Cell \u001b[0;32mIn[34], line 3\u001b[0m\n\u001b[1;32m      1\u001b[0m \u001b[38;5;28;01mimport\u001b[39;00m \u001b[38;5;21;01mabc\u001b[39;00m\n\u001b[0;32m----> 3\u001b[0m \u001b[38;5;28;01mclass\u001b[39;00m \u001b[38;5;21;01mMyAbstractClass\u001b[39;00m(abc):\n\u001b[1;32m      5\u001b[0m     \u001b[38;5;129m@abc\u001b[39m\u001b[38;5;241m.\u001b[39mabstractmethod\n\u001b[1;32m      6\u001b[0m     \u001b[38;5;28;01mdef\u001b[39;00m \u001b[38;5;21mmy_abstract_method\u001b[39m(\u001b[38;5;28mself\u001b[39m):\n\u001b[1;32m      7\u001b[0m         \u001b[38;5;28;01mpass\u001b[39;00m\n",
      "\u001b[0;31mTypeError\u001b[0m: module() takes at most 2 arguments (3 given)"
     ]
    }
   ],
   "source": [
    "import abc\n",
    "\n",
    "class MyAbstractClass(abc):\n",
    "    \n",
    "    @abc.abstractmethod\n",
    "    def my_abstract_method(self):\n",
    "        pass\n"
   ]
  },
  {
   "cell_type": "code",
   "execution_count": 35,
   "id": "7b2ca595-0838-48aa-8877-88ce66510884",
   "metadata": {},
   "outputs": [
    {
     "ename": "NameError",
     "evalue": "name 'MyAbstractClass' is not defined",
     "output_type": "error",
     "traceback": [
      "\u001b[0;31m---------------------------------------------------------------------------\u001b[0m",
      "\u001b[0;31mNameError\u001b[0m                                 Traceback (most recent call last)",
      "Cell \u001b[0;32mIn[35], line 1\u001b[0m\n\u001b[0;32m----> 1\u001b[0m my_inst\u001b[38;5;241m=\u001b[39m\u001b[43mMyAbstractClass\u001b[49m()\n",
      "\u001b[0;31mNameError\u001b[0m: name 'MyAbstractClass' is not defined"
     ]
    }
   ],
   "source": [
    "my_inst=MyAbstractClass()"
   ]
  },
  {
   "cell_type": "code",
   "execution_count": null,
   "id": "d969f61e-2b15-4d48-83fc-d06b4e6f78b5",
   "metadata": {},
   "outputs": [],
   "source": []
  }
 ],
 "metadata": {
  "kernelspec": {
   "display_name": "Python 3 (ipykernel)",
   "language": "python",
   "name": "python3"
  },
  "language_info": {
   "codemirror_mode": {
    "name": "ipython",
    "version": 3
   },
   "file_extension": ".py",
   "mimetype": "text/x-python",
   "name": "python",
   "nbconvert_exporter": "python",
   "pygments_lexer": "ipython3",
   "version": "3.10.8"
  }
 },
 "nbformat": 4,
 "nbformat_minor": 5
}
