{
 "cells": [
  {
   "cell_type": "code",
   "execution_count": 1,
   "id": "3fe98446-edb0-4fb9-aae8-ba353fe15903",
   "metadata": {},
   "outputs": [],
   "source": [
    "#Q1"
   ]
  },
  {
   "cell_type": "markdown",
   "id": "5cde1a90-7bd2-4869-9a49-6a6c0bff831d",
   "metadata": {},
   "source": [
    "when we use Exception class it means we inherit all the properties of exception class inside our custom created class."
   ]
  },
  {
   "cell_type": "code",
   "execution_count": 4,
   "id": "e765f252-aae6-4fec-af18-d84d5772e8e3",
   "metadata": {},
   "outputs": [],
   "source": [
    "class validateage(Exception):\n",
    "    \n",
    "    def __init__(self,msg):\n",
    "        self.msg=msg"
   ]
  },
  {
   "cell_type": "code",
   "execution_count": 5,
   "id": "d3412956-3e74-4ec3-885a-9246d1c89a29",
   "metadata": {},
   "outputs": [],
   "source": [
    "#Q2"
   ]
  },
  {
   "cell_type": "code",
   "execution_count": 8,
   "id": "9303e401-b292-4c25-801e-6986de939458",
   "metadata": {},
   "outputs": [],
   "source": [
    "def print_exception_hiearchy(exception_class,indent=0):\n",
    "    print(' ' *indent + exception_class.__name__)\n",
    "    for subclass in exception_class.__subclass__():\n",
    "        print_exception_hiearchy(subclass,indent+4)\n",
    "        \n",
    "    print_exception_hiearchy(BaseException)"
   ]
  },
  {
   "cell_type": "code",
   "execution_count": 11,
   "id": "f9c8a237-e94b-44e7-a096-cef697671787",
   "metadata": {},
   "outputs": [
    {
     "name": "stdout",
     "output_type": "stream",
     "text": [
      "BaseException\n"
     ]
    },
    {
     "ename": "AttributeError",
     "evalue": "type object 'BaseException' has no attribute '__subclass__'",
     "output_type": "error",
     "traceback": [
      "\u001b[0;31m---------------------------------------------------------------------------\u001b[0m",
      "\u001b[0;31mAttributeError\u001b[0m                            Traceback (most recent call last)",
      "Cell \u001b[0;32mIn[11], line 1\u001b[0m\n\u001b[0;32m----> 1\u001b[0m \u001b[43mprint_exception_hiearchy\u001b[49m\u001b[43m(\u001b[49m\u001b[38;5;167;43;01mBaseException\u001b[39;49;00m\u001b[43m)\u001b[49m\n",
      "Cell \u001b[0;32mIn[8], line 3\u001b[0m, in \u001b[0;36mprint_exception_hiearchy\u001b[0;34m(exception_class, indent)\u001b[0m\n\u001b[1;32m      1\u001b[0m \u001b[38;5;28;01mdef\u001b[39;00m \u001b[38;5;21mprint_exception_hiearchy\u001b[39m(exception_class,indent\u001b[38;5;241m=\u001b[39m\u001b[38;5;241m0\u001b[39m):\n\u001b[1;32m      2\u001b[0m     \u001b[38;5;28mprint\u001b[39m(\u001b[38;5;124m'\u001b[39m\u001b[38;5;124m \u001b[39m\u001b[38;5;124m'\u001b[39m \u001b[38;5;241m*\u001b[39mindent \u001b[38;5;241m+\u001b[39m exception_class\u001b[38;5;241m.\u001b[39m\u001b[38;5;18m__name__\u001b[39m)\n\u001b[0;32m----> 3\u001b[0m     \u001b[38;5;28;01mfor\u001b[39;00m subclass \u001b[38;5;129;01min\u001b[39;00m \u001b[43mexception_class\u001b[49m\u001b[38;5;241;43m.\u001b[39;49m\u001b[43m__subclass__\u001b[49m():\n\u001b[1;32m      4\u001b[0m         print_exception_hiearchy(subclass,indent\u001b[38;5;241m+\u001b[39m\u001b[38;5;241m4\u001b[39m)\n\u001b[1;32m      6\u001b[0m     print_exception_hiearchy(\u001b[38;5;167;01mBaseException\u001b[39;00m)\n",
      "\u001b[0;31mAttributeError\u001b[0m: type object 'BaseException' has no attribute '__subclass__'"
     ]
    }
   ],
   "source": [
    "print_exception_hiearchy(BaseException)"
   ]
  },
  {
   "cell_type": "code",
   "execution_count": 12,
   "id": "5b8408e2-457e-413c-a6e8-d91bb8be4272",
   "metadata": {},
   "outputs": [],
   "source": [
    "#Q3"
   ]
  },
  {
   "cell_type": "code",
   "execution_count": 14,
   "id": "a5094edb-3d18-49ee-803c-541767dcf111",
   "metadata": {},
   "outputs": [
    {
     "name": "stdout",
     "output_type": "stream",
     "text": [
      "division by zero\n"
     ]
    }
   ],
   "source": [
    "#ZeroDivisionError\n",
    "\n",
    "num1=10\n",
    "num2=0\n",
    "def divide_number(a,b):\n",
    "    result =a/b\n",
    "    return result\n",
    "try:\n",
    "    test=divide_number(num1,num2)\n",
    "    print(test)\n",
    "except ZeroDivisionError as e:\n",
    "    print(e)"
   ]
  },
  {
   "cell_type": "code",
   "execution_count": 15,
   "id": "9319fae2-eea3-4664-80d9-6e43692b4934",
   "metadata": {},
   "outputs": [],
   "source": [
    "#FloatingPointError"
   ]
  },
  {
   "cell_type": "code",
   "execution_count": 16,
   "id": "3bfcff52-ce00-4280-a9e3-4b76461ef399",
   "metadata": {},
   "outputs": [
    {
     "ename": "ZeroDivisionError",
     "evalue": "float division by zero",
     "output_type": "error",
     "traceback": [
      "\u001b[0;31m---------------------------------------------------------------------------\u001b[0m",
      "\u001b[0;31mZeroDivisionError\u001b[0m                         Traceback (most recent call last)",
      "Cell \u001b[0;32mIn[16], line 2\u001b[0m\n\u001b[1;32m      1\u001b[0m \u001b[38;5;28;01mtry\u001b[39;00m:\n\u001b[0;32m----> 2\u001b[0m     result\u001b[38;5;241m=\u001b[39m\u001b[38;5;241;43m1\u001b[39;49m\u001b[38;5;241;43m/\u001b[39;49m\u001b[38;5;241;43m0.0\u001b[39;49m\n\u001b[1;32m      3\u001b[0m \u001b[38;5;28;01mexcept\u001b[39;00m \u001b[38;5;167;01mFloatingPointError\u001b[39;00m \u001b[38;5;28;01mas\u001b[39;00m e:\n\u001b[1;32m      4\u001b[0m     \u001b[38;5;28mprint\u001b[39m(e)\n",
      "\u001b[0;31mZeroDivisionError\u001b[0m: float division by zero"
     ]
    }
   ],
   "source": [
    "try:\n",
    "    result=1/0.0\n",
    "except FloatingPointError as e:\n",
    "    print(e)"
   ]
  },
  {
   "cell_type": "code",
   "execution_count": 17,
   "id": "3c336403-64eb-4ab9-aa19-be447aafdcbf",
   "metadata": {},
   "outputs": [],
   "source": [
    "#Q4"
   ]
  },
  {
   "cell_type": "markdown",
   "id": "f5f000cb-a350-4742-867c-08505588cb7b",
   "metadata": {},
   "source": [
    "LookupError :- it serve as a base class for exception related to lookup or indexing operations, it provides a common parent class for exception that occur when attempting\n",
    "               to access element in a sequence or perform dictionary lookups.\n"
   ]
  },
  {
   "cell_type": "code",
   "execution_count": 22,
   "id": "8c7ad446-4bc1-4866-91f2-47257efe5243",
   "metadata": {},
   "outputs": [
    {
     "name": "stdout",
     "output_type": "stream",
     "text": [
      "'d'\n"
     ]
    }
   ],
   "source": [
    "#KeyError\n",
    "my_dict={\"a\":1,\"b\":2,\"c\":3}\n",
    "\n",
    "try:\n",
    "    value=my_dict[\"d\"]\n",
    "    print(value)\n",
    "except KeyError as e:\n",
    "    print(e)"
   ]
  },
  {
   "cell_type": "code",
   "execution_count": 26,
   "id": "dafbdc62-c354-44bc-a2e8-82f9fcdacbf2",
   "metadata": {},
   "outputs": [
    {
     "name": "stdout",
     "output_type": "stream",
     "text": [
      "list index out of range\n"
     ]
    }
   ],
   "source": [
    "#IndexError\n",
    "my_lst=[1,2,3]\n",
    "\n",
    "try:\n",
    "    value=my_lst[3]\n",
    "    print(value)\n",
    "except IndexError as e:\n",
    "    print(e)"
   ]
  },
  {
   "cell_type": "code",
   "execution_count": 27,
   "id": "be1c9f2c-3b85-4d41-a439-91dc44ea13f1",
   "metadata": {},
   "outputs": [],
   "source": [
    "#Q5"
   ]
  },
  {
   "cell_type": "markdown",
   "id": "a06a48c9-474b-4f68-bb01-b51edac652f5",
   "metadata": {},
   "source": [
    "ImportError is a built-in exception class in python that is raised when an import statement fail to import a mdule."
   ]
  },
  {
   "cell_type": "code",
   "execution_count": 30,
   "id": "7506f98c-86fb-4289-8c94-1d1d133ee14e",
   "metadata": {},
   "outputs": [
    {
     "name": "stdout",
     "output_type": "stream",
     "text": [
      "No module named 'NO_Module'\n"
     ]
    }
   ],
   "source": [
    "try:\n",
    "    import NO_Module\n",
    "except ModuleNotFoundError as e:\n",
    "    print(e)"
   ]
  },
  {
   "cell_type": "code",
   "execution_count": 31,
   "id": "397b9295-bfde-4bf3-8d8e-efab2f8bc7c7",
   "metadata": {},
   "outputs": [],
   "source": [
    "#Q6"
   ]
  },
  {
   "cell_type": "markdown",
   "id": "d9f15c5d-74e0-4bac-b4f6-9aca624b6522",
   "metadata": {},
   "source": [
    "1. Use specific Exception\n",
    "2. Print proper message\n",
    "3. try to log the error\n",
    "4. always avoid to write a multiple exception handling"
   ]
  },
  {
   "cell_type": "code",
   "execution_count": null,
   "id": "763c41b2-2557-463b-87ac-4d6e22b8533e",
   "metadata": {},
   "outputs": [],
   "source": []
  },
  {
   "cell_type": "code",
   "execution_count": null,
   "id": "a2797728-9306-4cae-af27-a60426414b88",
   "metadata": {},
   "outputs": [],
   "source": []
  }
 ],
 "metadata": {
  "kernelspec": {
   "display_name": "Python 3 (ipykernel)",
   "language": "python",
   "name": "python3"
  },
  "language_info": {
   "codemirror_mode": {
    "name": "ipython",
    "version": 3
   },
   "file_extension": ".py",
   "mimetype": "text/x-python",
   "name": "python",
   "nbconvert_exporter": "python",
   "pygments_lexer": "ipython3",
   "version": "3.10.8"
  }
 },
 "nbformat": 4,
 "nbformat_minor": 5
}
