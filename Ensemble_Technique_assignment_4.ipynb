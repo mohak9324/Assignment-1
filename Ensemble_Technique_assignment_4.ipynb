{
 "cells": [
  {
   "cell_type": "code",
   "execution_count": 1,
   "id": "c6ff0b01-3ec5-4797-887c-b1a0515bde6d",
   "metadata": {},
   "outputs": [],
   "source": [
    "# Q1. You are working on a machine learning project where you have a dataset containing numerical and\n",
    "# categorical features. You have identified that some of the features are highly correlated and there are\n",
    "# missing values in some of the columns. You want to build a pipeline that automates the feature\n",
    "# engineering process and handles the missing valuesD\n",
    "# Design a pipeline that includes the following steps\"\n",
    "# Use an automated feature selection method to identify the important features in the datasetC\n",
    "# Create a numerical pipeline that includes the following steps\"\n",
    "# Impute the missing values in the numerical columns using the mean of the column valuesC\n",
    "# Scale the numerical columns using standardisationC\n",
    "# Create a categorical pipeline that includes the following steps\"\n",
    "# Impute the missing values in the categorical columns using the most frequent value of the columnC\n",
    "# One-hot encode the categorical columnsC\n",
    "# Combine the numerical and categorical pipelines using a ColumnTransformerC\n",
    "# Use a Random Forest Classifier to build the final modelC\n",
    "# Evaluate the accuracy of the model on the test datasetD\n",
    "# Note! Your solution should include code snippets for each step of the pipeline, and a brief explanation of\n",
    "# each step. You should also provide an interpretation of the results and suggest possible improvements for\n",
    "# the pipelineD"
   ]
  },
  {
   "cell_type": "markdown",
   "id": "417ad2bc-208b-4e71-890b-793cb88a42ba",
   "metadata": {},
   "source": [
    "To create a machine learning pipeline that automates feature engineering, handles missing values, and builds a Random Forest classifier, we'll follow these steps:\n",
    "\n",
    "Automated Feature Selection: We'll use a technique to identify important features. However, without the actual data, I can't run this step but will provide a general approach.\n",
    "\n",
    "Numerical Pipeline:\n",
    "\n",
    "Impute missing values using the mean.\n",
    "Standardize the values.\n",
    "Categorical Pipeline:\n",
    "\n",
    "Impute missing values using the most frequent value.\n",
    "One-hot encode the categories.\n",
    "Combine Pipelines: Using ColumnTransformer.\n",
    "\n",
    "Model Building: Use a Random Forest Classifier.\n",
    "\n",
    "Model Evaluation: Evaluate accuracy on the test dataset."
   ]
  },
  {
   "cell_type": "code",
   "execution_count": 4,
   "id": "87a26a69-36e3-4fe7-906c-7530695fa70d",
   "metadata": {},
   "outputs": [],
   "source": [
    "from sklearn.model_selection import train_test_split\n",
    "from sklearn.feature_selection import SelectKBest,f_classif\n",
    "\n",
    "# divide data into train and test dataset\n",
    "X_train, X_test, y_train, y_test = train_test_split(X, y, test_size=0.33, random_state=42)"
   ]
  },
  {
   "cell_type": "code",
   "execution_count": null,
   "id": "e149eaaf-272e-4f0a-9b59-0930d5806113",
   "metadata": {},
   "outputs": [],
   "source": [
    "#automated feature scaling\n",
    "selector=SelectKBest(f_classif,k='all')\n",
    "X_new=selector.fit_transform(X_train,y_train)\n",
    "\n",
    "selected_feature=selector.get_support(indices=True)"
   ]
  },
  {
   "cell_type": "code",
   "execution_count": null,
   "id": "774ac40d-4f58-4a63-af90-5a91d902e91f",
   "metadata": {},
   "outputs": [],
   "source": [
    "#numerical pipeline\n",
    "\n",
    "from sklearn.pipeline import Pipeline\n",
    "from sklearn.impute import SimpleImputer\n",
    "from sklearn.preprocessing import StandardScaler,OneHotEncoder\n",
    "\n",
    "numerical_pipeline=Pipeline([\n",
    "('imputer',SimpleImputer(strategy='mean')),\n",
    "('scaler',StandardScaler())\n",
    "])\n",
    "\n",
    "#categorical Pipeline\n",
    "\n",
    "categorical_pipeline =Pipeline([\n",
    "'imputer',SimpleImputer(strategy='most-frequent'),\n",
    "'One-Hot',OneHotEncoder()\n",
    "])"
   ]
  },
  {
   "cell_type": "code",
   "execution_count": null,
   "id": "4c978e77-a0b7-4240-892c-046f11686834",
   "metadata": {},
   "outputs": [],
   "source": [
    "#Combine Pipeline\n",
    "\n",
    "from sklearn.compose import ColumnTransformer\n",
    "\n",
    "preprocessor=ColumnTransformer(\n",
    "transformers=[('num',numerical_pipeline,num_feature),\n",
    "             ('cat',categorical_pipeline,cat_feature)]\n",
    ")"
   ]
  },
  {
   "cell_type": "code",
   "execution_count": null,
   "id": "c193e295-d1fc-44a5-b68c-1e046e84a257",
   "metadata": {},
   "outputs": [],
   "source": [
    "#model building\n",
    "\n",
    "from sklearn.ensemble import RandomForestClassifier\n",
    "from sklearn.pipeline import Pipeline\n",
    "\n",
    "pipeline=Pipeline([('preprocessor',preprocessor),\n",
    "                  ('classifier',RandomForestClassifier())])\n",
    "\n",
    "pipeline.fit(X_train,y_train)\n",
    "\n",
    "acuracy=pipeline.score(X_test,y_test)\n",
    "\n",
    "print(acuracy)\n"
   ]
  },
  {
   "cell_type": "code",
   "execution_count": 5,
   "id": "0d7a693a-cff1-446e-8253-f178f46a7e1d",
   "metadata": {},
   "outputs": [],
   "source": [
    "# Q2. Bu#ld a p#pel#ne that #ncludes a random forest class#f#er and a log#st#c regress#on class#f#er, and then\n",
    "# use a vot#ng class#f#er to comb#ne the#r pred#ct#ons. Tra#n the p#pel#ne on the #r#s dataset and evaluate #ts\n",
    "# accuracy."
   ]
  },
  {
   "cell_type": "code",
   "execution_count": 6,
   "id": "6bd4897e-5ce3-4718-a3a1-5c42e7dda3f7",
   "metadata": {},
   "outputs": [],
   "source": [
    "from sklearn.datasets import load_iris"
   ]
  },
  {
   "cell_type": "code",
   "execution_count": 7,
   "id": "9c5f9232-173e-4a0f-a48d-1fa41fc18ccc",
   "metadata": {},
   "outputs": [],
   "source": [
    "iris=load_iris()"
   ]
  },
  {
   "cell_type": "code",
   "execution_count": 10,
   "id": "00f8dc9c-e97b-41cb-9d7d-44548e166b86",
   "metadata": {},
   "outputs": [],
   "source": [
    "X=iris.data\n",
    "y=iris.target"
   ]
  },
  {
   "cell_type": "code",
   "execution_count": 11,
   "id": "7d4d7d93-9dc0-468c-9bb8-c0753b1ecf72",
   "metadata": {},
   "outputs": [],
   "source": [
    "from sklearn.model_selection import train_test_split"
   ]
  },
  {
   "cell_type": "code",
   "execution_count": 12,
   "id": "6fd62ab6-1cff-443d-b144-502477005d98",
   "metadata": {},
   "outputs": [],
   "source": [
    "X_train, X_test, y_train, y_test = train_test_split(X, y, test_size=0.33, random_state=42)"
   ]
  },
  {
   "cell_type": "code",
   "execution_count": 13,
   "id": "ea65ca90-4731-4500-a895-33a66aa3a1a5",
   "metadata": {},
   "outputs": [],
   "source": [
    "from sklearn.ensemble import RandomForestClassifier\n",
    "from sklearn.linear_model import LogisticRegression"
   ]
  },
  {
   "cell_type": "code",
   "execution_count": 14,
   "id": "7a80d218-782d-4f22-8df1-774a00b9e3a8",
   "metadata": {},
   "outputs": [],
   "source": [
    "from sklearn.ensemble import VotingClassifier"
   ]
  },
  {
   "cell_type": "code",
   "execution_count": 15,
   "id": "1ca883e3-aa47-4b90-856e-bc68c582d3ef",
   "metadata": {},
   "outputs": [],
   "source": [
    "random_forest_class=RandomForestClassifier(n_estimators=100,random_state=42)\n",
    "logistic_regg_clf=LogisticRegression()"
   ]
  },
  {
   "cell_type": "code",
   "execution_count": 18,
   "id": "494ed161-f4ef-40e9-8baa-148a958f3b89",
   "metadata": {},
   "outputs": [],
   "source": [
    "voting_clf=VotingClassifier(estimators=[('rf',random_forest_class),('lr',logistic_regg_clf)],voting='hard')"
   ]
  },
  {
   "cell_type": "code",
   "execution_count": 19,
   "id": "06154ef0-be0e-44b2-9588-b38ee712ac0a",
   "metadata": {},
   "outputs": [
    {
     "name": "stderr",
     "output_type": "stream",
     "text": [
      "/opt/conda/lib/python3.10/site-packages/sklearn/linear_model/_logistic.py:458: ConvergenceWarning: lbfgs failed to converge (status=1):\n",
      "STOP: TOTAL NO. of ITERATIONS REACHED LIMIT.\n",
      "\n",
      "Increase the number of iterations (max_iter) or scale the data as shown in:\n",
      "    https://scikit-learn.org/stable/modules/preprocessing.html\n",
      "Please also refer to the documentation for alternative solver options:\n",
      "    https://scikit-learn.org/stable/modules/linear_model.html#logistic-regression\n",
      "  n_iter_i = _check_optimize_result(\n"
     ]
    },
    {
     "data": {
      "text/html": [
       "<style>#sk-container-id-1 {color: black;background-color: white;}#sk-container-id-1 pre{padding: 0;}#sk-container-id-1 div.sk-toggleable {background-color: white;}#sk-container-id-1 label.sk-toggleable__label {cursor: pointer;display: block;width: 100%;margin-bottom: 0;padding: 0.3em;box-sizing: border-box;text-align: center;}#sk-container-id-1 label.sk-toggleable__label-arrow:before {content: \"▸\";float: left;margin-right: 0.25em;color: #696969;}#sk-container-id-1 label.sk-toggleable__label-arrow:hover:before {color: black;}#sk-container-id-1 div.sk-estimator:hover label.sk-toggleable__label-arrow:before {color: black;}#sk-container-id-1 div.sk-toggleable__content {max-height: 0;max-width: 0;overflow: hidden;text-align: left;background-color: #f0f8ff;}#sk-container-id-1 div.sk-toggleable__content pre {margin: 0.2em;color: black;border-radius: 0.25em;background-color: #f0f8ff;}#sk-container-id-1 input.sk-toggleable__control:checked~div.sk-toggleable__content {max-height: 200px;max-width: 100%;overflow: auto;}#sk-container-id-1 input.sk-toggleable__control:checked~label.sk-toggleable__label-arrow:before {content: \"▾\";}#sk-container-id-1 div.sk-estimator input.sk-toggleable__control:checked~label.sk-toggleable__label {background-color: #d4ebff;}#sk-container-id-1 div.sk-label input.sk-toggleable__control:checked~label.sk-toggleable__label {background-color: #d4ebff;}#sk-container-id-1 input.sk-hidden--visually {border: 0;clip: rect(1px 1px 1px 1px);clip: rect(1px, 1px, 1px, 1px);height: 1px;margin: -1px;overflow: hidden;padding: 0;position: absolute;width: 1px;}#sk-container-id-1 div.sk-estimator {font-family: monospace;background-color: #f0f8ff;border: 1px dotted black;border-radius: 0.25em;box-sizing: border-box;margin-bottom: 0.5em;}#sk-container-id-1 div.sk-estimator:hover {background-color: #d4ebff;}#sk-container-id-1 div.sk-parallel-item::after {content: \"\";width: 100%;border-bottom: 1px solid gray;flex-grow: 1;}#sk-container-id-1 div.sk-label:hover label.sk-toggleable__label {background-color: #d4ebff;}#sk-container-id-1 div.sk-serial::before {content: \"\";position: absolute;border-left: 1px solid gray;box-sizing: border-box;top: 0;bottom: 0;left: 50%;z-index: 0;}#sk-container-id-1 div.sk-serial {display: flex;flex-direction: column;align-items: center;background-color: white;padding-right: 0.2em;padding-left: 0.2em;position: relative;}#sk-container-id-1 div.sk-item {position: relative;z-index: 1;}#sk-container-id-1 div.sk-parallel {display: flex;align-items: stretch;justify-content: center;background-color: white;position: relative;}#sk-container-id-1 div.sk-item::before, #sk-container-id-1 div.sk-parallel-item::before {content: \"\";position: absolute;border-left: 1px solid gray;box-sizing: border-box;top: 0;bottom: 0;left: 50%;z-index: -1;}#sk-container-id-1 div.sk-parallel-item {display: flex;flex-direction: column;z-index: 1;position: relative;background-color: white;}#sk-container-id-1 div.sk-parallel-item:first-child::after {align-self: flex-end;width: 50%;}#sk-container-id-1 div.sk-parallel-item:last-child::after {align-self: flex-start;width: 50%;}#sk-container-id-1 div.sk-parallel-item:only-child::after {width: 0;}#sk-container-id-1 div.sk-dashed-wrapped {border: 1px dashed gray;margin: 0 0.4em 0.5em 0.4em;box-sizing: border-box;padding-bottom: 0.4em;background-color: white;}#sk-container-id-1 div.sk-label label {font-family: monospace;font-weight: bold;display: inline-block;line-height: 1.2em;}#sk-container-id-1 div.sk-label-container {text-align: center;}#sk-container-id-1 div.sk-container {/* jupyter's `normalize.less` sets `[hidden] { display: none; }` but bootstrap.min.css set `[hidden] { display: none !important; }` so we also need the `!important` here to be able to override the default hidden behavior on the sphinx rendered scikit-learn.org. See: https://github.com/scikit-learn/scikit-learn/issues/21755 */display: inline-block !important;position: relative;}#sk-container-id-1 div.sk-text-repr-fallback {display: none;}</style><div id=\"sk-container-id-1\" class=\"sk-top-container\"><div class=\"sk-text-repr-fallback\"><pre>VotingClassifier(estimators=[(&#x27;rf&#x27;, RandomForestClassifier(random_state=42)),\n",
       "                             (&#x27;lr&#x27;, LogisticRegression())])</pre><b>In a Jupyter environment, please rerun this cell to show the HTML representation or trust the notebook. <br />On GitHub, the HTML representation is unable to render, please try loading this page with nbviewer.org.</b></div><div class=\"sk-container\" hidden><div class=\"sk-item sk-dashed-wrapped\"><div class=\"sk-label-container\"><div class=\"sk-label sk-toggleable\"><input class=\"sk-toggleable__control sk-hidden--visually\" id=\"sk-estimator-id-1\" type=\"checkbox\" ><label for=\"sk-estimator-id-1\" class=\"sk-toggleable__label sk-toggleable__label-arrow\">VotingClassifier</label><div class=\"sk-toggleable__content\"><pre>VotingClassifier(estimators=[(&#x27;rf&#x27;, RandomForestClassifier(random_state=42)),\n",
       "                             (&#x27;lr&#x27;, LogisticRegression())])</pre></div></div></div><div class=\"sk-parallel\"><div class=\"sk-parallel-item\"><div class=\"sk-item\"><div class=\"sk-label-container\"><div class=\"sk-label sk-toggleable\"><label>rf</label></div></div><div class=\"sk-serial\"><div class=\"sk-item\"><div class=\"sk-estimator sk-toggleable\"><input class=\"sk-toggleable__control sk-hidden--visually\" id=\"sk-estimator-id-2\" type=\"checkbox\" ><label for=\"sk-estimator-id-2\" class=\"sk-toggleable__label sk-toggleable__label-arrow\">RandomForestClassifier</label><div class=\"sk-toggleable__content\"><pre>RandomForestClassifier(random_state=42)</pre></div></div></div></div></div></div><div class=\"sk-parallel-item\"><div class=\"sk-item\"><div class=\"sk-label-container\"><div class=\"sk-label sk-toggleable\"><label>lr</label></div></div><div class=\"sk-serial\"><div class=\"sk-item\"><div class=\"sk-estimator sk-toggleable\"><input class=\"sk-toggleable__control sk-hidden--visually\" id=\"sk-estimator-id-3\" type=\"checkbox\" ><label for=\"sk-estimator-id-3\" class=\"sk-toggleable__label sk-toggleable__label-arrow\">LogisticRegression</label><div class=\"sk-toggleable__content\"><pre>LogisticRegression()</pre></div></div></div></div></div></div></div></div></div></div>"
      ],
      "text/plain": [
       "VotingClassifier(estimators=[('rf', RandomForestClassifier(random_state=42)),\n",
       "                             ('lr', LogisticRegression())])"
      ]
     },
     "execution_count": 19,
     "metadata": {},
     "output_type": "execute_result"
    }
   ],
   "source": [
    "voting_clf.fit(X_train,y_train)"
   ]
  },
  {
   "cell_type": "code",
   "execution_count": 20,
   "id": "2d7d8702-bb7b-4011-bf79-68512b2a6716",
   "metadata": {},
   "outputs": [
    {
     "name": "stdout",
     "output_type": "stream",
     "text": [
      "Voting Classifier Accuracy: 0.98\n"
     ]
    }
   ],
   "source": [
    "accuracy = voting_clf.score(X_test, y_test)\n",
    "print(f\"Voting Classifier Accuracy: {accuracy}\")"
   ]
  },
  {
   "cell_type": "code",
   "execution_count": null,
   "id": "3d20981d-1e30-4cc7-87ec-cff117f31018",
   "metadata": {},
   "outputs": [],
   "source": []
  }
 ],
 "metadata": {
  "kernelspec": {
   "display_name": "Python 3 (ipykernel)",
   "language": "python",
   "name": "python3"
  },
  "language_info": {
   "codemirror_mode": {
    "name": "ipython",
    "version": 3
   },
   "file_extension": ".py",
   "mimetype": "text/x-python",
   "name": "python",
   "nbconvert_exporter": "python",
   "pygments_lexer": "ipython3",
   "version": "3.10.8"
  }
 },
 "nbformat": 4,
 "nbformat_minor": 5
}
