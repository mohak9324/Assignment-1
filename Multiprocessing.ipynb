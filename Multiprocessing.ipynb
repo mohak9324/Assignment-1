{
 "cells": [
  {
   "cell_type": "code",
   "execution_count": 1,
   "id": "e496b0bd-f486-4948-95b6-68500a25203d",
   "metadata": {},
   "outputs": [],
   "source": [
    "#Q1"
   ]
  },
  {
   "cell_type": "markdown",
   "id": "4fed727a-02e4-44a4-9167-a68379b294a8",
   "metadata": {},
   "source": [
    "multiprocessing refers to the ability to run multiple process simultaneously, each having its own memory space and execution context.\n",
    "advantages:-\n",
    "1. Improved performance\n",
    "2. Efficient Resource utilization\n",
    "3. utilizing multiple machines"
   ]
  },
  {
   "cell_type": "code",
   "execution_count": 2,
   "id": "c1499499-af29-4386-a749-7506b641673d",
   "metadata": {},
   "outputs": [],
   "source": [
    "#Q2"
   ]
  },
  {
   "cell_type": "markdown",
   "id": "c1ddbcae-b2c1-46f9-b19f-f8f6344f123f",
   "metadata": {},
   "source": [
    "Multiprocessing:- running multiple independent process with their own memory apace, enabling true parallelism and efficient utilization of system resources.\n",
    "Multithreading:- creating multiple threads within single process., shareing same memory space."
   ]
  },
  {
   "cell_type": "code",
   "execution_count": 3,
   "id": "1e67c477-751d-4041-b36b-60563bbaae5f",
   "metadata": {},
   "outputs": [],
   "source": [
    "#Q3"
   ]
  },
  {
   "cell_type": "code",
   "execution_count": 1,
   "id": "c93103a9-56e8-46c9-81bf-64de6f983165",
   "metadata": {},
   "outputs": [],
   "source": [
    "import multiprocessing"
   ]
  },
  {
   "cell_type": "code",
   "execution_count": 5,
   "id": "4a8a81d2-e18c-44c7-8cf7-eec95d298a1c",
   "metadata": {},
   "outputs": [
    {
     "name": "stdout",
     "output_type": "stream",
     "text": [
      "this is my main prog\n",
      "This is my multi Processing\n"
     ]
    }
   ],
   "source": [
    "def test():\n",
    "    print (\"This is my multi Processing\")\n",
    "    \n",
    "if __name__=='__main__':\n",
    "    m=multiprocessing.Process(target=test)\n",
    "    print(\"this is my main prog\")\n",
    "    m.start()\n",
    "    m.join()"
   ]
  },
  {
   "cell_type": "code",
   "execution_count": 7,
   "id": "842fdaa6-d0d7-436c-9ee5-c23e1e60950f",
   "metadata": {},
   "outputs": [],
   "source": [
    "#Q4"
   ]
  },
  {
   "cell_type": "code",
   "execution_count": null,
   "id": "3a213a76-704b-4377-98e8-5ec02de1d8cf",
   "metadata": {},
   "outputs": [],
   "source": [
    "multiprocessing pool is a feature provided by the multiprocessing module that allows for easy management and distribution of task accross multi process."
   ]
  },
  {
   "cell_type": "code",
   "execution_count": 5,
   "id": "dc44ad69-8d54-4da5-8c9a-5e46b1645477",
   "metadata": {},
   "outputs": [
    {
     "name": "stdout",
     "output_type": "stream",
     "text": [
      "result1 4\n",
      "result1 9\n",
      "result1 16\n",
      "result1 25\n"
     ]
    }
   ],
   "source": [
    "def square(x):\n",
    "    return x**2\n",
    "\n",
    "if __name__==\"__main__\":\n",
    "    with multiprocessing.Pool(processes=4) as pool:\n",
    "        result1=pool.apply_async(square,(2,))\n",
    "        result2=pool.apply_async(square,(3,))\n",
    "        result3=pool.apply_async(square,(4,))\n",
    "        result4=pool.apply_async(square,(5,))\n",
    "        \n",
    "        \n",
    "        print(\"result1\", result1.get())\n",
    "        print(\"result1\", result2.get())\n",
    "        print(\"result1\", result3.get())\n",
    "        print(\"result1\", result4.get())"
   ]
  },
  {
   "cell_type": "code",
   "execution_count": 6,
   "id": "bc2e623d-79e5-493e-9417-5c4e42b914d7",
   "metadata": {},
   "outputs": [],
   "source": [
    "#Q5"
   ]
  },
  {
   "cell_type": "code",
   "execution_count": 7,
   "id": "10c407d1-475b-4dc3-af79-10b3ab793a7c",
   "metadata": {},
   "outputs": [
    {
     "name": "stdout",
     "output_type": "stream",
     "text": [
      "result1 4\n",
      "result1 9\n",
      "result1 16\n",
      "result1 25\n"
     ]
    }
   ],
   "source": [
    "def square(x):\n",
    "    return x**2\n",
    "\n",
    "if __name__==\"__main__\":\n",
    "    with multiprocessing.Pool(processes=4) as pool:\n",
    "        result1=pool.apply_async(square,(2,))\n",
    "        result2=pool.apply_async(square,(3,))\n",
    "        result3=pool.apply_async(square,(4,))\n",
    "        result4=pool.apply_async(square,(5,))\n",
    "        \n",
    "        \n",
    "        print(\"result1\", result1.get())\n",
    "        print(\"result1\", result2.get())\n",
    "        print(\"result1\", result3.get())\n",
    "        print(\"result1\", result4.get())\n"
   ]
  },
  {
   "cell_type": "code",
   "execution_count": 8,
   "id": "c385372f-c80f-4924-a079-48d2523a50f5",
   "metadata": {},
   "outputs": [],
   "source": [
    "#Q6"
   ]
  },
  {
   "cell_type": "code",
   "execution_count": 9,
   "id": "e8b15b59-0099-4917-a5c1-41b0a487caa5",
   "metadata": {},
   "outputs": [
    {
     "name": "stdout",
     "output_type": "stream",
     "text": [
      "result1 4\n",
      "result1 9\n",
      "result1 16\n",
      "result1 25\n"
     ]
    }
   ],
   "source": [
    "def square(x):\n",
    "    return x**2\n",
    "\n",
    "if __name__==\"__main__\":\n",
    "    with multiprocessing.Pool(processes=4) as pool:\n",
    "        result1=pool.apply_async(square,(2,))\n",
    "        result2=pool.apply_async(square,(3,))\n",
    "        result3=pool.apply_async(square,(4,))\n",
    "        result4=pool.apply_async(square,(5,))\n",
    "        \n",
    "        \n",
    "        print(\"result1\", result1.get())\n",
    "        print(\"result1\", result2.get())\n",
    "        print(\"result1\", result3.get())\n",
    "        print(\"result1\", result4.get())\n"
   ]
  },
  {
   "cell_type": "code",
   "execution_count": null,
   "id": "bdf756dd-f3f9-400d-a4cf-a4775d29a2fa",
   "metadata": {},
   "outputs": [],
   "source": []
  }
 ],
 "metadata": {
  "kernelspec": {
   "display_name": "Python 3 (ipykernel)",
   "language": "python",
   "name": "python3"
  },
  "language_info": {
   "codemirror_mode": {
    "name": "ipython",
    "version": 3
   },
   "file_extension": ".py",
   "mimetype": "text/x-python",
   "name": "python",
   "nbconvert_exporter": "python",
   "pygments_lexer": "ipython3",
   "version": "3.10.8"
  }
 },
 "nbformat": 4,
 "nbformat_minor": 5
}
