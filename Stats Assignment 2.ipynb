{
 "cells": [
  {
   "cell_type": "code",
   "execution_count": 22,
   "id": "719469e7-b6da-4f4e-87fc-7cab466c1c95",
   "metadata": {},
   "outputs": [],
   "source": [
    "import numpy as np\n",
    "import pandas as pd"
   ]
  },
  {
   "cell_type": "code",
   "execution_count": 2,
   "id": "b9fb2c80-4b81-443e-ba4c-dd8dcd1e96d5",
   "metadata": {},
   "outputs": [],
   "source": [
    "#Q1"
   ]
  },
  {
   "cell_type": "markdown",
   "id": "cdccbca8-69f9-4ec0-b990-b0e44717295e",
   "metadata": {},
   "source": [
    "Measeure of central tendency \n",
    "1. Mean\n",
    "2. Median\n",
    "3. Mode"
   ]
  },
  {
   "cell_type": "raw",
   "id": "d78cfaeb-73b3-4cbb-b35c-f0f952127d9b",
   "metadata": {},
   "source": [
    "#Q2 Q2. What is the difference between the mean, median, and mode? How are they used to measure the\n",
    "central tendency of a dataset?"
   ]
  },
  {
   "cell_type": "markdown",
   "id": "5c03aa01-4eec-42d9-a791-052f6b26d5e4",
   "metadata": {},
   "source": [
    "Mean :- mean is the average of the total observations.\n",
    "    eg:- x=[1,2,3,4,5,6]\n",
    "    mean = (1+2+3+4+5+6)/6 =3.5\n",
    "    \n",
    "Median :- it depends on the no. of observation , if it is even than average of middle observation is median\n",
    "            if observations are odd than middle value is meadian\n",
    "    \n",
    "     eg:- x=[1,2,3,4,5,6]\n",
    "        Median = (3+4)/2=3.5\n",
    "        \n",
    "Mode :- frequency of the observations and observation having highest frequency will be treated as Mode"
   ]
  },
  {
   "cell_type": "code",
   "execution_count": 1,
   "id": "4bf85bc9-3da4-495f-b8ed-787243215685",
   "metadata": {},
   "outputs": [],
   "source": [
    "#Q3"
   ]
  },
  {
   "cell_type": "code",
   "execution_count": 2,
   "id": "7987cc49-dbb1-41d7-bbbd-d75d84375a40",
   "metadata": {},
   "outputs": [],
   "source": [
    "x=[178,177,176,177,178.2,178,175,179,180,175,178.9,176.2,177,172.5,178,176.5]"
   ]
  },
  {
   "cell_type": "code",
   "execution_count": 5,
   "id": "8a77c915-e89a-448b-bbf2-205d9a9967a3",
   "metadata": {},
   "outputs": [
    {
     "data": {
      "text/plain": [
       "177.01875"
      ]
     },
     "execution_count": 5,
     "metadata": {},
     "output_type": "execute_result"
    }
   ],
   "source": [
    "np.mean(x)"
   ]
  },
  {
   "cell_type": "code",
   "execution_count": 6,
   "id": "4045e01d-e8f0-42b7-8ce2-4a18bc07ac37",
   "metadata": {},
   "outputs": [
    {
     "data": {
      "text/plain": [
       "177.0"
      ]
     },
     "execution_count": 6,
     "metadata": {},
     "output_type": "execute_result"
    }
   ],
   "source": [
    "np.median(x)"
   ]
  },
  {
   "cell_type": "code",
   "execution_count": 10,
   "id": "10566801-a60b-4508-a432-68a35efbb5ad",
   "metadata": {},
   "outputs": [],
   "source": [
    "df=pd.DataFrame(x)"
   ]
  },
  {
   "cell_type": "code",
   "execution_count": 11,
   "id": "eea2fc0b-89c4-4e06-b37c-adfc20db6491",
   "metadata": {},
   "outputs": [
    {
     "data": {
      "text/html": [
       "<div>\n",
       "<style scoped>\n",
       "    .dataframe tbody tr th:only-of-type {\n",
       "        vertical-align: middle;\n",
       "    }\n",
       "\n",
       "    .dataframe tbody tr th {\n",
       "        vertical-align: top;\n",
       "    }\n",
       "\n",
       "    .dataframe thead th {\n",
       "        text-align: right;\n",
       "    }\n",
       "</style>\n",
       "<table border=\"1\" class=\"dataframe\">\n",
       "  <thead>\n",
       "    <tr style=\"text-align: right;\">\n",
       "      <th></th>\n",
       "      <th>0</th>\n",
       "    </tr>\n",
       "  </thead>\n",
       "  <tbody>\n",
       "    <tr>\n",
       "      <th>0</th>\n",
       "      <td>177.0</td>\n",
       "    </tr>\n",
       "    <tr>\n",
       "      <th>1</th>\n",
       "      <td>178.0</td>\n",
       "    </tr>\n",
       "  </tbody>\n",
       "</table>\n",
       "</div>"
      ],
      "text/plain": [
       "       0\n",
       "0  177.0\n",
       "1  178.0"
      ]
     },
     "execution_count": 11,
     "metadata": {},
     "output_type": "execute_result"
    }
   ],
   "source": [
    "df.mode()"
   ]
  },
  {
   "cell_type": "code",
   "execution_count": 12,
   "id": "a34f450d-0dbf-4857-990a-ac9dbfee2c64",
   "metadata": {},
   "outputs": [],
   "source": [
    "#Q4"
   ]
  },
  {
   "cell_type": "code",
   "execution_count": 13,
   "id": "c2c10561-45bb-4446-a25c-2e700f4cddaa",
   "metadata": {},
   "outputs": [],
   "source": [
    "x=[178,177,176,177,178.2,178,175,179,180,175,178.9,176.2,177,172.5,178,176.5]"
   ]
  },
  {
   "cell_type": "code",
   "execution_count": 14,
   "id": "ca159182-c1d9-44f8-ac59-9343b8f21828",
   "metadata": {},
   "outputs": [
    {
     "data": {
      "text/plain": [
       "1.7885814036548633"
      ]
     },
     "execution_count": 14,
     "metadata": {},
     "output_type": "execute_result"
    }
   ],
   "source": [
    "np.std(x)"
   ]
  },
  {
   "cell_type": "code",
   "execution_count": 15,
   "id": "035f01b4-b10a-470f-94b9-13c0f790bba2",
   "metadata": {},
   "outputs": [],
   "source": [
    "#Q5"
   ]
  },
  {
   "cell_type": "markdown",
   "id": "68fb5425-e1e0-4d62-81e3-37fd1b4a16f6",
   "metadata": {},
   "source": [
    "Measures of dispersion, such as range, variance, and standard deviation, are used to quantify the amount of spread or variability in a dataset. They provide information about how the individual data points are distributed around the central tendency (mean, median, etc.). Let's look at each measure and provide an example to illustrate their use:\n",
    "\n",
    "Range:\n",
    "The range is the simplest measure of dispersion and is calculated by subtracting the smallest value from the largest value in the dataset. It gives you an idea of the total spread from the lowest to the highest value.\n",
    "\n",
    "Example: Consider the following dataset representing the scores of a group of students in a math test: 75, 82, 90, 68, 95. The range would be calculated as follows:\n",
    "\n",
    "Range = Max value - Min value\n",
    "Range = 95 - 68 = 27\n",
    "\n",
    "The range of the scores is 27, indicating that the scores vary by 27 points from the lowest to the highest.\n",
    "\n",
    "Variance:\n",
    "Variance measures how much each data point in the dataset differs from the mean. It's calculated by taking the average of the squared differences between each data point and the mean of the dataset. A higher variance indicates greater variability.\n",
    "\n",
    "Example: Using the same dataset of math test scores, let's calculate the variance.\n",
    "\n",
    "Mean = (75 + 82 + 90 + 68 + 95) / 5 = 82\n",
    "Variance = [(75 - 82)^2 + (82 - 82)^2 + (90 - 82)^2 + (68 - 82)^2 + (95 - 82)^2] / 5\n",
    "Variance ≈ 148.4\n",
    "\n",
    "The variance of the scores is approximately 148.4.\n",
    "\n",
    "Standard Deviation:\n",
    "The standard deviation is the square root of the variance. It's often used because it provides a measure of dispersion in the same units as the original data, making it more interpretable. A higher standard deviation implies more variability.\n",
    "\n",
    "Example: Continuing with the math test scores dataset, let's calculate the standard deviation.\n",
    "\n",
    "Standard Deviation = √Variance ≈ √148.4 ≈ 12.18\n",
    "\n",
    "The standard deviation of the scores is approximately 12.18.\n",
    "\n",
    "In summary, these measures of dispersion help us understand how spread out the data points are within a dataset. A larger range, variance, or standard deviation indicates a wider distribution and greater variability among the data points, while smaller values indicate a more compact distribution with less variability."
   ]
  },
  {
   "cell_type": "code",
   "execution_count": 16,
   "id": "e936a71f-3a29-4915-8445-7e4551777a66",
   "metadata": {},
   "outputs": [],
   "source": [
    "#Q6"
   ]
  },
  {
   "cell_type": "markdown",
   "id": "84db3a9e-de43-4db8-8447-00edf95ad51a",
   "metadata": {},
   "source": [
    "A Venn diagram is a graphical representation used to show the relationships between sets of elements. It's composed of overlapping circles, each representing a set, with the overlapping regions representing the elements that belong to both sets. Venn diagrams are commonly used to visualize the intersections and differences between different groups or categories."
   ]
  },
  {
   "cell_type": "code",
   "execution_count": 1,
   "id": "a4e007ea-dfb8-40ad-b1fb-406d8f8a01d8",
   "metadata": {},
   "outputs": [],
   "source": [
    "#Q7"
   ]
  },
  {
   "cell_type": "code",
   "execution_count": 8,
   "id": "c4c3351b-cc54-4dfa-a02c-0845e077e279",
   "metadata": {},
   "outputs": [],
   "source": [
    "A = [2,3,4,5,6,7]\n",
    "B = [0,2,6,8,10]"
   ]
  },
  {
   "cell_type": "markdown",
   "id": "2441d5cf-4094-4a4c-94a6-733d3143c6e8",
   "metadata": {},
   "source": [
    "1. (2,6)\n",
    "2. (0,2,3,4,5,6,7,8,10)"
   ]
  },
  {
   "cell_type": "code",
   "execution_count": 6,
   "id": "ddc8c672-0045-46e9-8905-0836129dc059",
   "metadata": {},
   "outputs": [],
   "source": [
    "#Q8"
   ]
  },
  {
   "cell_type": "markdown",
   "id": "da4243dd-0f57-40f6-bb00-8bad4548f9b5",
   "metadata": {},
   "source": [
    "it indicates the extent to which the values in a distribution are skewed to one side of the mean compared to other"
   ]
  },
  {
   "cell_type": "markdown",
   "id": "d578b68a-6406-494f-9a13-1287bbcbe400",
   "metadata": {},
   "source": [
    "1. Positive skewness :- Mean >Median>Mode\n",
    "2. Negative skewness :- Mean<Median<Mode\n",
    "3. Normal distribution:- Mean= Median = Mode"
   ]
  },
  {
   "cell_type": "code",
   "execution_count": 7,
   "id": "667ae071-169a-441c-813c-c76f80836206",
   "metadata": {},
   "outputs": [],
   "source": [
    "#Q9"
   ]
  },
  {
   "cell_type": "markdown",
   "id": "9997f488-719a-4e52-82e5-fdb337a5a682",
   "metadata": {},
   "source": [
    "Mean > Median"
   ]
  },
  {
   "cell_type": "code",
   "execution_count": 9,
   "id": "ea40dbb1-bf5d-4234-b2e1-246fe981e79c",
   "metadata": {},
   "outputs": [],
   "source": [
    "#Q10"
   ]
  },
  {
   "cell_type": "markdown",
   "id": "8245fb8e-bcdd-4e9f-8d5a-c194da8c9105",
   "metadata": {},
   "source": [
    "Covariance :- it will tell the relation ship between variables , wether it is Positive or negative relation ship. it wil not tell about how much they are related to each other.\n",
    "\n",
    "corelation :- it will tell the extent to which variables are corelated to each other. it range varies from 0 to 1."
   ]
  },
  {
   "cell_type": "code",
   "execution_count": 11,
   "id": "08dff413-a94a-4271-b98e-d48e3c8727d0",
   "metadata": {},
   "outputs": [],
   "source": [
    "#Q11"
   ]
  },
  {
   "cell_type": "code",
   "execution_count": null,
   "id": "a8c139e4-4330-4f59-9892-00e92e144c6a",
   "metadata": {},
   "outputs": [],
   "source": [
    "x=[12,15,18,21,24]"
   ]
  },
  {
   "cell_type": "code",
   "execution_count": 13,
   "id": "a158c27e-b82f-4fdf-825f-1cdff2b1498a",
   "metadata": {},
   "outputs": [],
   "source": [
    "sample_mean =(12+15+18+21+24)/5"
   ]
  },
  {
   "cell_type": "code",
   "execution_count": 14,
   "id": "b3e879f0-4300-4354-ba5c-f3ea442aeb02",
   "metadata": {},
   "outputs": [
    {
     "data": {
      "text/plain": [
       "18.0"
      ]
     },
     "execution_count": 14,
     "metadata": {},
     "output_type": "execute_result"
    }
   ],
   "source": [
    "sample_mean"
   ]
  },
  {
   "cell_type": "code",
   "execution_count": 15,
   "id": "f3f59b29-8e42-47cf-81be-c66afc50205b",
   "metadata": {},
   "outputs": [],
   "source": [
    "#Q12"
   ]
  },
  {
   "cell_type": "markdown",
   "id": "0a6ce808-c575-43eb-ad4c-73f713d0a8c0",
   "metadata": {},
   "source": [
    "for normal distribution Mean= median= Mode"
   ]
  },
  {
   "cell_type": "code",
   "execution_count": 17,
   "id": "2c6f25e3-b9ce-4ce2-b24d-4ae1dd42b43c",
   "metadata": {},
   "outputs": [],
   "source": [
    "#Q13"
   ]
  },
  {
   "cell_type": "markdown",
   "id": "2a203677-52eb-431c-a208-92c3317c3f6d",
   "metadata": {},
   "source": [
    "Covariance tell us about +ve or -Ve relation but not the extent.\n",
    "\n",
    "\n",
    "corelation tells us about the extent to which variables are related to each other."
   ]
  },
  {
   "cell_type": "code",
   "execution_count": 19,
   "id": "31310303-1852-4793-92ef-160fd60bc5fc",
   "metadata": {},
   "outputs": [],
   "source": [
    "#Q14"
   ]
  },
  {
   "cell_type": "code",
   "execution_count": 24,
   "id": "7a69edb9-f498-47d9-8793-b015cb796987",
   "metadata": {},
   "outputs": [
    {
     "data": {
      "text/plain": [
       "4.5"
      ]
     },
     "execution_count": 24,
     "metadata": {},
     "output_type": "execute_result"
    }
   ],
   "source": [
    "x=[2,3,4,5,6,7]\n",
    "mean=np.mean(x)\n",
    "mean"
   ]
  },
  {
   "cell_type": "markdown",
   "id": "19d0b88d-a63c-4ef8-a0fb-64499ae70148",
   "metadata": {},
   "source": [
    "as we have mean as 4.5 of above variabes , if outlier is introduced in it"
   ]
  },
  {
   "cell_type": "code",
   "execution_count": 28,
   "id": "7f2fc184-68da-4eb4-9448-12363d0e2e16",
   "metadata": {},
   "outputs": [
    {
     "data": {
      "text/plain": [
       "32.42857142857143"
      ]
     },
     "execution_count": 28,
     "metadata": {},
     "output_type": "execute_result"
    }
   ],
   "source": [
    "x=[2,3,4,5,6,7,200]\n",
    "mean_new=np.mean(x)\n",
    "mean_new"
   ]
  },
  {
   "cell_type": "markdown",
   "id": "6bb890bd-5f97-4f33-8173-a32a3cdbe129",
   "metadata": {},
   "source": [
    "mean is deviated from 4.5 to 32, so to overcome outlier we will use Median as measure of central tendency"
   ]
  },
  {
   "cell_type": "code",
   "execution_count": 29,
   "id": "331f095c-7d31-4837-b0b0-671559c075e7",
   "metadata": {},
   "outputs": [
    {
     "name": "stdout",
     "output_type": "stream",
     "text": [
      "4.5\n",
      "5.0\n"
     ]
    }
   ],
   "source": [
    "x=[2,3,4,5,6,7]\n",
    "x1=[2,3,4,5,6,7,200]\n",
    "\n",
    "median_x=np.median(x)\n",
    "median_x1=np.median(x1)\n",
    "\n",
    "print(median_x)\n",
    "print(median_x1)"
   ]
  },
  {
   "cell_type": "markdown",
   "id": "100408fc-08bb-4ddf-8e21-034aea7f68f7",
   "metadata": {},
   "source": [
    "as we can see taking median as measure of central tendency both are approx same ."
   ]
  },
  {
   "cell_type": "code",
   "execution_count": null,
   "id": "459354e8-2c4a-41bb-88b3-5e96ab69e409",
   "metadata": {},
   "outputs": [],
   "source": []
  }
 ],
 "metadata": {
  "kernelspec": {
   "display_name": "Python 3 (ipykernel)",
   "language": "python",
   "name": "python3"
  },
  "language_info": {
   "codemirror_mode": {
    "name": "ipython",
    "version": 3
   },
   "file_extension": ".py",
   "mimetype": "text/x-python",
   "name": "python",
   "nbconvert_exporter": "python",
   "pygments_lexer": "ipython3",
   "version": "3.10.8"
  }
 },
 "nbformat": 4,
 "nbformat_minor": 5
}
