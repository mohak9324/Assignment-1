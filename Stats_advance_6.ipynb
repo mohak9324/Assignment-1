{
 "cells": [
  {
   "cell_type": "code",
   "execution_count": 2,
   "id": "b3db4034-3f27-42b2-b497-f05bdf7003e5",
   "metadata": {},
   "outputs": [],
   "source": [
    "#Q1 Explain the assumptions required to use ANOVA and provide examples of violations that could impact\n",
    "# the validity of the results."
   ]
  },
  {
   "cell_type": "markdown",
   "id": "4ff17915-5481-4ac2-9528-0404ecdb9482",
   "metadata": {},
   "source": [
    "Independence of Observations: The observations in each group must be independent of each other. This means that the value of one observation should not depend on or influence the value of another observation within the same group.\n",
    "\n",
    "Normality of Residuals: The residuals (the differences between observed values and group means) should follow a normal distribution within each group.\n",
    "\n",
    "Homogeneity of Variances (Homoscedasticity): The variances of the residuals should be approximately equal across all groups. \n",
    "\n",
    "Independence of Groups: The groups being compared should be independent of each other.\n",
    "\n",
    "Random Sampling: The samples within each group should be drawn randomly from their respective populations. \n",
    "\n",
    "Absesnce of Outliers"
   ]
  },
  {
   "cell_type": "code",
   "execution_count": 3,
   "id": "dcbbed87-ffeb-41cf-b931-e88164cd2ad8",
   "metadata": {},
   "outputs": [],
   "source": [
    "# Q2 What are the three types of ANOVA, and in what situations would each be used?"
   ]
  },
  {
   "cell_type": "markdown",
   "id": "95f6a728-0926-4344-91fc-8946bb2a54d6",
   "metadata": {},
   "source": [
    "One-Way ANOVA:\n",
    "\n",
    "Use Case: One-Way ANOVA is used when you have one independent variable (factor) with more than two levels or groups, and you want to compare the means of those groups to determine if there are statistically significant differences.\n",
    "Example: You have data on the test scores of students from three different schools (groups A, B, and C), and you want to determine if there are any significant differences in the average test scores among the schools.\n",
    "\n",
    "Two-Way ANOVA:\n",
    "\n",
    "Use Case: Two-Way ANOVA is used when you have two independent variables (factors) and you want to examine how they interact to affect a dependent variable. It can determine the main effects of each factor and whether there is an interaction effect between them.\n",
    "Example: You want to analyze how both the type of diet (factor 1: low-fat, high-fat) and the type of exercise (factor 2: cardio, strength training) impact weight loss in a study. Two-Way ANOVA allows you to assess the effects of each factor and their interaction.\n",
    "\n",
    "Repeated Measures ANOVA (RM-ANOVA):\n",
    "\n",
    "Use Case: Repeated Measures ANOVA is used when you have a repeated measurement or a dependent variable collected at multiple time points or under multiple conditions on the same subjects. It assesses changes over time or across conditions.\n",
    "Example: You measure the blood pressure of the same group of individuals at three different time points: before treatment, after one month of treatment, and after three months of treatment. Repeated Measures ANOVA helps determine if there are statistically significant changes in blood pressure over time due to the treatment."
   ]
  },
  {
   "cell_type": "code",
   "execution_count": 4,
   "id": "ec854575-c24b-424d-b577-76d95605104d",
   "metadata": {},
   "outputs": [],
   "source": [
    "# Q3 What is the partitioning of variance in ANOVA, and why is it important to understand this concept?"
   ]
  },
  {
   "cell_type": "markdown",
   "id": "0daaec6e-b746-493e-910f-deacc5a0507a",
   "metadata": {},
   "source": [
    "The partitioning of variance in Analysis of Variance (ANOVA) is a fundamental concept that involves breaking down the total variance observed in a dataset into different components. Understanding this concept is crucial because it allows researchers to assess the sources of variation in their data and determine if there are statistically significant differences among groups or factors being studied. \n",
    "\n",
    "Total Variance (Total Sum of Squares - SST): The total variance represents the overall variation observed in the data. It is calculated as the sum of the squared differences between each data point and the overall mean.\n",
    "\n",
    "SST = SUM(X-X_mean)**2\n",
    "\n",
    "X = represents individual data points.\n",
    "X_mean=is the overall mean of all data points.\n",
    "\n",
    "Between-Group Variance (Between-Group Sum of Squares - SSB): This component of variance assesses the differences between the group means. It measures how much of the total variance can be attributed to differences among the groups or factors being studied.\n",
    "\n",
    "SSB=n*( SUM(X_mean-X_overall)**2)\n",
    "n= number of observations in each group\n",
    "X_mean= mean of each group\n",
    "X_overall= overall mean.\n",
    "\n",
    "Within-Group Variance (Within-Group Sum of Squares - SSW): This component of variance measures the variation within each group. It quantifies the random variation or noise within the groups that cannot be explained by differences between the groups.\n",
    "\n",
    "SSW= SUM(sum(X-X_mean)**2)\n",
    "\n",
    "X=represents individual data points in each group.\n",
    " X_mean=mean of each group.\n",
    " \n",
    " \n",
    " Hypothesis Testing: ANOVA tests whether the variation between groups (SSB) is significantly greater than the variation within groups (SSW). If the between-group variation is much larger than the within-group variation, it suggests that there are significant differences among the groups.\n",
    "\n",
    "Effect Size: By examining the proportion of total variance explained by between-group variation, researchers can assess the effect size of the factors or treatments under investigation.\n",
    "\n",
    "Post-Hoc Tests: If ANOVA indicates significant differences among groups, post-hoc tests can be conducted to identify which specific groups differ from each other.\n",
    "\n",
    "Experimental Design: Understanding the partitioning of variance informs the design of experiments by helping researchers determine the appropriate sample sizes and factors to include in their study."
   ]
  },
  {
   "cell_type": "code",
   "execution_count": 5,
   "id": "b6f4cb6b-332e-4a0f-8aed-96355d94fb4c",
   "metadata": {},
   "outputs": [],
   "source": [
    "# Q4. How would you calculate the total sum of squares (SST), explained sum of squares (SSE), and residual\n",
    "# sum of squares (SSR) in a one-way ANOVA using Python?"
   ]
  },
  {
   "cell_type": "code",
   "execution_count": 16,
   "id": "192045b9-a88b-4d3f-a3dd-5049925b72ac",
   "metadata": {},
   "outputs": [],
   "source": [
    "import scipy.stats as stats\n",
    "\n",
    "# Sample data for each group\n",
    "group1 = [15, 20, 25, 30, 35]\n",
    "group2 = [10, 18, 22, 28, 32]\n",
    "group3 = [12, 16, 20, 24, 28]\n",
    "\n",
    "\n",
    "f_statistic, p_value = stats.f_oneway(group1, group2, group3)\n",
    "\n",
    "df_total = len(group1) + len(group2) + len(group3) - 1\n",
    "df_between = len([group1, group2, group3]) - 1\n",
    "df_within = df_total - df_between\n",
    "\n",
    "all_data = group1 + group2 + group3\n",
    "overall_mean = sum(all_data) / len(all_data)\n",
    "\n",
    "mean_group1 = sum(group1) / len(group1)\n",
    "mean_group2 = sum(group2) / len(group2)\n",
    "mean_group3 = sum(group3) / len(group3)"
   ]
  },
  {
   "cell_type": "code",
   "execution_count": 28,
   "id": "49ff45bb-9737-4255-baed-7722f31cdfcc",
   "metadata": {},
   "outputs": [],
   "source": [
    "SST = sum((x - overall_mean) ** 2 for x in all_data)"
   ]
  },
  {
   "cell_type": "code",
   "execution_count": 29,
   "id": "fde24f62-f95b-4530-8037-6c10db560d9a",
   "metadata": {},
   "outputs": [],
   "source": [
    "SSB=(len(group1) - 1) * (mean_group1 - overall_mean) ** 2 + \\\n",
    "      (len(group2) - 1) * (mean_group2 - overall_mean) ** 2 + \\\n",
    "      (len(group3) - 1) * (mean_group3 - overall_mean) ** 2"
   ]
  },
  {
   "cell_type": "code",
   "execution_count": 30,
   "id": "fa19f578-6740-4ab5-9b81-a03d63837591",
   "metadata": {},
   "outputs": [],
   "source": [
    "SSW= SST - SSB"
   ]
  },
  {
   "cell_type": "code",
   "execution_count": 32,
   "id": "2a1d7879-78fa-4451-83bd-3ad6b1a7ac4a",
   "metadata": {},
   "outputs": [],
   "source": [
    "# Q5. In a two-way ANOVA, how would you calculate the main effects and interaction effects using Python?"
   ]
  },
  {
   "cell_type": "markdown",
   "id": "4a74b56e-f4c9-4c68-8461-134806ea3735",
   "metadata": {},
   "source": [
    "Main Effects:\n",
    "\n",
    "Main effects represent the individual influence of each independent variable (factor) on the dependent variable, while keeping the other factors constant. In a two-way ANOVA, there are two main effects: one for each factor.\n",
    "You can calculate the main effects using ANOVA tables or by comparing group means for each factor.\n",
    "Interaction Effects:\n",
    "\n",
    "Interaction effects represent the combined or joint influence of two or more independent variables on the dependent variable. They indicate whether the effect of one factor depends on the level of another factor.\n",
    "Interaction effects can be calculated by examining how the presence of one factor affects the effect of the other factor(s) on the dependent variable.\n",
    "Interaction effects are often tested using the interaction term in a linear model.\n",
    "\n"
   ]
  },
  {
   "cell_type": "code",
   "execution_count": 15,
   "id": "3abb5dac-cf52-4706-9c3e-beb12f9371f1",
   "metadata": {},
   "outputs": [],
   "source": [
    "import statsmodels.api as sm\n",
    "from statsmodels.formula.api import ols"
   ]
  },
  {
   "cell_type": "code",
   "execution_count": 34,
   "id": "e45634e8-9c8c-4aaa-9db1-47d5ae01a59c",
   "metadata": {},
   "outputs": [
    {
     "name": "stdout",
     "output_type": "stream",
     "text": [
      "                     sum_sq   df      F    PR(>F)\n",
      "FactorA           36.000000  1.0   43.2  0.022374\n",
      "FactorB          112.666667  1.0  135.2  0.007315\n",
      "FactorA:FactorB    1.000000  1.0    1.2  0.387628\n",
      "Residual           1.666667  2.0    NaN       NaN\n"
     ]
    }
   ],
   "source": [
    "data = {\n",
    "    'FactorA': [1, 2, 3, 1, 2, 3],\n",
    "    'FactorB': [1, 1, 1, 2, 2, 2],\n",
    "    'Y': [10, 12, 15, 18, 20, 25],\n",
    "}\n",
    "\n",
    "# Create a linear model (two-way ANOVA) with interaction term\n",
    "model = ols('Y ~ FactorA * FactorB', data=data).fit()\n",
    "\n",
    "# Print the ANOVA table to obtain main effects and interaction effects\n",
    "anova_table = sm.stats.anova_lm(model, typ=2)\n",
    "print(anova_table)"
   ]
  },
  {
   "cell_type": "markdown",
   "id": "11bdf2b6-0c57-4c21-87f9-3d2cde694a07",
   "metadata": {},
   "source": [
    "The ANOVA table will provide information about the main effects of 'FactorA' and 'FactorB' and their interaction effect. Look for the p-values associated with each effect to determine their significance. If the p-value is less than your chosen significance level (e.g., 0.05), it suggests a significant effect."
   ]
  },
  {
   "cell_type": "code",
   "execution_count": 37,
   "id": "6b7db773-0b8f-4b4c-bb0b-938437fc9ef8",
   "metadata": {},
   "outputs": [],
   "source": [
    "# Q6 Suppose you conducted a one-way ANOVA and obtained an F-statistic of 5.23 and a p-value of 0.02.\n",
    "# What can you conclude about the differences between the groups, and how would you interpret these\n",
    "# results?"
   ]
  },
  {
   "cell_type": "markdown",
   "id": "f0a8aef6-e080-46a3-9438-e77f69a53bfb",
   "metadata": {},
   "source": [
    "in a one-way ANOVA, the F-statistic and its associated p-value are used to assess whether there are statistically significant differences among the group means. \n",
    "\n",
    "F-Statistic: The F-statistic is a test statistic that measures the ratio of the variation between the group means (explained variance) to the variation within the groups (unexplained or residual variance). In your case, the F-statistic is 5.23.\n",
    "\n",
    "p-value: The p-value associated with the F-statistic indicates the probability of observing an F-statistic as extreme as the one obtained (or more extreme) under the null hypothesis. In your case, the p-value is 0.02.\n",
    "\n",
    "Null Hypothesis (H0): The null hypothesis in ANOVA is that there are no significant differences among the group means. In other words, all group means are equal.\n",
    "\n",
    "Alternative Hypothesis (H1): The alternative hypothesis is that at least one group mean is significantly different from the others.\n",
    "\n",
    "If p-value < α (typically 0.05): You would reject the null hypothesis (H0). \n",
    "p-value ≥ α (typically 0.05): You would fail to reject the null hypothesis (H0).\n",
    "\n",
    "\n",
    "In your case, you have a p-value of 0.02, which is less than the common significance level of 0.05. Therefore, you would reject the null hypothesis. This suggests that there are statistically significant differences among the group means in your dataset."
   ]
  },
  {
   "cell_type": "code",
   "execution_count": 38,
   "id": "3fbe9e3f-6f15-450b-9590-18d25cc90837",
   "metadata": {},
   "outputs": [],
   "source": [
    "# Q7 In a repeated measures ANOVA, how would you handle missing data, and what are the potential\n",
    "# consequences of using different methods to handle missing data?"
   ]
  },
  {
   "cell_type": "markdown",
   "id": "2b5b1abc-1dbc-471b-8e82-9ef9b4d88289",
   "metadata": {},
   "source": [
    "Handling missing data in a repeated measures ANOVA is an important consideration because missing data can potentially bias the results and reduce the power of the analysis. There are several methods to handle missing data in repeated measures ANOVA, and the choice of method can impact the validity and interpretability of the results. Here's how you can handle missing data and the potential consequences of different approaches:\n",
    "\n",
    "Listwise Deletion (Complete Case Analysis): This method involves excluding participants with missing data from the analysis. Only subjects with complete data across all time points and conditions are included.\n",
    "\n",
    "Consequences: While this approach is straightforward, it can result in a loss of valuable data, reduced statistical power, and potentially biased estimates if missing data are not missing completely at random (MCAR). It may also lead to a non-representative sample.\n",
    "Pairwise Deletion: With this method, you use all available data for each pair of time points or conditions, even if data are missing for some subjects at specific time points.\n",
    "\n",
    "Consequences: Pairwise deletion retains more data than listwise deletion and can maximize the sample size for each comparison. However, it can introduce inconsistency in the sample size across comparisons, potentially affecting the power and validity of individual comparisons.\n",
    "\n",
    "Imputation Methods:\n",
    "\n",
    "Mean Imputation: Replace missing values with the mean of observed values for the respective variable.\n",
    "\n",
    "Last Observation Carried Forward (LOCF): Use the last observed value for a participant to fill in missing data.\n",
    "\n",
    "Linear Interpolation: Estimate missing values based on linear trends between observed data points.\n",
    "\n",
    "Multiple Imputation: Generate multiple complete datasets with imputed values, perform analyses on each dataset, and combine results.\n",
    "\n",
    "Consequences: Imputation methods can retain sample size and preserve statistical power. However, they assume that the missing data are missing at random (MAR) and may introduce bias if this assumption is violated. The choice of imputation method can also affect the results.\n",
    "\n",
    "Mixed-Model Analysis (Linear Mixed Effects Models): This approach is a robust method for handling missing data in repeated measures ANOVA. Mixed models account for both within-subject correlations and varying numbers of observations per subject.\n",
    "\n",
    "Consequences: Mixed models are flexible and can handle various patterns of missing data. They provide unbiased parameter estimates and can maximize statistical power. However, they require careful model specification and may be computationally intensive."
   ]
  },
  {
   "cell_type": "code",
   "execution_count": 39,
   "id": "e6247310-32b1-4db1-b67c-9fe742f8dc36",
   "metadata": {},
   "outputs": [],
   "source": [
    "# Q8. What are some common post-hoc tests used after ANOVA, and when would you use each one? Provide\n",
    "# an example of a situation where a post-hoc test might be necessary."
   ]
  },
  {
   "cell_type": "markdown",
   "id": "5eb864bf-24e4-4ec3-a0ed-e1277d750cb4",
   "metadata": {},
   "source": [
    "Tukey's Honestly Significant Difference (Tukey's HSD):\n",
    "\n",
    "Use Case: Tukey's HSD is a widely used post-hoc test that is conservative but powerful. It is suitable when you want to control the familywise error rate (the probability of making at least one Type I error across all comparisons). Use it when you have more than three groups and want to compare all possible pairs of groups.\n",
    "Example: In a study comparing the performance of four different teaching methods, you find a significant difference in test scores among the methods. You would use Tukey's HSD to determine which specific pairs of methods are different from each other.\n",
    "Bonferroni Correction:\n",
    "\n",
    "Use Case: Bonferroni correction is a conservative method to control the familywise error rate. It is suitable when you want to make multiple pairwise comparisons, and you want to ensure that the overall Type I error rate remains below a certain threshold (e.g., 0.05).\n",
    "Example: In a medical trial comparing the effectiveness of five different treatments, you use Bonferroni correction to adjust the significance level for each comparison to maintain an overall significance level of 0.05.\n",
    "Duncan's Multiple Range Test:\n",
    "\n",
    "Use Case: Duncan's test is less conservative than Tukey's HSD and is suitable when you want to make pairwise comparisons between groups while controlling the Type I error rate. It is often used when you have unequal sample sizes.\n",
    "Example: In an agricultural study, you have data on the yield of different crop varieties from different regions. You use Duncan's test to compare varieties and regions and identify which combinations are significantly different.\n",
    "Scheffé's Test:\n",
    "\n",
    "Use Case: Scheffé's test is a powerful post-hoc test that is suitable for comparing groups when the sample sizes are unequal or when there are specific contrasts of interest. It is less restrictive than Tukey's HSD but controls the familywise error rate.\n",
    "Example: In a social science survey, you have data on the job satisfaction levels of employees in various departments of a large organization. You use Scheffé's test to explore specific contrasts, such as comparing satisfaction levels between different departments.\n",
    "Games-Howell Test:\n",
    "\n",
    "Use Case: The Games-Howell test is a post-hoc test that does not assume equal variances across groups and is suitable when you have unequal sample sizes and variances. It is less conservative than Tukey's HSD.\n",
    "Example: In a clinical trial, you are comparing the effectiveness of multiple drug treatments with different sample sizes and potentially different variances. The Games-Howell test helps identify which treatments are significantly different from each other.\n",
    "When to use a particular post-hoc test depends on factors like the nature of your data, the number of groups, whether the variances are equal, and the level of control you want over the Type I error rate. It's important to select the most appropriate post-hoc test for your specific research question and dataset to make valid pairwise comparisons.\n",
    "\n",
    "\n",
    "\n",
    "\n"
   ]
  },
  {
   "cell_type": "code",
   "execution_count": 1,
   "id": "05c711d7-77c9-426d-879f-e78a90b51bc9",
   "metadata": {},
   "outputs": [],
   "source": [
    "# Q9 A researcher wants to compare the mean weight loss of three diets: A, B, and C. They collect data from\n",
    "# 50 participants who were randomly assigned to one of the diets. Conduct a one-way ANOVA using Python\n",
    "# to determine if there are any significant differences between the mean weight loss of the three diets.\n",
    "# Report the F-statistic and p-value, and interpret the results."
   ]
  },
  {
   "cell_type": "code",
   "execution_count": 3,
   "id": "36ad2ba1-b3ad-48a6-a958-fe691f63c199",
   "metadata": {},
   "outputs": [],
   "source": [
    "import numpy as np"
   ]
  },
  {
   "cell_type": "code",
   "execution_count": 13,
   "id": "e5dd1680-0e6d-4c2c-aa9d-8a428e87ad6d",
   "metadata": {},
   "outputs": [],
   "source": [
    "diet_A = [2.5, 3.1, 2.8, 3.5, 2.9, 3.2, 2.7, 3.0, 3.3, 2.6, 2.9, 3.1, 3.4, 3.0, 3.2, 3.3, 2.8, 3.0, 3.1, 2.7,\n",
    "          2.9, 3.3, 3.4, 2.8, 3.2, 2.7, 3.0, 3.3, 2.6, 2.9, 3.1, 3.4, 3.0, 3.2, 3.3, 2.8, 3.0, 3.1, 2.7, 2.9, 3.3,\n",
    "          3.4, 2.8, 3.2, 2.7, 3.0, 3.3]\n",
    "diet_B = [2.1, 2.5, 2.4, 2.0, 2.6, 2.3, 2.7, 2.2, 2.8, 2.1, 2.5, 2.4, 2.0, 2.6, 2.3, 2.7, 2.2, 2.8, 2.1, 2.5,\n",
    "          2.4, 2.0, 2.6, 2.3, 2.7, 2.2, 2.8, 2.1, 2.5, 2.4, 2.0, 2.6, 2.3, 2.7, 2.2, 2.8, 2.1, 2.5, 2.4, 2.0, 2.6,\n",
    "          2.3, 2.7, 2.2, 2.8]\n",
    "diet_C = [1.8, 2.0, 1.9, 1.7, 2.1, 1.9, 2.2, 1.8, 2.3, 1.7, 2.0, 1.9, 1.7, 2.1, 1.9, 2.2, 1.8, 2.3, 1.7, 2.0,\n",
    "          1.9, 1.7, 2.1, 1.9, 2.2, 1.8, 2.3, 1.7, 2.0, 1.9, 1.7, 2.1, 1.9, 2.2, 1.8, 2.3, 1.7, 2.0, 1.9, 1.7, 2.1,\n",
    "          1.9, 2.2, 1.8, 2.3]"
   ]
  },
  {
   "cell_type": "code",
   "execution_count": 17,
   "id": "8d6c3b53-ec5d-4740-8a30-14eca6a6f6fa",
   "metadata": {},
   "outputs": [],
   "source": [
    "f_statistic, p_value = stats.f_oneway(diet_A, diet_B, diet_C)"
   ]
  },
  {
   "cell_type": "code",
   "execution_count": 18,
   "id": "b844fd6a-dc8a-4d79-916a-5385ab2e4687",
   "metadata": {},
   "outputs": [
    {
     "data": {
      "text/plain": [
       "3.958686390437258e-44"
      ]
     },
     "execution_count": 18,
     "metadata": {},
     "output_type": "execute_result"
    }
   ],
   "source": [
    "p_value"
   ]
  },
  {
   "cell_type": "markdown",
   "id": "d5da6625-8810-43a4-9004-abf129357d12",
   "metadata": {},
   "source": [
    "p_value<0.05 so we reject null hypothesis and can say that significant differences between the mean weight loss of the three diets."
   ]
  },
  {
   "cell_type": "code",
   "execution_count": 19,
   "id": "f6babebc-c105-4200-985a-1c20c54066ae",
   "metadata": {},
   "outputs": [],
   "source": [
    "# Q10. A company wants to know if there are any significant differences in the average time it takes to\n",
    "# complete a task using three different software programs: Program A, Program B, and Program C. They\n",
    "# randomly assign 30 employees to one of the programs and record the time it takes each employee to\n",
    "# complete the task. Conduct a two-way ANOVA using Python to determine if there are any main effects or\n",
    "# interaction effects between the software programs and employee experience level (novice vs.\n",
    "# experienced). Report the F-statistics and p-values, and interpret the results."
   ]
  },
  {
   "cell_type": "code",
   "execution_count": 23,
   "id": "f6e636f7-3da8-4c68-b220-47633dab94eb",
   "metadata": {},
   "outputs": [],
   "source": [
    "import pandas as pd"
   ]
  },
  {
   "cell_type": "code",
   "execution_count": 20,
   "id": "aa4a58d5-2152-413f-b89d-8f29c0b52282",
   "metadata": {},
   "outputs": [],
   "source": [
    "data = {\n",
    "    'Software': ['A', 'B', 'C'] * 30,\n",
    "    'Experience': ['Novice', 'Experienced'] * 45,\n",
    "    'Time': [15.3, 16.2, 15.8, 16.5, 17.2, 16.9, 14.7, 15.4, 14.8, 15.2, 15.7, 15.5, 16.0, 15.6, 16.1] * 6,\n",
    "}"
   ]
  },
  {
   "cell_type": "code",
   "execution_count": 24,
   "id": "b093f219-2770-47f4-8b6c-2a69a135d841",
   "metadata": {},
   "outputs": [],
   "source": [
    "df = pd.DataFrame(data)"
   ]
  },
  {
   "cell_type": "code",
   "execution_count": 25,
   "id": "801089ae-5e9e-48be-be14-fb2ac2424b3d",
   "metadata": {},
   "outputs": [
    {
     "data": {
      "text/html": [
       "<div>\n",
       "<style scoped>\n",
       "    .dataframe tbody tr th:only-of-type {\n",
       "        vertical-align: middle;\n",
       "    }\n",
       "\n",
       "    .dataframe tbody tr th {\n",
       "        vertical-align: top;\n",
       "    }\n",
       "\n",
       "    .dataframe thead th {\n",
       "        text-align: right;\n",
       "    }\n",
       "</style>\n",
       "<table border=\"1\" class=\"dataframe\">\n",
       "  <thead>\n",
       "    <tr style=\"text-align: right;\">\n",
       "      <th></th>\n",
       "      <th>Software</th>\n",
       "      <th>Experience</th>\n",
       "      <th>Time</th>\n",
       "    </tr>\n",
       "  </thead>\n",
       "  <tbody>\n",
       "    <tr>\n",
       "      <th>0</th>\n",
       "      <td>A</td>\n",
       "      <td>Novice</td>\n",
       "      <td>15.3</td>\n",
       "    </tr>\n",
       "    <tr>\n",
       "      <th>1</th>\n",
       "      <td>B</td>\n",
       "      <td>Experienced</td>\n",
       "      <td>16.2</td>\n",
       "    </tr>\n",
       "    <tr>\n",
       "      <th>2</th>\n",
       "      <td>C</td>\n",
       "      <td>Novice</td>\n",
       "      <td>15.8</td>\n",
       "    </tr>\n",
       "    <tr>\n",
       "      <th>3</th>\n",
       "      <td>A</td>\n",
       "      <td>Experienced</td>\n",
       "      <td>16.5</td>\n",
       "    </tr>\n",
       "    <tr>\n",
       "      <th>4</th>\n",
       "      <td>B</td>\n",
       "      <td>Novice</td>\n",
       "      <td>17.2</td>\n",
       "    </tr>\n",
       "    <tr>\n",
       "      <th>...</th>\n",
       "      <td>...</td>\n",
       "      <td>...</td>\n",
       "      <td>...</td>\n",
       "    </tr>\n",
       "    <tr>\n",
       "      <th>85</th>\n",
       "      <td>B</td>\n",
       "      <td>Experienced</td>\n",
       "      <td>15.7</td>\n",
       "    </tr>\n",
       "    <tr>\n",
       "      <th>86</th>\n",
       "      <td>C</td>\n",
       "      <td>Novice</td>\n",
       "      <td>15.5</td>\n",
       "    </tr>\n",
       "    <tr>\n",
       "      <th>87</th>\n",
       "      <td>A</td>\n",
       "      <td>Experienced</td>\n",
       "      <td>16.0</td>\n",
       "    </tr>\n",
       "    <tr>\n",
       "      <th>88</th>\n",
       "      <td>B</td>\n",
       "      <td>Novice</td>\n",
       "      <td>15.6</td>\n",
       "    </tr>\n",
       "    <tr>\n",
       "      <th>89</th>\n",
       "      <td>C</td>\n",
       "      <td>Experienced</td>\n",
       "      <td>16.1</td>\n",
       "    </tr>\n",
       "  </tbody>\n",
       "</table>\n",
       "<p>90 rows × 3 columns</p>\n",
       "</div>"
      ],
      "text/plain": [
       "   Software   Experience  Time\n",
       "0         A       Novice  15.3\n",
       "1         B  Experienced  16.2\n",
       "2         C       Novice  15.8\n",
       "3         A  Experienced  16.5\n",
       "4         B       Novice  17.2\n",
       "..      ...          ...   ...\n",
       "85        B  Experienced  15.7\n",
       "86        C       Novice  15.5\n",
       "87        A  Experienced  16.0\n",
       "88        B       Novice  15.6\n",
       "89        C  Experienced  16.1\n",
       "\n",
       "[90 rows x 3 columns]"
      ]
     },
     "execution_count": 25,
     "metadata": {},
     "output_type": "execute_result"
    }
   ],
   "source": [
    "df"
   ]
  },
  {
   "cell_type": "code",
   "execution_count": 30,
   "id": "47b256e9-3739-4b73-974f-038c0919692d",
   "metadata": {},
   "outputs": [],
   "source": [
    "formula='Time ~ C(Software) + C(Experience) + C(Software):C(Experience)'"
   ]
  },
  {
   "cell_type": "code",
   "execution_count": 31,
   "id": "8e1e932e-cf3a-4e3e-bfc1-17d2361243c7",
   "metadata": {},
   "outputs": [],
   "source": [
    "model = ols(formula, data=df).fit()"
   ]
  },
  {
   "cell_type": "code",
   "execution_count": 32,
   "id": "bbaf5e5f-d5e3-4895-be38-14e95e99e4d2",
   "metadata": {},
   "outputs": [],
   "source": [
    "anova_table = sm.stats.anova_lm(model, typ=2)"
   ]
  },
  {
   "cell_type": "code",
   "execution_count": 33,
   "id": "124e827d-d15d-45d3-a63c-51368f7b2314",
   "metadata": {},
   "outputs": [
    {
     "data": {
      "text/html": [
       "<div>\n",
       "<style scoped>\n",
       "    .dataframe tbody tr th:only-of-type {\n",
       "        vertical-align: middle;\n",
       "    }\n",
       "\n",
       "    .dataframe tbody tr th {\n",
       "        vertical-align: top;\n",
       "    }\n",
       "\n",
       "    .dataframe thead th {\n",
       "        text-align: right;\n",
       "    }\n",
       "</style>\n",
       "<table border=\"1\" class=\"dataframe\">\n",
       "  <thead>\n",
       "    <tr style=\"text-align: right;\">\n",
       "      <th></th>\n",
       "      <th>sum_sq</th>\n",
       "      <th>df</th>\n",
       "      <th>F</th>\n",
       "      <th>PR(&gt;F)</th>\n",
       "    </tr>\n",
       "  </thead>\n",
       "  <tbody>\n",
       "    <tr>\n",
       "      <th>C(Software)</th>\n",
       "      <td>3.488000e+00</td>\n",
       "      <td>2.0</td>\n",
       "      <td>3.763255e+00</td>\n",
       "      <td>0.027212</td>\n",
       "    </tr>\n",
       "    <tr>\n",
       "      <th>C(Experience)</th>\n",
       "      <td>9.007750e-27</td>\n",
       "      <td>1.0</td>\n",
       "      <td>1.943719e-26</td>\n",
       "      <td>1.000000</td>\n",
       "    </tr>\n",
       "    <tr>\n",
       "      <th>C(Software):C(Experience)</th>\n",
       "      <td>2.285231e-28</td>\n",
       "      <td>2.0</td>\n",
       "      <td>2.465570e-28</td>\n",
       "      <td>1.000000</td>\n",
       "    </tr>\n",
       "    <tr>\n",
       "      <th>Residual</th>\n",
       "      <td>3.892800e+01</td>\n",
       "      <td>84.0</td>\n",
       "      <td>NaN</td>\n",
       "      <td>NaN</td>\n",
       "    </tr>\n",
       "  </tbody>\n",
       "</table>\n",
       "</div>"
      ],
      "text/plain": [
       "                                 sum_sq    df             F    PR(>F)\n",
       "C(Software)                3.488000e+00   2.0  3.763255e+00  0.027212\n",
       "C(Experience)              9.007750e-27   1.0  1.943719e-26  1.000000\n",
       "C(Software):C(Experience)  2.285231e-28   2.0  2.465570e-28  1.000000\n",
       "Residual                   3.892800e+01  84.0           NaN       NaN"
      ]
     },
     "execution_count": 33,
     "metadata": {},
     "output_type": "execute_result"
    }
   ],
   "source": [
    "anova_table"
   ]
  },
  {
   "cell_type": "markdown",
   "id": "0d4348d1-15d4-4da4-8182-f586cd6671a6",
   "metadata": {},
   "source": [
    "c(Software) P_value <0.05 , p-value for the software effect is small (typically < 0.05), you would conclude that there is a significant difference in task completion time among the software programs, regardless of experience level."
   ]
  },
  {
   "cell_type": "markdown",
   "id": "99d40cf2-29bf-4dd2-9499-32796bd1eb68",
   "metadata": {},
   "source": [
    "C(Experience) P_value >0.05 experience has not effect on time of the task"
   ]
  },
  {
   "cell_type": "code",
   "execution_count": 34,
   "id": "9a8e8342-071a-443f-a0ab-c0bcc354bd95",
   "metadata": {},
   "outputs": [],
   "source": [
    "# Q11. An educational researcher is interested in whether a new teaching method improves student test\n",
    "# scores. They randomly assign 100 students to either the control group (traditional teaching method) or the\n",
    "# experimental group (new teaching method) and administer a test at the end of the semester. Conduct a\n",
    "# two-sample t-test using Python to determine if there are any significant differences in test scores\n",
    "# between the two groups. If the results are significant, follow up with a post-hoc test to determine which\n",
    "# group(s) differ significantly from each other."
   ]
  },
  {
   "cell_type": "code",
   "execution_count": 35,
   "id": "780536be-ff05-4be6-a038-6cc89b1e604e",
   "metadata": {},
   "outputs": [
    {
     "name": "stdout",
     "output_type": "stream",
     "text": [
      "Two-Sample T-Test - t-statistic: -4.856369527717335\n",
      "Two-Sample T-Test - p-value: 2.0772880196554376e-05\n"
     ]
    }
   ],
   "source": [
    "import scipy.stats as stats\n",
    "\n",
    "# Sample data (replace this with your actual data)\n",
    "control_group_scores = [85, 88, 90, 78, 92, 87, 86, 82, 89, 83, 88, 85, 91, 80, 84, 87, 89, 81, 86, 85]\n",
    "experimental_group_scores = [91, 94, 96, 85, 97, 92, 90, 86, 93, 88, 92, 89, 96, 87, 91, 94, 92, 88, 95, 90]\n",
    "\n",
    "# Perform two-sample t-test\n",
    "t_statistic, p_value = stats.ttest_ind(control_group_scores, experimental_group_scores)\n",
    "\n",
    "# Print the results\n",
    "print(\"Two-Sample T-Test - t-statistic:\", t_statistic)\n",
    "print(\"Two-Sample T-Test - p-value:\", p_value)"
   ]
  },
  {
   "cell_type": "markdown",
   "id": "b6ef971d-7bcb-45cd-ae19-01a5c4508f5a",
   "metadata": {},
   "source": [
    "H0= No significant difference in test score between two group\n",
    "H1= significant difference in test score between two group\n",
    "\n",
    "p_value <0.05 we reject H0 and can say significant difference in test score between two group"
   ]
  },
  {
   "cell_type": "code",
   "execution_count": 36,
   "id": "d3d64ac4-16b6-40d6-8269-e61c5a30a815",
   "metadata": {},
   "outputs": [],
   "source": [
    "# Q12. A researcher wants to know if there are any significant differences in the average daily sales of three\n",
    "# retail stores: Store A, Store B, and Store C. They randomly select 30 days and record the sales for each store\n",
    "# on those days. Conduct a repeated measures ANOVA using Python to determine if there are any\n",
    "\n",
    "# significant differences in sales between the three stores. If the results are significant, follow up with a post-\n",
    "# hoc test to determine which store(s) differ significantly from each other."
   ]
  },
  {
   "cell_type": "code",
   "execution_count": 43,
   "id": "ff8af6e2-80a9-4e15-8aba-9da08577198c",
   "metadata": {},
   "outputs": [
    {
     "name": "stdout",
     "output_type": "stream",
     "text": [
      "One-Way ANOVA Results:\n",
      "          sum_sq    df          F        PR(>F)\n",
      "C(Store)  1757.6   2.0  27.677237  4.982458e-10\n",
      "Residual  2762.4  87.0        NaN           NaN\n",
      "\n",
      "Tukey's HSD Post-Hoc Test:\n",
      "Multiple Comparison of Means - Tukey HSD, FWER=0.05 \n",
      "====================================================\n",
      "group1 group2 meandiff p-adj  lower    upper  reject\n",
      "----------------------------------------------------\n",
      "     A      B      7.2   0.0   3.7308 10.6692   True\n",
      "     A      C     -3.4 0.056  -6.8692  0.0692  False\n",
      "     B      C    -10.6   0.0 -14.0692 -7.1308   True\n",
      "----------------------------------------------------\n"
     ]
    }
   ],
   "source": [
    "import pandas as pd\n",
    "import statsmodels.api as sm\n",
    "from statsmodels.formula.api import ols\n",
    "from statsmodels.stats.multicomp import pairwise_tukeyhsd\n",
    "\n",
    "# Sample data (replace this with your actual data)\n",
    "data = {\n",
    "    'Store': ['A', 'B', 'C'] * 30,\n",
    "    'Sales': [100, 110, 95, 105, 115, 98, 102, 112, 93, 108, 100, 113, 97, 111, 96] * 6,\n",
    "}\n",
    "\n",
    "# Create a DataFrame from the data\n",
    "df = pd.DataFrame(data)\n",
    "\n",
    "# Perform one-way ANOVA\n",
    "formula = 'Sales ~ C(Store)'\n",
    "model = ols(formula, data=df).fit()\n",
    "anova_table = sm.stats.anova_lm(model, typ=2)\n",
    "\n",
    "# Print the ANOVA results\n",
    "print(\"One-Way ANOVA Results:\")\n",
    "print(anova_table)\n",
    "\n",
    "# Perform Tukey's HSD post-hoc test\n",
    "posthoc = pairwise_tukeyhsd(df['Sales'], df['Store'], alpha=0.05)\n",
    "\n",
    "# Print the post-hoc test results\n",
    "print(\"\\nTukey's HSD Post-Hoc Test:\")\n",
    "print(posthoc)\n"
   ]
  },
  {
   "cell_type": "code",
   "execution_count": null,
   "id": "9db4a5ae-b908-41c5-8843-944463bd2338",
   "metadata": {},
   "outputs": [],
   "source": []
  },
  {
   "cell_type": "code",
   "execution_count": null,
   "id": "3d52967e-c39b-43d8-b061-e05380719dbe",
   "metadata": {},
   "outputs": [],
   "source": []
  },
  {
   "cell_type": "code",
   "execution_count": null,
   "id": "7be231a1-7195-4049-adad-40c60c84e642",
   "metadata": {},
   "outputs": [],
   "source": []
  }
 ],
 "metadata": {
  "kernelspec": {
   "display_name": "Python 3 (ipykernel)",
   "language": "python",
   "name": "python3"
  },
  "language_info": {
   "codemirror_mode": {
    "name": "ipython",
    "version": 3
   },
   "file_extension": ".py",
   "mimetype": "text/x-python",
   "name": "python",
   "nbconvert_exporter": "python",
   "pygments_lexer": "ipython3",
   "version": "3.10.8"
  }
 },
 "nbformat": 4,
 "nbformat_minor": 5
}
