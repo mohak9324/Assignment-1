{
 "cells": [
  {
   "cell_type": "markdown",
   "id": "3f05cff5",
   "metadata": {},
   "source": [
    "## Q1. What are the different data structures used in Tensorflow?. Give some examplesc"
   ]
  },
  {
   "cell_type": "markdown",
   "id": "e6072d63",
   "metadata": {},
   "source": [
    "### **Different Data Structures in TensorFlow**\n",
    "TensorFlow provides several data structures to handle and manipulate data efficiently. The primary data structures include:\n",
    "\n",
    "1. **Tensors (`tf.Tensor`)**  \n",
    "2. **Variables (`tf.Variable`)**  \n",
    "3. **Sparse Tensors (`tf.SparseTensor`)**  \n",
    "4. **Ragged Tensors (`tf.RaggedTensor`)**  \n",
    "5. **String Tensors (`tf.string`)**  \n",
    "6. **Tensor Arrays (`tf.TensorArray`)**  \n",
    "7. **Dataset API (`tf.data.Dataset`)**  \n",
    "\n",
    "Let's go through each with examples:\n",
    "\n",
    "---\n",
    "\n",
    "### **1. Tensors (`tf.Tensor`)**\n",
    "Tensors are multi-dimensional arrays (similar to NumPy arrays) that serve as the primary data structure in TensorFlow.\n",
    "\n",
    "#### **Example: Creating Tensors**\n",
    "```python\n",
    "import tensorflow as tf\n",
    "\n",
    "# Scalar (0D Tensor)\n",
    "scalar = tf.constant(5)\n",
    "\n",
    "# Vector (1D Tensor)\n",
    "vector = tf.constant([1, 2, 3, 4])\n",
    "\n",
    "# Matrix (2D Tensor)\n",
    "matrix = tf.constant([[1, 2], [3, 4]])\n",
    "\n",
    "# 3D Tensor\n",
    "tensor_3d = tf.constant([[[1, 2], [3, 4]], [[5, 6], [7, 8]]])\n",
    "\n",
    "print(\"Scalar:\", scalar.numpy())\n",
    "print(\"Vector:\", vector.numpy())\n",
    "print(\"Matrix:\\n\", matrix.numpy())\n",
    "print(\"3D Tensor:\\n\", tensor_3d.numpy())\n",
    "```\n",
    "\n",
    "---\n",
    "\n",
    "### **2. Variables (`tf.Variable`)**\n",
    "A `tf.Variable` is a special type of tensor that allows modifications (e.g., for training parameters in deep learning).\n",
    "\n",
    "#### **Example: Creating a Variable**\n",
    "```python\n",
    "# Creating a Variable Tensor\n",
    "var_tensor = tf.Variable([[1.0, 2.0], [3.0, 4.0]])\n",
    "\n",
    "# Modifying Variable\n",
    "var_tensor.assign([[10.0, 20.0], [30.0, 40.0]])\n",
    "\n",
    "print(\"Updated Variable Tensor:\\n\", var_tensor.numpy())\n",
    "```\n",
    "\n",
    "---\n",
    "\n",
    "### **3. Sparse Tensors (`tf.SparseTensor`)**\n",
    "Sparse tensors are used for handling data with a lot of zeros efficiently.\n",
    "\n",
    "#### **Example: Creating a Sparse Tensor**\n",
    "```python\n",
    "sparse_tensor = tf.SparseTensor(indices=[[0, 0], [1, 2]], values=[10, 20], dense_shape=[3, 4])\n",
    "\n",
    "# Converting to dense format\n",
    "dense_tensor = tf.sparse.to_dense(sparse_tensor)\n",
    "\n",
    "print(\"Sparse Tensor (Dense Format):\\n\", dense_tensor.numpy())\n",
    "```\n",
    "\n",
    "---\n",
    "\n",
    "### **4. Ragged Tensors (`tf.RaggedTensor`)**\n",
    "Ragged tensors are used for handling data where rows have different lengths (e.g., variable-length sequences).\n",
    "\n",
    "#### **Example: Creating a Ragged Tensor**\n",
    "```python\n",
    "ragged_tensor = tf.ragged.constant([[1, 2, 3], [4, 5], [6]])\n",
    "\n",
    "print(\"Ragged Tensor:\\n\", ragged_tensor)\n",
    "```\n",
    "\n",
    "---\n",
    "\n",
    "### **5. String Tensors (`tf.string`)**\n",
    "TensorFlow supports string tensors, which can store textual data.\n",
    "\n",
    "#### **Example: Creating a String Tensor**\n",
    "```python\n",
    "string_tensor = tf.constant([\"TensorFlow\", \"is\", \"awesome\"])\n",
    "print(\"String Tensor:\\n\", string_tensor.numpy())\n",
    "```\n",
    "\n",
    "---\n",
    "\n",
    "### **6. Tensor Arrays (`tf.TensorArray`)**\n",
    "Tensor Arrays are used for dynamic-sized tensors, mainly in RNNs or loops.\n",
    "\n",
    "#### **Example: Creating a TensorArray**\n",
    "```python\n",
    "tensor_array = tf.TensorArray(dtype=tf.float32, size=3)\n",
    "\n",
    "# Writing values\n",
    "tensor_array = tensor_array.write(0, 10.0)\n",
    "tensor_array = tensor_array.write(1, 20.0)\n",
    "tensor_array = tensor_array.write(2, 30.0)\n",
    "\n",
    "# Reading values\n",
    "print(\"TensorArray Elements:\", tensor_array.read(0).numpy(), tensor_array.read(1).numpy(), tensor_array.read(2).numpy())\n",
    "```\n",
    "\n",
    "---\n",
    "\n",
    "### **7. Dataset API (`tf.data.Dataset`)**\n",
    "The `tf.data.Dataset` API is used for input pipelines in deep learning.\n",
    "\n",
    "#### **Example: Creating a Dataset**\n",
    "```python\n",
    "dataset = tf.data.Dataset.from_tensor_slices([1, 2, 3, 4, 5])\n",
    "\n",
    "for elem in dataset:\n",
    "    print(elem.numpy())\n",
    "```\n",
    "\n",
    "---\n",
    "\n",
    "### **Comparison Table**\n",
    "| Data Structure        | Use Case |\n",
    "|----------------------|------------------------|\n",
    "| `tf.Tensor`         | Basic multi-dimensional arrays |\n",
    "| `tf.Variable`       | Trainable parameters in models |\n",
    "| `tf.SparseTensor`   | Efficient storage for sparse data |\n",
    "| `tf.RaggedTensor`   | Handling variable-length sequences |\n",
    "| `tf.string`         | Storing and processing text |\n",
    "| `tf.TensorArray`    | Dynamic tensor storage (useful in loops) |\n",
    "| `tf.data.Dataset`   | Efficient input pipeline for training |\n",
    "\n",
    "---\n",
    "\n",
    "### **Final Thoughts**\n",
    "- **Use `tf.Tensor`** for general computations.\n",
    "- **Use `tf.Variable`** when working with trainable weights.\n",
    "- **Use `tf.SparseTensor`** for memory-efficient storage of sparse data.\n",
    "- **Use `tf.RaggedTensor`** when handling sequences of different lengths.\n",
    "- **Use `tf.string`** for text-based processing.\n",
    "- **Use `tf.TensorArray`** when dealing with dynamic lists.\n",
    "- **Use `tf.data.Dataset`** for efficient data loading.\n",
    "\n",
    "---\n"
   ]
  },
  {
   "cell_type": "code",
   "execution_count": 1,
   "id": "d84ee78a",
   "metadata": {},
   "outputs": [
    {
     "name": "stdout",
     "output_type": "stream",
     "text": [
      "Scalar: 5\n",
      "Vector: [1 2 3 4]\n",
      "Matrix:\n",
      " [[1 2]\n",
      " [3 4]]\n",
      "3D Tensor:\n",
      " [[[1 2]\n",
      "  [3 4]]\n",
      "\n",
      " [[5 6]\n",
      "  [7 8]]]\n"
     ]
    }
   ],
   "source": [
    "import tensorflow as tf\n",
    "\n",
    "# Scalar (0D Tensor)\n",
    "scalar = tf.constant(5)\n",
    "\n",
    "# Vector (1D Tensor)\n",
    "vector = tf.constant([1, 2, 3, 4])\n",
    "\n",
    "# Matrix (2D Tensor)\n",
    "matrix = tf.constant([[1, 2], [3, 4]])\n",
    "\n",
    "# 3D Tensor\n",
    "tensor_3d = tf.constant([[[1, 2], [3, 4]], [[5, 6], [7, 8]]])\n",
    "\n",
    "print(\"Scalar:\", scalar.numpy())\n",
    "print(\"Vector:\", vector.numpy())\n",
    "print(\"Matrix:\\n\", matrix.numpy())\n",
    "print(\"3D Tensor:\\n\", tensor_3d.numpy())"
   ]
  },
  {
   "cell_type": "code",
   "execution_count": 3,
   "id": "5ca4e43e",
   "metadata": {},
   "outputs": [
    {
     "name": "stdout",
     "output_type": "stream",
     "text": [
      "Updated Variable Tensor:\n",
      " [[10. 20.]\n",
      " [30. 40.]]\n"
     ]
    }
   ],
   "source": [
    "# Creating a Variable Tensor\n",
    "var_tensor = tf.Variable([[1.0, 2.0], [3.0, 4.0]])\n",
    "\n",
    "# Modifying Variable\n",
    "var_tensor.assign([[10.0, 20.0], [30.0, 40.0]])\n",
    "\n",
    "print(\"Updated Variable Tensor:\\n\", var_tensor.numpy())\n"
   ]
  },
  {
   "cell_type": "code",
   "execution_count": 4,
   "id": "2fa89c43",
   "metadata": {},
   "outputs": [
    {
     "name": "stdout",
     "output_type": "stream",
     "text": [
      "Sparse Tensor (Dense Format):\n",
      " [[10  0  0  0]\n",
      " [ 0  0 20  0]\n",
      " [ 0  0  0  0]]\n"
     ]
    }
   ],
   "source": [
    "sparse_tensor = tf.SparseTensor(indices=[[0, 0], [1, 2]], values=[10, 20], dense_shape=[3, 4])\n",
    "\n",
    "# Converting to dense format\n",
    "dense_tensor = tf.sparse.to_dense(sparse_tensor)\n",
    "\n",
    "print(\"Sparse Tensor (Dense Format):\\n\", dense_tensor.numpy())"
   ]
  },
  {
   "cell_type": "code",
   "execution_count": 5,
   "id": "0ccef49a",
   "metadata": {},
   "outputs": [
    {
     "name": "stdout",
     "output_type": "stream",
     "text": [
      "Ragged Tensor:\n",
      " <tf.RaggedTensor [[1, 2, 3], [4, 5], [6]]>\n"
     ]
    }
   ],
   "source": [
    "ragged_tensor = tf.ragged.constant([[1, 2, 3], [4, 5], [6]])\n",
    "\n",
    "print(\"Ragged Tensor:\\n\", ragged_tensor)"
   ]
  },
  {
   "cell_type": "code",
   "execution_count": 6,
   "id": "d2813bab",
   "metadata": {},
   "outputs": [
    {
     "name": "stdout",
     "output_type": "stream",
     "text": [
      "TensorArray Elements: 10.0 20.0 30.0\n"
     ]
    }
   ],
   "source": [
    "tensor_array = tf.TensorArray(dtype=tf.float32, size=3)\n",
    "\n",
    "# Writing values\n",
    "tensor_array = tensor_array.write(0, 10.0)\n",
    "tensor_array = tensor_array.write(1, 20.0)\n",
    "tensor_array = tensor_array.write(2, 30.0)\n",
    "\n",
    "# Reading values\n",
    "print(\"TensorArray Elements:\", tensor_array.read(0).numpy(), tensor_array.read(1).numpy(), tensor_array.read(2).numpy())\n"
   ]
  },
  {
   "cell_type": "code",
   "execution_count": 7,
   "id": "dfa5ecc3",
   "metadata": {},
   "outputs": [
    {
     "name": "stdout",
     "output_type": "stream",
     "text": [
      "1\n",
      "2\n",
      "3\n",
      "4\n",
      "5\n"
     ]
    }
   ],
   "source": [
    "dataset = tf.data.Dataset.from_tensor_slices([1, 2, 3, 4, 5])\n",
    "\n",
    "for elem in dataset:\n",
    "    print(elem.numpy())\n"
   ]
  },
  {
   "cell_type": "markdown",
   "id": "fb377abf",
   "metadata": {},
   "source": [
    "## Q2. How does the TensorFlow constant differ from a TensorFlow variable? Explain with an examplec"
   ]
  },
  {
   "cell_type": "code",
   "execution_count": 10,
   "id": "077deb0a",
   "metadata": {},
   "outputs": [
    {
     "name": "stdout",
     "output_type": "stream",
     "text": [
      "[[1 2]\n",
      " [3 4]]\n"
     ]
    }
   ],
   "source": [
    "import tensorflow as tf\n",
    "\n",
    "const_tensor= tf.constant([[1,2],[3,4]])\n",
    "print(const_tensor.numpy())"
   ]
  },
  {
   "cell_type": "code",
   "execution_count": 12,
   "id": "19d7bdea",
   "metadata": {},
   "outputs": [
    {
     "name": "stdout",
     "output_type": "stream",
     "text": [
      "[[1 2]\n",
      " [3 4]]\n",
      "Variable Tensor (After Update):\n",
      " [[10 20]\n",
      " [30 40]]\n",
      "Variable Tensor (After Increment):\n",
      " [[11 21]\n",
      " [31 41]]\n"
     ]
    }
   ],
   "source": [
    "var_tensor= tf.Variable([[1,2],[3,4]])\n",
    "\n",
    "print(var_tensor.numpy())\n",
    "\n",
    "var_tensor.assign([[10,20],[30,40]])\n",
    "print(\"Variable Tensor (After Update):\\n\", var_tensor.numpy())\n",
    "\n",
    "# Incrementing values\n",
    "var_tensor.assign_add([[1, 1], [1, 1]])\n",
    "print(\"Variable Tensor (After Increment):\\n\", var_tensor.numpy())"
   ]
  },
  {
   "cell_type": "raw",
   "id": "5ddf94ac",
   "metadata": {},
   "source": [
    "Key Takeaways\n",
    "tf.constant is immutable, meaning it cannot be modified once created. \n",
    "tf.Variable is mutable, allowing updates using .assign() or .assign_add().\n",
    "Use tf.constant for fixed values (e.g., hyperparameters, lookup tables).\n",
    "Use tf.Variable for trainable parameters in deep learning models (e.g., weights, biases)."
   ]
  },
  {
   "cell_type": "markdown",
   "id": "b694fca6",
   "metadata": {},
   "source": [
    "## Q3. Describe the process of matrix addition, multiplication, and element-wise operations in TensorFlow."
   ]
  },
  {
   "cell_type": "markdown",
   "id": "c18c4e80",
   "metadata": {},
   "source": [
    "### **Matrix Operations in TensorFlow**\n",
    "TensorFlow provides efficient methods for performing matrix operations, including **addition, multiplication, and element-wise operations**. Below is a step-by-step explanation of each operation with examples.\n",
    "\n",
    "---\n",
    "\n",
    "### **1. Matrix Addition in TensorFlow**\n",
    "Matrix addition is performed element-wise, meaning corresponding elements in the matrices are summed.\n",
    "\n",
    "#### **Example: Matrix Addition**\n",
    "```python\n",
    "import tensorflow as tf\n",
    "\n",
    "# Define two matrices\n",
    "A = tf.constant([[1, 2], [3, 4]])\n",
    "B = tf.constant([[5, 6], [7, 8]])\n",
    "\n",
    "# Perform matrix addition\n",
    "result_add = tf.add(A, B)\n",
    "\n",
    "print(\"Matrix A:\\n\", A.numpy())\n",
    "print(\"Matrix B:\\n\", B.numpy())\n",
    "print(\"Matrix Addition (A + B):\\n\", result_add.numpy())\n",
    "```\n",
    "#### **Output:**\n",
    "```\n",
    "Matrix A:\n",
    " [[1 2]\n",
    " [3 4]]\n",
    "\n",
    "Matrix B:\n",
    " [[5 6]\n",
    " [7 8]]\n",
    "\n",
    "Matrix Addition (A + B):\n",
    " [[ 6  8]\n",
    " [10 12]]\n",
    "```\n",
    "\n",
    "**Note:** You can also use the `+` operator for matrix addition:\n",
    "```python\n",
    "result_add = A + B\n",
    "```\n",
    "\n",
    "---\n",
    "\n",
    "### **2. Matrix Multiplication in TensorFlow**\n",
    "There are two types of multiplication:\n",
    "1. **Dot Product (Matrix Multiplication)** → `tf.matmul(A, B)`\n",
    "2. **Element-wise Multiplication** → `tf.multiply(A, B)`\n",
    "\n",
    "#### **Example: Matrix Multiplication (`tf.matmul`)**\n",
    "Matrix multiplication follows the rule:  \n",
    "\\[\n",
    "C = A \\times B\n",
    "\\]\n",
    "where **the number of columns in A must match the number of rows in B**.\n",
    "\n",
    "```python\n",
    "# Define two matrices\n",
    "A = tf.constant([[1, 2], [3, 4]])  # Shape (2,2)\n",
    "B = tf.constant([[5, 6], [7, 8]])  # Shape (2,2)\n",
    "\n",
    "# Perform matrix multiplication\n",
    "result_matmul = tf.matmul(A, B)\n",
    "\n",
    "print(\"Matrix Multiplication (A @ B):\\n\", result_matmul.numpy())\n",
    "```\n",
    "\n",
    "#### **Output:**\n",
    "```\n",
    "Matrix Multiplication (A @ B):\n",
    " [[19 22]\n",
    " [43 50]]\n",
    "```\n",
    "\n",
    "**Mathematical Breakdown:**\n",
    "\\[\n",
    "\\begin{bmatrix}1 & 2 \\\\ 3 & 4\\end{bmatrix} \\times \\begin{bmatrix}5 & 6 \\\\ 7 & 8\\end{bmatrix} =\n",
    "\\begin{bmatrix} (1*5 + 2*7) & (1*6 + 2*8) \\\\ (3*5 + 4*7) & (3*6 + 4*8) \\end{bmatrix}\n",
    "=\n",
    "\\begin{bmatrix} 19 & 22 \\\\ 43 & 50 \\end{bmatrix}\n",
    "\\]\n",
    "\n",
    "Alternatively, you can use the `@` operator:\n",
    "```python\n",
    "result_matmul = A @ B\n",
    "```\n",
    "\n",
    "---\n",
    "\n",
    "### **3. Element-wise Operations in TensorFlow**\n",
    "Element-wise operations operate on corresponding elements in two matrices.\n",
    "\n",
    "#### **Example: Element-wise Multiplication (`tf.multiply`)**\n",
    "```python\n",
    "result_elemwise = tf.multiply(A, B)\n",
    "\n",
    "print(\"Element-wise Multiplication (A * B):\\n\", result_elemwise.numpy())\n",
    "```\n",
    "\n",
    "#### **Output:**\n",
    "```\n",
    "Element-wise Multiplication (A * B):\n",
    " [[ 5 12]\n",
    " [21 32]]\n",
    "```\n",
    "\n",
    "**Mathematical Breakdown:**\n",
    "\\[\n",
    "\\begin{bmatrix}1 & 2 \\\\ 3 & 4\\end{bmatrix} * \\begin{bmatrix}5 & 6 \\\\ 7 & 8\\end{bmatrix} =\n",
    "\\begin{bmatrix} (1*5) & (2*6) \\\\ (3*7) & (4*8) \\end{bmatrix}\n",
    "=\n",
    "\\begin{bmatrix} 5 & 12 \\\\ 21 & 32 \\end{bmatrix}\n",
    "\\]\n",
    "\n",
    "---\n",
    "\n",
    "### **4. Other Element-wise Operations**\n",
    "#### **Element-wise Subtraction**\n",
    "```python\n",
    "result_sub = tf.subtract(A, B)\n",
    "print(\"Element-wise Subtraction (A - B):\\n\", result_sub.numpy())\n",
    "```\n",
    "\n",
    "#### **Element-wise Division**\n",
    "```python\n",
    "result_div = tf.divide(A, B)\n",
    "print(\"Element-wise Division (A / B):\\n\", result_div.numpy())\n",
    "```\n",
    "\n",
    "---\n",
    "\n",
    "### **Comparison of Operations**\n",
    "| Operation  | Function in TensorFlow | Description |\n",
    "|------------|-----------------------|-------------|\n",
    "| **Addition** | `tf.add(A, B)` | Adds corresponding elements |\n",
    "| **Multiplication** | `tf.matmul(A, B)` | Matrix multiplication (dot product) |\n",
    "| **Element-wise Multiplication** | `tf.multiply(A, B)` | Multiplies corresponding elements |\n",
    "| **Subtraction** | `tf.subtract(A, B)` | Subtracts corresponding elements |\n",
    "| **Division** | `tf.divide(A, B)` | Divides corresponding elements |\n",
    "\n",
    "---\n",
    "\n",
    "### **Key Takeaways**\n",
    "- **Matrix addition (`tf.add`)**: Adds corresponding elements.\n",
    "- **Matrix multiplication (`tf.matmul`)**: Follows matrix multiplication rules (dot product).\n",
    "- **Element-wise multiplication (`tf.multiply`)**: Multiplies corresponding elements.\n",
    "- **TensorFlow supports both `@` and function calls for operations.**\n",
    "\n",
    "Would you like me to demonstrate these operations on higher-dimensional tensors? 🚀"
   ]
  },
  {
   "cell_type": "markdown",
   "id": "0e5e893c",
   "metadata": {},
   "source": [
    "## PART 2\n",
    "\n",
    "## Task 1"
   ]
  },
  {
   "cell_type": "markdown",
   "id": "45697e84",
   "metadata": {},
   "source": [
    "## Q1. Create a normal matrix A with dimensions 3x3, using TensorFlow's random_normal function. Display the values of matrix Ac"
   ]
  },
  {
   "cell_type": "code",
   "execution_count": 15,
   "id": "b81b1310",
   "metadata": {},
   "outputs": [],
   "source": [
    "A=tf.random.normal(shape=(3,3))"
   ]
  },
  {
   "cell_type": "code",
   "execution_count": 17,
   "id": "f3de258f",
   "metadata": {},
   "outputs": [
    {
     "data": {
      "text/plain": [
       "array([[ 0.29443341,  0.03216101,  0.8316411 ],\n",
       "       [ 0.90290314, -0.59010607,  0.7740579 ],\n",
       "       [-0.1289116 ,  0.91407514, -0.55127066]], dtype=float32)"
      ]
     },
     "execution_count": 17,
     "metadata": {},
     "output_type": "execute_result"
    }
   ],
   "source": [
    "A.numpy()"
   ]
  },
  {
   "cell_type": "markdown",
   "id": "90323a2c",
   "metadata": {},
   "source": [
    "## Q2. Create a Gaussian matrix B with dimensions 4x4, using TensorFlow's truncated_normal function. Display the values of matrix B"
   ]
  },
  {
   "cell_type": "code",
   "execution_count": 21,
   "id": "1f51cfd6",
   "metadata": {},
   "outputs": [],
   "source": [
    "B=tf.random.truncated_normal(shape=(4,4))"
   ]
  },
  {
   "cell_type": "code",
   "execution_count": 22,
   "id": "1b1aba93",
   "metadata": {},
   "outputs": [
    {
     "data": {
      "text/plain": [
       "array([[ 0.18031706, -0.7853258 ,  1.5492768 , -0.7342636 ],\n",
       "       [ 0.91070765, -0.72954017, -0.6974368 , -0.1322951 ],\n",
       "       [-1.2810537 , -0.06267222,  1.5350051 ,  0.25964367],\n",
       "       [-0.509709  ,  0.4343712 , -0.93317854, -1.4063392 ]],\n",
       "      dtype=float32)"
      ]
     },
     "execution_count": 22,
     "metadata": {},
     "output_type": "execute_result"
    }
   ],
   "source": [
    "B.numpy()"
   ]
  },
  {
   "cell_type": "markdown",
   "id": "f6dc8d34",
   "metadata": {},
   "source": [
    "## Q3. Create a matrix C with dimensions 2x2, where the values are drawn from a normal distribution with a mean of 3 and a standard deviation of 0.5, using TensorFlow's random.normal function. Display the values of matrix C."
   ]
  },
  {
   "cell_type": "code",
   "execution_count": 23,
   "id": "abd0351d",
   "metadata": {},
   "outputs": [],
   "source": [
    "C= tf.random.normal(shape=(2,2), mean=3.0 , stddev=0.5)"
   ]
  },
  {
   "cell_type": "code",
   "execution_count": 26,
   "id": "1f6c96ba",
   "metadata": {},
   "outputs": [
    {
     "data": {
      "text/plain": [
       "array([[2.749667 , 2.9704084],\n",
       "       [3.2455213, 2.5528555]], dtype=float32)"
      ]
     },
     "execution_count": 26,
     "metadata": {},
     "output_type": "execute_result"
    }
   ],
   "source": [
    "C.numpy()"
   ]
  },
  {
   "cell_type": "markdown",
   "id": "17d09a7e",
   "metadata": {},
   "source": [
    "## Q4 . Perform matrix addition between matrix A and matrix B, and store the result in matrix D."
   ]
  },
  {
   "cell_type": "code",
   "execution_count": 27,
   "id": "9e493f6d",
   "metadata": {},
   "outputs": [
    {
     "name": "stdout",
     "output_type": "stream",
     "text": [
      "Matrix A:\n",
      " [[ 0.6099785  -0.64012045  0.2952327 ]\n",
      " [-1.3046523   0.02058416 -1.1755198 ]\n",
      " [-0.5419992   0.21414027 -0.17201053]]\n",
      "Matrix B:\n",
      " [[ 0.58586055 -0.23787217  0.1264405 ]\n",
      " [ 1.5192232   0.18050593 -0.20805345]\n",
      " [-0.09408098 -0.80051273 -1.4807844 ]]\n",
      "Matrix D (A + B):\n",
      " [[ 1.195839   -0.87799263  0.4216732 ]\n",
      " [ 0.21457088  0.2010901  -1.3835733 ]\n",
      " [-0.6360802  -0.5863725  -1.652795  ]]\n"
     ]
    }
   ],
   "source": [
    "import tensorflow as tf\n",
    "\n",
    "# Create two matrices A and B with the same dimensions (3x3)\n",
    "A = tf.random.normal(shape=(3, 3), mean=0.0, stddev=1.0)\n",
    "B = tf.random.normal(shape=(3, 3), mean=0.0, stddev=1.0)\n",
    "\n",
    "# Perform matrix addition\n",
    "D = tf.add(A, B)\n",
    "\n",
    "# Display results\n",
    "print(\"Matrix A:\\n\", A.numpy())\n",
    "print(\"Matrix B:\\n\", B.numpy())\n",
    "print(\"Matrix D (A + B):\\n\", D.numpy())\n"
   ]
  },
  {
   "cell_type": "markdown",
   "id": "65d0c1da",
   "metadata": {},
   "source": [
    "## Q5. Perform matrix multiplication between matrix C and matrix D, and store the result in matrix E."
   ]
  },
  {
   "cell_type": "code",
   "execution_count": 28,
   "id": "aec47511",
   "metadata": {},
   "outputs": [
    {
     "name": "stdout",
     "output_type": "stream",
     "text": [
      "Matrix C:\n",
      " [[3.1785846 3.069805 ]\n",
      " [2.9064624 3.2397382]]\n",
      "Matrix D:\n",
      " [[-0.20341097  0.30649364]\n",
      " [ 0.80629694 -0.6842982 ]]\n",
      "Matrix E (C x D):\n",
      " [[ 1.8286154 -1.126446 ]\n",
      " [ 2.0209846 -1.3261348]]\n"
     ]
    }
   ],
   "source": [
    "import tensorflow as tf\n",
    "\n",
    "# Create matrix C (2x2) with values from a normal distribution (mean=3, stddev=0.5)\n",
    "C = tf.random.normal(shape=(2, 2), mean=3.0, stddev=0.5)\n",
    "\n",
    "# Create matrix D (2x2) to match C's columns for multiplication\n",
    "D = tf.random.normal(shape=(2, 2), mean=0.0, stddev=1.0)\n",
    "\n",
    "# Perform matrix multiplication\n",
    "E = tf.matmul(C, D)\n",
    "\n",
    "# Display results\n",
    "print(\"Matrix C:\\n\", C.numpy())\n",
    "print(\"Matrix D:\\n\", D.numpy())\n",
    "print(\"Matrix E (C x D):\\n\", E.numpy())\n"
   ]
  },
  {
   "cell_type": "markdown",
   "id": "c0d92a8a",
   "metadata": {},
   "source": [
    "## Task 2"
   ]
  },
  {
   "cell_type": "markdown",
   "id": "240ecaba",
   "metadata": {},
   "source": [
    "## Q1. Create a matrix F with dimensions 3x3, initialized with random values using TensorFlow's random_uniform functionc"
   ]
  },
  {
   "cell_type": "code",
   "execution_count": 29,
   "id": "0b67ac85",
   "metadata": {},
   "outputs": [
    {
     "name": "stdout",
     "output_type": "stream",
     "text": [
      "Matrix F:\n",
      " [[0.00466204 0.7297567  0.34906113]\n",
      " [0.50741255 0.32403052 0.4950415 ]\n",
      " [0.25981987 0.96751046 0.32091355]]\n"
     ]
    }
   ],
   "source": [
    "import tensorflow as tf\n",
    "\n",
    "# Create a 3x3 matrix with random values from a uniform distribution (range: 0 to 1)\n",
    "F = tf.random.uniform(shape=(3, 3), minval=0.0, maxval=1.0)\n",
    "\n",
    "# Convert to NumPy array and display the values\n",
    "print(\"Matrix F:\\n\", F.numpy())\n"
   ]
  },
  {
   "cell_type": "markdown",
   "id": "ed5a9fde",
   "metadata": {},
   "source": [
    "## Q2. Calculate the transpose of matrix F and store the result in matrix G."
   ]
  },
  {
   "cell_type": "code",
   "execution_count": 30,
   "id": "1165b7ca",
   "metadata": {},
   "outputs": [],
   "source": [
    "G= tf.transpose(F)"
   ]
  },
  {
   "cell_type": "code",
   "execution_count": 31,
   "id": "81e03c02",
   "metadata": {},
   "outputs": [
    {
     "data": {
      "text/plain": [
       "array([[0.00466204, 0.50741255, 0.25981987],\n",
       "       [0.7297567 , 0.32403052, 0.96751046],\n",
       "       [0.34906113, 0.4950415 , 0.32091355]], dtype=float32)"
      ]
     },
     "execution_count": 31,
     "metadata": {},
     "output_type": "execute_result"
    }
   ],
   "source": [
    "G.numpy()"
   ]
  },
  {
   "cell_type": "markdown",
   "id": "b5784cdc",
   "metadata": {},
   "source": [
    "## Q3. Calculate the element-wise exponential of matrix F and store the result in matrix H"
   ]
  },
  {
   "cell_type": "code",
   "execution_count": 33,
   "id": "67030c9b",
   "metadata": {},
   "outputs": [],
   "source": [
    "H=tf.exp(F)"
   ]
  },
  {
   "cell_type": "code",
   "execution_count": 34,
   "id": "fe0b27dc",
   "metadata": {},
   "outputs": [
    {
     "data": {
      "text/plain": [
       "array([[1.0046729, 2.074576 , 1.4177358],\n",
       "       [1.660988 , 1.3826895, 1.6405663],\n",
       "       [1.2966965, 2.6313853, 1.3783864]], dtype=float32)"
      ]
     },
     "execution_count": 34,
     "metadata": {},
     "output_type": "execute_result"
    }
   ],
   "source": [
    "H.numpy()"
   ]
  },
  {
   "cell_type": "markdown",
   "id": "13c0fb49",
   "metadata": {},
   "source": [
    "## Q4. Create a matrix I by concatenating matrix F and matrix G horizontallyc"
   ]
  },
  {
   "cell_type": "code",
   "execution_count": 36,
   "id": "54a7d004",
   "metadata": {},
   "outputs": [],
   "source": [
    "I= tf.concat([F,G],axis=1)"
   ]
  },
  {
   "cell_type": "code",
   "execution_count": 37,
   "id": "6bfe5467",
   "metadata": {},
   "outputs": [
    {
     "data": {
      "text/plain": [
       "array([[0.00466204, 0.7297567 , 0.34906113, 0.00466204, 0.50741255,\n",
       "        0.25981987],\n",
       "       [0.50741255, 0.32403052, 0.4950415 , 0.7297567 , 0.32403052,\n",
       "        0.96751046],\n",
       "       [0.25981987, 0.96751046, 0.32091355, 0.34906113, 0.4950415 ,\n",
       "        0.32091355]], dtype=float32)"
      ]
     },
     "execution_count": 37,
     "metadata": {},
     "output_type": "execute_result"
    }
   ],
   "source": [
    "I.numpy()"
   ]
  },
  {
   "cell_type": "markdown",
   "id": "6c9ae3b5",
   "metadata": {},
   "source": [
    "## Q5. Create a matrix J by concatenating matrix F and matrix H vertically."
   ]
  },
  {
   "cell_type": "code",
   "execution_count": 39,
   "id": "3d295b0b",
   "metadata": {},
   "outputs": [],
   "source": [
    "J= tf.concat([F,G],axis=0)"
   ]
  },
  {
   "cell_type": "code",
   "execution_count": 40,
   "id": "c1823b15",
   "metadata": {},
   "outputs": [
    {
     "data": {
      "text/plain": [
       "array([[0.00466204, 0.7297567 , 0.34906113],\n",
       "       [0.50741255, 0.32403052, 0.4950415 ],\n",
       "       [0.25981987, 0.96751046, 0.32091355],\n",
       "       [0.00466204, 0.50741255, 0.25981987],\n",
       "       [0.7297567 , 0.32403052, 0.96751046],\n",
       "       [0.34906113, 0.4950415 , 0.32091355]], dtype=float32)"
      ]
     },
     "execution_count": 40,
     "metadata": {},
     "output_type": "execute_result"
    }
   ],
   "source": [
    "J.numpy()"
   ]
  },
  {
   "cell_type": "code",
   "execution_count": null,
   "id": "9045bc71",
   "metadata": {},
   "outputs": [],
   "source": []
  }
 ],
 "metadata": {
  "kernelspec": {
   "display_name": "Python 3 (ipykernel)",
   "language": "python",
   "name": "python3"
  },
  "language_info": {
   "codemirror_mode": {
    "name": "ipython",
    "version": 3
   },
   "file_extension": ".py",
   "mimetype": "text/x-python",
   "name": "python",
   "nbconvert_exporter": "python",
   "pygments_lexer": "ipython3",
   "version": "3.12.6"
  }
 },
 "nbformat": 4,
 "nbformat_minor": 5
}
