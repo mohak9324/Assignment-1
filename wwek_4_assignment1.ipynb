{
 "cells": [
  {
   "cell_type": "code",
   "execution_count": 2,
   "id": "8d4ec56f-fbd8-4983-8086-e151af253f82",
   "metadata": {},
   "outputs": [],
   "source": [
    "#Q1"
   ]
  },
  {
   "cell_type": "code",
   "execution_count": 3,
   "id": "2f699b02-ab4e-4ac4-913f-848e233e8860",
   "metadata": {},
   "outputs": [],
   "source": [
    "class vehicle:\n",
    "    def __init__(self,name_of_vehicle,max_speed,average_of_vehicle):\n",
    "        self.name_of_vehicle=name_of_vehicle\n",
    "        self.max_speed=max_speed\n",
    "        self.average_of_vehicle=average_of_vehicle\n",
    "    \n",
    "    def get_details(self):\n",
    "        return self.name_of_vehicle,self.max_speed,self.average_of_vehicle"
   ]
  },
  {
   "cell_type": "code",
   "execution_count": 4,
   "id": "252ddb3b-addb-452c-bce3-649539bc385c",
   "metadata": {},
   "outputs": [],
   "source": [
    "#Q2"
   ]
  },
  {
   "cell_type": "code",
   "execution_count": 5,
   "id": "2143ba3a-bd69-4670-80e1-f582c91ae0b4",
   "metadata": {},
   "outputs": [],
   "source": [
    "class car(vehicle):\n",
    "    \n",
    "    def seating_capacity(self,seating_cap):\n",
    "        self.seating_cap=seating_cap\n",
    "        return self.seating_cap"
   ]
  },
  {
   "cell_type": "code",
   "execution_count": 7,
   "id": "57bf583a-81f7-4a06-8c3b-5ceae3154995",
   "metadata": {},
   "outputs": [],
   "source": [
    "Q2_obj=car(\"Sonet\",190,20)"
   ]
  },
  {
   "cell_type": "code",
   "execution_count": 8,
   "id": "3527e26c-aa3d-48ae-8fdf-dea92dfa61a0",
   "metadata": {},
   "outputs": [],
   "source": [
    "Q2_obj.seating_capacity=5"
   ]
  },
  {
   "cell_type": "code",
   "execution_count": 10,
   "id": "137fb7e3-40cc-4eb4-8ce3-dc0a6a8b5a22",
   "metadata": {},
   "outputs": [
    {
     "data": {
      "text/plain": [
       "'Sonet'"
      ]
     },
     "execution_count": 10,
     "metadata": {},
     "output_type": "execute_result"
    }
   ],
   "source": [
    "Q2_obj.name_of_vehicle"
   ]
  },
  {
   "cell_type": "code",
   "execution_count": 11,
   "id": "e1e7af20-8c08-4dc1-8bf0-ac1120b67724",
   "metadata": {},
   "outputs": [
    {
     "data": {
      "text/plain": [
       "5"
      ]
     },
     "execution_count": 11,
     "metadata": {},
     "output_type": "execute_result"
    }
   ],
   "source": [
    "Q2_obj.seating_capacity"
   ]
  },
  {
   "cell_type": "code",
   "execution_count": 12,
   "id": "9ba0005b-afa5-45b0-ab7a-8d7506934cf4",
   "metadata": {},
   "outputs": [],
   "source": [
    "#Q3 - Multiple inheritance:- means two class can be a parent of a single child class."
   ]
  },
  {
   "cell_type": "code",
   "execution_count": 13,
   "id": "cadf4d12-f102-4989-aaea-db46aff275ab",
   "metadata": {},
   "outputs": [],
   "source": [
    "class class_1:\n",
    "    \n",
    "    def Test_1(self):\n",
    "        return \"This is from my class_1\""
   ]
  },
  {
   "cell_type": "code",
   "execution_count": 14,
   "id": "e270cb41-bffc-4932-b15b-b8689d51ce3a",
   "metadata": {},
   "outputs": [],
   "source": [
    "class class_2:\n",
    "    \n",
    "    def Test_2(self):\n",
    "        return \"This is from my class_2\""
   ]
  },
  {
   "cell_type": "code",
   "execution_count": 15,
   "id": "9f67149d-3a97-4b4f-8461-6c84483e8711",
   "metadata": {},
   "outputs": [],
   "source": [
    "class class_3(class_1,class_2):\n",
    "    \n",
    "    pass"
   ]
  },
  {
   "cell_type": "code",
   "execution_count": 16,
   "id": "12ae95de-50f7-4b1c-8a94-c35f4d90b152",
   "metadata": {},
   "outputs": [],
   "source": [
    "class_obj=class_3()"
   ]
  },
  {
   "cell_type": "code",
   "execution_count": 17,
   "id": "a370b21f-cb47-46b3-9795-ac0685c48b4e",
   "metadata": {},
   "outputs": [
    {
     "data": {
      "text/plain": [
       "'This is from my class_1'"
      ]
     },
     "execution_count": 17,
     "metadata": {},
     "output_type": "execute_result"
    }
   ],
   "source": [
    "class_obj.Test_1()"
   ]
  },
  {
   "cell_type": "code",
   "execution_count": 20,
   "id": "fd9a59cf-6ed6-4ef9-a278-d7b143671592",
   "metadata": {},
   "outputs": [
    {
     "data": {
      "text/plain": [
       "'This is from my class_2'"
      ]
     },
     "execution_count": 20,
     "metadata": {},
     "output_type": "execute_result"
    }
   ],
   "source": [
    "class_obj.Test_2()"
   ]
  },
  {
   "cell_type": "code",
   "execution_count": 22,
   "id": "f87274d7-87df-4a35-b3cb-7c7e15049264",
   "metadata": {},
   "outputs": [],
   "source": [
    "#Q4 seter:- property of a class is set inside the function \n",
    "  #  get:- where we can fethc property of a class.\n",
    "    "
   ]
  },
  {
   "cell_type": "code",
   "execution_count": 29,
   "id": "82136953-19cd-42fd-9267-3c5ac52ce36f",
   "metadata": {},
   "outputs": [],
   "source": [
    "class car:\n",
    "    \n",
    "    def __init__(self,year,make,model,speed):\n",
    "        self.__year=year\n",
    "        self.__make=make\n",
    "        self.__model=model\n",
    "        self.__speed=speed\n",
    "        \n",
    "    def set_speed(self,speed):\n",
    "        self.__speed=0 if speed<0 else speed\n",
    "        \n",
    "    def get_speed(self):\n",
    "        return self.__speed"
   ]
  },
  {
   "cell_type": "code",
   "execution_count": 30,
   "id": "4249a7e5-c183-4eaa-997f-7ae1648dd512",
   "metadata": {},
   "outputs": [],
   "source": [
    "car_obj= car(2023,\"Kia\",\"Sonet\",24)"
   ]
  },
  {
   "cell_type": "code",
   "execution_count": 31,
   "id": "d0ec2423-3e19-4c1d-a25d-8024f446d772",
   "metadata": {},
   "outputs": [
    {
     "data": {
      "text/plain": [
       "24"
      ]
     },
     "execution_count": 31,
     "metadata": {},
     "output_type": "execute_result"
    }
   ],
   "source": [
    "car_obj.get_speed()"
   ]
  },
  {
   "cell_type": "code",
   "execution_count": 32,
   "id": "2baebc1a-adc0-41f5-a550-7a29b93c5b57",
   "metadata": {},
   "outputs": [],
   "source": [
    "car_obj.set_speed(45)"
   ]
  },
  {
   "cell_type": "code",
   "execution_count": 33,
   "id": "3675a90a-3cac-4933-8c0d-55d1b9e8912f",
   "metadata": {},
   "outputs": [
    {
     "data": {
      "text/plain": [
       "45"
      ]
     },
     "execution_count": 33,
     "metadata": {},
     "output_type": "execute_result"
    }
   ],
   "source": [
    "car_obj.get_speed()"
   ]
  },
  {
   "cell_type": "code",
   "execution_count": 45,
   "id": "9bbd9222-7af5-4ee6-9653-44b890e8fd09",
   "metadata": {},
   "outputs": [],
   "source": [
    "#Q5 -- in this class will define its object execution according to the need"
   ]
  },
  {
   "cell_type": "code",
   "execution_count": 46,
   "id": "1aa0ca15-d862-48a2-a3ab-d6b8359c4c88",
   "metadata": {},
   "outputs": [],
   "source": [
    "class animal:\n",
    "    \n",
    "    def sound(self):\n",
    "        return \"This animal make sound\""
   ]
  },
  {
   "cell_type": "code",
   "execution_count": 36,
   "id": "26646def-34b8-4352-ad15-6cdc2a339708",
   "metadata": {},
   "outputs": [],
   "source": [
    "class cat(animal):\n",
    "    \n",
    "    def sound(self):\n",
    "        return \"This is cat sound\""
   ]
  },
  {
   "cell_type": "code",
   "execution_count": 37,
   "id": "45f520d5-c58c-400f-9c0c-b5a1c7b2e5f4",
   "metadata": {},
   "outputs": [],
   "source": [
    "class dog(animal):\n",
    "    \n",
    "    def sound(self):\n",
    "        return \"This is dog sound\""
   ]
  },
  {
   "cell_type": "code",
   "execution_count": 42,
   "id": "e9a24c41-d51d-49e8-b117-defc0d1ffff5",
   "metadata": {},
   "outputs": [],
   "source": [
    "cat_obj=cat()\n",
    "animal_obj=animal()\n",
    "dog_obj=dog()"
   ]
  },
  {
   "cell_type": "code",
   "execution_count": 43,
   "id": "1cc38692-9659-4d30-a764-6f515ce1f26b",
   "metadata": {},
   "outputs": [
    {
     "data": {
      "text/plain": [
       "'This is cat sound'"
      ]
     },
     "execution_count": 43,
     "metadata": {},
     "output_type": "execute_result"
    }
   ],
   "source": [
    "cat_obj.sound()"
   ]
  },
  {
   "cell_type": "code",
   "execution_count": 44,
   "id": "ebc56e21-ac95-40c0-8421-0baf1fc09b51",
   "metadata": {},
   "outputs": [
    {
     "data": {
      "text/plain": [
       "'This animal make sound'"
      ]
     },
     "execution_count": 44,
     "metadata": {},
     "output_type": "execute_result"
    }
   ],
   "source": [
    "animal_obj.sound()"
   ]
  },
  {
   "cell_type": "code",
   "execution_count": null,
   "id": "0cf3f425-d808-46be-b038-d549eef19f17",
   "metadata": {},
   "outputs": [],
   "source": []
  }
 ],
 "metadata": {
  "kernelspec": {
   "display_name": "Python 3 (ipykernel)",
   "language": "python",
   "name": "python3"
  },
  "language_info": {
   "codemirror_mode": {
    "name": "ipython",
    "version": 3
   },
   "file_extension": ".py",
   "mimetype": "text/x-python",
   "name": "python",
   "nbconvert_exporter": "python",
   "pygments_lexer": "ipython3",
   "version": "3.10.8"
  }
 },
 "nbformat": 4,
 "nbformat_minor": 5
}
