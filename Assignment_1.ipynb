{
 "cells": [
  {
   "cell_type": "code",
   "execution_count": 1,
   "id": "c0411b72-85d0-40b4-b956-66c2860388ce",
   "metadata": {},
   "outputs": [],
   "source": [
    "#Q1"
   ]
  },
  {
   "cell_type": "code",
   "execution_count": 2,
   "id": "7275d720-68f5-4e41-a20d-2362e0160e0a",
   "metadata": {},
   "outputs": [],
   "source": [
    "string='Mohak'"
   ]
  },
  {
   "cell_type": "code",
   "execution_count": 3,
   "id": "c5a71e8c-568f-4345-be7a-ee8fbed618e1",
   "metadata": {},
   "outputs": [],
   "source": [
    "lst=[1,2,3,4]"
   ]
  },
  {
   "cell_type": "code",
   "execution_count": 4,
   "id": "243b9f3a-15e5-4245-a0cb-c41faae3a16b",
   "metadata": {},
   "outputs": [],
   "source": [
    "flt=12.34"
   ]
  },
  {
   "cell_type": "code",
   "execution_count": 5,
   "id": "cc712baf-c364-49be-b93a-f0e06e68dc4d",
   "metadata": {},
   "outputs": [],
   "source": [
    "tupl=(1,2,3)"
   ]
  },
  {
   "cell_type": "code",
   "execution_count": 6,
   "id": "f2e67c15-ee78-41c5-a76f-17baefc21e70",
   "metadata": {},
   "outputs": [],
   "source": [
    "#Q2"
   ]
  },
  {
   "cell_type": "code",
   "execution_count": 13,
   "id": "21c7873a-826d-448c-9e71-b9913be28ec8",
   "metadata": {},
   "outputs": [],
   "source": [
    "var=''"
   ]
  },
  {
   "cell_type": "code",
   "execution_count": 14,
   "id": "0431ce50-07eb-4da6-b314-669008d1d97f",
   "metadata": {},
   "outputs": [
    {
     "data": {
      "text/plain": [
       "str"
      ]
     },
     "execution_count": 14,
     "metadata": {},
     "output_type": "execute_result"
    }
   ],
   "source": [
    "type(var)"
   ]
  },
  {
   "cell_type": "code",
   "execution_count": 11,
   "id": "ab659617-0267-421e-9d7a-3f7804342dde",
   "metadata": {},
   "outputs": [],
   "source": [
    "var='[DS,ML,Python]'"
   ]
  },
  {
   "cell_type": "code",
   "execution_count": 12,
   "id": "83dab8cf-116d-44da-af4c-8796566bbcf9",
   "metadata": {},
   "outputs": [
    {
     "data": {
      "text/plain": [
       "str"
      ]
     },
     "execution_count": 12,
     "metadata": {},
     "output_type": "execute_result"
    }
   ],
   "source": [
    "type(var)"
   ]
  },
  {
   "cell_type": "code",
   "execution_count": 15,
   "id": "e14b55e7-0bfa-46f0-b130-d6cb68630b78",
   "metadata": {},
   "outputs": [],
   "source": [
    "var3=['DS','ML','Python']"
   ]
  },
  {
   "cell_type": "code",
   "execution_count": 17,
   "id": "52ed0404-16ae-4149-93c5-93ae5d864327",
   "metadata": {},
   "outputs": [
    {
     "data": {
      "text/plain": [
       "list"
      ]
     },
     "execution_count": 17,
     "metadata": {},
     "output_type": "execute_result"
    }
   ],
   "source": [
    "type(var3)"
   ]
  },
  {
   "cell_type": "code",
   "execution_count": 18,
   "id": "5721962a-6902-464a-8b9e-2b5ce6b54258",
   "metadata": {},
   "outputs": [],
   "source": [
    "var4=1"
   ]
  },
  {
   "cell_type": "code",
   "execution_count": 20,
   "id": "d3594ddd-8594-48ec-818f-06d39864480d",
   "metadata": {},
   "outputs": [
    {
     "data": {
      "text/plain": [
       "int"
      ]
     },
     "execution_count": 20,
     "metadata": {},
     "output_type": "execute_result"
    }
   ],
   "source": [
    "type(var4)"
   ]
  },
  {
   "cell_type": "code",
   "execution_count": 21,
   "id": "be6734a3-279b-4874-ad1a-0464d61b9b9d",
   "metadata": {},
   "outputs": [],
   "source": [
    "#Q3"
   ]
  },
  {
   "cell_type": "code",
   "execution_count": 22,
   "id": "6d823bec-3ea6-4257-ab2d-6078b82e711d",
   "metadata": {},
   "outputs": [
    {
     "data": {
      "text/plain": [
       "1.25"
      ]
     },
     "execution_count": 22,
     "metadata": {},
     "output_type": "execute_result"
    }
   ],
   "source": [
    "5/4"
   ]
  },
  {
   "cell_type": "code",
   "execution_count": 23,
   "id": "fd23255d-968a-4f6b-ab2c-c3862fa85efa",
   "metadata": {},
   "outputs": [
    {
     "data": {
      "text/plain": [
       "1"
      ]
     },
     "execution_count": 23,
     "metadata": {},
     "output_type": "execute_result"
    }
   ],
   "source": [
    "5%4"
   ]
  },
  {
   "cell_type": "code",
   "execution_count": 24,
   "id": "f3d3380f-50ed-4921-84a6-697b41a14204",
   "metadata": {},
   "outputs": [
    {
     "data": {
      "text/plain": [
       "1"
      ]
     },
     "execution_count": 24,
     "metadata": {},
     "output_type": "execute_result"
    }
   ],
   "source": [
    "5//4"
   ]
  },
  {
   "cell_type": "code",
   "execution_count": 25,
   "id": "d5892f94-d76b-4a08-930c-a8735cb1a6af",
   "metadata": {},
   "outputs": [
    {
     "data": {
      "text/plain": [
       "625"
      ]
     },
     "execution_count": 25,
     "metadata": {},
     "output_type": "execute_result"
    }
   ],
   "source": [
    "5**4"
   ]
  },
  {
   "cell_type": "code",
   "execution_count": 26,
   "id": "9712559f-5344-4562-bcdd-f19729a42ad4",
   "metadata": {},
   "outputs": [],
   "source": [
    "#Q4"
   ]
  },
  {
   "cell_type": "code",
   "execution_count": null,
   "id": "331e1e18-7bd0-491a-8d6a-4af902e7664d",
   "metadata": {},
   "outputs": [],
   "source": []
  }
 ],
 "metadata": {
  "kernelspec": {
   "display_name": "Python 3 (ipykernel)",
   "language": "python",
   "name": "python3"
  },
  "language_info": {
   "codemirror_mode": {
    "name": "ipython",
    "version": 3
   },
   "file_extension": ".py",
   "mimetype": "text/x-python",
   "name": "python",
   "nbconvert_exporter": "python",
   "pygments_lexer": "ipython3",
   "version": "3.10.8"
  }
 },
 "nbformat": 4,
 "nbformat_minor": 5
}
