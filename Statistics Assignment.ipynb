{
 "cells": [
  {
   "cell_type": "code",
   "execution_count": null,
   "id": "1cc4fb74-0286-4abe-a171-887a59b8e991",
   "metadata": {},
   "outputs": [],
   "source": [
    "#Q1"
   ]
  },
  {
   "cell_type": "markdown",
   "id": "5f15eb8c-52fe-4985-aff3-b4b9da9e9640",
   "metadata": {},
   "source": [
    "Statistics refers to the study of collecting, organizing, analyzing, interpreting, and presenting data\n",
    "\n",
    "Statistics serves several key purposes:\n",
    "\n",
    "Descriptive Statistics: This involves summarizing and describing data using measures such as mean (average), median (middle value), mode (most frequent value), range (difference between the highest and lowest values), and standard deviation (measure of data dispersion). Descriptive statistics provide a concise overview of the data.\n",
    "\n",
    "Inferential Statistics: This involves drawing conclusions and making predictions about a larger population based on a sample of data. Inferential statistics use techniques like hypothesis testing, confidence intervals, and regression analysis to infer information about a population from a subset of data."
   ]
  },
  {
   "cell_type": "code",
   "execution_count": 1,
   "id": "4e32d46f-9419-4d43-9fe7-f2d46c7fff86",
   "metadata": {},
   "outputs": [],
   "source": [
    "#Q2"
   ]
  },
  {
   "cell_type": "markdown",
   "id": "e271b948-9d2b-4947-a52c-3da305b46a62",
   "metadata": {},
   "source": [
    "Type of statistics\n",
    "1. Defrential :- Data is being analysed and get other various information like Mean, Median, Mode, Std can be fetched out\n",
    "2. Infrential :- using data to perfrom conclusion\n",
    "\n"
   ]
  },
  {
   "cell_type": "code",
   "execution_count": 4,
   "id": "9c32f749-e6f9-4826-84b7-7754599df32a",
   "metadata": {},
   "outputs": [],
   "source": [
    "#Q3"
   ]
  },
  {
   "cell_type": "markdown",
   "id": "a2391d8c-36fa-4796-8c18-c557c921951c",
   "metadata": {},
   "source": [
    "data can de cliassifed into two categories.\n",
    "1. Quantitative :- \n",
    "        i. Continuous :- decilaml degits and continuous\n",
    "        ii.Descrete :-whole numbers (bank account number, no. of children)\n",
    "2. Qualitative :- Categorical values\n",
    "        i. Nominal :- No rank can be given (gender)\n",
    "        ii. Ordinal :- rank will be given (customer feedback)\n",
    "    "
   ]
  },
  {
   "cell_type": "code",
   "execution_count": 5,
   "id": "300e1904-967a-42ce-a9c7-03192ea6a68a",
   "metadata": {},
   "outputs": [],
   "source": [
    "#Q4"
   ]
  },
  {
   "cell_type": "markdown",
   "id": "f6c6e985-d92d-44a8-9405-8c6ed33348c7",
   "metadata": {},
   "source": [
    "1. Qualitative data, Nominal\n",
    "2. Nominal\n",
    "3. Quantitative, continuous\n",
    "4. Quantitative,Descrete"
   ]
  },
  {
   "cell_type": "code",
   "execution_count": 6,
   "id": "a56c68eb-efb0-41f4-90c6-f36ed8688752",
   "metadata": {},
   "outputs": [],
   "source": [
    "#Q5"
   ]
  },
  {
   "cell_type": "markdown",
   "id": "3267b2bd-a73c-45bf-a0af-dc898bd6de6a",
   "metadata": {},
   "source": [
    "Levels of measurement, also known as measurement scales or scales of measurement, refer to a system that categorizes variables into different levels based on the nature of the data they represent. There are four main levels of measurement: nominal, ordinal, interval, and ratio.\n",
    "\n",
    "Nominal Level:\n",
    "At this level, variables are categorized into distinct categories or groups. The categories have no inherent order or ranking; they are simply different from each other. Nominal variables can be qualitative in nature and are often used to represent attributes or labels.\n",
    "\n",
    "Example: \"Eye Color\" is a nominal variable. The categories might include \"Blue,\" \"Green,\" \"Brown,\" etc. There is no inherent order or numerical value associated with these categories; they are just labels.\n",
    "\n",
    "Ordinal Level:\n",
    "Variables at the ordinal level have categories that can be ranked or ordered, but the differences between the categories are not necessarily uniform or meaningful. In other words, you can determine whether one category is greater or lesser than another, but you can't quantify by how much.\n",
    "\n",
    "Example: \"Educational Level\" is an ordinal variable. The categories might include \"High School,\" \"Associate's Degree,\" \"Bachelor's Degree,\" \"Master's Degree,\" and \"Ph.D.\" While you can order these categories based on the level of education, the difference between \"High School\" and \"Associate's Degree\" is not necessarily the same as the difference between \"Bachelor's Degree\" and \"Master's Degree.\"\n",
    "\n",
    "Interval Level:\n",
    "Interval variables have ordered categories with uniform and meaningful differences between them. However, there is no true zero point that indicates the absence of the attribute being measured. Arithmetic operations like addition and subtraction are meaningful, but multiplication and division are not.\n",
    "\n",
    "Example: \"Temperature in Celsius\" is an interval variable. The differences between each degree are consistent and meaningful, but a temperature of 0°C does not imply the complete absence of temperature; it's just a reference point. You can say that 20°C is 10°C warmer than 10°C, but you can't say it's twice as warm.\n",
    "\n",
    "Ratio Level:\n",
    "Ratio variables have all the properties of interval variables, along with a true zero point that indicates the complete absence of the attribute being measured. This allows for meaningful arithmetic operations including multiplication and division.\n",
    "\n",
    "Example: \"Height in Centimeters\" is a ratio variable. A height of 0 cm indicates no height at all. You can say that a person who is 180 cm tall is twice as tall as a person who is 90 cm tall."
   ]
  },
  {
   "cell_type": "code",
   "execution_count": 1,
   "id": "7f9e62f5-2b80-46ac-b184-7dcc1394548c",
   "metadata": {},
   "outputs": [],
   "source": [
    "#Q6"
   ]
  },
  {
   "cell_type": "markdown",
   "id": "2a0c1c66-df86-4aa1-8179-395e1ae21632",
   "metadata": {},
   "source": [
    "Understanding the level of measurement is crucial when analyzing data because it determines the types of statistical analyses that can be appropriately applied to the data. Using an inappropriate statistical method for a particular level of measurement can lead to incorrect conclusions, flawed interpretations, and invalid results. Here's an example to illustrate the importance of this concept:\n",
    "\n",
    "Imagine a research study aiming to compare the effectiveness of different teaching methods in improving students' academic performance. The study collects data on the teaching method used (categorized as \"Method A,\" \"Method B,\" and \"Method C\") and the final grades achieved by students in each method.\n",
    "Let's consider how the level of measurement of the variables can impact the analysis:\n",
    "\n",
    "Nominal Level (Teaching Method):\n",
    "If the teaching method is treated as a nominal variable, it means that the categories (\"Method A,\" \"Method B,\" \"Method C\") have no inherent order or numeric value. In this case, you can use a chi-squared test to determine if there's a statistically significant association between the teaching methods and the distribution of grades. This test is appropriate for assessing relationships between categorical variables.\n",
    "\n",
    "Ordinal Level (Grades):\n",
    "Treating the grades as ordinal data means that you can rank the grades, but the differences between the grades might not be uniform or meaningful. You might use non-parametric tests like the Kruskal-Wallis test to compare the medians of the grade distributions for each teaching method. This test is suitable for comparing medians of ordinal data across different groups."
   ]
  },
  {
   "cell_type": "code",
   "execution_count": 2,
   "id": "b276dcd2-f509-4454-9fe5-b132ddcaa061",
   "metadata": {},
   "outputs": [],
   "source": [
    "#Q7"
   ]
  },
  {
   "cell_type": "markdown",
   "id": "31a80aa2-9ef9-46c3-9040-fb3fa5d4d0ff",
   "metadata": {},
   "source": [
    "Nominal Data:\n",
    "\n",
    "Categories: Nominal data consists of categories or labels with no inherent order, ranking, or numerical value associated with them.\n",
    "Example: Colors, genders, types of animals, country names, etc.\n",
    "\n",
    "Ordinal Data:\n",
    "\n",
    "Categories: Ordinal data also consists of categories, but these categories have a clear order or ranking.\n",
    "Example: Educational levels (e.g., elementary school, high school, bachelor's degree), survey ratings (e.g., strongly disagree, disagree, neutral, agree, strongly agree)."
   ]
  },
  {
   "cell_type": "code",
   "execution_count": 3,
   "id": "cbbd6bce-4d1f-4600-9362-188ea560a2d1",
   "metadata": {},
   "outputs": [],
   "source": [
    "#Q8"
   ]
  },
  {
   "cell_type": "markdown",
   "id": "f87a0ed8-ad30-4419-bd33-7a03b4ca3245",
   "metadata": {},
   "source": [
    "A box plot, also known as a box-and-whisker plot, is commonly used to display data in terms of its range. A box plot provides a visual representation of the distribution of a dataset and highlights key summary statistics, including the minimum, maximum, median, and quartiles."
   ]
  },
  {
   "cell_type": "code",
   "execution_count": 4,
   "id": "4399838f-5449-41bd-b898-5760940f4af5",
   "metadata": {},
   "outputs": [],
   "source": [
    "#Q9"
   ]
  },
  {
   "cell_type": "markdown",
   "id": "7f4176b9-07c7-4cb3-83d8-0aac869d1266",
   "metadata": {},
   "source": [
    "Descriptive Statistics:\n",
    "\n",
    "Descriptive statistics involves summarizing and presenting data in a meaningful and concise way. It focuses on describing the main features of a dataset without making inferences or drawing conclusions beyond the data itself. Descriptive statistics are used to provide an overview of the data, identify patterns, and gain initial insights.\n",
    "\n",
    "Example: Consider a dataset of the ages of a group of people: 25, 30, 22, 40, 28, 35, and 19. Descriptive statistics for this dataset might include the mean age (29.57), the median age (30), the range (21), and the standard deviation (7.16). These statistics provide a snapshot of the dataset's central tendency, variability, and distribution.\n",
    "\n",
    "Inferential Statistics:\n",
    "\n",
    "Inferential statistics involves making inferences, predictions, or conclusions about a larger population based on a sample of data. It uses probability theory to generalize from the sample to the entire population. Inferential statistics allow researchers to draw conclusions about relationships, differences, or effects beyond the specific data points observed.\n",
    "\n",
    "Example: Imagine a study that aims to determine whether a new teaching method improves student test scores. A researcher might select a random sample of students, divide them into two groups (one taught with the new method, the other with the traditional method), and then compare their test scores. The inferential analysis could involve a t-test to determine if the difference in scores between the two groups is statistically significant. If it is, the researcher could infer that the new teaching method likely has an effect on test scores for the larger population.\n",
    "\n",
    "In summary:\n",
    "\n",
    "Descriptive Statistics summarize and describe data for a specific dataset without making broader inferences. They provide insights into the characteristics of the data.\n",
    "Inferential Statistics involve drawing conclusions about a larger population based on a sample of data. They use statistical methods to make predictions and test hypotheses.\n",
    "Both types of statistics play essential roles in research and data analysis. Descriptive statistics set the foundation by providing a clear understanding of the data at hand, while inferential statistics allow researchers to make informed decisions and generalizations about broader populations based on the available evidence."
   ]
  },
  {
   "cell_type": "code",
   "execution_count": 5,
   "id": "f8a8d6cc-3a64-48b7-8be2-5d7272de2161",
   "metadata": {},
   "outputs": [],
   "source": [
    "#Q10"
   ]
  },
  {
   "cell_type": "code",
   "execution_count": null,
   "id": "9c039859-51ee-4e7a-83a8-64c0ce1d6634",
   "metadata": {},
   "outputs": [],
   "source": [
    "Measures of central tendency and variability are used to describe the central values and spread of a dataset, respectively. They provide insights into the typical value around which the data cluster and how much the data points deviate from that central value. Here are some common measures of central tendency and variability:\n",
    "\n",
    "Measures of Central Tendency:\n",
    "\n",
    "Mean: The mean, or average, is calculated by summing all the data points and then dividing by the total number of data points. It represents the \"center\" of the dataset.\n",
    "\n",
    "Usage: The mean is commonly used to represent the typical value of a dataset. However, it can be influenced by outliers, so it might not accurately reflect the \"average\" for skewed distributions.\n",
    "\n",
    "Median: The median is the middle value in a dataset when the data points are arranged in ascending or descending order. If there's an even number of data points, the median is the average of the two middle values.\n",
    "\n",
    "Usage: The median is robust to outliers and is a good measure of central tendency for skewed distributions. It represents the value that separates the dataset into two equal halves.\n",
    "\n",
    "Mode: The mode is the value that appears most frequently in the dataset.\n",
    "\n",
    "Usage: The mode is useful for identifying the most common value(s) in a dataset, particularly for categorical or discrete data.\n",
    "\n",
    "Measures of Variability:\n",
    "\n",
    "Range: The range is the difference between the maximum and minimum values in a dataset.\n",
    "\n",
    "Usage: The range gives a simple measure of how spread out the data is. However, it is sensitive to outliers and doesn't provide information about the distribution within the range.\n",
    "\n",
    "Variance: Variance measures the average squared deviation of each data point from the mean.\n",
    "\n",
    "Usage: Variance quantifies the overall variability of the data. Larger variance indicates greater dispersion. However, it's measured in squared units, which might not be intuitive.\n",
    "\n",
    "Standard Deviation: The standard deviation is the square root of the variance. It measures the average deviation of data points from the mean.\n",
    "\n",
    "Usage: Standard deviation is widely used as a measure of spread. It's easier to interpret than variance since it's in the same units as the data. It's more sensitive to outliers than the range.\n",
    "\n",
    "Interquartile Range (IQR): The IQR is the range between the first quartile (Q1) and the third quartile (Q3). It represents the spread of the middle 50% of the data.\n",
    "\n",
    "Usage: IQR is robust to outliers and provides a measure of spread that is less affected by extreme values compared to the range."
   ]
  }
 ],
 "metadata": {
  "kernelspec": {
   "display_name": "Python 3 (ipykernel)",
   "language": "python",
   "name": "python3"
  },
  "language_info": {
   "codemirror_mode": {
    "name": "ipython",
    "version": 3
   },
   "file_extension": ".py",
   "mimetype": "text/x-python",
   "name": "python",
   "nbconvert_exporter": "python",
   "pygments_lexer": "ipython3",
   "version": "3.10.8"
  }
 },
 "nbformat": 4,
 "nbformat_minor": 5
}
