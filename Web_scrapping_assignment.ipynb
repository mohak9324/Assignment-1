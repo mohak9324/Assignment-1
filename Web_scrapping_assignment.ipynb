{
 "cells": [
  {
   "cell_type": "code",
   "execution_count": 1,
   "id": "40c4c160-f7a4-457f-b13e-e4a47935f97a",
   "metadata": {},
   "outputs": [],
   "source": [
    "#Q1"
   ]
  },
  {
   "cell_type": "markdown",
   "id": "dba3f1e4-0483-4b26-ba8b-a12c95682e18",
   "metadata": {},
   "source": [
    "Web scraping refers to the automated extraction of data from websites. It involves writing a program or utilizing a tool to access and gather information from web pages in a structured manner. Web scraping is used to retrieve specific data points or large volumes of data from various websites.\n",
    " Three areas :- 1. Data collection and monitoring\n",
    " 2. Academic research\n",
    " 3. market research"
   ]
  },
  {
   "cell_type": "code",
   "execution_count": 2,
   "id": "78b67e57-a26d-4edb-b5ae-eda41a50de02",
   "metadata": {},
   "outputs": [],
   "source": [
    "#Q2"
   ]
  },
  {
   "cell_type": "markdown",
   "id": "c0e51d9d-0c0b-4507-a9b1-575cdc1d2f0b",
   "metadata": {},
   "source": [
    "1. manual copy pasting\n",
    "2. using code o extract data from html source code.\n",
    "3. python libraries"
   ]
  },
  {
   "cell_type": "code",
   "execution_count": 3,
   "id": "f70e99bd-6885-47f6-91a0-59453f0c5f54",
   "metadata": {},
   "outputs": [],
   "source": [
    "#Q3"
   ]
  },
  {
   "cell_type": "markdown",
   "id": "af845950-fe97-4c64-a4dd-d7545dafd7c0",
   "metadata": {},
   "source": [
    "Python library widely used for web scraping and parsing HTML and XML documents. It provides a convenient way to navigate, search, and extract data from HTML or XML source code\n",
    "Beautiful Soup provides methods to search and extract specific data from HTML or XML documents. It supports various searching techniques like searching by tag name, attributes, CSS selectors, and more. This makes it simple to locate and extract desired data points from the document.\n",
    "Beautiful Soup handles Unicode characters seamlessly, making it suitable for scraping websites with multilingual content.\n",
    "Beautiful Soup is an open-source library with an active community. It has extensive documentation and a wide range of examples, making it easy to learn and use for web scraping tasks."
   ]
  },
  {
   "cell_type": "code",
   "execution_count": 4,
   "id": "92aa42a9-e536-4e47-b01b-a1d3262008da",
   "metadata": {},
   "outputs": [],
   "source": [
    "#Q4"
   ]
  },
  {
   "cell_type": "markdown",
   "id": "5d435113-5f7d-4306-ae92-fbb5514b6c6a",
   "metadata": {},
   "source": [
    "1. Flask is a popular Python web framework used for building web applications. \n",
    "2. Flask allows you to create a user interface for your web scraping project. You can design and implement a web application with Flask to provide a user-friendly interface for interacting with the web scraping functionality. This can include options for inputting URLs, selecting scraping parameters, displaying the scraped data, and more.\n",
    "3. Web scraping often involves sending HTTP requests to websites and retrieving HTML content. Flask provides capabilities to handle incoming HTTP requests and route them to the appropriate functions in your application. You can use Flask's routing mechanism to define the endpoints for receiving URLs or parameters to initiate the scraping process.\n",
    "4. Flask makes it relatively easy to deploy and host web applications. You can deploy your web scraping project on a web server or cloud platform using Flask, allowing others to access and utilize the scraping functionality through a web interface.\n"
   ]
  },
  {
   "cell_type": "code",
   "execution_count": 5,
   "id": "e18c6db6-2af7-43e9-9814-5b28504c9eaa",
   "metadata": {},
   "outputs": [],
   "source": [
    "#Q4"
   ]
  },
  {
   "cell_type": "code",
   "execution_count": null,
   "id": "3b44474e-f25b-459d-af44-a62a3224d1ff",
   "metadata": {},
   "outputs": [],
   "source": [
    "codeline and beanstack is used in aws services.\n"
   ]
  },
  {
   "cell_type": "code",
   "execution_count": null,
   "id": "200609c7-748c-479c-babb-a5c141b2131e",
   "metadata": {},
   "outputs": [],
   "source": []
  }
 ],
 "metadata": {
  "kernelspec": {
   "display_name": "Python 3 (ipykernel)",
   "language": "python",
   "name": "python3"
  },
  "language_info": {
   "codemirror_mode": {
    "name": "ipython",
    "version": 3
   },
   "file_extension": ".py",
   "mimetype": "text/x-python",
   "name": "python",
   "nbconvert_exporter": "python",
   "pygments_lexer": "ipython3",
   "version": "3.10.8"
  }
 },
 "nbformat": 4,
 "nbformat_minor": 5
}
