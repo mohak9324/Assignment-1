{
 "cells": [
  {
   "cell_type": "code",
   "execution_count": null,
   "id": "3d163e2a-410a-4666-ba30-46c2ef5167fa",
   "metadata": {},
   "outputs": [],
   "source": [
    "#Q1"
   ]
  },
  {
   "cell_type": "markdown",
   "id": "360e4b05-19ea-41d7-bab8-7a11ee60cba4",
   "metadata": {},
   "source": [
    "API is Application Programming interface.it is a set of rules which allows different sofrware application to communicate \n",
    "with each other.\n",
    "APIs define the methode and data format that application can use to request and exchange information.\n",
    "\n",
    "An example of API usage in real life is when you use a mobile application to book a ride with a ridesharing service like Uber or Lyft. The mobile app communicates with the ridesharing service's API to send a request for a ride. The API then processes the request, checks for available drivers, calculates the fare, and sends back the response to the mobile app with the details of the assigned driver, estimated arrival time, and fare information. The mobile app uses the data received from the API to display the necessary information to the user."
   ]
  },
  {
   "cell_type": "code",
   "execution_count": 1,
   "id": "b3a88cf9-9622-4aa5-8095-ff5a8ff2c42c",
   "metadata": {},
   "outputs": [],
   "source": [
    "#Q2"
   ]
  },
  {
   "cell_type": "markdown",
   "id": "d4c7c790-9955-4ce0-8a30-8bbabad93053",
   "metadata": {},
   "source": [
    "Advantages:-\n",
    "1. Modularity and Scalability :- APIs allow developers to break down complex systems into smaller, modular components. This promotes scalability, as different components can be developed and updated independently, \n",
    "                                 making it easier to add new features or expand functionality.\n",
    "2. Reusability and Efficiency :- APIs provide a standardized way to access and reuse functionality across different applications. Developers can leverage existing APIs to save time and effort,\n",
    "3. Integration  :- APIs enable different software systems to communicate and share data seamlessly.\n",
    "\n",
    "Disadvantage:-\n",
    "1. Complexity :-  Working with APIs requires understanding their documentation, endpoints, parameters, and authentication mechanisms.\n",
    "2. Dependency and Reliability:- When applications rely heavily on external APIs, their functionality and performance can be impacted if the API experiences downtime or changes in its specifications.\n",
    "3. Security and Privacy Risks:- APIs can be vulnerable to security threats if not properly secured."
   ]
  },
  {
   "cell_type": "code",
   "execution_count": 2,
   "id": "338e2092-626b-4964-9b9b-edc35ac217f4",
   "metadata": {},
   "outputs": [],
   "source": [
    "#Q3"
   ]
  },
  {
   "cell_type": "markdown",
   "id": "799dddd3-86c2-4084-874a-1441ee6282f4",
   "metadata": {},
   "source": [
    "web API also known as web services or HTTPS API, it i specific type of API which can be accessed over web using HTTP protocol.\n",
    "1. Scope of Communication:\n",
    "API:- An API can facilitate communication between various types of software systems, including desktop applications, mobile apps, databases, operating systems, and more. \n",
    "        It encompasses a broader range of communication protocols and can be used for both local and remote interactions.\n",
    "\n",
    "Web API:- A Web API specifically focuses on communication over the web using HTTP.\n",
    "        It is designed to enable interaction between web-based systems, allowing clients (such as web browsers or mobile apps) to access and utilize the functionalities and data provided by the web service\n",
    "    \n",
    "2. Communication Protocol:-\n",
    "\n",
    "API:- APIs can utilize various communication protocols, including HTTP, REST, SOAP, RPC, and more.      \n",
    "\n",
    "Web API:- Web APIs are based on the HTTP protocol and primarily use HTTP methods (such as GET, POST, PUT, DELETE) to perform operations on resources exposed by the API.\n",
    "\n",
    "3. Transport Mechanism:-\n",
    "\n",
    "API:- APIs can communicate over different transport mechanisms, including HTTP, TCP/IP, messaging systems, and more. \n",
    "\n",
    "Web API:- Web APIs are typically accessed over the internet using HTTP as the transport mechanism."
   ]
  },
  {
   "cell_type": "code",
   "execution_count": 3,
   "id": "f553b120-3a35-44f5-b78d-52894a67ac6a",
   "metadata": {},
   "outputs": [],
   "source": [
    "#Q4"
   ]
  },
  {
   "cell_type": "markdown",
   "id": "73c3c722-94de-45a2-9c77-8477180c0d2e",
   "metadata": {},
   "source": [
    "REST:- Representational State Transfer \n",
    "SOAP:- Simple Object Access Protocol\n",
    "\n",
    "REST :-\n",
    "1. REST is an architectural style that emphasizes a stateless, client-server, and resource-oriented approach for designing web services.\n",
    "2. It relies on standard HTTP methods (GET, POST, PUT, DELETE) to perform operations on resources identified by URLs.\n",
    "3. RESTful APIs use JSON or XML as the data exchange format, and they are lightweight, simple, and easy to understand.\n",
    "4. REST promotes scalability, flexibility, and loose coupling between clients and servers.\n",
    "\n",
    "\n",
    "Shortcomings of SOAP:-\n",
    "\n",
    "1. Complexity:- SOAP is more complex compared to REST. It involves a lot of XML overhead and requires a detailed understanding of the SOAP protocol and related standards, which can increase development and maintenance efforts.\n",
    "2. Performance Overhead:- SOAP messages tend to be larger in size due to the XML-based message format, resulting in increased bandwidth consumption and slower transmission compared to REST.\n",
    "3. Debugging:- SOAP messages are not easily readable or writable by humans, making it difficult to debug or troubleshoot issues during development and testing.\n",
    "4. Limited Compatibility: SOAP has limited compatibility with platforms and technologies. It may not work seamlessly with certain programming languages and may require specific SOAP libraries or frameworks for implementation.\n"
   ]
  },
  {
   "cell_type": "code",
   "execution_count": 4,
   "id": "b3f3cca8-54c3-4865-adc6-02bf89accca2",
   "metadata": {},
   "outputs": [],
   "source": [
    "#Q5"
   ]
  },
  {
   "cell_type": "markdown",
   "id": "89021082-469a-40ba-b70e-f37e29e62711",
   "metadata": {},
   "source": [
    "1. Architecture Style:\n",
    "\n",
    "REST: REST is an architectural style that emphasizes a stateless, client-server, and resource-oriented approach. \n",
    "SOAP: SOAP is a protocol-based architectural style. It defines a set of rules and standards for structuring messages and exchanging data between web services. \n",
    "\n",
    "2. Communication Protocol:\n",
    "\n",
    "REST: REST uses standard HTTP protocols for communication, including GET, POST, PUT, DELETE, etc. \n",
    "SOAP: SOAP is protocol-independent and can work over various transport protocols such as HTTP, SMTP, or JMS. \n",
    "\n",
    "3. Message Format:\n",
    "\n",
    "REST: RESTful APIs typically use lightweight data exchange formats like JSON or XML for message formatting. JSON is widely used due to its simplicity, human-readability, and efficient parsing.\n",
    "SOAP: SOAP messages use XML as the message format. XML provides a structured and extensible way to represent complex data structures and supports features like namespaces, data typing, and schema validation.\n",
    "\n",
    "4. Performance:\n",
    "\n",
    "REST: RESTful services are generally considered lightweight and have better performance due to the simplicity of the message format (e.g., JSON) and the stateless nature of the communication.\n",
    "SOAP: SOAP messages tend to be larger in size due to the XML-based message format, resulting in increased bandwidth consumption and slower transmission compared to REST."
   ]
  },
  {
   "cell_type": "code",
   "execution_count": null,
   "id": "303d3afa-96f6-4794-aa97-7fd08fdb1932",
   "metadata": {},
   "outputs": [],
   "source": []
  },
  {
   "cell_type": "code",
   "execution_count": null,
   "id": "4f2f0c13-eaf7-4cb4-bcb2-0ae8993688a1",
   "metadata": {},
   "outputs": [],
   "source": []
  },
  {
   "cell_type": "code",
   "execution_count": null,
   "id": "071286e2-3b40-4b17-b3f3-8be0179091dd",
   "metadata": {},
   "outputs": [],
   "source": []
  },
  {
   "cell_type": "code",
   "execution_count": null,
   "id": "51b96485-4176-4696-bcab-0d7a869e2e34",
   "metadata": {},
   "outputs": [],
   "source": []
  },
  {
   "cell_type": "code",
   "execution_count": null,
   "id": "acd018f5-a673-48fa-a9eb-02df289861d9",
   "metadata": {},
   "outputs": [],
   "source": []
  }
 ],
 "metadata": {
  "kernelspec": {
   "display_name": "Python 3 (ipykernel)",
   "language": "python",
   "name": "python3"
  },
  "language_info": {
   "codemirror_mode": {
    "name": "ipython",
    "version": 3
   },
   "file_extension": ".py",
   "mimetype": "text/x-python",
   "name": "python",
   "nbconvert_exporter": "python",
   "pygments_lexer": "ipython3",
   "version": "3.10.8"
  }
 },
 "nbformat": 4,
 "nbformat_minor": 5
}
