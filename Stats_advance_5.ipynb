{
 "cells": [
  {
   "cell_type": "code",
   "execution_count": 3,
   "id": "55dcb431-1d42-46c9-99b4-47f4e87e3bae",
   "metadata": {},
   "outputs": [],
   "source": [
    "import scipy.stats as stats\n",
    "import numpy as np"
   ]
  },
  {
   "cell_type": "code",
   "execution_count": 2,
   "id": "bd3ba320-d2db-4a24-9da4-d87b405f8d9d",
   "metadata": {},
   "outputs": [],
   "source": [
    "# #Q1 Calculate the 95% confidence interval for a sample of data with a mean of 50 and a standard deviation\n",
    "# of 5 using Python. Interpret the results."
   ]
  },
  {
   "cell_type": "code",
   "execution_count": 4,
   "id": "a63057fa-8cd0-4415-8687-1e600275ad37",
   "metadata": {},
   "outputs": [],
   "source": [
    "sample_mean=50\n",
    "sample_std=5\n",
    "sample_size=30 #(assumed)\n",
    "confidence_level=0.95\n",
    "\n",
    "se= sample_std/np.sqrt(30)\n",
    "\n",
    "confidence_interval=stats.t.interval(confidence_level,df=sample_size-1,loc=sample_mean,scale=se)"
   ]
  },
  {
   "cell_type": "code",
   "execution_count": 5,
   "id": "24d10b8a-a5ce-4995-8929-64df739340f2",
   "metadata": {},
   "outputs": [
    {
     "data": {
      "text/plain": [
       "(48.1329693162095, 51.8670306837905)"
      ]
     },
     "execution_count": 5,
     "metadata": {},
     "output_type": "execute_result"
    }
   ],
   "source": [
    "confidence_interval"
   ]
  },
  {
   "cell_type": "code",
   "execution_count": 6,
   "id": "68382fec-6ed3-4700-ba51-7b769aed89b3",
   "metadata": {},
   "outputs": [],
   "source": [
    "# #Q2. Conduct a chi-square goodness of fit test to determine if the distribution of colors of M&Ms in a bag\n",
    "# matches the expected distribution of 20% blue, 20% orange, 20% green, 10% yellow, 10% red, and 20%\n",
    "# brown. Use Python to perform the test with a significance level of 0.05."
   ]
  },
  {
   "cell_type": "code",
   "execution_count": 8,
   "id": "38ffb9df-c8b6-4f41-ae3a-285ee68e45fe",
   "metadata": {},
   "outputs": [],
   "source": [
    "observed_freq=np.array([25,20,18,9,11,17])\n",
    "expected_prob=np.array([0.20,0.20,0.20,0.10,0.10,0.20])\n",
    "\n",
    "total_observed= sum(observed_freq)\n",
    "expected_freq=total_observed*expected_prob"
   ]
  },
  {
   "cell_type": "code",
   "execution_count": 9,
   "id": "bd4d778b-d43a-4bb6-bee9-58785126f9ae",
   "metadata": {},
   "outputs": [
    {
     "data": {
      "text/plain": [
       "array([20., 20., 20., 10., 10., 20.])"
      ]
     },
     "execution_count": 9,
     "metadata": {},
     "output_type": "execute_result"
    }
   ],
   "source": [
    "expected_freq"
   ]
  },
  {
   "cell_type": "code",
   "execution_count": 10,
   "id": "3615e896-7090-474b-a502-1fd037e7a25d",
   "metadata": {},
   "outputs": [],
   "source": [
    "chi_squared,p_value=stats.chisquare(f_obs=observed_freq,f_exp=expected_freq)"
   ]
  },
  {
   "cell_type": "code",
   "execution_count": 11,
   "id": "269af09d-f247-49d9-aec9-a0976996e0d3",
   "metadata": {},
   "outputs": [
    {
     "data": {
      "text/plain": [
       "2.1"
      ]
     },
     "execution_count": 11,
     "metadata": {},
     "output_type": "execute_result"
    }
   ],
   "source": [
    "chi_squared"
   ]
  },
  {
   "cell_type": "code",
   "execution_count": 12,
   "id": "f6e51c93-9f8e-4974-8933-b416cc6ba846",
   "metadata": {},
   "outputs": [
    {
     "data": {
      "text/plain": [
       "0.8351423006416339"
      ]
     },
     "execution_count": 12,
     "metadata": {},
     "output_type": "execute_result"
    }
   ],
   "source": [
    "p_value"
   ]
  },
  {
   "cell_type": "markdown",
   "id": "619d384d-07d8-4742-90ba-5d8e951f6edc",
   "metadata": {},
   "source": [
    "H0= distribution of colors match expected distribution\n",
    "H1= distribution of colors does not match expected distribution\n",
    "p_value>0.05 , so we fail to reject Null hypothesis"
   ]
  },
  {
   "cell_type": "code",
   "execution_count": 13,
   "id": "3df50706-06d2-4def-a8ba-c8447016bbc6",
   "metadata": {},
   "outputs": [],
   "source": [
    "#Q3 "
   ]
  },
  {
   "cell_type": "code",
   "execution_count": 14,
   "id": "6e0adcbd-d921-41cf-b41c-322156692c20",
   "metadata": {},
   "outputs": [],
   "source": [
    "observed = np.array([[20, 15],\n",
    "                     [10, 25],\n",
    "                     [15, 20]])\n",
    "\n",
    "chi2, p, _, _ = stats.chi2_contingency(observed)"
   ]
  },
  {
   "cell_type": "code",
   "execution_count": 15,
   "id": "4ebb009e-375a-4b74-ad12-3a98ad3e82d8",
   "metadata": {},
   "outputs": [
    {
     "data": {
      "text/plain": [
       "5.833333333333334"
      ]
     },
     "execution_count": 15,
     "metadata": {},
     "output_type": "execute_result"
    }
   ],
   "source": [
    "chi2"
   ]
  },
  {
   "cell_type": "code",
   "execution_count": 16,
   "id": "80aa9fcd-2d72-496b-bc71-b001b36530db",
   "metadata": {},
   "outputs": [
    {
     "data": {
      "text/plain": [
       "0.05411376622282158"
      ]
     },
     "execution_count": 16,
     "metadata": {},
     "output_type": "execute_result"
    }
   ],
   "source": [
    "p"
   ]
  },
  {
   "cell_type": "code",
   "execution_count": 17,
   "id": "3a511480-4834-45d4-b741-51831a72e7d4",
   "metadata": {},
   "outputs": [],
   "source": [
    "#Q4"
   ]
  },
  {
   "cell_type": "code",
   "execution_count": 18,
   "id": "d3f4007e-7e42-4517-9f2d-41ea6796273b",
   "metadata": {},
   "outputs": [],
   "source": [
    "# Q4. A study of the prevalence of smoking in a population of 500 individuals found that 60 individuals\n",
    "# smoked. Use Python to calculate the 95% confidence interval for the true proportion of individuals in the\n",
    "# population who smoke."
   ]
  },
  {
   "cell_type": "code",
   "execution_count": 26,
   "id": "c0ecf2b8-8c2a-4490-95e2-a1d5b9b1d376",
   "metadata": {},
   "outputs": [],
   "source": [
    "sample_proportion = 60/500\n",
    "sample_size=500\n",
    "\n",
    "cl=0.95\n",
    "\n",
    "standard_error= np.sqrt((sample_proportion*(1-sample_proportion))/sample_size)\n",
    "\n",
    "critical_value=stats.norm.ppf(1-(1-cl)/2) # or 1.96 as cl is 95%"
   ]
  },
  {
   "cell_type": "code",
   "execution_count": 25,
   "id": "1174c722-1d6f-43b1-acca-7c3b16d2536b",
   "metadata": {},
   "outputs": [
    {
     "data": {
      "text/plain": [
       "1.959963984540054"
      ]
     },
     "execution_count": 25,
     "metadata": {},
     "output_type": "execute_result"
    }
   ],
   "source": [
    "critical_value"
   ]
  },
  {
   "cell_type": "code",
   "execution_count": 21,
   "id": "56c6d984-d80a-4448-bd3a-c47b5b3e6b20",
   "metadata": {},
   "outputs": [],
   "source": [
    "margin_of_error= critical_value* standard_error"
   ]
  },
  {
   "cell_type": "code",
   "execution_count": 22,
   "id": "6a26891f-10b4-478d-9990-b5e11f883f2b",
   "metadata": {},
   "outputs": [],
   "source": [
    "lower_bound = sample_proportion - margin_of_error\n",
    "upper_bound = sample_proportion + margin_of_error"
   ]
  },
  {
   "cell_type": "code",
   "execution_count": 23,
   "id": "f2735402-0a6c-4b1e-9623-338fc5f6a80e",
   "metadata": {},
   "outputs": [
    {
     "data": {
      "text/plain": [
       "0.1484836111286929"
      ]
     },
     "execution_count": 23,
     "metadata": {},
     "output_type": "execute_result"
    }
   ],
   "source": [
    "upper_bound"
   ]
  },
  {
   "cell_type": "code",
   "execution_count": 24,
   "id": "e2e4a678-c7be-4ad2-9dcd-6eb0f96e0318",
   "metadata": {},
   "outputs": [
    {
     "data": {
      "text/plain": [
       "0.09151638887130707"
      ]
     },
     "execution_count": 24,
     "metadata": {},
     "output_type": "execute_result"
    }
   ],
   "source": [
    "lower_bound"
   ]
  },
  {
   "cell_type": "code",
   "execution_count": 28,
   "id": "d9e443da-3d2e-4705-b1a5-0de8ff444cb0",
   "metadata": {},
   "outputs": [],
   "source": [
    "# Q5. Calculate the 90% confidence interval for a sample of data with a mean of 75 and a standard deviation\n",
    "# of 12 using Python. Interpret the results."
   ]
  },
  {
   "cell_type": "code",
   "execution_count": 33,
   "id": "fb1ed772-d657-4113-83b1-df345c486bdd",
   "metadata": {},
   "outputs": [],
   "source": [
    "sample_mean=75\n",
    "sample_std=12\n",
    "sample_size=30 #(assumed)\n",
    "confidence_level=0.90\n",
    "\n",
    "se= sample_std/np.sqrt(30)\n",
    "\n",
    "confidence_interval=stats.t.interval(confidence_level,df=sample_size-1,loc=sample_mean,scale=se)"
   ]
  },
  {
   "cell_type": "code",
   "execution_count": 34,
   "id": "c953514f-aa5b-47e2-87a4-54796156695f",
   "metadata": {},
   "outputs": [
    {
     "data": {
      "text/plain": [
       "(71.27739919800369, 78.72260080199631)"
      ]
     },
     "execution_count": 34,
     "metadata": {},
     "output_type": "execute_result"
    }
   ],
   "source": [
    "confidence_interval"
   ]
  },
  {
   "cell_type": "code",
   "execution_count": 35,
   "id": "f6abcb6f-9331-4587-b575-dfb786d5a35e",
   "metadata": {},
   "outputs": [],
   "source": [
    "# Use Python to plot the chi-square distribution with 10 degrees of freedom. Label the axes and shade the\n",
    "# area corresponding to a chi-square statistic of 15."
   ]
  },
  {
   "cell_type": "code",
   "execution_count": 36,
   "id": "0620a5bf-892a-4d21-88b5-49e5bc9fcc05",
   "metadata": {},
   "outputs": [
    {
     "data": {
      "image/png": "[encoded data removed]",
      "text/plain": [
       "<Figure size 1000x600 with 1 Axes>"
      ]
     },
     "metadata": {},
     "output_type": "display_data"
    }
   ],
   "source": [
    "import numpy as np\n",
    "import matplotlib.pyplot as plt\n",
    "import scipy.stats as stats\n",
    "\n",
    "# Degrees of freedom\n",
    "df = 10\n",
    "\n",
    "# Define a range of chi-square values\n",
    "x = np.linspace(0, 30, 1000)\n",
    "\n",
    "# Calculate the PDF values for the chi-square distribution\n",
    "pdf_values = stats.chi2.pdf(x, df)\n",
    "\n",
    "# Create the plot\n",
    "plt.figure(figsize=(10, 6))\n",
    "plt.plot(x, pdf_values, label=f'Chi-Square PDF (df={df})')\n",
    "\n",
    "# Shade the area corresponding to a chi-square statistic of 15\n",
    "x_fill = np.linspace(0, 15, 1000)\n",
    "pdf_fill = stats.chi2.pdf(x_fill, df)\n",
    "plt.fill_between(x_fill, pdf_fill, color='lightblue', alpha=0.5, label='Chi-Square Statistic of 15')\n",
    "\n",
    "# Label the axes and add a legend\n",
    "plt.xlabel('Chi-Square Value')\n",
    "plt.ylabel('Probability Density')\n",
    "plt.title(f'Chi-Square Distribution (df={df}) with Shaded Area')\n",
    "plt.legend()\n",
    "\n",
    "# Show the plot\n",
    "plt.grid(True)\n",
    "plt.show()\n"
   ]
  },
  {
   "cell_type": "code",
   "execution_count": 37,
   "id": "92f1e46c-c10c-4732-b4e5-e1b1571dccb7",
   "metadata": {},
   "outputs": [],
   "source": [
    "# Q7. A random sample of 1000 people was asked if they preferred Coke or Pepsi. Of the sample, 520\n",
    "# preferred Coke. Calculate a 99% confidence interval for the true proportion of people in the population who\n",
    "# prefer Coke."
   ]
  },
  {
   "cell_type": "code",
   "execution_count": 38,
   "id": "156e86d5-ca1e-4cc9-9741-9d676f6cad67",
   "metadata": {},
   "outputs": [],
   "source": [
    "sample_proportion = 520/1000\n",
    "sample_size=1000\n",
    "\n",
    "cl=0.99\n",
    "\n",
    "standard_error= np.sqrt((sample_proportion*(1-sample_proportion))/sample_size)\n",
    "\n",
    "critical_value=stats.norm.ppf(1-(1-cl)/2) # \n",
    "margin_of_error= critical_value* standard_error\n",
    "\n",
    "lower_bound = sample_proportion - margin_of_error\n",
    "upper_bound = sample_proportion + margin_of_error"
   ]
  },
  {
   "cell_type": "code",
   "execution_count": 39,
   "id": "14b0d779-59a7-4064-9145-cb200056f31a",
   "metadata": {},
   "outputs": [
    {
     "data": {
      "text/plain": [
       "0.5606948423220302"
      ]
     },
     "execution_count": 39,
     "metadata": {},
     "output_type": "execute_result"
    }
   ],
   "source": [
    "upper_bound"
   ]
  },
  {
   "cell_type": "code",
   "execution_count": 40,
   "id": "bd3a564f-b110-4f05-8541-788aea27c084",
   "metadata": {},
   "outputs": [
    {
     "data": {
      "text/plain": [
       "0.4793051576779699"
      ]
     },
     "execution_count": 40,
     "metadata": {},
     "output_type": "execute_result"
    }
   ],
   "source": [
    "lower_bound"
   ]
  },
  {
   "cell_type": "code",
   "execution_count": 43,
   "id": "b9b0168d-28fe-4ee8-a906-2fc6e0635d78",
   "metadata": {},
   "outputs": [],
   "source": [
    "# Q8. A researcher hypothesizes that a coin is biased towards tails. They flip the coin 100 times and observe\n",
    "# 45 tails. Conduct a chi-square goodness of fit test to determine if the observed frequencies match the\n",
    "# # expected frequencies of a fair coin. Use a significance level of 0.05."
   ]
  },
  {
   "cell_type": "code",
   "execution_count": 45,
   "id": "25665572-5a00-419e-bfe3-f3664e0c0ba5",
   "metadata": {},
   "outputs": [],
   "source": [
    "observed_tail=45\n",
    "expected_tail=50\n",
    "\n",
    "chi_squared = ((observed_tail - expected_tail) ** 2) / expected_tail"
   ]
  },
  {
   "cell_type": "code",
   "execution_count": 46,
   "id": "3eaf5f74-4613-4309-b912-a49e1922d56e",
   "metadata": {},
   "outputs": [],
   "source": [
    "alpha = 0.05\n",
    "\n",
    "# Determine the critical chi-square value for df=1 and alpha=0.05\n",
    "critical_value = stats.chi2.ppf(1 - alpha, df=1)"
   ]
  },
  {
   "cell_type": "code",
   "execution_count": 47,
   "id": "ac0c0264-e4fd-4f2f-b844-40d85519b191",
   "metadata": {},
   "outputs": [
    {
     "data": {
      "text/plain": [
       "0.5"
      ]
     },
     "execution_count": 47,
     "metadata": {},
     "output_type": "execute_result"
    }
   ],
   "source": [
    "chi_squared"
   ]
  },
  {
   "cell_type": "code",
   "execution_count": 48,
   "id": "4c822254-21f5-41ec-a4f8-83b2200de936",
   "metadata": {},
   "outputs": [
    {
     "data": {
      "text/plain": [
       "3.841458820694124"
      ]
     },
     "execution_count": 48,
     "metadata": {},
     "output_type": "execute_result"
    }
   ],
   "source": [
    "critical_value"
   ]
  },
  {
   "cell_type": "markdown",
   "id": "fc0bb9f6-205c-4d20-8933-9adc59b8796e",
   "metadata": {},
   "source": [
    "chi_squared<critical_value we fail to reject H0"
   ]
  },
  {
   "cell_type": "code",
   "execution_count": 49,
   "id": "7910f178-f2e3-46a3-a53e-fb96af22fdc6",
   "metadata": {},
   "outputs": [],
   "source": [
    "# Q9. A study was conducted to determine if there is an association between smoking status (smoker or\n",
    "# non-smoker) and lung cancer diagnosis (yes or no). The results are shown in the contingency table below.\n",
    "# Conduct a chi-square test for independence to determine if there is a significant association between\n",
    "# smoking status and lung cancer diagnosis.\n",
    "\n"
   ]
  },
  {
   "cell_type": "markdown",
   "id": "aaa5bd0a-7520-442f-a441-08107630cd19",
   "metadata": {},
   "source": [
    "Null Hypothesis (H0): There is no association between smoking status and lung cancer diagnosis (i.e., they are independent).\n",
    "Alternative Hypothesis (Ha): There is an association between smoking status and lung cancer diagnosis (i.e., they are not independent)."
   ]
  },
  {
   "cell_type": "code",
   "execution_count": 50,
   "id": "36305399-8b05-4fe1-8883-3493af1053c1",
   "metadata": {},
   "outputs": [
    {
     "name": "stdout",
     "output_type": "stream",
     "text": [
      "Reject the null hypothesis. There is a significant association between smoking status and lung cancer diagnosis.\n"
     ]
    }
   ],
   "source": [
    "import scipy.stats as stats\n",
    "\n",
    "# Create a 2x2 contingency table\n",
    "observed = [[60, 140], [30, 170]]\n",
    "\n",
    "# Perform the chi-square test for independence\n",
    "chi2, p, _, _ = stats.chi2_contingency(observed)\n",
    "\n",
    "# Set the significance level\n",
    "alpha = 0.05\n",
    "\n",
    "# Determine the critical chi-square value for df=1 and alpha=0.05\n",
    "critical_value = stats.chi2.ppf(1 - alpha, df=1)\n",
    "\n",
    "# Compare the chi-square statistic to the critical value\n",
    "if chi2 > critical_value:\n",
    "    print(\"Reject the null hypothesis. There is a significant association between smoking status and lung cancer diagnosis.\")\n",
    "else:\n",
    "    print(\"Fail to reject the null hypothesis. There is no significant association between smoking status and lung cancer diagnosis.\")\n"
   ]
  },
  {
   "cell_type": "code",
   "execution_count": 51,
   "id": "5f30e7da-96de-4e1a-8aba-59fc6c1ba5a9",
   "metadata": {},
   "outputs": [
    {
     "data": {
      "text/plain": [
       "0.0005158863863703744"
      ]
     },
     "execution_count": 51,
     "metadata": {},
     "output_type": "execute_result"
    }
   ],
   "source": [
    "p"
   ]
  },
  {
   "cell_type": "markdown",
   "id": "bb48ad28-b0d8-4ba2-bff4-b67b97146f94",
   "metadata": {},
   "source": [
    "p<0.05 we rejct the null hypothesis"
   ]
  },
  {
   "cell_type": "code",
   "execution_count": 53,
   "id": "f1669c15-6ad5-4a87-a0d1-9ef4a8c5e8f4",
   "metadata": {},
   "outputs": [],
   "source": [
    "# Q10. A study was conducted to determine if the proportion of people who prefer milk chocolate, dark\n",
    "# chocolate, or white chocolate is different in the U.S. versus the U.K. A random sample of 500 people from\n",
    "# the U.S. and a random sample of 500 people from the U.K. were surveyed. The results are shown in the\n",
    "# contingency table below. Conduct a chi-square test for independence to determine if there is a significant\n",
    "# association between chocolate preference and country of origin."
   ]
  },
  {
   "cell_type": "code",
   "execution_count": 54,
   "id": "d5117d53-6296-42b8-9117-a9eb6cfc1b0e",
   "metadata": {},
   "outputs": [],
   "source": [
    "observed = [[200, 150,150], [225, 175,100]]"
   ]
  },
  {
   "cell_type": "code",
   "execution_count": 57,
   "id": "60ac9c71-ea4e-4bb2-87bb-77a517c1466d",
   "metadata": {},
   "outputs": [],
   "source": [
    "chi2, p, dof, expected = stats.chi2_contingency(observed)"
   ]
  },
  {
   "cell_type": "code",
   "execution_count": 61,
   "id": "fe4d45b3-b5a5-429f-b094-460c19bd52de",
   "metadata": {},
   "outputs": [
    {
     "name": "stdout",
     "output_type": "stream",
     "text": [
      "Reject the null hypothesis. There is a significant association between smoking status and lung cancer diagnosis.\n"
     ]
    }
   ],
   "source": [
    "alpha = 0.01\n",
    "\n",
    "# Determine the critical chi-square value for df=1 and alpha=0.05\n",
    "critical_value = stats.chi2.ppf(1 - alpha, df=1)\n",
    "\n",
    "# Compare the chi-square statistic to the critical value\n",
    "if chi2 > critical_value:\n",
    "    print(\"Reject the null hypothesis. There is a significant association between smoking status and lung cancer diagnosis.\")\n",
    "else:\n",
    "    print(\"Fail to reject the null hypothesis. There is no significant association between smoking status and lung cancer diagnosis.\")\n"
   ]
  },
  {
   "cell_type": "code",
   "execution_count": 62,
   "id": "8d4e2023-0a17-4fff-a288-f7ab27d5c46f",
   "metadata": {},
   "outputs": [
    {
     "data": {
      "text/plain": [
       "13.393665158371041"
      ]
     },
     "execution_count": 62,
     "metadata": {},
     "output_type": "execute_result"
    }
   ],
   "source": [
    "chi2"
   ]
  },
  {
   "cell_type": "code",
   "execution_count": 63,
   "id": "2eaf85b6-0488-4f05-8930-a752d8675fce",
   "metadata": {},
   "outputs": [
    {
     "data": {
      "text/plain": [
       "0.0012348168997745918"
      ]
     },
     "execution_count": 63,
     "metadata": {},
     "output_type": "execute_result"
    }
   ],
   "source": [
    "p"
   ]
  },
  {
   "cell_type": "markdown",
   "id": "77767ab6-f60d-4aad-9ea3-8a8698f4bb9f",
   "metadata": {},
   "source": [
    "p<0.05 we reject H0"
   ]
  },
  {
   "cell_type": "code",
   "execution_count": 64,
   "id": "a84e832f-da9d-4668-a0d5-74bb458e7667",
   "metadata": {},
   "outputs": [],
   "source": [
    "# Q11. A random sample of 30 people was selected from a population with an unknown mean and standard\n",
    "# deviation. The sample mean was found to be 72 and the sample standard deviation was found to be 10.\n",
    "# Conduct a hypothesis test to determine if the population mean is significantly different from 70. Use a\n",
    "# # significance level of 0.05."
   ]
  },
  {
   "cell_type": "code",
   "execution_count": 69,
   "id": "cf7d59cb-6680-4c74-b956-6633b634b702",
   "metadata": {},
   "outputs": [
    {
     "ename": "TypeError",
     "evalue": "unsupported operand type(s) for /: 'NoneType' and 'int'",
     "output_type": "error",
     "traceback": [
      "\u001b[0;31m---------------------------------------------------------------------------\u001b[0m",
      "\u001b[0;31mTypeError\u001b[0m                                 Traceback (most recent call last)",
      "Cell \u001b[0;32mIn[69], line 10\u001b[0m\n\u001b[1;32m      7\u001b[0m population_mean \u001b[38;5;241m=\u001b[39m \u001b[38;5;241m70\u001b[39m  \u001b[38;5;66;03m# Assumed population mean under the null hypothesis\u001b[39;00m\n\u001b[1;32m      9\u001b[0m \u001b[38;5;66;03m# Calculate the test statistic and p-value for a two-tailed test\u001b[39;00m\n\u001b[0;32m---> 10\u001b[0m t_statistic, p_value \u001b[38;5;241m=\u001b[39m \u001b[43mstats\u001b[49m\u001b[38;5;241;43m.\u001b[39;49m\u001b[43mttest_1samp\u001b[49m\u001b[43m(\u001b[49m\n\u001b[1;32m     11\u001b[0m \u001b[43m    \u001b[49m\u001b[43ma\u001b[49m\u001b[38;5;241;43m=\u001b[39;49m\u001b[38;5;28;43;01mNone\u001b[39;49;00m\u001b[43m,\u001b[49m\u001b[43m  \u001b[49m\u001b[38;5;66;43;03m# The sample data (None, as we're providing sample statistics)\u001b[39;49;00m\n\u001b[1;32m     12\u001b[0m \u001b[43m    \u001b[49m\u001b[43mpopmean\u001b[49m\u001b[38;5;241;43m=\u001b[39;49m\u001b[43mpopulation_mean\u001b[49m\u001b[43m  \u001b[49m\u001b[38;5;66;43;03m# Assumed population mean under the null hypothesis\u001b[39;49;00m\n\u001b[1;32m     13\u001b[0m \u001b[43m)\u001b[49m\n\u001b[1;32m     15\u001b[0m \u001b[38;5;66;03m# Set the significance level\u001b[39;00m\n\u001b[1;32m     16\u001b[0m alpha \u001b[38;5;241m=\u001b[39m \u001b[38;5;241m0.05\u001b[39m\n",
      "File \u001b[0;32m/opt/conda/lib/python3.10/site-packages/scipy/stats/_stats_py.py:6076\u001b[0m, in \u001b[0;36mttest_1samp\u001b[0;34m(a, popmean, axis, nan_policy, alternative)\u001b[0m\n\u001b[1;32m   6073\u001b[0m n \u001b[38;5;241m=\u001b[39m a\u001b[38;5;241m.\u001b[39mshape[axis]\n\u001b[1;32m   6074\u001b[0m df \u001b[38;5;241m=\u001b[39m n \u001b[38;5;241m-\u001b[39m \u001b[38;5;241m1\u001b[39m\n\u001b[0;32m-> 6076\u001b[0m d \u001b[38;5;241m=\u001b[39m \u001b[43mnp\u001b[49m\u001b[38;5;241;43m.\u001b[39;49m\u001b[43mmean\u001b[49m\u001b[43m(\u001b[49m\u001b[43ma\u001b[49m\u001b[43m,\u001b[49m\u001b[43m \u001b[49m\u001b[43maxis\u001b[49m\u001b[43m)\u001b[49m \u001b[38;5;241m-\u001b[39m popmean\n\u001b[1;32m   6077\u001b[0m v \u001b[38;5;241m=\u001b[39m _var(a, axis, ddof\u001b[38;5;241m=\u001b[39m\u001b[38;5;241m1\u001b[39m)\n\u001b[1;32m   6078\u001b[0m denom \u001b[38;5;241m=\u001b[39m np\u001b[38;5;241m.\u001b[39msqrt(v \u001b[38;5;241m/\u001b[39m n)\n",
      "File \u001b[0;32m<__array_function__ internals>:180\u001b[0m, in \u001b[0;36mmean\u001b[0;34m(*args, **kwargs)\u001b[0m\n",
      "File \u001b[0;32m/opt/conda/lib/python3.10/site-packages/numpy/core/fromnumeric.py:3432\u001b[0m, in \u001b[0;36mmean\u001b[0;34m(a, axis, dtype, out, keepdims, where)\u001b[0m\n\u001b[1;32m   3429\u001b[0m     \u001b[38;5;28;01melse\u001b[39;00m:\n\u001b[1;32m   3430\u001b[0m         \u001b[38;5;28;01mreturn\u001b[39;00m mean(axis\u001b[38;5;241m=\u001b[39maxis, dtype\u001b[38;5;241m=\u001b[39mdtype, out\u001b[38;5;241m=\u001b[39mout, \u001b[38;5;241m*\u001b[39m\u001b[38;5;241m*\u001b[39mkwargs)\n\u001b[0;32m-> 3432\u001b[0m \u001b[38;5;28;01mreturn\u001b[39;00m \u001b[43m_methods\u001b[49m\u001b[38;5;241;43m.\u001b[39;49m\u001b[43m_mean\u001b[49m\u001b[43m(\u001b[49m\u001b[43ma\u001b[49m\u001b[43m,\u001b[49m\u001b[43m \u001b[49m\u001b[43maxis\u001b[49m\u001b[38;5;241;43m=\u001b[39;49m\u001b[43maxis\u001b[49m\u001b[43m,\u001b[49m\u001b[43m \u001b[49m\u001b[43mdtype\u001b[49m\u001b[38;5;241;43m=\u001b[39;49m\u001b[43mdtype\u001b[49m\u001b[43m,\u001b[49m\n\u001b[1;32m   3433\u001b[0m \u001b[43m                      \u001b[49m\u001b[43mout\u001b[49m\u001b[38;5;241;43m=\u001b[39;49m\u001b[43mout\u001b[49m\u001b[43m,\u001b[49m\u001b[43m \u001b[49m\u001b[38;5;241;43m*\u001b[39;49m\u001b[38;5;241;43m*\u001b[39;49m\u001b[43mkwargs\u001b[49m\u001b[43m)\u001b[49m\n",
      "File \u001b[0;32m/opt/conda/lib/python3.10/site-packages/numpy/core/_methods.py:192\u001b[0m, in \u001b[0;36m_mean\u001b[0;34m(a, axis, dtype, out, keepdims, where)\u001b[0m\n\u001b[1;32m    190\u001b[0m         ret \u001b[38;5;241m=\u001b[39m ret\u001b[38;5;241m.\u001b[39mdtype\u001b[38;5;241m.\u001b[39mtype(ret \u001b[38;5;241m/\u001b[39m rcount)\n\u001b[1;32m    191\u001b[0m \u001b[38;5;28;01melse\u001b[39;00m:\n\u001b[0;32m--> 192\u001b[0m     ret \u001b[38;5;241m=\u001b[39m \u001b[43mret\u001b[49m\u001b[43m \u001b[49m\u001b[38;5;241;43m/\u001b[39;49m\u001b[43m \u001b[49m\u001b[43mrcount\u001b[49m\n\u001b[1;32m    194\u001b[0m \u001b[38;5;28;01mreturn\u001b[39;00m ret\n",
      "\u001b[0;31mTypeError\u001b[0m: unsupported operand type(s) for /: 'NoneType' and 'int'"
     ]
    }
   ],
   "source": [
    "import scipy.stats as stats\n",
    "\n",
    "# Sample data\n",
    "sample_mean = 72\n",
    "sample_std = 10\n",
    "sample_size = 30\n",
    "population_mean = 70  # Assumed population mean under the null hypothesis\n",
    "\n",
    "# Calculate the test statistic and p-value for a two-tailed test\n",
    "t_statistic, p_value = stats.ttest_1samp(\n",
    "    a=None,  # The sample data (None, as we're providing sample statistics)\n",
    "    popmean=population_mean  # Assumed population mean under the null hypothesis\n",
    ")\n",
    "\n",
    "# Set the significance level\n",
    "alpha = 0.05\n",
    "\n",
    "# Compare the p-value to the significance level\n",
    "if p_value < alpha:\n",
    "    print(\"Reject the null hypothesis. The population mean is significantly different from 70.\")\n",
    "else:\n",
    "    print(\"Fail to reject the null hypothesis. There is no significant difference from 70 in the population mean.\")\n"
   ]
  },
  {
   "cell_type": "code",
   "execution_count": null,
   "id": "d01254b2-5619-4dac-9ae8-06341739ed8d",
   "metadata": {},
   "outputs": [],
   "source": []
  }
 ],
 "metadata": {
  "kernelspec": {
   "display_name": "Python 3 (ipykernel)",
   "language": "python",
   "name": "python3"
  },
  "language_info": {
   "codemirror_mode": {
    "name": "ipython",
    "version": 3
   },
   "file_extension": ".py",
   "mimetype": "text/x-python",
   "name": "python",
   "nbconvert_exporter": "python",
   "pygments_lexer": "ipython3",
   "version": "3.10.8"
  }
 },
 "nbformat": 4,
 "nbformat_minor": 5
}
