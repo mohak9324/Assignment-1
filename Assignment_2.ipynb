{
 "cells": [
  {
   "cell_type": "code",
   "execution_count": 1,
   "id": "09685afa-2baf-46b4-9153-baa056f7c49e",
   "metadata": {},
   "outputs": [],
   "source": [
    "#Q1"
   ]
  },
  {
   "cell_type": "code",
   "execution_count": 2,
   "id": "fed65628-cd59-4e23-b260-83cd3d802482",
   "metadata": {},
   "outputs": [],
   "source": [
    "#Single line comments"
   ]
  },
  {
   "cell_type": "code",
   "execution_count": 6,
   "id": "ccdde0b3-cccb-41ae-84da-efcf61632506",
   "metadata": {},
   "outputs": [],
   "source": [
    "#Multi line commnets\n",
    "# hi \n",
    "# How \n",
    "# are You"
   ]
  },
  {
   "cell_type": "code",
   "execution_count": 7,
   "id": "5567401b-bd09-4af1-b879-237193d172c3",
   "metadata": {},
   "outputs": [],
   "source": [
    "#Q2"
   ]
  },
  {
   "cell_type": "code",
   "execution_count": 8,
   "id": "dd3c963c-a04c-4e60-b32e-fadc94993126",
   "metadata": {},
   "outputs": [],
   "source": [
    "#variables are used to store values and it can be further used in the code"
   ]
  },
  {
   "cell_type": "code",
   "execution_count": 9,
   "id": "33ae7ebb-363c-41d6-94df-222426770544",
   "metadata": {},
   "outputs": [
    {
     "data": {
      "text/plain": [
       "1"
      ]
     },
     "execution_count": 9,
     "metadata": {},
     "output_type": "execute_result"
    }
   ],
   "source": [
    "var =1\n",
    "var"
   ]
  },
  {
   "cell_type": "code",
   "execution_count": 10,
   "id": "072bb511-23af-4aca-a2bf-ac2cb146fec4",
   "metadata": {},
   "outputs": [],
   "source": [
    "#Q3"
   ]
  },
  {
   "cell_type": "code",
   "execution_count": 11,
   "id": "1d4d6c4e-7cdb-4d69-a3b8-ed0e120c31a6",
   "metadata": {},
   "outputs": [],
   "source": [
    "#using type casting"
   ]
  },
  {
   "cell_type": "code",
   "execution_count": 14,
   "id": "27074177-ef8f-4d73-af42-fe6e1544a36a",
   "metadata": {},
   "outputs": [
    {
     "data": {
      "text/plain": [
       "str"
      ]
     },
     "execution_count": 14,
     "metadata": {},
     "output_type": "execute_result"
    }
   ],
   "source": [
    "var='1'\n",
    "var_int=int(var)\n",
    "type(var)"
   ]
  },
  {
   "cell_type": "code",
   "execution_count": 13,
   "id": "5ddd4855-ed75-4e44-b770-b8995ed22fce",
   "metadata": {},
   "outputs": [
    {
     "data": {
      "text/plain": [
       "int"
      ]
     },
     "execution_count": 13,
     "metadata": {},
     "output_type": "execute_result"
    }
   ],
   "source": [
    "type(var_int)"
   ]
  },
  {
   "cell_type": "code",
   "execution_count": 15,
   "id": "96dc139b-b9c1-4027-86ee-7657c2745382",
   "metadata": {},
   "outputs": [],
   "source": [
    "#Q4"
   ]
  },
  {
   "cell_type": "code",
   "execution_count": 16,
   "id": "4756fd6d-e55f-4d42-b718-833507272b86",
   "metadata": {},
   "outputs": [],
   "source": [
    "#we arte code in code mode and we can run our line by Shift + Enter"
   ]
  },
  {
   "cell_type": "code",
   "execution_count": 17,
   "id": "843fefef-953c-492c-9412-f535830b57e4",
   "metadata": {},
   "outputs": [],
   "source": [
    "#Q5"
   ]
  },
  {
   "cell_type": "code",
   "execution_count": 18,
   "id": "85839a24-b004-48a5-a7ae-8cdd6b6027df",
   "metadata": {},
   "outputs": [],
   "source": [
    "my_list=[1,2,3,4,5]"
   ]
  },
  {
   "cell_type": "code",
   "execution_count": 19,
   "id": "b01c9d5f-759e-446c-bc93-c1ed0655cada",
   "metadata": {},
   "outputs": [
    {
     "data": {
      "text/plain": [
       "[2, 3]"
      ]
     },
     "execution_count": 19,
     "metadata": {},
     "output_type": "execute_result"
    }
   ],
   "source": [
    "my_list[1:3]"
   ]
  },
  {
   "cell_type": "code",
   "execution_count": 20,
   "id": "34227087-e2f2-42d7-9092-a8509ddaba19",
   "metadata": {},
   "outputs": [],
   "source": [
    "#Q6"
   ]
  },
  {
   "cell_type": "code",
   "execution_count": 22,
   "id": "b24eef5b-b973-4001-a632-0edd86802eeb",
   "metadata": {},
   "outputs": [],
   "source": [
    "#a+bi, where a and b are real numbers and i is a imaginary number."
   ]
  },
  {
   "cell_type": "code",
   "execution_count": 26,
   "id": "f3341bce-d2f8-4786-8a45-fabea77f4a32",
   "metadata": {},
   "outputs": [],
   "source": [
    "I1=3+4j"
   ]
  },
  {
   "cell_type": "code",
   "execution_count": 27,
   "id": "10dc754a-61a7-448e-a3c1-ab55cbb90931",
   "metadata": {},
   "outputs": [],
   "source": [
    "#Q7"
   ]
  },
  {
   "cell_type": "code",
   "execution_count": 28,
   "id": "79489f7e-6e7d-4581-93f1-047775dc68dd",
   "metadata": {},
   "outputs": [],
   "source": [
    "age=25"
   ]
  },
  {
   "cell_type": "code",
   "execution_count": 29,
   "id": "7114a59b-4769-403e-a535-1b689c3b8b51",
   "metadata": {},
   "outputs": [],
   "source": [
    "#Q8"
   ]
  },
  {
   "cell_type": "code",
   "execution_count": 30,
   "id": "885ee292-6c30-4eda-ac1b-11317aeb20c8",
   "metadata": {},
   "outputs": [
    {
     "data": {
      "text/plain": [
       "float"
      ]
     },
     "execution_count": 30,
     "metadata": {},
     "output_type": "execute_result"
    }
   ],
   "source": [
    "price=9.99\n",
    "type(price)"
   ]
  },
  {
   "cell_type": "code",
   "execution_count": 31,
   "id": "5656270b-2473-4ce8-8f6f-3f52e89d7161",
   "metadata": {},
   "outputs": [],
   "source": [
    "#Q9"
   ]
  },
  {
   "cell_type": "code",
   "execution_count": 32,
   "id": "512b2f18-d54b-4b26-972f-5a2042acbd47",
   "metadata": {},
   "outputs": [
    {
     "data": {
      "text/plain": [
       "'Mohak Khandelwal'"
      ]
     },
     "execution_count": 32,
     "metadata": {},
     "output_type": "execute_result"
    }
   ],
   "source": [
    "name='Mohak Khandelwal'\n",
    "name"
   ]
  },
  {
   "cell_type": "code",
   "execution_count": 33,
   "id": "7dbf17de-d498-448b-902b-9a2ef0e7daa5",
   "metadata": {},
   "outputs": [],
   "source": [
    "#Q10"
   ]
  },
  {
   "cell_type": "code",
   "execution_count": 34,
   "id": "781a02bf-6176-46ad-a7ac-a760a920cbe0",
   "metadata": {},
   "outputs": [],
   "source": [
    "st='Hello, World!'"
   ]
  },
  {
   "cell_type": "code",
   "execution_count": 36,
   "id": "a4202986-8688-4579-a4eb-618e1e28940f",
   "metadata": {},
   "outputs": [
    {
     "data": {
      "text/plain": [
       "'World'"
      ]
     },
     "execution_count": 36,
     "metadata": {},
     "output_type": "execute_result"
    }
   ],
   "source": [
    "st[7:12]"
   ]
  },
  {
   "cell_type": "code",
   "execution_count": 37,
   "id": "4f71e0a2-7cc4-4b75-9588-03135ac005c9",
   "metadata": {},
   "outputs": [],
   "source": [
    "#Q11"
   ]
  },
  {
   "cell_type": "code",
   "execution_count": 38,
   "id": "99d465a5-2e07-4f8b-a61d-b638362fa49f",
   "metadata": {},
   "outputs": [],
   "source": [
    "is_student=True"
   ]
  },
  {
   "cell_type": "code",
   "execution_count": null,
   "id": "c4aac156-af7c-454b-b73a-cba386ecbf3b",
   "metadata": {},
   "outputs": [],
   "source": []
  }
 ],
 "metadata": {
  "kernelspec": {
   "display_name": "Python 3 (ipykernel)",
   "language": "python",
   "name": "python3"
  },
  "language_info": {
   "codemirror_mode": {
    "name": "ipython",
    "version": 3
   },
   "file_extension": ".py",
   "mimetype": "text/x-python",
   "name": "python",
   "nbconvert_exporter": "python",
   "pygments_lexer": "ipython3",
   "version": "3.10.8"
  }
 },
 "nbformat": 4,
 "nbformat_minor": 5
}
