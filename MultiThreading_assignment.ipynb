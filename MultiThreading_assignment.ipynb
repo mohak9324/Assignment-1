{
 "cells": [
  {
   "cell_type": "code",
   "execution_count": 1,
   "id": "b51cf2b7-3255-4cf6-bd88-d1a6b6dbef7f",
   "metadata": {},
   "outputs": [],
   "source": [
    "#Q1"
   ]
  },
  {
   "cell_type": "markdown",
   "id": "8a6b1204-dd84-4a68-ab94-1f75ecc55eba",
   "metadata": {},
   "source": [
    "multithreading in python refers to the concurrent execution of multi threads within a single process. A thread is a separate flow of execution that can run concurrently with over threads, \n",
    "        allowing for parallelism and improved utilization of system resources."
   ]
  },
  {
   "cell_type": "code",
   "execution_count": 13,
   "id": "663853fc-50cd-498d-80d2-a1741657459e",
   "metadata": {},
   "outputs": [],
   "source": [
    "import threading"
   ]
  },
  {
   "cell_type": "code",
   "execution_count": 2,
   "id": "011d3894-1405-4b11-a566-f1233485a5f0",
   "metadata": {},
   "outputs": [],
   "source": [
    "#Q2"
   ]
  },
  {
   "cell_type": "markdown",
   "id": "9df6b12c-b433-4033-8fe2-47ed4839df22",
   "metadata": {},
   "source": [
    "Threading in python is used for creating and managing thread in multithreaded application."
   ]
  },
  {
   "cell_type": "code",
   "execution_count": 6,
   "id": "8ce04645-e3b1-458b-80ff-e246ad20ad4c",
   "metadata": {},
   "outputs": [
    {
     "name": "stdout",
     "output_type": "stream",
     "text": [
      "Thread execution\n",
      "Thread execution\n",
      "Active threads: 8\n"
     ]
    }
   ],
   "source": [
    "#activecount() :- This is used to retrive the number of currently active thread in the program\n",
    "\n",
    "def my_function():\n",
    "    print(\"Thread execution\")\n",
    "\n",
    "thread1=threading.Thread(target=my_function)\n",
    "thread2=threading.Thread(target=my_function)\n",
    "\n",
    "thread1.start()\n",
    "thread2.start()\n",
    "\n",
    "print(\"Active threads:\", threading.active_count())"
   ]
  },
  {
   "cell_type": "code",
   "execution_count": null,
   "id": "ef3b0ca7-c210-4b4d-93cc-f51deb1cb750",
   "metadata": {},
   "outputs": [],
   "source": [
    "# currentthread() :- this return the current thread object corresponding to caller's thread."
   ]
  },
  {
   "cell_type": "code",
   "execution_count": 12,
   "id": "03b9a4fc-32ff-465a-8e59-40879878862b",
   "metadata": {},
   "outputs": [
    {
     "name": "stdout",
     "output_type": "stream",
     "text": [
      "Current Thread: Thread 1\n",
      "Main Thread: MainThread\n"
     ]
    }
   ],
   "source": [
    "def my_function():\n",
    "    currentt=threading.current_thread()\n",
    "    print(\"Current Thread:\", currentt.name)\n",
    "    \n",
    "thread1=threading.Thread(target=my_function,name=\"Thread 1\")\n",
    "thread1.start()\n",
    "\n",
    "\n",
    "print(\"Main Thread:\",threading.current_thread().name)"
   ]
  },
  {
   "cell_type": "code",
   "execution_count": 14,
   "id": "941ed577-0dad-4f14-bbf8-3d1911a0e2a4",
   "metadata": {},
   "outputs": [
    {
     "name": "stdout",
     "output_type": "stream",
     "text": [
      "Thread Execution\n",
      "Thread Execution\n",
      "Thread Name: MainThread\n",
      "Thread Name: IOPub\n",
      "Thread Name: Heartbeat\n",
      "Thread Name: Thread-3 (_watch_pipe_fd)\n",
      "Thread Name: Thread-4 (_watch_pipe_fd)\n",
      "Thread Name: Control\n",
      "Thread Name: IPythonHistorySavingThread\n",
      "Thread Name: Thread-2\n"
     ]
    }
   ],
   "source": [
    "#enumerate() :- returns a list of all active thread object in program.\n",
    "def my_function():\n",
    "    print(\"Thread Execution\")\n",
    "    \n",
    "thread1=threading.Thread(target=my_function)  \n",
    "thread2=threading.Thread(target=my_function)\n",
    "\n",
    "thread1.start()\n",
    "thread2.start()\n",
    "\n",
    "\n",
    "threads=threading.enumerate()\n",
    "\n",
    "for i in threads:\n",
    "    print(\"Thread Name:\",i.name)"
   ]
  },
  {
   "cell_type": "code",
   "execution_count": 15,
   "id": "475e1965-9f1d-44c9-ae4a-c59045bf4cca",
   "metadata": {},
   "outputs": [],
   "source": [
    "#Q3"
   ]
  },
  {
   "cell_type": "code",
   "execution_count": 4,
   "id": "38d7fc1c-6a6c-4714-bf89-e2a09fd9c8a3",
   "metadata": {},
   "outputs": [
    {
     "name": "stdout",
     "output_type": "stream",
     "text": [
      "Thread Execution\n"
     ]
    }
   ],
   "source": [
    "# run() it is called internally by start\n",
    "import threading\n",
    "class MyThread(threading.Thread):\n",
    "        def run(self):\n",
    "            print(\"Thread Execution\")\n",
    "\n",
    "thread=MyThread()\n",
    "thread.start()"
   ]
  },
  {
   "cell_type": "code",
   "execution_count": 5,
   "id": "76f7cf82-9746-4208-a5f3-1595b2dfa47c",
   "metadata": {},
   "outputs": [],
   "source": [
    "#start() is used to start the threading "
   ]
  },
  {
   "cell_type": "code",
   "execution_count": 11,
   "id": "f8ee452a-6906-4af7-88e0-04489099fe63",
   "metadata": {},
   "outputs": [
    {
     "name": "stdout",
     "output_type": "stream",
     "text": [
      "Thread Execution\n",
      "Main thread continue\n"
     ]
    }
   ],
   "source": [
    "#join() -- this method block the execution of the calling thread untill the thread on which is called completed its execution.\n",
    "\n",
    "def my_function():\n",
    "    print(\"Thread Execution\")\n",
    "    \n",
    "thread=threading.Thread(target=my_function)\n",
    "thread.start()\n",
    "\n",
    "thread.join()\n",
    "print(\"Main thread continue\")"
   ]
  },
  {
   "cell_type": "code",
   "execution_count": null,
   "id": "bff37f8b-c006-48d9-8e31-ae4b3e2aa913",
   "metadata": {},
   "outputs": [],
   "source": [
    "#isalive() -- this is used to check wether a thread is currently active and running."
   ]
  },
  {
   "cell_type": "code",
   "execution_count": 12,
   "id": "8bf2e7b7-dead-40b3-ae72-e1bb3112c702",
   "metadata": {},
   "outputs": [],
   "source": [
    "import time"
   ]
  },
  {
   "cell_type": "code",
   "execution_count": 13,
   "id": "cd612e1e-1ab5-4180-82bf-5e563afd8c17",
   "metadata": {},
   "outputs": [
    {
     "name": "stdout",
     "output_type": "stream",
     "text": [
      "Thread is alive: True\n",
      "Thread is alive: False\n"
     ]
    }
   ],
   "source": [
    "def my_function():\n",
    "    time.sleep(2)\n",
    "    \n",
    "thread=threading.Thread(target=my_function)\n",
    "thread.start()\n",
    "\n",
    "print(\"Thread is alive:\", thread.is_alive())\n",
    "\n",
    "time.sleep(3)\n",
    "print(\"Thread is alive:\", thread.is_alive())"
   ]
  },
  {
   "cell_type": "code",
   "execution_count": 14,
   "id": "46e0a09c-104e-4ff2-801d-c8fa88a2b17d",
   "metadata": {},
   "outputs": [],
   "source": [
    "#Q4"
   ]
  },
  {
   "cell_type": "code",
   "execution_count": 14,
   "id": "ab81f494-908b-40f6-946f-d04333cb58da",
   "metadata": {},
   "outputs": [],
   "source": [
    "\n",
    "def square_func(lst):\n",
    "    ls=[]\n",
    "    for i in lst:\n",
    "        p=i**2\n",
    "        ls.append(p)\n",
    "    print(ls)\n",
    "    \n",
    "    \n",
    "def cube_func(lst):\n",
    "    lt=[]\n",
    "    for i in lst:\n",
    "        t=i**3\n",
    "        lt.append(t)\n",
    "    print(lt)"
   ]
  },
  {
   "cell_type": "code",
   "execution_count": 16,
   "id": "fa4f9de4-f1f4-4198-808d-6be9433c47c0",
   "metadata": {},
   "outputs": [
    {
     "name": "stdout",
     "output_type": "stream",
     "text": [
      "[1, 4, 9]\n",
      "[1, 8, 27]\n"
     ]
    }
   ],
   "source": [
    "thread_1=threading.Thread(target=square_func,args=([1,2,3],))\n",
    "thread_2=threading.Thread(target=cube_func,args=([1,2,3],))\n",
    "thread_1.start()\n",
    "thread_2.start()"
   ]
  },
  {
   "cell_type": "code",
   "execution_count": 17,
   "id": "ffffbf1e-41f3-48e3-b448-2b92433c57cd",
   "metadata": {},
   "outputs": [],
   "source": [
    "#Q5"
   ]
  },
  {
   "cell_type": "markdown",
   "id": "d9dc0d9a-2883-46f6-89f5-a5001d03fb29",
   "metadata": {},
   "source": [
    "Advantages:-\n",
    "1. Improve performance\n",
    "2. Resource shareing\n",
    "3. Simplified Program design\n",
    "\n",
    "Disadvantage:-\n",
    "1. COmplexity of Synchronization\n",
    "2. Increase debugging difficulty.\n"
   ]
  },
  {
   "cell_type": "code",
   "execution_count": 18,
   "id": "fe0f8677-ba19-4ffc-a8e0-1695c1d80202",
   "metadata": {},
   "outputs": [],
   "source": [
    "#Q6"
   ]
  },
  {
   "cell_type": "markdown",
   "id": "8a2b48d5-c585-4cc5-9539-04ce0aa5e66b",
   "metadata": {},
   "source": [
    "deadlock:- it is a situation when two or more thread are unable to proceed becuase each is waiting for other to release the resource.\n",
    "Race condition :- when multiple thread or process access shared data concurrently, and the final outcome of the execution depends on the relative timing or interleaving of their operations."
   ]
  },
  {
   "cell_type": "code",
   "execution_count": null,
   "id": "b0ea43b8-3bb3-4cbb-a8aa-8c99611f2b58",
   "metadata": {},
   "outputs": [],
   "source": []
  }
 ],
 "metadata": {
  "kernelspec": {
   "display_name": "Python 3 (ipykernel)",
   "language": "python",
   "name": "python3"
  },
  "language_info": {
   "codemirror_mode": {
    "name": "ipython",
    "version": 3
   },
   "file_extension": ".py",
   "mimetype": "text/x-python",
   "name": "python",
   "nbconvert_exporter": "python",
   "pygments_lexer": "ipython3",
   "version": "3.10.8"
  }
 },
 "nbformat": 4,
 "nbformat_minor": 5
}
