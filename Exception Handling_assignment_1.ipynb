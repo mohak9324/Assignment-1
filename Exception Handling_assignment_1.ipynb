{
 "cells": [
  {
   "cell_type": "markdown",
   "id": "eef4e202-917e-414d-a45e-cf6a6744693a",
   "metadata": {},
   "source": [
    "#Q1"
   ]
  },
  {
   "cell_type": "markdown",
   "id": "3502507f-14c0-49ef-b588-c1290265cd89",
   "metadata": {},
   "source": [
    "Exception:- is an event that occurs during execution of program and it stop the flow of the program.\n",
    "exception can be of ZeroDivisionError, Nameerror etc"
   ]
  },
  {
   "cell_type": "markdown",
   "id": "d2bbcefd-50f5-40bd-962e-57c86cba4b8b",
   "metadata": {},
   "source": [
    "Syntax error:-this error comes when function or method is miss spelled , means compiler is not able to understand the code"
   ]
  },
  {
   "cell_type": "markdown",
   "id": "434a4c2f-1714-4224-a27b-01cac0a19ccf",
   "metadata": {},
   "source": [
    "#Q2"
   ]
  },
  {
   "cell_type": "markdown",
   "id": "a2e543d9-3873-44d7-b446-42dfd0ae0693",
   "metadata": {},
   "source": [
    "when exception is not handled it will stop the execution of program from the step where error occured."
   ]
  },
  {
   "cell_type": "code",
   "execution_count": 4,
   "id": "f0292ab4-60af-4331-a188-5897ab81c309",
   "metadata": {},
   "outputs": [],
   "source": [
    "def divide_number(a,b):\n",
    "    result =a/b\n",
    "    return result"
   ]
  },
  {
   "cell_type": "code",
   "execution_count": 5,
   "id": "92851738-a1e9-4d49-a2c4-f2b94997c010",
   "metadata": {},
   "outputs": [
    {
     "ename": "ZeroDivisionError",
     "evalue": "division by zero",
     "output_type": "error",
     "traceback": [
      "\u001b[0;31m---------------------------------------------------------------------------\u001b[0m",
      "\u001b[0;31mZeroDivisionError\u001b[0m                         Traceback (most recent call last)",
      "Cell \u001b[0;32mIn[5], line 3\u001b[0m\n\u001b[1;32m      1\u001b[0m num1\u001b[38;5;241m=\u001b[39m\u001b[38;5;241m10\u001b[39m\n\u001b[1;32m      2\u001b[0m num2\u001b[38;5;241m=\u001b[39m\u001b[38;5;241m0\u001b[39m\n\u001b[0;32m----> 3\u001b[0m \u001b[43mdivide_number\u001b[49m\u001b[43m(\u001b[49m\u001b[43mnum1\u001b[49m\u001b[43m,\u001b[49m\u001b[43mnum2\u001b[49m\u001b[43m)\u001b[49m\n",
      "Cell \u001b[0;32mIn[4], line 2\u001b[0m, in \u001b[0;36mdivide_number\u001b[0;34m(a, b)\u001b[0m\n\u001b[1;32m      1\u001b[0m \u001b[38;5;28;01mdef\u001b[39;00m \u001b[38;5;21mdivide_number\u001b[39m(a,b):\n\u001b[0;32m----> 2\u001b[0m     result \u001b[38;5;241m=\u001b[39m\u001b[43ma\u001b[49m\u001b[38;5;241;43m/\u001b[39;49m\u001b[43mb\u001b[49m\n\u001b[1;32m      3\u001b[0m     \u001b[38;5;28;01mreturn\u001b[39;00m result\n",
      "\u001b[0;31mZeroDivisionError\u001b[0m: division by zero"
     ]
    }
   ],
   "source": [
    "num1=10\n",
    "num2=0\n",
    "divide_number(num1,num2)"
   ]
  },
  {
   "cell_type": "code",
   "execution_count": 6,
   "id": "ce1bb4ab-e382-40b2-b2ca-c7a2f617ea18",
   "metadata": {},
   "outputs": [
    {
     "name": "stdout",
     "output_type": "stream",
     "text": [
      "division by zero\n"
     ]
    }
   ],
   "source": [
    "try:\n",
    "    divide_number(num1,num2)\n",
    "except ZeroDivisionError as e:\n",
    "    print(e)"
   ]
  },
  {
   "cell_type": "markdown",
   "id": "0543ee02-7d91-414b-b134-1e1832e6b22a",
   "metadata": {},
   "source": [
    "#Q3"
   ]
  },
  {
   "cell_type": "markdown",
   "id": "75305fc3-3a59-42b6-88b8-c4786e101871",
   "metadata": {},
   "source": [
    "try and exception are used to handle exceptions"
   ]
  },
  {
   "cell_type": "code",
   "execution_count": 14,
   "id": "2253788e-1fc2-4e35-a7ea-7cfa0665bf12",
   "metadata": {},
   "outputs": [
    {
     "name": "stdout",
     "output_type": "stream",
     "text": [
      "5.0\n"
     ]
    }
   ],
   "source": [
    "num1=10\n",
    "num2=2\n",
    "\n",
    "try:\n",
    "    test=divide_number(num1,num2)\n",
    "    print(test)\n",
    "except ZeroDivisionError as e:\n",
    "    print(e)"
   ]
  },
  {
   "cell_type": "markdown",
   "id": "450e46c3-cdb9-4e12-8f61-b20410b3cb5d",
   "metadata": {},
   "source": [
    "#Q4"
   ]
  },
  {
   "cell_type": "markdown",
   "id": "ee1091f1-fccd-4d7e-b379-a26f69193f63",
   "metadata": {},
   "source": [
    "a. Try and else"
   ]
  },
  {
   "cell_type": "code",
   "execution_count": 19,
   "id": "93f2a8de-2866-46f2-b2a4-60ec6930bda6",
   "metadata": {},
   "outputs": [
    {
     "name": "stdout",
     "output_type": "stream",
     "text": [
      "5.0\n",
      "number are in correct format\n"
     ]
    }
   ],
   "source": [
    "num1=10\n",
    "num2=2\n",
    "\n",
    "try:\n",
    "    test=divide_number(num1,num2)\n",
    "    print(test)\n",
    "except ZeroDivisionError as e:\n",
    "    print(e)\n",
    "else:\n",
    "    print(\"number are in correct format\")"
   ]
  },
  {
   "cell_type": "code",
   "execution_count": 20,
   "id": "e744ef33-d3a1-4977-bb50-30435acf18ca",
   "metadata": {},
   "outputs": [],
   "source": [
    "#b. finally"
   ]
  },
  {
   "cell_type": "code",
   "execution_count": 22,
   "id": "9487c196-da73-412b-81b2-50d5ef8899b4",
   "metadata": {},
   "outputs": [
    {
     "name": "stdout",
     "output_type": "stream",
     "text": [
      "division by zero\n",
      "This block will be executed in case of exception also\n",
      "5.0\n"
     ]
    }
   ],
   "source": [
    "num1=10\n",
    "num2=0\n",
    "\n",
    "try:\n",
    "    test=divide_number(num1,num2)\n",
    "    print(test)\n",
    "except ZeroDivisionError as e:\n",
    "    print(e)\n",
    "finally:\n",
    "    print(\"This block will be executed in case of exception also\")\n",
    "    if num2<=0:\n",
    "        num2=2\n",
    "    new=divide_number(num1,num2)\n",
    "    print(new)"
   ]
  },
  {
   "cell_type": "code",
   "execution_count": 23,
   "id": "5992e34a-a696-45bd-ae9c-adcb6a3f2e13",
   "metadata": {},
   "outputs": [],
   "source": [
    "#c rasie"
   ]
  },
  {
   "cell_type": "code",
   "execution_count": 26,
   "id": "52184efe-4187-45fa-a834-7936105c09d1",
   "metadata": {},
   "outputs": [],
   "source": [
    "class validateage(Exception):\n",
    "    \n",
    "    def __init__(self,msg):\n",
    "        self.msg=msg"
   ]
  },
  {
   "cell_type": "code",
   "execution_count": 28,
   "id": "41585f0f-e111-4532-94d0-89f202a86a71",
   "metadata": {},
   "outputs": [],
   "source": [
    "def validate_age(age):\n",
    "    if age<0:\n",
    "        raise validateage(\"age can not be in negative\")\n",
    "    elif age>150:\n",
    "        raise validateage(\"age can not be greater than 150\")\n",
    "    else:\n",
    "        raise validateage(\"Age format is correct\")"
   ]
  },
  {
   "cell_type": "code",
   "execution_count": 29,
   "id": "00aa2fbd-c95f-459f-a455-bb5d49c5cbbc",
   "metadata": {},
   "outputs": [
    {
     "name": "stdin",
     "output_type": "stream",
     "text": [
      "Please enter your age: 190\n"
     ]
    },
    {
     "name": "stdout",
     "output_type": "stream",
     "text": [
      "age can not be greater than 150\n"
     ]
    }
   ],
   "source": [
    "try:\n",
    "    age=int(input(\"Please enter your age:\"))\n",
    "    validate_age(age)\n",
    "except validateage as e:\n",
    "    print(e)"
   ]
  },
  {
   "cell_type": "code",
   "execution_count": 31,
   "id": "89e4511d-e67f-41ba-b85a-d8f8f40031bc",
   "metadata": {},
   "outputs": [],
   "source": [
    "#Q5"
   ]
  },
  {
   "cell_type": "markdown",
   "id": "a31b1751-3290-4572-9865-2ead99a06ea3",
   "metadata": {},
   "source": [
    "custom exception is known as uder defined exception, these exception are created when exceptions are not coverd in python"
   ]
  },
  {
   "cell_type": "code",
   "execution_count": 32,
   "id": "81a779a7-d665-49de-94a9-2982bbfa67b9",
   "metadata": {},
   "outputs": [],
   "source": [
    "class validateage(Exception):\n",
    "    \n",
    "    def __init__(self,msg):\n",
    "        self.msg=msg"
   ]
  },
  {
   "cell_type": "code",
   "execution_count": 33,
   "id": "332d96f4-0cb3-454f-bde4-114695207e85",
   "metadata": {},
   "outputs": [],
   "source": [
    "#Q6"
   ]
  },
  {
   "cell_type": "code",
   "execution_count": 39,
   "id": "5597fef8-1692-41c0-a50b-059e9bead07d",
   "metadata": {},
   "outputs": [],
   "source": [
    "class withdraw_error(Exception):\n",
    "    \n",
    "    def __init__(self,msg):\n",
    "        self.msg=msg\n",
    "    "
   ]
  },
  {
   "cell_type": "code",
   "execution_count": 40,
   "id": "77b35f6a-9fca-4ed2-a8f5-43bd5f5aca17",
   "metadata": {},
   "outputs": [],
   "source": [
    "def withdraw_balnce(balance,amount):\n",
    "    if amount>balance:\n",
    "        raise withdraw_error(\"withdraw amount is greater than the balance\")\n",
    "    else:\n",
    "        raise withdraw_error(\"amount can be withdrawn\")"
   ]
  },
  {
   "cell_type": "code",
   "execution_count": 42,
   "id": "adb78015-c3aa-4381-88f6-04db43c3f073",
   "metadata": {},
   "outputs": [
    {
     "name": "stdin",
     "output_type": "stream",
     "text": [
      "Enter Balance 1000\n",
      "Enter amount to be withdrawn 200\n"
     ]
    },
    {
     "name": "stdout",
     "output_type": "stream",
     "text": [
      "amount can be withdrawn\n"
     ]
    }
   ],
   "source": [
    "try:\n",
    "    balance=int(input(\"Enter Balance\"))\n",
    "    amount=int(input(\"Enter amount to be withdrawn\"))\n",
    "    withdraw_balnce(balance,amount)\n",
    "except withdraw_error as e:\n",
    "    print(e)"
   ]
  },
  {
   "cell_type": "code",
   "execution_count": null,
   "id": "58aecb95-fe3f-4423-bbc6-7001090d1d6f",
   "metadata": {},
   "outputs": [],
   "source": []
  }
 ],
 "metadata": {
  "kernelspec": {
   "display_name": "Python 3 (ipykernel)",
   "language": "python",
   "name": "python3"
  },
  "language_info": {
   "codemirror_mode": {
    "name": "ipython",
    "version": 3
   },
   "file_extension": ".py",
   "mimetype": "text/x-python",
   "name": "python",
   "nbconvert_exporter": "python",
   "pygments_lexer": "ipython3",
   "version": "3.10.8"
  }
 },
 "nbformat": 4,
 "nbformat_minor": 5
}
