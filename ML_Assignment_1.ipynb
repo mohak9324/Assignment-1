{
 "cells": [
  {
   "cell_type": "code",
   "execution_count": 1,
   "id": "2fc91285-00d5-4f52-8ca1-67ec131405bc",
   "metadata": {},
   "outputs": [],
   "source": [
    "# Explain the following with an example\n",
    "# 1. Artificial intelligence\n",
    "# 2.Machine Learning\n",
    "# 3.Deep learning"
   ]
  },
  {
   "cell_type": "markdown",
   "id": "4055c6d8-9cac-49d7-a259-7ee3a579437d",
   "metadata": {},
   "source": [
    "Certainly! Here are explanations for each of these concepts with examples:\n",
    "\n",
    "**1. Artificial Intelligence (AI):**\n",
    "\n",
    "**Explanation:** Artificial Intelligence (AI) refers to the development of computer systems or machines that can perform tases that typically require human intelligence. These tasks include learning from experience, reasoning, problem-solving, understanding natural language, and perceiving their environment. AI can be broadly categorized into narrow or weak AI, which is designed for specific tasks, and general or strong AI, which has human-like intelligence and can perform any intellectual task that a human can.\n",
    "\n",
    "**Example:** A classic example of AI is a virtual personal assistant like Apple's Siri or Amazon's Alexa. These AI systems can understand and respond to voice commands, provide answers to questions, set reminders, and perform various tasks without human intervention.\n",
    "\n",
    "**2. Machine Learning (ML):**\n",
    "\n",
    "**Explanation:** Machine Learning (ML) is a subset of AI that focuses on the development of algorithms and statistical models that enable computer systems to improve their performance on a specific task through learning from data. In ML, systems are trained on large datasets to recognize patterns and make predictions or decisions without being explicitly programmed for each task.\n",
    "\n",
    "**Example:** An example of machine learning is email spam filtering. ML algorithms can be trained on large datasets of emails, learning to distinguish between spam and non-spam emails based on features like keywords, sender information, and message content. Once trained, the algorithm can automatically classify incoming emails as spam or not.\n",
    "\n",
    "**3. Deep Learning:**\n",
    "\n",
    "**Explanation:** Deep Learning is a subfield of machine learning that focuses on artificial neural networks, which are inspired by the structure and function of the human brain. Deep learning models, known as deep neural networks, consist of multiple layers (deep architectures) that process and transform data hierarchically. These models are particularly effective at tasks involving large amounts of data, such as image and speech recognition.\n",
    "\n",
    "**Example:** An example of deep learning is image classification. Convolutional Neural Networks (CNNs), a type of deep neural network, can be trained on vast datasets of images to recognize and classify objects within them. For instance, a deep learning model can be trained to identify cats in photos by learning features like edges, shapes, and patterns from thousands of cat images.\n",
    "\n",
    "In summary, Artificial Intelligence encompasses the broader field of creating intelligent systems, Machine Learning is a subset of AI that focuses on learning from data, and Deep Learning is a subset of ML that uses deep neural networks to solve complex tasks. These technologies have applications in various domains, from natural language processing to autonomous vehicles and healthcare."
   ]
  },
  {
   "cell_type": "code",
   "execution_count": 2,
   "id": "90fba2d4-d7b4-48a6-b3dd-1af2db6f2035",
   "metadata": {},
   "outputs": [],
   "source": [
    "# Q2- What is supervised learning? List somK examples of supervised learning."
   ]
  },
  {
   "cell_type": "markdown",
   "id": "9bb75824-34ad-49e3-9ed7-5a1ea33d5ab1",
   "metadata": {},
   "source": [
    "Supervised learning is a type of machine learning in which an algorithm learns from labeled training data to make predictions or decisions without human intervention. In supervised learning, the algorithm is \"supervised\" because it learns from the training data and receives feedback in the form of correct answers for each example it processes. The goal of supervised learning is to learn a mapping from input data to a desired output, such as predicting a target variable.\n",
    "\n",
    "example:- Price of a house, email spam detection"
   ]
  },
  {
   "cell_type": "code",
   "execution_count": 3,
   "id": "822bf0c3-3e6f-4b09-81a1-676f9b498567",
   "metadata": {},
   "outputs": [],
   "source": [
    "# Q3 What is unsupervised learning? List some examples of unsupervised learning."
   ]
  },
  {
   "cell_type": "markdown",
   "id": "0d37cef2-b104-42cd-831c-a6007080b0df",
   "metadata": {},
   "source": [
    "Unsupervised learning is a machine learning paradigm in which an algorithm learns patterns and structures in data without the presence of explicit labels or target variables. Unlike supervised learning, where the algorithm is given labeled training data to make predictions or decisions, unsupervised learning seeks to find hidden relationships, groupings, or patterns within the data. It is particularly useful for tasks like data exploration, clustering, and dimensionality reduction.\n",
    "\n",
    "Clustering: Clustering algorithms aim to group similar data points together into clusters or segments based on inherent similarities or patterns in the data. Examples include:\n",
    "\n",
    "K-Means Clustering: Divides data into K clusters, where K is a predefined number.\n",
    "Hierarchical Clustering: Builds a hierarchy of clusters by iteratively merging or splitting existing clusters.\n",
    "DBSCAN (Density-Based Spatial Clustering of Applications with Noise): Identifies clusters based on data density, allowing for irregularly shaped clusters.\n",
    "Dimensionality Reduction: Unsupervised learning can be used to reduce the dimensionality of high-dimensional data while preserving essential information. Examples include:\n",
    "\n",
    "Principal Component Analysis (PCA): Reduces the dimensionality of data while retaining as much variance as possible.\n",
    "t-Distributed Stochastic Neighbor Embedding (t-SNE): Visualizes high-dimensional data in lower dimensions, often used for data visualization.\n",
    "Anomaly Detection: Unsupervised learning can identify outliers or anomalies in data, which may indicate unusual or rare events. Examples include:\n",
    "\n",
    "Isolation Forest: Detects anomalies by isolating them as short branches in a decision tree.\n",
    "One-Class SVM: Learns a boundary around normal data points, classifying anything outside the boundary as an anomaly.\n",
    "Topic Modeling: Unsupervised learning can be used to discover topics or themes in a collection of text documents. Examples include:\n",
    "\n",
    "Latent Dirichlet Allocation (LDA): Identifies topics in a corpus by modeling the generative process of documents.\n",
    "Non-Negative Matrix Factorization (NMF): Decomposes documents into topics and word distributions.\n",
    "Density Estimation: Unsupervised learning can estimate the probability density function of the data. Examples include:\n",
    "\n",
    "Kernel Density Estimation (KDE): Estimates the underlying probability distribution of data points.\n",
    "Gaussian Mixture Models (GMM): Models data as a mixture of several Gaussian distributions.\n",
    "Recommendation Systems: Unsupervised learning can also be used in recommendation systems, where it learns user preferences and item similarities without explicit labels. Examples include:\n",
    "\n",
    "Collaborative Filtering: Recommends items to users based on their historical behavior and preferences.\n",
    "Matrix Factorization: Decomposes user-item interaction matrices to make recommendations."
   ]
  },
  {
   "cell_type": "code",
   "execution_count": 4,
   "id": "42607534-2ace-439e-9f9c-9f160c1824f0",
   "metadata": {},
   "outputs": [],
   "source": [
    "#Q4 What is the difference between AI,ML,DL, and DS"
   ]
  },
  {
   "cell_type": "markdown",
   "id": "fbbe5324-c213-4487-b691-9ae86648cdce",
   "metadata": {},
   "source": [
    "The terms AI (Artificial Intelligence), ML (Machine Learning), DL (Deep Learning), and DS (Data Science) are closely related but represent different domains and concepts within the broader field of data and artificial intelligence. Here's an overview of the key differences between them:\n",
    "\n",
    "**1. Artificial Intelligence (AI):**\n",
    "- **Definition:** AI is the overarching field of computer science and engineering that focuses on creating intelligent machines capable of simulating human-like cognitive functions and behaviors.\n",
    "- **Scope:** AI encompasses a wide range of techniques and technologies, including ML and DL, to build systems that can reason, learn, perceive their environment, understand natural language, and make decisions.\n",
    "- **Examples:** Virtual personal assistants (e.g., Siri, Alexa), game-playing AI (e.g., chess and Go bots), autonomous vehicles, and natural language processing systems.\n",
    "\n",
    "**2. Machine Learning (ML):**\n",
    "- **Definition:** ML is a subset of AI that focuses on the development of algorithms and statistical models that enable computers to improve their performance on specific tasks through learning from data.\n",
    "- **Scope:** ML algorithms can learn patterns and relationships in data, make predictions, and adapt without being explicitly programmed.\n",
    "- **Examples:** Image classification, spam email filtering, recommendation systems, and predictive analytics.\n",
    "\n",
    "**3. Deep Learning (DL):**\n",
    "- **Definition:** DL is a subfield of ML that employs artificial neural networks, particularly deep neural networks, to model and solve complex tasks by simulating the structure and function of the human brain.\n",
    "- **Scope:** DL excels in tasks involving large amounts of unstructured data, such as image and speech recognition, natural language understanding, and complex pattern recognition.\n",
    "- **Examples:** ImageNet image classification, speech-to-text conversion, autonomous driving, and facial recognition.\n",
    "\n",
    "**4. Data Science (DS):**\n",
    "- **Definition:** DS is a multidisciplinary field that combines various techniques from statistics, ML, data analysis, and domain expertise to extract knowledge and insights from data.\n",
    "- **Scope:** DS covers the entire data lifecycle, including data collection, cleaning, exploration, analysis, visualization, and interpretation.\n",
    "- **Examples:** Predictive modeling, A/B testing, customer segmentation, and data-driven decision-making.\n",
    "\n",
    "**Key Differences:**\n",
    "- **AI vs. ML vs. DL vs. DS:** AI is the broader field that encompasses ML and DL. ML is a subset of AI that focuses on learning from data, and DL is a subset of ML that employs deep neural networks. DS, on the other hand, is a multidisciplinary field that deals with data-related tasks across various domains.\n",
    "\n",
    "- **Learning Approach:** ML and DL are primarily concerned with learning patterns from data, whereas AI and DS may involve broader concepts, including rule-based systems and expert systems.\n",
    "\n",
    "- **Depth of Neural Networks:** DL specifically refers to the use of deep (multi-layer) neural networks for tasks, while ML can include both shallow and deep learning approaches.\n",
    "\n",
    "- **Data-Centric vs. Problem-Centric:** DS focuses on solving real-world problems using data-driven approaches, whereas AI, ML, and DL may have a broader focus, including research in artificial intelligence.\n",
    "\n",
    "In summary, AI encompasses the entire field of intelligent systems, ML and DL are specific approaches to learning from data, and DS is a multidisciplinary field that includes data-related tasks. These domains often overlap and collaborate in practical applications and research."
   ]
  },
  {
   "cell_type": "code",
   "execution_count": null,
   "id": "9a1b9caa-ffcd-4adc-934a-b6b22405f071",
   "metadata": {},
   "outputs": [],
   "source": []
  },
  {
   "cell_type": "code",
   "execution_count": 6,
   "id": "e5c22f24-ccb2-4645-82d9-0f9ac90eaaff",
   "metadata": {},
   "outputs": [],
   "source": [
    "#Q5 What are the main differences between supervised, unsupervised, and semi-supervised learning?"
   ]
  },
  {
   "cell_type": "markdown",
   "id": "770ee7ad-5b23-44cf-b909-7d43b50881fc",
   "metadata": {},
   "source": [
    "Supervised learning, unsupervised learning, and semi-supervised learning are three distinct paradigms in machine learning, each with its own characteristics and use cases. Here are the main differences between them:\n",
    "\n",
    "**1. Supervised Learning:**\n",
    "\n",
    "- **Labeled Data:** Supervised learning involves training a model using labeled data, where each example in the training dataset is associated with a known target or label.\n",
    "- **Objective:** The primary objective is to learn a mapping from input features to output labels, aiming to make accurate predictions or classifications on new, unseen data.\n",
    "- **Examples:** Classification (e.g., spam vs. non-spam email detection), regression (e.g., predicting house prices), and object recognition (e.g., image classification).\n",
    "\n",
    "**2. Unsupervised Learning:**\n",
    "\n",
    "- **Unlabeled Data:** Unsupervised learning deals with unlabeled data, meaning the algorithm is provided with input data but not with explicit output labels or targets.\n",
    "- **Objective:** The primary objective is to discover hidden patterns, structures, or relationships in the data, often involving tasks like clustering, dimensionality reduction, and density estimation.\n",
    "- **Examples:** Clustering (e.g., grouping customers based on purchase behavior), dimensionality reduction (e.g., PCA), and anomaly detection (e.g., identifying outliers).\n",
    "\n",
    "**3. Semi-Supervised Learning:**\n",
    "\n",
    "- **Mixed Data:** Semi-supervised learning combines elements of both supervised and unsupervised learning. It involves a training dataset that contains a mix of labeled and unlabeled examples.\n",
    "- **Objective:** The primary objective is to leverage the available labeled data to improve the model's performance on the task, even though a large portion of the data is unlabeled.\n",
    "- **Use Cases:** Semi-supervised learning is particularly useful when obtaining labeled data is expensive or time-consuming. Examples include speech recognition, where transcribing audio data is costly, and document categorization, where only a subset of documents is labeled.\n",
    "\n",
    "**Key Differences:**\n",
    "\n",
    "- **Data Type:** Supervised learning uses labeled data, unsupervised learning uses unlabeled data, and semi-supervised learning uses a combination of both labeled and unlabeled data.\n",
    "\n",
    "- **Objectives:** Supervised learning aims to make accurate predictions or classifications, while unsupervised learning focuses on finding patterns or structures in data. Semi-supervised learning aims to improve model performance by leveraging both labeled and unlabeled data.\n",
    "\n",
    "- **Applications:** Supervised learning is widely used for tasks requiring predictions or classifications, while unsupervised learning is used for tasks like clustering and dimensionality reduction. Semi-supervised learning is valuable when labeled data is scarce but can boost model performance.\n",
    "\n",
    "- **Data Availability:** In supervised learning, a sufficient amount of labeled data is required for model training. In unsupervised learning, no labels are necessary. In semi-supervised learning, a small amount of labeled data can be combined with a large amount of unlabeled data.\n",
    "\n",
    "In summary, supervised learning is used for predictive tasks with labeled data, unsupervised learning discovers patterns in unlabeled data, and semi-supervised learning combines labeled and unlabeled data to improve model performance, especially when labeled data is limited."
   ]
  },
  {
   "cell_type": "code",
   "execution_count": null,
   "id": "c3eba329-db09-4532-8242-7808beacb519",
   "metadata": {},
   "outputs": [],
   "source": [
    "# Q6 What is train, test and validation split? E=plain the importance of each term."
   ]
  },
  {
   "cell_type": "markdown",
   "id": "79025265-84a0-464b-b116-6de65db4ec1c",
   "metadata": {},
   "source": [
    "In machine learning, the terms \"train,\" \"test,\" and \"validation\" refer to different subsets of a dataset used for various stages of model development and evaluation. Each of these subsets serves a distinct purpose, and their proper use is crucial for building effective machine learning models. Here's an explanation of each term and their importance:\n",
    "\n",
    "**1. Training Data:**\n",
    "- **Purpose:** Training data is a subset of the dataset used to train the machine learning model. The model learns patterns, relationships, and features from this data to make predictions or classifications.\n",
    "- **Importance:** Training data is essential because it allows the model to learn from historical examples and adapt its parameters to make accurate predictions. The model adjusts its internal parameters during training to minimize the prediction errors on this dataset.\n",
    "\n",
    "**2. Testing Data (Test Set):**\n",
    "- **Purpose:** Testing data is a separate subset of the dataset that is not used during model training. It is used to evaluate the model's performance and assess its generalization to unseen data.\n",
    "- **Importance:** Testing data helps assess how well the model has learned from the training data. It provides an estimate of the model's performance on real-world data it has never seen before. The performance metrics on the test set indicate how well the model is likely to perform in practice.\n",
    "\n",
    "**3. Validation Data (Validation Set):**\n",
    "- **Purpose:** Validation data is another subset of the dataset that is used during model development and hyperparameter tuning but is kept separate from the training data. It helps in optimizing the model's hyperparameters and preventing overfitting.\n",
    "- **Importance:** Validation data is crucial for model selection and tuning. By evaluating the model's performance on the validation set, data scientists can choose the best model and fine-tune hyperparameters to ensure that the model generalizes well to new data. It acts as an intermediate step between training and testing, helping to avoid overfitting (where the model performs well on training data but poorly on unseen data).\n",
    "\n",
    "**Importance of Proper Data Splitting:**\n",
    "- **Avoiding Overfitting:** Properly splitting data into training, validation, and testing sets helps ensure that the model does not overfit the training data. Overfitting occurs when a model learns to memorize the training data rather than generalize from it, leading to poor performance on unseen data.\n",
    "\n",
    "- **Model Selection and Tuning:** Validation data is essential for comparing different models and hyperparameters. It allows data scientists to make informed decisions about which model performs best and what hyperparameter settings should be used.\n",
    "\n",
    "- **Performance Evaluation:** Testing data provides an unbiased estimate of a model's performance on new, unseen data. It helps assess how well the model is likely to perform in a real-world scenario.\n",
    "\n",
    "- **Generalization:** By splitting the data into these subsets, machine learning practitioners can ensure that the model's performance metrics are reliable indicators of its generalization ability, which is the key goal in machine learning.\n",
    "\n",
    "In summary, the proper splitting of data into training, validation, and testing sets is a fundamental practice in machine learning to ensure that models are trained effectively, optimized for performance, and evaluated accurately on unseen data. It helps strike a balance between model complexity and generalization, leading to more robust and reliable machine learning models."
   ]
  },
  {
   "cell_type": "code",
   "execution_count": 7,
   "id": "03c4500f-f739-4a0b-a215-c26557892b2b",
   "metadata": {},
   "outputs": [],
   "source": [
    "#Q7"
   ]
  },
  {
   "cell_type": "markdown",
   "id": "69d66da4-e6f6-4504-981d-79a78ec3d130",
   "metadata": {},
   "source": [
    "Unsupervised learning can be a valuable approach in anomaly detection because it doesn't rely on labeled data containing anomalies. Instead, it seeks to identify patterns or structures in the data that deviate from the norm, making it well-suited for detecting anomalies. Here's how unsupervised learning can be used in anomaly detection:\n",
    "\n",
    "**1. Clustering-Based Anomaly Detection:**\n",
    "   - **Approach:** Unsupervised clustering algorithms are used to group data points into clusters based on their similarities. Anomalies are then detected as data points that do not belong to any cluster or belong to small, sparse clusters.\n",
    "   - **Example:** In K-Means clustering, data points that are far from the cluster centers or have low membership probabilities can be considered anomalies.\n",
    "\n",
    "**2. Density-Based Anomaly Detection:**\n",
    "   - **Approach:** Density-based algorithms like DBSCAN (Density-Based Spatial Clustering of Applications with Noise) are used to find dense regions of data points. Anomalies are data points that fall in regions with low data density.\n",
    "   - **Example:** In DBSCAN, data points that are not part of any dense cluster are considered anomalies.\n",
    "\n",
    "**3. Dimensionality Reduction-Based Anomaly Detection:**\n",
    "   - **Approach:** Unsupervised dimensionality reduction techniques like Principal Component Analysis (PCA) or t-Distributed Stochastic Neighbor Embedding (t-SNE) are applied to reduce the data's dimensionality while preserving essential information. Anomalies may be detected as data points that deviate significantly in the reduced space.\n",
    "   - **Example:** In PCA, anomalies may correspond to data points with large reconstruction errors when mapping them back to the original feature space.\n",
    "\n",
    "**4. Autoencoders for Anomaly Detection:**\n",
    "   - **Approach:** Autoencoders are a type of neural network used for unsupervised feature learning and dimensionality reduction. Anomalies can be detected by comparing the reconstruction error (difference between input and output) for each data point.\n",
    "   - **Example:** An autoencoder trained on normal data may produce higher reconstruction errors for anomalies.\n",
    "\n",
    "**5. Novelty Detection with One-Class SVM:**\n",
    "   - **Approach:** One-Class Support Vector Machines (One-Class SVM) are trained on normal data to create a boundary that encloses the majority of the data points. Anomalies are data points outside this boundary.\n",
    "   - **Example:** One-Class SVM can be used to detect anomalies in credit card transactions or network traffic.\n",
    "\n",
    "**6. Isolation Forest:**\n",
    "   - **Approach:** Isolation Forest is an ensemble-based method that builds a collection of decision trees to isolate anomalies. Anomalies are data points that require fewer splits to be isolated in the tree ensemble.\n",
    "   - **Example:** Isolation Forest can be used for anomaly detection in various domains, such as fraud detection and fault detection.\n",
    "\n",
    "**Benefits of Unsupervised Anomaly Detection:**\n",
    "- **No Labeling Required:** Unsupervised methods don't rely on labeled anomalies, making them applicable in scenarios where labeled data is scarce or nonexistent.\n",
    "- **Adaptability:** Unsupervised methods can adapt to changing data distributions and identify novel anomalies without manual labeling.\n",
    "- **Broad Applicability:** These methods can be applied to various data types, including numeric, categorical, and text data.\n",
    "\n",
    "However, it's important to note that unsupervised anomaly detection may generate false positives and require careful threshold tuning to balance the trade-off between detection sensitivity and specificity. Combining unsupervised techniques with domain knowledge and human feedback can enhance their effectiveness in real-world applications."
   ]
  },
  {
   "cell_type": "code",
   "execution_count": 8,
   "id": "053985eb-c5e0-469a-a31f-be1a03a7908b",
   "metadata": {},
   "outputs": [],
   "source": [
    "#Q8"
   ]
  },
  {
   "cell_type": "markdown",
   "id": "da755fe0-a0ed-4268-bb20-78b621b093c5",
   "metadata": {},
   "source": [
    "Here are some commonly used supervised and unsupervised learning algorithms:\n",
    "\n",
    "**Supervised Learning Algorithms:**\n",
    "\n",
    "1. **Linear Regression:** Used for regression tasks, where the goal is to predict a continuous target variable based on input features.\n",
    "\n",
    "2. **Logistic Regression:** Primarily used for binary classification problems, where the goal is to classify data into one of two classes.\n",
    "\n",
    "3. **Decision Trees:** Effective for both classification and regression tasks, decision trees make decisions based on feature values and create a tree-like structure.\n",
    "\n",
    "4. **Random Forest:** An ensemble method that combines multiple decision trees to improve accuracy and reduce overfitting.\n",
    "\n",
    "5. **Support Vector Machines (SVM):** Used for classification and regression tasks, SVM finds a hyperplane that maximizes the margin between different classes.\n",
    "\n",
    "6. **K-Nearest Neighbors (K-NN):** A classification algorithm that assigns labels to data points based on the majority class among their nearest neighbors.\n",
    "\n",
    "7. **Naive Bayes:** A probabilistic classification algorithm based on Bayes' theorem, often used in text classification and spam filtering.\n",
    "\n",
    "8. **Neural Networks (Deep Learning):** Deep learning models like Convolutional Neural Networks (CNNs) and Recurrent Neural Networks (RNNs) are used for various tasks such as image recognition, natural language processing, and sequence prediction.\n",
    "\n",
    "9. **Gradient Boosting (e.g., XGBoost, LightGBM):** Ensemble methods that combine weak learners (usually decision trees) sequentially to improve predictive accuracy.\n",
    "\n",
    "**Unsupervised Learning Algorithms:**\n",
    "\n",
    "1. **K-Means Clustering:** Used to group data points into clusters based on similarity, often applied in customer segmentation and image compression.\n",
    "\n",
    "2. **Hierarchical Clustering:** Builds a hierarchy of clusters by merging or splitting clusters at different levels, providing insights into data structure.\n",
    "\n",
    "3. **Principal Component Analysis (PCA):** A dimensionality reduction technique used to reduce the number of features while preserving variance, aiding visualization and noise reduction.\n",
    "\n",
    "4. **t-Distributed Stochastic Neighbor Embedding (t-SNE):** A dimensionality reduction technique for visualizing high-dimensional data in lower dimensions, often used in data exploration.\n",
    "\n",
    "5. **DBSCAN (Density-Based Spatial Clustering of Applications with Noise):** A density-based clustering algorithm that can find clusters of arbitrary shapes and detect outliers.\n",
    "\n",
    "6. **Gaussian Mixture Models (GMM):** Models data as a mixture of Gaussian distributions, useful for clustering and density estimation.\n",
    "\n",
    "7. **Autoencoders:** Neural network architectures used for feature learning, dimensionality reduction, and anomaly detection.\n",
    "\n",
    "8. **Isolation Forest:** An ensemble method for anomaly detection based on the isolation of anomalies in decision trees.\n",
    "\n",
    "9. **One-Class SVM:** Trained on a dataset of normal data, it defines a boundary around the normal data points and detects anomalies outside this boundary.\n",
    "\n",
    "10. **Self-Organizing Maps (SOM):** A type of neural network used for clustering and dimensionality reduction, particularly for visualizing high-dimensional data on 2D grids.\n",
    "\n",
    "These are just a few examples of commonly used supervised and unsupervised learning algorithms. The choice of algorithm depends on the specific problem, data type, and the desired outcome. Machine learning practitioners often experiment with multiple algorithms to determine which one performs best for a given task."
   ]
  },
  {
   "cell_type": "code",
   "execution_count": null,
   "id": "4a058e31-227f-49e7-afc7-0b157c07ff32",
   "metadata": {},
   "outputs": [],
   "source": []
  }
 ],
 "metadata": {
  "kernelspec": {
   "display_name": "Python 3 (ipykernel)",
   "language": "python",
   "name": "python3"
  },
  "language_info": {
   "codemirror_mode": {
    "name": "ipython",
    "version": 3
   },
   "file_extension": ".py",
   "mimetype": "text/x-python",
   "name": "python",
   "nbconvert_exporter": "python",
   "pygments_lexer": "ipython3",
   "version": "3.10.8"
  }
 },
 "nbformat": 4,
 "nbformat_minor": 5
}
