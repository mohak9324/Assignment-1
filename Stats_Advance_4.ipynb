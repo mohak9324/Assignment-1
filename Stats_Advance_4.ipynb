{
 "cells": [
  {
   "cell_type": "code",
   "execution_count": 4,
   "id": "07d03ace-5b65-445f-8d55-ab529430cb88",
   "metadata": {},
   "outputs": [],
   "source": [
    "#Q1: What is the difference between a t-test and a z-test? Provide an example scenario where you would\n",
    "#    use each type of test."
   ]
  },
  {
   "cell_type": "markdown",
   "id": "8658de60-ac82-47bc-b591-7535b7a896df",
   "metadata": {},
   "source": [
    "T - Test : - when opulation Standard devion is unknown and sample siz is less than  30 , we use T-Test.\n",
    "Example Scenario: Suppose you want to determine if there is a statistically significant difference in the mean scores of two groups (Group A and Group B) in a small sample of students (e.g., n < 30) who took two different teaching methods. You would use a t-test in this case to compare the means of the two groups.\n",
    "\n",
    "\n",
    "Z - Test :- when Populatin std is give and sample size is >30.\n",
    "Example Scenario: Let's say you have data on the heights of a large number of adults (more than 30) in a particular city, and you want to test whether the average height in this city is significantly different from the national average (for which you know the population standard deviation). In this case, you would use a z-test to compare the sample mean to the population mean."
   ]
  },
  {
   "cell_type": "code",
   "execution_count": 3,
   "id": "427d4677-c978-4103-adf9-a1017535290b",
   "metadata": {},
   "outputs": [],
   "source": [
    "#Q2: Differentiate between one-tailed and two-tailed tests."
   ]
  },
  {
   "cell_type": "markdown",
   "id": "b2d0d5ee-2898-4820-848e-d43178c9c124",
   "metadata": {},
   "source": [
    "                                        One Tail Test :- \n",
    "\n",
    "In a one-tailed test, you have a specific hypothesis about the direction of the effect or difference you are investigating. You are interested in whether the population parameter is greater than or less than a certain value, but not both simultaneously.\n",
    "\n",
    "Critical Region: In a one-tailed test, all the critical values (values that would lead to rejecting the null hypothesis) are concentrated in one tail of the probability distribution.\n",
    "\n",
    "Example: Suppose you want to test whether a new drug is more effective than an existing drug. Your null hypothesis might be that the new drug is equally effective as the existing drug, and your alternative hypothesis would specify that the new drug is better (greater efficacy).\n",
    "\n",
    "\n",
    "                                       Two Tail Test :-\n",
    "In a two-tailed test, you do not have a specific direction in mind. You are interested in whether the population parameter is different from a certain value, without specifying whether it's greater or less than that value.                                       \n",
    "\n",
    "Critical Region: In a two-tailed test, the critical values are spread over both tails of the probability distribution. You're looking for extreme values in both directions.\n",
    "\n",
    "Example: Suppose you want to test whether the average IQ of a group of students is different from the national average IQ (which is a known value). In this case, your null hypothesis would state that the average IQ is equal to the national average, and your alternative hypothesis would specify that the average IQ is not equal to the national average."
   ]
  },
  {
   "cell_type": "code",
   "execution_count": 5,
   "id": "330028eb-0970-401b-a6fd-bc5d2d3b3735",
   "metadata": {},
   "outputs": [],
   "source": [
    "#Q3 Explain the concept of Type 1 and Type 2 errors in hypothesis testing. Provide an example scenario for\n",
    "#each type of error."
   ]
  },
  {
   "cell_type": "markdown",
   "id": "9f55aed3-c9d2-4e65-a5ea-76e776cf810d",
   "metadata": {},
   "source": [
    "Type I Error (False Positive):-\n",
    "\n",
    "A Type I error occurs when you incorrectly reject a true null hypothesis.\n",
    "Example Scenario: Let's say you are conducting a drug efficacy study, and the null hypothesis (H0) is that the drug has no effect (i.e., it's not better than a placebo). You set a significance level of α = 0.05. If, based on your data, you reject the null hypothesis and conclude that the drug is effective, but it's actually not, you've made a Type I error.\n",
    "\n",
    "Type II Error (False Negative):-\n",
    "A Type II error occurs when you incorrectly fail to reject a false null hypothesis.\n",
    "Example Scenario: Continuing with the drug efficacy study, suppose the drug is indeed effective, but your data and statistical analysis do not provide enough evidence to reject the null hypothesis (H0)."
   ]
  },
  {
   "cell_type": "code",
   "execution_count": 7,
   "id": "4a400210-849e-4ad2-9085-4ffa3d3e203c",
   "metadata": {},
   "outputs": [],
   "source": [
    "#Q4 Explain Bayes's theorem with an example."
   ]
  },
  {
   "cell_type": "markdown",
   "id": "04b0378a-bc3c-43af-b4d8-ce76c31db8d7",
   "metadata": {},
   "source": [
    "Bayes' Theorem is a fundamental concept in probability theory and statistics that describes how to update our beliefs about an event or hypothesis in light of new evidence. It provides a framework for calculating conditional probabilities, taking into account both prior knowledge (prior probability) and new information (likelihood) to determine the probability of an event or hypothesis given the evidence (posterior probability).\n",
    "\n",
    "P(B/A)= P(B) * P(A/B) / P(A)\n",
    "\n",
    "P(B/A) = Probability of B given A is happened\n",
    "P(A/B) = Probability of A given B is happened\n",
    "P(A),P(B)= Probability of even A and B\n",
    "\n",
    "Example: Medical Diagnosis\n",
    "\n",
    "Suppose you are a doctor and want to determine if a patient has a rare disease (D), given the results of a diagnostic test (T). You have the following probabilities:\n",
    "        \n",
    "The prior probability of a patient having the disease P(D)=0.01\n",
    "probability of a positive test result given the patient has the disease P(T/D)=0.95\n",
    "probability of a negative test result given the patient does not have the disease P(-T/-D)=0.90\n",
    "find the probability that a patient who tests positive for the disease actually has the disease ? P(D/T) =?\n",
    "\n",
    "   P(T) =P(T∣D)⋅P(D)+P(T∣-D)⋅P(-D)  \n",
    "   \n",
    "   P(T∣-D) is the probability of a positive test result given the patient does not have the disease\n",
    "   = 1- 0.90= 0.10\n",
    "   P(¬D) is the probability of a patient not having the disease=1-0.01=0.99\n",
    "   \n",
    "   \n",
    "   P(D∣T)=P(T∣D)* P(D)/ P(T)\n",
    "   \n",
    "  \n",
    "\n",
    "\n",
    "\n"
   ]
  },
  {
   "cell_type": "code",
   "execution_count": 8,
   "id": "90138bbe-14c5-4849-9022-8680232fd989",
   "metadata": {},
   "outputs": [
    {
     "data": {
      "text/plain": [
       "0.0011421052631578948"
      ]
     },
     "execution_count": 8,
     "metadata": {},
     "output_type": "execute_result"
    }
   ],
   "source": [
    " ((0.95*0.01)+(0.10*0.99))/0.95*0.01"
   ]
  },
  {
   "cell_type": "code",
   "execution_count": 9,
   "id": "9b6efdc6-5622-4d9a-a822-f7da693e881f",
   "metadata": {},
   "outputs": [],
   "source": [
    "# Q5: What is a confidence interval? How to calculate the confidence interval, explain with an example."
   ]
  },
  {
   "cell_type": "markdown",
   "id": "36344ae4-0292-403d-aa35-51a0c9f1f6af",
   "metadata": {},
   "source": [
    "A confidence interval is a statistical range or interval that provides an estimate of the possible values of a population parameter, such as a population mean or proportion, along with a degree of confidence in the accuracy of that estimate. In other words, it quantifies the uncertainty or variability associated with estimating a population parameter based on a sample.\n",
    "\n",
    "Estimate ± Margin of Error\n",
    "\n",
    "Example :-\n",
    "\n",
    "Suppose you want to estimate the average height (in inches) of adult males in a certain city. You collect a random sample of 50 adult males and measure their heights. The sample mean height is 68 inches, and the sample standard deviation is 3 inches.\n",
    "\n",
    "You want to calculate a 95% confidence interval for the population mean height.\n",
    "Steps1:-\n",
    "he confidence level is 95%, which corresponds to a z-score of approximately 1.96\n",
    "Step 2:-\n",
    "Margin or error\n",
    "\n",
    "MOE= Z-Score * SE\n",
    "SE= Standard Deviation /sqrt(sample_size)\n",
    "= 3/sqrt(50) = 0.423\n",
    "MOE=1.96 * 0.4243 = 0.8318\n",
    "\n",
    "so , \n",
    "Confidence Interval=Sample Mean ± Margin of Error \n",
    "68 ± 0.8318\n",
    "(67.1682,68.8318)"
   ]
  },
  {
   "cell_type": "code",
   "execution_count": 10,
   "id": "0226d945-ee77-4b01-a440-dda29b1bb3a5",
   "metadata": {},
   "outputs": [],
   "source": [
    "#Q6  Use Bayes' Theorem to calculate the probability of an event occurring given prior knowledge of the\n",
    "#     event's probability and new evidence. Provide a sample problem and solution."
   ]
  },
  {
   "cell_type": "markdown",
   "id": "25dc6a99-8893-4140-bbf0-5f2129fe1c82",
   "metadata": {
    "tags": []
   },
   "source": [
    "Imagine you are a contestant on a game show. There are three doors (Door A, Door B, and Door C) in front of you. Behind one of the doors is a car (a prize you want), and behind the other two doors are goats (prizes you don't want). You choose one of the doors, say Door A.\n",
    "\n",
    "The game show host, who knows what's behind each door, opens one of the other two doors to reveal a goat. Let's say the host opens Door B to reveal a goat.\n",
    "\n",
    "Now, you have a choice: stick with your original choice (Door A) or switch to the remaining unopened door (Door C). What should you do to maximize your chances of winning the car?\n",
    "\n",
    "Solution:- \n",
    "\n",
    "Let's use Bayes' Theorem to calculate the probability of winning the car if you stick with your original choice (Door A) and if you switch to the remaining unopened door (Door C).\n",
    "\n",
    "Ha = be the event that the car is behind Door A.\n",
    "Hb = be the event that the car is behind Door B.\n",
    "Hc = be the event that the car is behind Door C.\n",
    "E =  be the event that the host opens Door B to reveal a goat\n",
    "\n",
    "we want to calculate P(Ha/E) ,the probability that the car is behind Door A given that the host opened Door B to reveal a goat.\n",
    "\n",
    "using Bayes theoreme,\n",
    "\n",
    "P(Ha/E)= P(Ha) * P(E/Ha) /P(E)\n",
    "\n",
    "P(E/Ha)= he probability that the host opens Door B to reveal a goat if the car is behind Door A. This is 1 because if the car is behind Door A, the host can only open Door B or Door C.\n",
    "\n",
    "P(Ha)= the prior probability that the car is behind Door A before any information is given. This is 1/3 because there are three doors, and the car is equally likely to be behind each door.\n",
    "\n",
    "P(E)=  the total probability of the host opening Door B to reveal a goat. We can calculate this as the sum of two cases: the car being behind Door A and the host choosing to open Door B (1/3 chance), and the car being behind Door C and the host choosing to open Door B (1/3 chance).\n",
    "\n",
    " P(E)=1/3 + 1/3 = 2/3\n",
    " \n",
    " caLCULATE , P(Ha/E)= 1/3*1 /2/3 = 1/2 = 50%\n",
    " Therefore, the probability of winning the car if you stick with your original choice (Door A) is 1/2 or 50%\n"
   ]
  },
  {
   "cell_type": "code",
   "execution_count": 11,
   "id": "088a8af9-5f6b-4146-a3a7-1048fb9bd32c",
   "metadata": {},
   "outputs": [],
   "source": [
    "# Q7. Calculate the 95% confidence interval for a sample of data with a mean of 50 and a standard deviation\n",
    "#   of 5. Interpret the results."
   ]
  },
  {
   "cell_type": "code",
   "execution_count": 2,
   "id": "1ab0272e-93d5-43b8-9dd5-b240ea422c42",
   "metadata": {},
   "outputs": [],
   "source": [
    "import numpy as np"
   ]
  },
  {
   "cell_type": "markdown",
   "id": "b1bc04a4-4d51-4552-8676-6e1eb23abba1",
   "metadata": {},
   "source": [
    "ME= Z * SE\n",
    "for 95% confidence interval Z scaore comes to be 1.96"
   ]
  },
  {
   "cell_type": "code",
   "execution_count": 13,
   "id": "207489bd-dc1b-465d-b6fa-1d6d293629dd",
   "metadata": {},
   "outputs": [],
   "source": [
    "MOE= 1.96 * (5/ np.sqrt(50))"
   ]
  },
  {
   "cell_type": "code",
   "execution_count": 14,
   "id": "acdc5f30-a4f5-4b31-af07-18bbf1972b10",
   "metadata": {},
   "outputs": [
    {
     "data": {
      "text/plain": [
       "1.385929291125633"
      ]
     },
     "execution_count": 14,
     "metadata": {},
     "output_type": "execute_result"
    }
   ],
   "source": [
    "MOE "
   ]
  },
  {
   "cell_type": "code",
   "execution_count": 15,
   "id": "d40ad7d0-215b-495f-b225-300abac9536a",
   "metadata": {},
   "outputs": [],
   "source": [
    "CI_lower = 50 - MOE\n",
    "CI_Higher = 50 + MOE"
   ]
  },
  {
   "cell_type": "code",
   "execution_count": 16,
   "id": "6facea73-2a70-4da4-96fa-632d87c4f0c7",
   "metadata": {},
   "outputs": [
    {
     "data": {
      "text/plain": [
       "48.614070708874365"
      ]
     },
     "execution_count": 16,
     "metadata": {},
     "output_type": "execute_result"
    }
   ],
   "source": [
    "CI_lower"
   ]
  },
  {
   "cell_type": "code",
   "execution_count": 17,
   "id": "10ab720f-500b-4d77-9bb0-c79348672dfc",
   "metadata": {},
   "outputs": [
    {
     "data": {
      "text/plain": [
       "51.385929291125635"
      ]
     },
     "execution_count": 17,
     "metadata": {},
     "output_type": "execute_result"
    }
   ],
   "source": [
    "CI_Higher"
   ]
  },
  {
   "cell_type": "code",
   "execution_count": 19,
   "id": "836543b5-5fea-4e0a-afb2-66b3f0a32d79",
   "metadata": {},
   "outputs": [],
   "source": [
    "# Q8 What is the margin of error in a confidence interval? How does sample size affect the margin of error?\n",
    " # Provide an example of a scenario where a larger sample size would result in a smaller margin of error."
   ]
  },
  {
   "cell_type": "markdown",
   "id": "01a4ca11-9b93-4407-9618-14db39c95e7c",
   "metadata": {},
   "source": [
    "It represents the range within which the true population parameter is likely to fall, with a certain level of confidence.\n",
    "\n",
    "MOE= Z * SE\n",
    "SE= Std/Sqrt(n)\n",
    "\n",
    "sample  size has inverse relation with MOE\n",
    "\n",
    "so if n increases, MOE decreases and reverse.\n",
    "\n",
    "eg1 :- Sample size (n) = 100\n",
    "        Sample standard deviation (s) = $5,000\n",
    "        \n",
    "        MOE = z* 5000/sqrt(100) =500Z\n",
    "        \n",
    "eg 2:-  Sample size (n) = 1000\n",
    "        Sample standard deviation (s) = $5,000\n",
    "        \n",
    "        MOE = z* 5000/sqrt(100) =158.5Z\n",
    "        \n",
    "In Option 2 (the larger sample), the margin of error is significantly smaller (about 1/3 the size) compared to Option 1. This means that with a larger sample, you have a more precise estimate of the population mean income, resulting in a narrower confidence interval.\n"
   ]
  },
  {
   "cell_type": "code",
   "execution_count": 20,
   "id": "c8a557de-2f79-485c-bfeb-fd8a520dbad7",
   "metadata": {},
   "outputs": [],
   "source": [
    "#Q9 Calculate the z-score for a data point with a value of 75, a population mean of 70, and a population\n",
    "# standard deviation of 5. Interpret the results."
   ]
  },
  {
   "cell_type": "markdown",
   "id": "3b188ebc-9d09-4946-b65f-a191015cafd0",
   "metadata": {},
   "source": [
    "z= X-M/std\n",
    "\n",
    "=75-70/5 =1\n",
    "\n",
    "A z-score of 1 indicates that the data point is 1 standard deviation above the mean in the positive direction"
   ]
  },
  {
   "cell_type": "code",
   "execution_count": 21,
   "id": "2f4fd537-73bd-4d14-b2e7-4a9bd46b9d5f",
   "metadata": {},
   "outputs": [],
   "source": [
    "#Q10 In a study of the effectiveness of a new weight loss drug, a sample of 50 participants lost an average\n",
    "#    of 6 pounds with a standard deviation of 2.5 pounds. Conduct a hypothesis test to determine if the drug is\n",
    "#    significantly effective at a 95% confidence level using a t-test."
   ]
  },
  {
   "cell_type": "markdown",
   "id": "56352608-fab0-4d7c-b847-23d1b2f34b48",
   "metadata": {},
   "source": [
    "H0= Drug is not effective\n",
    "H1 = Drug is effective\n",
    "\n",
    "two tailed test\n",
    "\n",
    "n=50\n",
    "sample_mean=6\n",
    "sample_std=2.5\n",
    "population_mean=0 (hypotheticaly)\n",
    "T_test= (sample_mean - population_mean)/ std/sqrt(n)\n",
    "= (6-0)=6\n",
    "\n",
    "6/(2.5 /sqrt(50)) =17.14\n",
    "\n",
    "for dof =49, and two tail test , and CI =0.05 T-value from T - table = +2.00/-2.00\n",
    "\n",
    "as T_test > 2.00 we reject H0, so drug is significantly effective"
   ]
  },
  {
   "cell_type": "code",
   "execution_count": 1,
   "id": "d519d7e2-ae99-4e66-bcc6-dcbc4230fd64",
   "metadata": {},
   "outputs": [],
   "source": [
    "#Q11 In a survey of 500 people, 65% reported being satisfied with their current job. Calculate the 95%\n",
    "#     confidence interval for the true proportion of people who are satisfied with their job."
   ]
  },
  {
   "cell_type": "code",
   "execution_count": 13,
   "id": "6c4f4d3b-885e-44ca-9b27-d393b2604e37",
   "metadata": {},
   "outputs": [],
   "source": [
    "#CI= p + Z * sqrt(p(1-p)/n)\n",
    "\n",
    "p=0.65\n",
    "n=500\n",
    "z=1.96 # for 95% confidence\n",
    "\n",
    "\n",
    "CI_upper= 0.65+ z*(np.sqrt((0.65*(1-0.65))/500))"
   ]
  },
  {
   "cell_type": "code",
   "execution_count": 14,
   "id": "bf140e30-6fcc-4b92-a33d-dd57ed83729a",
   "metadata": {},
   "outputs": [
    {
     "data": {
      "text/plain": [
       "0.6918082288550951"
      ]
     },
     "execution_count": 14,
     "metadata": {},
     "output_type": "execute_result"
    }
   ],
   "source": [
    "CI_upper"
   ]
  },
  {
   "cell_type": "code",
   "execution_count": 15,
   "id": "4f4dc7c0-a1f8-4268-9990-13563b61c045",
   "metadata": {},
   "outputs": [],
   "source": [
    "CI_lower= 0.65- z*(np.sqrt((0.65*(1-0.65))/500))"
   ]
  },
  {
   "cell_type": "code",
   "execution_count": 16,
   "id": "f78e5865-2092-4f6b-b7a6-788193dbca48",
   "metadata": {},
   "outputs": [
    {
     "data": {
      "text/plain": [
       "0.608191771144905"
      ]
     },
     "execution_count": 16,
     "metadata": {},
     "output_type": "execute_result"
    }
   ],
   "source": [
    "CI_lower"
   ]
  },
  {
   "cell_type": "code",
   "execution_count": 17,
   "id": "0fb56c39-9b4d-4c9d-8760-b5930370f1ff",
   "metadata": {},
   "outputs": [],
   "source": [
    "# #Q12. A researcher is testing the effectiveness of two different teaching methods on student performance.\n",
    "# Sample A has a mean score of 85 with a standard deviation of 6, while sample B has a mean score of 82\n",
    "# with a standard deviation of 5. Conduct a hypothesis test to determine if the two teaching methods have a\n",
    "# significant difference in student performance using a t-test with a significance level of 0.01."
   ]
  },
  {
   "cell_type": "markdown",
   "id": "75c56d3f-2743-4626-aef3-07bbc99c72f1",
   "metadata": {},
   "source": [
    "we don't have sample size for T -test"
   ]
  },
  {
   "cell_type": "code",
   "execution_count": 18,
   "id": "d3c3a842-eb16-4275-9586-0300cfb0e45f",
   "metadata": {},
   "outputs": [],
   "source": [
    "#Q13. A population has a mean of 60 and a standard deviation of 8. A sample of 50 observations has a mean\n",
    "# of 65. Calculate the 90% confidence interval for the true population mean."
   ]
  },
  {
   "cell_type": "code",
   "execution_count": 19,
   "id": "9999e29b-2ceb-418b-a070-178fc755ef92",
   "metadata": {},
   "outputs": [],
   "source": [
    "# CI= X + Z* (Std/sqrt(50))\n",
    "\n",
    "X=65\n",
    "z=1.96\n",
    "std=8\n",
    "n=50\n",
    "\n",
    "CI_upper=X + z*(std/np.sqrt(n))"
   ]
  },
  {
   "cell_type": "code",
   "execution_count": 20,
   "id": "8ded54f2-2128-4eb7-938d-51a435b1ae1d",
   "metadata": {},
   "outputs": [
    {
     "data": {
      "text/plain": [
       "67.217486865801"
      ]
     },
     "execution_count": 20,
     "metadata": {},
     "output_type": "execute_result"
    }
   ],
   "source": [
    "CI_upper"
   ]
  },
  {
   "cell_type": "code",
   "execution_count": 22,
   "id": "f0bc7fcd-fcef-423e-b105-60a6aa937bfa",
   "metadata": {},
   "outputs": [],
   "source": [
    "CI_lower=X - z*(std/np.sqrt(n))"
   ]
  },
  {
   "cell_type": "code",
   "execution_count": 23,
   "id": "d022acee-c15e-4092-bf87-24f07d3981be",
   "metadata": {},
   "outputs": [
    {
     "data": {
      "text/plain": [
       "62.782513134198986"
      ]
     },
     "execution_count": 23,
     "metadata": {},
     "output_type": "execute_result"
    }
   ],
   "source": [
    "CI_lower"
   ]
  },
  {
   "cell_type": "code",
   "execution_count": 24,
   "id": "b7fab4ce-3394-4c22-b57e-a13c5cf8d8c2",
   "metadata": {},
   "outputs": [],
   "source": [
    "# #Q14. In a study of the effects of caffeine on reaction time, a sample of 30 participants had an average\n",
    "# reaction time of 0.25 seconds with a standard deviation of 0.05 seconds. Conduct a hypothesis test to\n",
    "# determine if the caffeine has a significant effect on reaction time at a 90% confidence level using a t-test."
   ]
  },
  {
   "cell_type": "markdown",
   "id": "4189d912-12bb-4829-8fc1-30f2930f3ea1",
   "metadata": {},
   "source": [
    "dof= 30-1=29\n",
    "using t table for ci=0.1 and dof=29 and two tail test\n",
    " critical value  comes to be 1.69\n",
    "    n=30\n",
    "    std=0.05\n",
    "    \n",
    "    \n",
    "    population_mean not given\n",
    "    "
   ]
  }
 ],
 "metadata": {
  "kernelspec": {
   "display_name": "Python 3 (ipykernel)",
   "language": "python",
   "name": "python3"
  },
  "language_info": {
   "codemirror_mode": {
    "name": "ipython",
    "version": 3
   },
   "file_extension": ".py",
   "mimetype": "text/x-python",
   "name": "python",
   "nbconvert_exporter": "python",
   "pygments_lexer": "ipython3",
   "version": "3.10.8"
  }
 },
 "nbformat": 4,
 "nbformat_minor": 5
}
