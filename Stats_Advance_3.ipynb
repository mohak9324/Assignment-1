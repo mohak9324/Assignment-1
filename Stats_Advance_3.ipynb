{
 "cells": [
  {
   "cell_type": "code",
   "execution_count": 2,
   "id": "d535c25f-ae80-463b-b80e-f9940950bf61",
   "metadata": {},
   "outputs": [],
   "source": [
    "#Q1 What is Estimation Statistics? Explain point estimate and interval estimate."
   ]
  },
  {
   "cell_type": "markdown",
   "id": "15b7f1fa-171a-41f4-87a0-8b8e306ae390",
   "metadata": {},
   "source": [
    "Estimation statistics is a branch of statistics that deals with making inferences or predictions about population parameters based on sample data. In estimation, we seek to estimate or approximate unknown population parameters, such as the population mean, population proportion, population variance, etc., using sample statistics.\n",
    "\n",
    "Point Estimate:\n",
    "\n",
    "A point estimate is a single, specific value that is used to estimate a population parameter. It's like taking a \"best guess\" at the true value of the parameter based on the information in the sample.\n",
    "For example, if you calculate the mean (average) of a sample, that calculated mean is a point estimate of the population mean. If you want to estimate the population proportion of people who prefer product A over product B, the sample proportion (the proportion in your sample) is a point estimate of the population proportion.\n",
    "\n",
    "Interval Estimate:\n",
    "\n",
    "An interval estimate provides a range of values within which we believe the population parameter is likely to fall, along with a level of confidence in that range. It's also known as a confidence interval.\n",
    "For example, instead of just saying the estimated mean of a population is 50, you might say, \"We are 95% confident that the population mean falls within the interval [45, 55].\" This means that you believe there's a 95% probability that the true population mean is somewhere between 45 and 55."
   ]
  },
  {
   "cell_type": "code",
   "execution_count": 1,
   "id": "7bc94367-c84f-4ebf-beb3-99a7c2c9f12d",
   "metadata": {},
   "outputs": [],
   "source": [
    "#Q2"
   ]
  },
  {
   "cell_type": "code",
   "execution_count": 4,
   "id": "13f2ca36-9916-43fe-bc4a-745cc8352587",
   "metadata": {},
   "outputs": [],
   "source": [
    "import scipy.stats as stats\n",
    "import math"
   ]
  },
  {
   "cell_type": "code",
   "execution_count": 4,
   "id": "4c458dd5-ebc1-4662-a4e8-f06972818b07",
   "metadata": {},
   "outputs": [
    {
     "name": "stdout",
     "output_type": "stream",
     "text": [
      "46.421611712565685\n",
      "53.578388287434315\n"
     ]
    }
   ],
   "source": [
    "def estimate_population(sample_mean, sample_std,sample_size,confidence_interval=0.95):\n",
    "    standard_error = sample_std/math.sqrt(sample_size)\n",
    "    \n",
    "    z= stats.norm.ppf(1-(1-confidence_interval)/2)\n",
    "    \n",
    "    margin_of_error= z* standard_error\n",
    "    \n",
    "    lower_bound= sample_mean - margin_of_error\n",
    "    higher_bound =sample_mean + margin_of_error\n",
    "    \n",
    "    return lower_bound,higher_bound\n",
    "\n",
    "sample_mean = 50.0\n",
    "sample_std = 10.0\n",
    "sample_size = 30\n",
    "confidence_interval = 0.95\n",
    "\n",
    "lower_bound, higher_bound = estimate_population(sample_mean, sample_std,sample_size,confidence_interval=0.95)\n",
    "\n",
    "print (lower_bound)\n",
    "print (higher_bound)"
   ]
  },
  {
   "cell_type": "code",
   "execution_count": 1,
   "id": "66274013-ece7-43a7-9389-13049e9ad43a",
   "metadata": {},
   "outputs": [],
   "source": [
    "#Q3 What is Hypothesis testing? Why is it used? State the importance of Hypothesis testing."
   ]
  },
  {
   "cell_type": "markdown",
   "id": "0107e377-8dbd-46f4-a680-85316ec7f5b4",
   "metadata": {},
   "source": [
    "Hypothesis testing is a fundamental method in statistics used to make decisions or draw conclusions about a population based on sample data. It involves formulating two competing hypotheses, the null hypothesis (H0) and the alternative hypothesis (H1), and then using statistical methods to determine which hypothesis is more likely to be true.\n",
    "\n",
    "Null Hypothesis (H0): This is the default or status quo hypothesis. It often represents a statement of no effect, no difference, or no change. It is what we test against.\n",
    "\n",
    "Alternative Hypothesis (H1): This is the hypothesis we want to test or demonstrate. It typically represents the effect, difference, or change we are interested in.\n",
    "\n",
    "hypothesis testing allows researchers and analysts to make inferences about a population based on limited sample data. It helps us draw conclusions about the population when it's impractical or impossible to study the entire population.\n"
   ]
  },
  {
   "cell_type": "code",
   "execution_count": 3,
   "id": "1207c39d-555a-45b5-8e5b-45125c3f0f21",
   "metadata": {},
   "outputs": [],
   "source": [
    "#Q4  Create a hypothesis that states whether the average weight of male college students is greater than\n",
    "#  the average weight of female college students."
   ]
  },
  {
   "cell_type": "markdown",
   "id": "f73f44c7-91dc-42c2-8d1c-fd65e162877c",
   "metadata": {},
   "source": [
    "H0= Avg_weight(Women)= Avg_weight(men)\n",
    "H1 = Avg_weight(Women)> Avg_weight(men)"
   ]
  },
  {
   "cell_type": "code",
   "execution_count": 4,
   "id": "d0e18187-773f-4e1d-99cf-70546e8ee8a8",
   "metadata": {},
   "outputs": [],
   "source": [
    "#Q5"
   ]
  },
  {
   "cell_type": "code",
   "execution_count": 3,
   "id": "b4d751db-8281-42f3-b0e3-3e46f0a8369e",
   "metadata": {},
   "outputs": [],
   "source": [
    "import numpy as np\n",
    "import scipy.stats as stats"
   ]
  },
  {
   "cell_type": "code",
   "execution_count": 9,
   "id": "4277cf76-c63d-4a65-b434-7e28293a0887",
   "metadata": {},
   "outputs": [],
   "source": [
    "sample1 = np.array([68, 72, 74, 65, 71, 73, 68, 70, 75, 72])\n",
    "sample2 = np.array([62, 65, 63, 58, 64, 67, 60, 63, 66, 61])"
   ]
  },
  {
   "cell_type": "code",
   "execution_count": 10,
   "id": "90587320-0440-4662-80e4-655a2ba61fed",
   "metadata": {},
   "outputs": [],
   "source": [
    "t_stat, p_value= stats.ttest_ind(sample1,sample2,equal_var=False)"
   ]
  },
  {
   "cell_type": "code",
   "execution_count": 11,
   "id": "cb5673d2-bb4f-4420-bc9a-a0257b289c6c",
   "metadata": {},
   "outputs": [
    {
     "name": "stdout",
     "output_type": "stream",
     "text": [
      "6.029538938080194\n",
      "1.1145963118772171e-05\n"
     ]
    }
   ],
   "source": [
    "print(t_stat)\n",
    "print(p_value)"
   ]
  },
  {
   "cell_type": "markdown",
   "id": "b2fa42f3-5d7b-4464-92cd-edf0b57cfb2f",
   "metadata": {},
   "source": [
    "p_value> 0.05  ==> we accept  the null hypothesis"
   ]
  },
  {
   "cell_type": "code",
   "execution_count": 12,
   "id": "5a012190-c0a7-44db-8ed8-4ce86f2752b3",
   "metadata": {},
   "outputs": [],
   "source": [
    "#Q6"
   ]
  },
  {
   "cell_type": "markdown",
   "id": "16350d4d-1615-4a88-bf3f-314329a4842b",
   "metadata": {},
   "source": [
    "the null hypothesis (H0) and the alternative hypothesis (H1 or Ha) are two opposing statements used to make decisions about a population parameter or the effect of an intervention. These hypotheses are essential components of hypothesis tests, helping researchers and analysts draw conclusions based on sample data."
   ]
  },
  {
   "cell_type": "code",
   "execution_count": 13,
   "id": "949edd33-43d1-4999-8d00-07099222c12a",
   "metadata": {},
   "outputs": [],
   "source": [
    "#Q7"
   ]
  },
  {
   "cell_type": "raw",
   "id": "db18d7cc-cc83-40ab-b2fb-1088645d0511",
   "metadata": {},
   "source": [
    "1.Formulate the Hypotheses\n",
    "2.Collect and Prepare Data\n",
    "3.Choose a Significance Level (Alpha)\n",
    "4.Select a Statistical Test\n",
    "5.Calculate the Test Statistic\n",
    "6.Compute the P-value\n",
    "7.Make a Decision"
   ]
  },
  {
   "cell_type": "code",
   "execution_count": 14,
   "id": "5860dd0d-ab11-4cfd-9101-7a0c602b1eb2",
   "metadata": {},
   "outputs": [],
   "source": [
    "#Q8"
   ]
  },
  {
   "cell_type": "markdown",
   "id": "7270fae0-c5f6-4a1b-9277-f1586d1653ac",
   "metadata": {},
   "source": [
    "The p-value, short for \"probability value,\" is a critical concept in hypothesis testing and statistics. It quantifies the strength of evidence against the null hypothesis (H0) based on sample data. In hypothesis testing, the p-value plays a central role in deciding whether to reject or fail to reject the null hypothesis\n",
    "\n",
    "\n",
    "Decision Rule: The p-value serves as a decision criterion in hypothesis testing. It allows you to make a decision about the null hypothesis based on the strength of evidence provided by the sample data.\n",
    "\n",
    "Comparing to Significance Level (Alpha): In hypothesis testing, you set a significance level (alpha, denoted as α) before conducting the test (e.g., α = 0.05). The p-value is compared to this significance level:\n",
    "\n",
    "If the p-value is less than or equal to alpha (p ≤ α), you reject the null hypothesis.\n",
    "If the p-value is greater than alpha (p > α), you fail to reject the null hypothesis."
   ]
  },
  {
   "cell_type": "code",
   "execution_count": 15,
   "id": "91549fd0-1940-45f9-bffb-f241b15c9d44",
   "metadata": {},
   "outputs": [],
   "source": [
    "#Q9"
   ]
  },
  {
   "cell_type": "code",
   "execution_count": 22,
   "id": "878b101a-776f-4ffd-ac8b-a8314aaf52e5",
   "metadata": {},
   "outputs": [],
   "source": [
    "import matplotlib.pyplot as plt\n",
    "from scipy.stats import t"
   ]
  },
  {
   "cell_type": "code",
   "execution_count": 17,
   "id": "02fa4fca-e1ed-4a24-89e5-08c092daa297",
   "metadata": {},
   "outputs": [],
   "source": [
    "df = 10\n",
    "x = np.linspace(-4, 4, 1000)"
   ]
  },
  {
   "cell_type": "code",
   "execution_count": 23,
   "id": "796a475a-6aca-4b78-bf0f-9f660d2a8022",
   "metadata": {},
   "outputs": [],
   "source": [
    "pdf = t.pdf(x, df)"
   ]
  },
  {
   "cell_type": "code",
   "execution_count": 24,
   "id": "956501ee-f144-4cc8-a7a7-410e2765a5ff",
   "metadata": {},
   "outputs": [
    {
     "data": {
      "text/plain": [
       "[<matplotlib.lines.Line2D at 0x7fa91fbbbd60>]"
      ]
     },
     "execution_count": 24,
     "metadata": {},
     "output_type": "execute_result"
    },
    {
     "data": {
      "image/png": "[encoded data removed]",
      "text/plain": [
       "<Figure size 640x480 with 1 Axes>"
      ]
     },
     "metadata": {},
     "output_type": "display_data"
    }
   ],
   "source": [
    "plt.plot(x, pdf, label=f't-distribution (df={df})', color='blue')"
   ]
  },
  {
   "cell_type": "code",
   "execution_count": 25,
   "id": "de3a7032-9ac2-4de4-b06f-a70202fef9a1",
   "metadata": {},
   "outputs": [],
   "source": [
    "#Q10"
   ]
  },
  {
   "cell_type": "code",
   "execution_count": 26,
   "id": "d2572c87-22cb-4f5e-9b5e-aed933af17b0",
   "metadata": {},
   "outputs": [],
   "source": [
    "sample1 = np.random.normal(loc=50, scale=10, size=50) \n",
    "sample2 = np.random.normal(loc=50, scale=10, size=50)"
   ]
  },
  {
   "cell_type": "code",
   "execution_count": 27,
   "id": "b6e5d77f-b57c-4c87-a1d3-b3801634998b",
   "metadata": {},
   "outputs": [],
   "source": [
    "t_stat, p_value = stats.ttest_ind(sample1, sample2, equal_var=True)"
   ]
  },
  {
   "cell_type": "code",
   "execution_count": 28,
   "id": "326908ea-6ad6-47ae-b5d2-4bb898e10dda",
   "metadata": {},
   "outputs": [],
   "source": [
    "alpha = 0.05"
   ]
  },
  {
   "cell_type": "code",
   "execution_count": 29,
   "id": "c6a56d9c-2267-45f0-9fd1-012d3f4d7d8a",
   "metadata": {},
   "outputs": [
    {
     "data": {
      "text/plain": [
       "0.41346577693517206"
      ]
     },
     "execution_count": 29,
     "metadata": {},
     "output_type": "execute_result"
    }
   ],
   "source": [
    "p_value"
   ]
  },
  {
   "cell_type": "markdown",
   "id": "5e1dc3af-3810-4368-833f-929bddd792c1",
   "metadata": {},
   "source": [
    "p_value>0.5 we accept the null hypothesis"
   ]
  },
  {
   "cell_type": "code",
   "execution_count": 1,
   "id": "78acddd3-4fd8-44a7-bdcc-2eb7aff5531f",
   "metadata": {},
   "outputs": [],
   "source": [
    "#Q11"
   ]
  },
  {
   "cell_type": "markdown",
   "id": "343a88fd-f76d-4f46-aee9-ebb4152a80c6",
   "metadata": {},
   "source": [
    "Student's t-distribution, often simply referred to as the t-distribution, is a probability distribution that arises in statistics. It is used for making inferences about population parameters, particularly when dealing with small sample sizes and when the population standard deviation is unknown.\n",
    "\n",
    "Key characteristics of the t-distribution include:\n",
    "\n",
    "Bell-Shaped: Like the normal distribution (bell curve), the t-distribution is bell-shaped. However, it has heavier tails compared to the normal distribution, making it suitable for dealing with uncertainty in small samples.\n",
    "\n",
    "Parameterized by Degrees of Freedom (df): The shape of the t-distribution depends on a single parameter called degrees of freedom (df). The degrees of freedom determine the thickness of the tails and influence the t-distribution's behavior. As df increases, the t-distribution approaches the shape of the normal distribution.\n",
    "\n",
    "Tails: The t-distribution has fatter tails than the normal distribution. This property reflects the increased uncertainty associated with estimating population parameters from small samples.\n",
    "\n",
    "When to use the t-distribution:\n",
    "Small Sample Sizes,\n",
    "Unknown Population Standard Deviation"
   ]
  },
  {
   "cell_type": "code",
   "execution_count": 2,
   "id": "0970f9a5-fa82-4308-84f7-fdc2b24bd6e8",
   "metadata": {},
   "outputs": [],
   "source": [
    "#Q12"
   ]
  },
  {
   "cell_type": "markdown",
   "id": "d63b903c-9d47-45d1-acb5-aecc5a10e6fa",
   "metadata": {},
   "source": [
    "The t-statistic (also known as the Student's t-statistic or t-value) is a measure used in statistical hypothesis testing to assess whether the difference between a sample statistic and a population parameter is statistically significant. It is particularly useful when dealing with small sample sizes and situations where the population standard deviation is unknown.\n",
    "\n",
    "\n",
    "The formula for the t-statistic depends on the type of hypothesis test being conducted. Here are two common scenarios and their corresponding formulas:\n",
    "\n",
    "1. One-Sample t-Test:\n",
    "Use this when you want to test if a sample mean is significantly different from a hypothesized population mean (null hypothesis: H0: μ = μ0).\n",
    "\n",
    "2. Independent Samples t-Test:\n",
    "\n",
    "Use this when you want to compare the means of two independent samples and test if they are significantly different from each other (null hypothesis: H0: μ1 = μ2)."
   ]
  },
  {
   "cell_type": "code",
   "execution_count": 3,
   "id": "23c3ff73-89db-497f-bb2c-b4a88e31159b",
   "metadata": {},
   "outputs": [],
   "source": [
    "#Q13"
   ]
  },
  {
   "cell_type": "code",
   "execution_count": 11,
   "id": "ab91906a-8153-4193-b390-388184d01011",
   "metadata": {},
   "outputs": [],
   "source": [
    "sample_Mean=500\n",
    "z=1.96#(as it follows normal distribution)\n",
    "s=50\n",
    "n=50\n",
    "\n",
    "CI_Upper = 500+ 1.96*(50/np.sqrt(50))\n",
    "CI_Lower = 500- 1.96*(50/np.sqrt(50))"
   ]
  },
  {
   "cell_type": "code",
   "execution_count": 12,
   "id": "c97e4ed5-988e-4841-861b-046e091e692a",
   "metadata": {},
   "outputs": [
    {
     "name": "stdout",
     "output_type": "stream",
     "text": [
      "513.8592929112564\n",
      "486.1407070887437\n"
     ]
    }
   ],
   "source": [
    "print(CI_Upper)\n",
    "print(CI_Lower)"
   ]
  },
  {
   "cell_type": "code",
   "execution_count": 2,
   "id": "224eef2e-a6a1-4587-95a3-57ac848f4fcb",
   "metadata": {},
   "outputs": [],
   "source": [
    "#Q14"
   ]
  },
  {
   "cell_type": "markdown",
   "id": "68c259df-9d5d-4980-8814-953b42fec5f7",
   "metadata": {},
   "source": [
    "H0= New drug does not reduces BP by 10 mmHg\n",
    "H1= new drug reduces BP by 10 mmHg\n",
    "\n",
    "it is two tailed test\n",
    "\n",
    "we will be using t-test as populatin std is not given"
   ]
  },
  {
   "cell_type": "code",
   "execution_count": 4,
   "id": "24178c96-6abb-44b1-a983-2f8e64655eac",
   "metadata": {},
   "outputs": [
    {
     "name": "stdout",
     "output_type": "stream",
     "text": [
      "-6.666666666666667\n"
     ]
    }
   ],
   "source": [
    "sample_mean=8\n",
    "populaton_mean=10\n",
    "std_sample=3\n",
    "n=100\n",
    "\n",
    "t=(sample_mean - populaton_mean)/ (std_sample/ np.sqrt(n))\n",
    "\n",
    "print(t)"
   ]
  },
  {
   "cell_type": "code",
   "execution_count": 5,
   "id": "ab5622e3-d5f3-44b8-8aa3-100a71dfa37a",
   "metadata": {},
   "outputs": [],
   "source": [
    "alpha =0.05/2"
   ]
  },
  {
   "cell_type": "code",
   "execution_count": 6,
   "id": "fbc388ca-26fc-4ccc-9fad-ec1b0455da5b",
   "metadata": {},
   "outputs": [
    {
     "data": {
      "text/plain": [
       "0.025"
      ]
     },
     "execution_count": 6,
     "metadata": {},
     "output_type": "execute_result"
    }
   ],
   "source": [
    "alpha"
   ]
  },
  {
   "cell_type": "markdown",
   "id": "ed81741b-8a6e-479d-b3c0-536451738899",
   "metadata": {},
   "source": [
    "using t table , dof=99 , two tail test and alpha =0.05\n",
    "\n",
    "we will get 1.984 and -1.984 as critical point\n",
    "\n",
    "compare t test vale with the above values\n",
    "\n",
    "-6.67 <-1.984  we reject H0"
   ]
  },
  {
   "cell_type": "code",
   "execution_count": 7,
   "id": "27ff03bf-f80b-4423-be2c-0113b8a1e205",
   "metadata": {},
   "outputs": [],
   "source": [
    "#Q15"
   ]
  },
  {
   "cell_type": "code",
   "execution_count": 8,
   "id": "6e16df07-03a4-4b46-8258-b42c9588eb64",
   "metadata": {},
   "outputs": [],
   "source": [
    "pop_mean=5\n",
    "pop_std=0.5\n",
    "n=25\n",
    "sample_mean=4.8\n",
    "alpha =0.01\n",
    "\n",
    "#    H0= true weight is not less than 5 pound\n",
    "#    H1= True weight is less than 5 pount\n",
    "#             one tail test"
   ]
  },
  {
   "cell_type": "code",
   "execution_count": 9,
   "id": "49baf50e-5731-46b8-994e-8aa76f99c896",
   "metadata": {},
   "outputs": [],
   "source": [
    "t_vale=(sample_mean-pop_mean)/(pop_std/ np.sqrt(n))"
   ]
  },
  {
   "cell_type": "code",
   "execution_count": 11,
   "id": "3b7f92f6-ee14-41f4-b543-105b2f3c0b66",
   "metadata": {},
   "outputs": [
    {
     "data": {
      "text/plain": [
       "-2.0000000000000018"
      ]
     },
     "execution_count": 11,
     "metadata": {},
     "output_type": "execute_result"
    }
   ],
   "source": [
    "t_vale"
   ]
  },
  {
   "cell_type": "markdown",
   "id": "17884ec3-ffcc-4cd6-a812-c0d66c00c7a2",
   "metadata": {},
   "source": [
    "as dof=24, one tail test and alpha =0.01 using table \n",
    "critical point mes out to be -2.492\n",
    "\n",
    "as -2> -2.492 we accept null hyposthesis"
   ]
  },
  {
   "cell_type": "code",
   "execution_count": 12,
   "id": "004db723-f6de-4a61-b11b-d9840cbc5f81",
   "metadata": {},
   "outputs": [],
   "source": [
    "#Q16"
   ]
  },
  {
   "cell_type": "code",
   "execution_count": 14,
   "id": "d4bb706e-2604-42a6-8539-3d10542613f9",
   "metadata": {},
   "outputs": [],
   "source": [
    "mean_1=80\n",
    "n1=30\n",
    "std_1=10\n",
    "\n",
    "mean_2=75\n",
    "n2=40\n",
    "std_2=8\n",
    "\n",
    "#       H0= Mean_1= Mean_2\n",
    "#       H1 = mean_1 <> Mean_2\n",
    "#       Two tail test\n",
    "\n",
    " #will be usning  two sample independent t test \n",
    "    \n",
    "t_value= (mean_1-mean_2)/ np.sqrt(((10*10)/30) + ((8*8)/40))"
   ]
  },
  {
   "cell_type": "code",
   "execution_count": 15,
   "id": "56164bfd-0610-4915-9865-971f4b871023",
   "metadata": {},
   "outputs": [
    {
     "data": {
      "text/plain": [
       "2.2511258444537408"
      ]
     },
     "execution_count": 15,
     "metadata": {},
     "output_type": "execute_result"
    }
   ],
   "source": [
    "t_value"
   ]
  },
  {
   "cell_type": "markdown",
   "id": "f8f927dc-75ff-492f-8c43-0f8dea36c0df",
   "metadata": {},
   "source": [
    "dof=68, alpha =0.01 and two tail test\n",
    "\n",
    "2.25< 2.66 so we reject null hypothesis"
   ]
  },
  {
   "cell_type": "code",
   "execution_count": 16,
   "id": "d5a7aaba-f053-429a-9798-6c81dec6d227",
   "metadata": {},
   "outputs": [],
   "source": [
    "#Q17"
   ]
  },
  {
   "cell_type": "code",
   "execution_count": 21,
   "id": "13faaae9-9c5e-4d79-9b05-e1a5fcd1f26a",
   "metadata": {},
   "outputs": [],
   "source": [
    "n=50\n",
    "sample_mean=4\n",
    "sample_std=1.5\n",
    "\n",
    "# x+z*(z/sqrt(n))\n",
    "\n",
    "#as confidence interval is 99% so z = 2.576\n",
    "\n",
    "\n",
    "CI_Upper = sample_mean+ 2.576*(sample_std/np.sqrt(50))\n",
    "CI_Lower = sample_mean- 2.576*(sample_std/np.sqrt(50))"
   ]
  },
  {
   "cell_type": "code",
   "execution_count": 22,
   "id": "73b4f150-5c82-4b72-b960-163dcade5d70",
   "metadata": {},
   "outputs": [
    {
     "data": {
      "text/plain": [
       "4.546452120500964"
      ]
     },
     "execution_count": 22,
     "metadata": {},
     "output_type": "execute_result"
    }
   ],
   "source": [
    "CI_Upper"
   ]
  },
  {
   "cell_type": "code",
   "execution_count": 23,
   "id": "4b226b8f-2cd7-4b9b-886d-4e1a8ca9f202",
   "metadata": {},
   "outputs": [
    {
     "data": {
      "text/plain": [
       "3.453547879499036"
      ]
     },
     "execution_count": 23,
     "metadata": {},
     "output_type": "execute_result"
    }
   ],
   "source": [
    "CI_Lower"
   ]
  },
  {
   "cell_type": "code",
   "execution_count": null,
   "id": "284dd83c-362c-4a1b-b448-931178bef1be",
   "metadata": {},
   "outputs": [],
   "source": []
  }
 ],
 "metadata": {
  "kernelspec": {
   "display_name": "Python 3 (ipykernel)",
   "language": "python",
   "name": "python3"
  },
  "language_info": {
   "codemirror_mode": {
    "name": "ipython",
    "version": 3
   },
   "file_extension": ".py",
   "mimetype": "text/x-python",
   "name": "python",
   "nbconvert_exporter": "python",
   "pygments_lexer": "ipython3",
   "version": "3.10.8"
  }
 },
 "nbformat": 4,
 "nbformat_minor": 5
}
