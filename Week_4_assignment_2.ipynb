{
 "cells": [
  {
   "cell_type": "code",
   "execution_count": 2,
   "id": "01a1c9f4-2630-4bac-bcac-017c4d3bda22",
   "metadata": {},
   "outputs": [],
   "source": [
    "#Q1 Class:- Class is a blueprint fo a template for creating objects.It defines common properties and behaviour that objects of a certain type will have.\n",
    "\n",
    "#Object:-\n",
    " #Obect is an instance of a class."
   ]
  },
  {
   "cell_type": "code",
   "execution_count": 4,
   "id": "e4d4a992-557b-4df8-9ed3-e92870dde93d",
   "metadata": {},
   "outputs": [],
   "source": [
    "class car:\n",
    "    def __init__(self,make,model,year):\n",
    "        self.make=make\n",
    "        self.model=model\n",
    "        self.year=year\n",
    "        \n",
    "    def start_engine(self):\n",
    "        print(\"Engine started\")\n",
    "        \n",
    "    def stop_engine(self):\n",
    "        print(\"Engine Stop\")\n",
    "        \n",
    "    def drive(self,speed):\n",
    "        print(\"car speed is\",speed)\n",
    "        "
   ]
  },
  {
   "cell_type": "code",
   "execution_count": 11,
   "id": "64d94b91-8778-4624-84e8-d4269b35804e",
   "metadata": {},
   "outputs": [],
   "source": [
    "car_obj=car(\"Kia\",\"Sonet\",2020)  # Object of a class"
   ]
  },
  {
   "cell_type": "code",
   "execution_count": 10,
   "id": "5d2dafd8-5c42-4783-833e-dec9dcbeb765",
   "metadata": {},
   "outputs": [
    {
     "name": "stdout",
     "output_type": "stream",
     "text": [
      "Engine started\n",
      "car speed is 60\n",
      "Engine Stop\n"
     ]
    }
   ],
   "source": [
    "car_obj.start_engine()\n",
    "car_obj.drive(60)\n",
    "car_obj.stop_engine()"
   ]
  },
  {
   "cell_type": "code",
   "execution_count": 14,
   "id": "0cc46296-23a7-4498-8deb-5522c1d0fd68",
   "metadata": {},
   "outputs": [],
   "source": [
    "#Q2 Four Pillers\n",
    "\n",
    "#1. Encapsulation\n",
    "#2. Inheritance\n",
    "#3. Polymorphism\n",
    "#4. Abstraction"
   ]
  },
  {
   "cell_type": "code",
   "execution_count": 18,
   "id": "9ef67e39-da38-4735-b277-7d6c247ac1f4",
   "metadata": {},
   "outputs": [],
   "source": [
    "#Q3\n",
    "# __init__() function is used to ask user to provide input parameters while creating object of a class."
   ]
  },
  {
   "cell_type": "code",
   "execution_count": 19,
   "id": "c86f3e01-903c-47ce-9c09-5afd190a1983",
   "metadata": {},
   "outputs": [],
   "source": [
    "class car:\n",
    "    def __init__(self,make,model,year):\n",
    "        self.make=make\n",
    "        self.model=model\n",
    "        self.year=year\n",
    "        \n",
    "    def details(self):\n",
    "        return (self.make,self.model,self.year)"
   ]
  },
  {
   "cell_type": "code",
   "execution_count": 20,
   "id": "83dbb0fb-c7d4-40a5-9622-399618991331",
   "metadata": {},
   "outputs": [],
   "source": [
    "car_obj=car(\"Kia\",\"Sonet\",2020)"
   ]
  },
  {
   "cell_type": "code",
   "execution_count": 21,
   "id": "9f18eae3-9142-42e3-9b1f-d7f4927d56d9",
   "metadata": {},
   "outputs": [
    {
     "data": {
      "text/plain": [
       "('Kia', 'Sonet', 2020)"
      ]
     },
     "execution_count": 21,
     "metadata": {},
     "output_type": "execute_result"
    }
   ],
   "source": [
    "car_obj.details()"
   ]
  },
  {
   "cell_type": "code",
   "execution_count": 22,
   "id": "3b21c9d0-3ef6-46aa-a875-36018dc96d9b",
   "metadata": {},
   "outputs": [],
   "source": [
    "#Q4"
   ]
  },
  {
   "cell_type": "code",
   "execution_count": 23,
   "id": "73d26cee-f78a-4b62-830c-7d654932977e",
   "metadata": {},
   "outputs": [],
   "source": [
    "#self keyword is used to refer to the current instance of a class."
   ]
  },
  {
   "cell_type": "code",
   "execution_count": 24,
   "id": "31e16537-1db6-4091-81c1-53d77cbe0e49",
   "metadata": {},
   "outputs": [],
   "source": [
    "#Q5"
   ]
  },
  {
   "cell_type": "code",
   "execution_count": 26,
   "id": "5a22d753-5d32-46a9-8743-95c4c8acec1b",
   "metadata": {},
   "outputs": [],
   "source": [
    "# Ineritance is property by which a class can inherit properties from other class\n",
    "#Two type of inheritance \n",
    "#    1. Multi level\n",
    "#    2. Multiple"
   ]
  },
  {
   "cell_type": "code",
   "execution_count": 29,
   "id": "0218b656-05c0-4b6b-893a-3261fdf8158e",
   "metadata": {},
   "outputs": [],
   "source": [
    "class inherit:\n",
    "    \n",
    "    def inherit_pclass(self):\n",
    "        print(\"This is my inheritance parent class\")"
   ]
  },
  {
   "cell_type": "code",
   "execution_count": 30,
   "id": "9384226f-6bff-4a45-b8e3-5d31e3659eb5",
   "metadata": {},
   "outputs": [],
   "source": [
    "class child_class(inherit):\n",
    "    pass"
   ]
  },
  {
   "cell_type": "code",
   "execution_count": 31,
   "id": "67236a10-99f1-407a-ad38-4b5d1004a091",
   "metadata": {},
   "outputs": [],
   "source": [
    "child_class_obj=child_class()"
   ]
  },
  {
   "cell_type": "code",
   "execution_count": 32,
   "id": "b24c9d68-0926-4995-83ab-88e6fb10d005",
   "metadata": {},
   "outputs": [
    {
     "name": "stdout",
     "output_type": "stream",
     "text": [
      "This is my inheritance parent class\n"
     ]
    }
   ],
   "source": [
    "child_class_obj.inherit_pclass()"
   ]
  },
  {
   "cell_type": "code",
   "execution_count": 33,
   "id": "e0177928-962a-4f6a-9489-aff8e24a2f63",
   "metadata": {},
   "outputs": [],
   "source": [
    "#multi level inheritance\n",
    "\n",
    "class class_1:\n",
    "    \n",
    "    def class_1_print(self):\n",
    "        print(\"class 1\")"
   ]
  },
  {
   "cell_type": "code",
   "execution_count": 34,
   "id": "76c07cda-b6c0-41d4-95d7-1a119e20f162",
   "metadata": {},
   "outputs": [],
   "source": [
    "class class_2(class_1):\n",
    "    \n",
    "    def class_2_print(self):\n",
    "        print (\"class 2\")"
   ]
  },
  {
   "cell_type": "code",
   "execution_count": 35,
   "id": "f92dff4d-0449-433f-b30b-a9ec1821fb13",
   "metadata": {},
   "outputs": [],
   "source": [
    "class class_3(class_2):\n",
    "    \n",
    "    def class_3_print(self):\n",
    "        pass"
   ]
  },
  {
   "cell_type": "code",
   "execution_count": 36,
   "id": "23762ae4-4d54-408c-a01a-f67dfb6d749f",
   "metadata": {},
   "outputs": [],
   "source": [
    "class_obj=class_3()"
   ]
  },
  {
   "cell_type": "code",
   "execution_count": 38,
   "id": "a9fdfcbc-c786-403f-8208-ae70876026cf",
   "metadata": {},
   "outputs": [
    {
     "name": "stdout",
     "output_type": "stream",
     "text": [
      "class 1\n"
     ]
    }
   ],
   "source": [
    "class_obj.class_1_print()"
   ]
  },
  {
   "cell_type": "code",
   "execution_count": 40,
   "id": "eb2e5ef4-39c8-41ff-a89a-8a4b9c728eca",
   "metadata": {},
   "outputs": [
    {
     "name": "stdout",
     "output_type": "stream",
     "text": [
      "class 2\n"
     ]
    }
   ],
   "source": [
    "class_obj.class_2_print()"
   ]
  },
  {
   "cell_type": "code",
   "execution_count": 41,
   "id": "72eed7ed-1bc1-4fc5-b040-330433024205",
   "metadata": {},
   "outputs": [],
   "source": [
    "# Multiple Inheritance"
   ]
  },
  {
   "cell_type": "code",
   "execution_count": 42,
   "id": "5dba6eee-aa2d-46bc-99c7-fe9a18ef4691",
   "metadata": {},
   "outputs": [],
   "source": [
    "class class_1:\n",
    "    \n",
    "    def class_1_print(self):\n",
    "        print(\"class 1\")"
   ]
  },
  {
   "cell_type": "code",
   "execution_count": 44,
   "id": "b24e6d59-c46f-49c0-bfdd-bba0a4e3a522",
   "metadata": {},
   "outputs": [],
   "source": [
    "class class_2():\n",
    "    \n",
    "    def class_2_print(self):\n",
    "        print (\"class 2\")"
   ]
  },
  {
   "cell_type": "code",
   "execution_count": 45,
   "id": "2fdc591e-c911-493d-acd7-d93dcdabc99d",
   "metadata": {},
   "outputs": [],
   "source": [
    "class class_3(class_1,class_2):\n",
    "    pass"
   ]
  },
  {
   "cell_type": "code",
   "execution_count": 46,
   "id": "092bc286-0e49-4830-9b3f-3d5f33b08b15",
   "metadata": {},
   "outputs": [],
   "source": [
    "class_obj= class_3()"
   ]
  },
  {
   "cell_type": "code",
   "execution_count": 48,
   "id": "9a1f4fd3-24c1-4f86-9cbd-be703e5d0988",
   "metadata": {},
   "outputs": [
    {
     "name": "stdout",
     "output_type": "stream",
     "text": [
      "class 1\n"
     ]
    }
   ],
   "source": [
    "class_obj.class_1_print()"
   ]
  },
  {
   "cell_type": "code",
   "execution_count": 49,
   "id": "e2093525-0e69-4cc7-a6db-f0cc59f73ca4",
   "metadata": {},
   "outputs": [
    {
     "name": "stdout",
     "output_type": "stream",
     "text": [
      "class 2\n"
     ]
    }
   ],
   "source": [
    "class_obj.class_2_print()"
   ]
  },
  {
   "cell_type": "code",
   "execution_count": null,
   "id": "40483cb4-ed61-486b-a372-db33b68313b1",
   "metadata": {},
   "outputs": [],
   "source": []
  },
  {
   "cell_type": "code",
   "execution_count": null,
   "id": "08dc93e6-a889-4e58-a621-9a07d04174b6",
   "metadata": {},
   "outputs": [],
   "source": []
  }
 ],
 "metadata": {
  "kernelspec": {
   "display_name": "Python 3 (ipykernel)",
   "language": "python",
   "name": "python3"
  },
  "language_info": {
   "codemirror_mode": {
    "name": "ipython",
    "version": 3
   },
   "file_extension": ".py",
   "mimetype": "text/x-python",
   "name": "python",
   "nbconvert_exporter": "python",
   "pygments_lexer": "ipython3",
   "version": "3.10.8"
  }
 },
 "nbformat": 4,
 "nbformat_minor": 5
}
