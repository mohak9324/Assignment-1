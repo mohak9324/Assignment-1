{
 "cells": [
  {
   "cell_type": "code",
   "execution_count": 3,
   "id": "16385e95-9e73-405c-a05d-80b5b4d2b1d2",
   "metadata": {},
   "outputs": [],
   "source": [
    "import numpy as np\n",
    "import pandas as pd\n",
    "import scipy.stats as stats\n",
    "import statsmodels.api as sm\n",
    "from statsmodels.formula.api import ols"
   ]
  },
  {
   "cell_type": "code",
   "execution_count": 4,
   "id": "e63630c7-0c3c-4661-a150-48a145181d24",
   "metadata": {},
   "outputs": [],
   "source": [
    "# Q1 Write a Python function that takes in two arrays of data and calculates the F-value for a variance ratio\n",
    "# test. The function should return the F-value and the corresponding p-value for the test."
   ]
  },
  {
   "cell_type": "code",
   "execution_count": 13,
   "id": "ae4a24d0-42ef-4e14-bcfe-c8df053dbb42",
   "metadata": {},
   "outputs": [],
   "source": [
    "import scipy.stats as stats\n",
    "\n",
    "def variance_ratio_test(data1, data2):\n",
    " \n",
    "    # Calculate the F-statistic and p-value\n",
    "    f_value, p_value = stats.levene(data1, data2)\n",
    "\n",
    "    return f_value, p_value"
   ]
  },
  {
   "cell_type": "code",
   "execution_count": 14,
   "id": "73636b95-d520-432a-a787-b028c526071d",
   "metadata": {},
   "outputs": [
    {
     "name": "stdout",
     "output_type": "stream",
     "text": [
      "F-Value: 0.6250000000000006\n",
      "P-Value: 0.4407566134221783\n"
     ]
    }
   ],
   "source": [
    "data1 = [23, 26, 29, 21, 25, 30, 28, 24, 27]\n",
    "data2 = [18, 20, 22, 17, 19, 21, 23, 16, 20]\n",
    "\n",
    "f_value, p_value = variance_ratio_test(data1, data2)\n",
    "print(\"F-Value:\", f_value)\n",
    "print(\"P-Value:\", p_value)"
   ]
  },
  {
   "cell_type": "code",
   "execution_count": 7,
   "id": "7be5ac1b-4ec1-4447-8ac2-14c9042348dc",
   "metadata": {},
   "outputs": [],
   "source": [
    "# Q2. Given a significance level of 0.05 and the degrees of freedom for the numerator and denominator of an\n",
    "# F-distribution, write a Python function that returns the critical F-value for a two-tailed test."
   ]
  },
  {
   "cell_type": "code",
   "execution_count": 8,
   "id": "cc3c3d78-2b42-4c29-9b0d-bced95781279",
   "metadata": {},
   "outputs": [
    {
     "name": "stdout",
     "output_type": "stream",
     "text": [
      "Critical F-Value: 3.8586986662732143\n"
     ]
    }
   ],
   "source": [
    "import scipy.stats as stats\n",
    "\n",
    "def critical_f_value(alpha, dfn, dfd):\n",
    "    \"\"\"\n",
    "        alpha (float): Significance level (e.g., 0.05 for a 95% confidence level).\n",
    "        dfn (int): Degrees of freedom for the numerator.\n",
    "        dfd (int): Degrees of freedom for the denominator.\n",
    "\n",
    "    Returns:\n",
    "        f_critical (float): Critical F-value for a two-tailed test.\n",
    "    \"\"\"\n",
    "    alpha_over_2 = alpha / 2  # Divide alpha by 2 for a two-tailed test\n",
    "    f_critical = stats.f.ppf(1 - alpha_over_2, dfn, dfd)\n",
    "    \n",
    "    return f_critical\n",
    "\n",
    "# Example usage:\n",
    "alpha = 0.05\n",
    "dfn = 3  # Degrees of freedom for the numerator\n",
    "dfd = 20  # Degrees of freedom for the denominator\n",
    "\n",
    "f_critical = critical_f_value(alpha, dfn, dfd)\n",
    "print(\"Critical F-Value:\", f_critical)\n"
   ]
  },
  {
   "cell_type": "code",
   "execution_count": 15,
   "id": "eb377e3d-ad56-4054-bf93-833cfa5f5cc4",
   "metadata": {},
   "outputs": [],
   "source": [
    "# Q3. Write a Python program that generates random samples from two normal distributions with known\n",
    "\n",
    "# variances and uses an F-test to determine if the variances are equal. The program should output the F-\n",
    "# value, degrees of freedom, and p-value for the test."
   ]
  },
  {
   "cell_type": "code",
   "execution_count": 17,
   "id": "8e730fb0-e743-4e70-99b4-1526a9c3aa1e",
   "metadata": {},
   "outputs": [
    {
     "name": "stdout",
     "output_type": "stream",
     "text": [
      "Sample 1 Variance: 4.6814608154960355\n",
      "Sample 2 Variance: 4.847825893381239\n",
      "F-Statistic: 0.014668918367641256\n",
      "Degrees of Freedom (Numerator, Denominator): 29 29\n",
      "P-Value: 0.9040183263326804\n",
      "Fail to reject the null hypothesis: Variances are equal.\n"
     ]
    }
   ],
   "source": [
    "import numpy as np\n",
    "import scipy.stats as stats\n",
    "\n",
    "# Set random seed for reproducibility\n",
    "np.random.seed(0)\n",
    "\n",
    "# Generate random samples from two normal distributions with known variances\n",
    "variance1 = 4.0  # Variance of the first distribution\n",
    "variance2 = 6.0  # Variance of the second distribution\n",
    "sample_size = 30  # Size of each sample\n",
    "\n",
    "sample1 = np.random.normal(0, np.sqrt(variance1), sample_size)\n",
    "sample2 = np.random.normal(0, np.sqrt(variance2), sample_size)\n",
    "\n",
    "# Perform an F-test to compare variances\n",
    "f_statistic, p_value = stats.levene(sample1, sample2)\n",
    "\n",
    "# Calculate degrees of freedom\n",
    "dfn = len(sample1) - 1\n",
    "dfd = len(sample2) - 1\n",
    "\n",
    "# Print the results\n",
    "print(\"Sample 1 Variance:\", np.var(sample1))\n",
    "print(\"Sample 2 Variance:\", np.var(sample2))\n",
    "print(\"F-Statistic:\", f_statistic)\n",
    "print(\"Degrees of Freedom (Numerator, Denominator):\", dfn, dfd)\n",
    "print(\"P-Value:\", p_value)\n",
    "\n",
    "# Determine if the variances are equal based on the p-value\n",
    "alpha = 0.05  # Significance level\n",
    "if p_value < alpha:\n",
    "    print(\"Reject the null hypothesis: Variances are not equal.\")\n",
    "else:\n",
    "    print(\"Fail to reject the null hypothesis: Variances are equal.\")\n"
   ]
  },
  {
   "cell_type": "code",
   "execution_count": 18,
   "id": "ee7b01a5-1e09-4c35-ba34-8a4d3fd7ed98",
   "metadata": {},
   "outputs": [],
   "source": [
    "# Q4.The variances of two populations are known to be 10 and 15. A sample of 12 observations is taken from\n",
    "# each population. Conduct an F-test at the 5% significance level to determine if the variances are\n",
    "# significantly different."
   ]
  },
  {
   "cell_type": "code",
   "execution_count": 19,
   "id": "58778793-058f-42c5-b5fc-6d7282021675",
   "metadata": {},
   "outputs": [],
   "source": [
    "variance1 = 10.0  # Variance of the first distribution\n",
    "variance2 =15.0  # Variance of the second distribution\n",
    "sample_size = 12  # Size of each sample\n",
    "\n",
    "sample1 = np.random.normal(0, np.sqrt(variance1), sample_size)\n",
    "sample1 = np.random.normal(0, np.sqrt(variance2), sample_size)\n",
    "\n",
    "f_value, p_value = stats.levene(sample1, sample1)"
   ]
  },
  {
   "cell_type": "code",
   "execution_count": 20,
   "id": "0563afe0-6dda-4ca9-a075-7dc649864114",
   "metadata": {},
   "outputs": [
    {
     "name": "stdout",
     "output_type": "stream",
     "text": [
      "Sample 1 Variance: 10.52491307684022\n",
      "Sample 2 Variance: 4.847825893381239\n",
      "F-Statistic: 0.014668918367641256\n",
      "P-Value: 1.0\n",
      "Fail to reject the null hypothesis: Variances are equal.\n"
     ]
    }
   ],
   "source": [
    "print(\"Sample 1 Variance:\", np.var(sample1))\n",
    "print(\"Sample 2 Variance:\", np.var(sample2))\n",
    "print(\"F-Statistic:\", f_statistic)\n",
    "print(\"P-Value:\", p_value)\n",
    "\n",
    "# Determine if the variances are equal based on the p-value\n",
    "alpha = 0.05  # Significance level\n",
    "if p_value < alpha:\n",
    "    print(\"Reject the null hypothesis: Variances are not equal.\")\n",
    "else:\n",
    "    print(\"Fail to reject the null hypothesis: Variances are equal.\")"
   ]
  },
  {
   "cell_type": "code",
   "execution_count": 21,
   "id": "a64ea13b-50eb-4d66-b583-0633f1dc30fd",
   "metadata": {},
   "outputs": [],
   "source": [
    "# Q5. A manufacturer claims that the variance of the diameter of a certain product is 0.005. A sample of 25\n",
    "# products is taken, and the sample variance is found to be 0.006. Conduct an F-test at the 1% significance\n",
    "# level to determine if the claim is justified."
   ]
  },
  {
   "cell_type": "code",
   "execution_count": 22,
   "id": "2e71e949-e8ee-4330-89bb-2d4720e2048d",
   "metadata": {},
   "outputs": [],
   "source": [
    "variance1 = 0.005  # Variance of the first distribution\n",
    "variance2 =0.006  # Variance of the second distribution\n",
    "sample_size = 25  # Size of each sample\n",
    "\n",
    "sample1 = np.random.normal(0, np.sqrt(variance1), sample_size)\n",
    "sample1 = np.random.normal(0, np.sqrt(variance2), sample_size)\n",
    "\n",
    "f_value, p_value = stats.levene(sample1, sample1)"
   ]
  },
  {
   "cell_type": "code",
   "execution_count": 23,
   "id": "8f56630a-e67e-4d1e-aafa-308bea3a514b",
   "metadata": {},
   "outputs": [
    {
     "name": "stdout",
     "output_type": "stream",
     "text": [
      "Sample 1 Variance: 0.00459574777295417\n",
      "Sample 2 Variance: 4.847825893381239\n",
      "F-Statistic: 0.014668918367641256\n",
      "P-Value: 1.0\n",
      "Fail to reject the null hypothesis: Variances are equal.\n"
     ]
    }
   ],
   "source": [
    "print(\"Sample 1 Variance:\", np.var(sample1))\n",
    "print(\"Sample 2 Variance:\", np.var(sample2))\n",
    "print(\"F-Statistic:\", f_statistic)\n",
    "print(\"P-Value:\", p_value)\n",
    "\n",
    "# Determine if the variances are equal based on the p-value\n",
    "alpha = 0.01  # Significance level\n",
    "if p_value < alpha:\n",
    "    print(\"Reject the null hypothesis: Variances are not equal.\")\n",
    "else:\n",
    "    print(\"Fail to reject the null hypothesis: Variances are equal.\")"
   ]
  },
  {
   "cell_type": "code",
   "execution_count": 24,
   "id": "f5cebabf-d19c-482d-a9ac-b233c6d8b590",
   "metadata": {},
   "outputs": [],
   "source": [
    "#Q6 Write a Python function that takes in the degrees of freedom for the numerator and denominator of an\n",
    "# F-distribution and calculates the mean and variance of the distribution. The function should return the\n",
    "# mean and variance as a tuple."
   ]
  },
  {
   "cell_type": "code",
   "execution_count": 25,
   "id": "93662265-21fd-4358-b8f2-443b39c3bce7",
   "metadata": {},
   "outputs": [
    {
     "name": "stdout",
     "output_type": "stream",
     "text": [
      "Mean: 1.25\n",
      "Variance: 1.3541666666666667\n"
     ]
    }
   ],
   "source": [
    "def f_distribution_mean_variance(dfn, dfd):\n",
    "    \"\"\"\n",
    "    Calculate the mean and variance of an F-distribution given degrees of freedom for the numerator (dfn)\n",
    "    and degrees of freedom for the denominator (dfd).\n",
    "\n",
    "    Args:\n",
    "        dfn (int): Degrees of freedom for the numerator.\n",
    "        dfd (int): Degrees of freedom for the denominator.\n",
    "\n",
    "    Returns:\n",
    "        mean (float): Mean of the F-distribution.\n",
    "        variance (float): Variance of the F-distribution.\n",
    "    \"\"\"\n",
    "    if dfn > 2:\n",
    "        mean = dfd / (dfd - 2)\n",
    "    else:\n",
    "        mean = float('NaN')\n",
    "\n",
    "    if dfn > 4:\n",
    "        variance = (2 * dfd**2 * (dfn + dfd - 2)) / (dfn * (dfd - 2)**2 * (dfd - 4))\n",
    "    else:\n",
    "        variance = float('NaN')\n",
    "\n",
    "    return mean, variance\n",
    "\n",
    "# Example usage:\n",
    "dfn = 5  # Degrees of freedom for the numerator\n",
    "dfd = 10  # Degrees of freedom for the denominator\n",
    "\n",
    "mean, variance = f_distribution_mean_variance(dfn, dfd)\n",
    "print(\"Mean:\", mean)\n",
    "print(\"Variance:\", variance)\n"
   ]
  },
  {
   "cell_type": "code",
   "execution_count": 27,
   "id": "fb9979ad-e7be-4d3c-8dbd-a825650bbc55",
   "metadata": {},
   "outputs": [],
   "source": [
    "# Q7. A random sample of 10 measurements is taken from a normal population with unknown variance. The\n",
    "# sample variance is found to be 25. Another random sample of 15 measurements is taken from another\n",
    "# normal population with unknown variance, and the sample variance is found to be 20. Conduct an F-test\n",
    "# at the 10% significance level to determine if the variances are significantly different."
   ]
  },
  {
   "cell_type": "code",
   "execution_count": 28,
   "id": "1aedb452-ef51-4f2c-b0db-10653dd919b3",
   "metadata": {},
   "outputs": [],
   "source": [
    "variance1 = 25  # Variance of the first distribution\n",
    "variance2 =20  # Variance of the second distribution\n",
    "sample_size_1 = 10  # Size of each sample\n",
    "sample_size_2 = 15\n",
    "\n",
    "sample1 = np.random.normal(0, np.sqrt(variance1), sample_size_1)\n",
    "sample2 = np.random.normal(0, np.sqrt(variance2), sample_size_2)\n",
    "\n",
    "f_value, p_value = stats.levene(sample1, sample2)"
   ]
  },
  {
   "cell_type": "code",
   "execution_count": 31,
   "id": "0d45fe5f-9c22-409f-8860-40326aad7d10",
   "metadata": {},
   "outputs": [
    {
     "name": "stdout",
     "output_type": "stream",
     "text": [
      "Sample 1 Variance: 13.520727490376615\n",
      "Sample 2 Variance: 25.302647495956784\n",
      "F-Statistic: 0.014668918367641256\n",
      "P-Value: 0.42314910783642523\n",
      "Fail to reject the null hypothesis: Variances are equal.\n"
     ]
    }
   ],
   "source": [
    "print(\"Sample 1 Variance:\", np.var(sample1))\n",
    "print(\"Sample 2 Variance:\", np.var(sample2))\n",
    "print(\"F-Statistic:\", f_statistic)\n",
    "print(\"P-Value:\", p_value)\n",
    "\n",
    "# Determine if the variances are equal based on the p-value\n",
    "# H0=Variance are equal\n",
    "# H1=Variance are significantly different\n",
    "alpha = 0.1  # Significance level\n",
    "if p_value < alpha:\n",
    "    print(\"Reject the null hypothesis: Variances are not equal.\")\n",
    "else:\n",
    "    print(\"Fail to reject the null hypothesis: Variances are equal.\")"
   ]
  },
  {
   "cell_type": "code",
   "execution_count": 32,
   "id": "864069fd-aee1-4b1d-817d-6813495e1c5a",
   "metadata": {},
   "outputs": [],
   "source": [
    "# Q8 The following data represent the waiting times in minutes at two different restaurants on a Saturday\n",
    "# night: Restaurant A: 24, 25, 28, 23, 22, 20, 27; Restaurant B: 31, 33, 35, 30, 32, 36. Conduct an F-test at the 5%\n",
    "# significance level to determine if the variances are significantly different."
   ]
  },
  {
   "cell_type": "code",
   "execution_count": 35,
   "id": "ee27f730-1f7c-42e4-a119-bde9f4b584f9",
   "metadata": {},
   "outputs": [
    {
     "name": "stdout",
     "output_type": "stream",
     "text": [
      "F-Statistic: 0.1534334763948498\n",
      "P-Value: 0.7027574347026961\n",
      "Fail to reject the null hypothesis: Variances are equal.\n"
     ]
    }
   ],
   "source": [
    "import scipy.stats as stats\n",
    "\n",
    "# Waiting times data\n",
    "waiting_times_a = [24, 25, 28, 23, 22, 20, 27]\n",
    "waiting_times_b = [31, 33, 35, 30, 32, 36]\n",
    "\n",
    "# Calculate the F-statistic and p-value\n",
    "f_statistic, p_value = stats.levene(waiting_times_a, waiting_times_b)\n",
    "\n",
    "# Significance level\n",
    "alpha = 0.05  # 5% significance level\n",
    "\n",
    "# Print the results\n",
    "print(\"F-Statistic:\", f_statistic)\n",
    "print(\"P-Value:\", p_value)\n",
    "\n",
    "# Determine if the variances are significantly different\n",
    "if p_value < alpha:\n",
    "    print(\"Reject the null hypothesis: Variances are not equal.\")\n",
    "else:\n",
    "    print(\"Fail to reject the null hypothesis: Variances are equal.\")\n"
   ]
  },
  {
   "cell_type": "code",
   "execution_count": 36,
   "id": "292ce07a-6142-4d0c-82a1-3fe888e2841f",
   "metadata": {},
   "outputs": [],
   "source": [
    "# Q9. The following data represent the test scores of two groups of students: Group A: 80, 85, 90, 92, 87, 83;\n",
    "# Group B: 75, 78, 82, 79, 81, 84. Conduct an F-test at the 1% significance level to determine if the variances\n",
    "# # are significantly different."
   ]
  },
  {
   "cell_type": "code",
   "execution_count": 37,
   "id": "bd9f8650-67a5-4a37-a71b-f39fe059bb0d",
   "metadata": {},
   "outputs": [
    {
     "name": "stdout",
     "output_type": "stream",
     "text": [
      "F-Statistic: 0.7692307692307693\n",
      "P-Value: 0.40103438967134647\n",
      "Fail to reject the null hypothesis: Variances are equal.\n"
     ]
    }
   ],
   "source": [
    "import scipy.stats as stats\n",
    "\n",
    "# Waiting times data\n",
    "grp_a = [80, 85, 90, 92, 87, 83]\n",
    "grp_b = [75, 78, 82, 79, 81, 84]\n",
    "\n",
    "# Calculate the F-statistic and p-value\n",
    "f_statistic, p_value = stats.levene(grp_a, grp_b)\n",
    "\n",
    "# Significance level\n",
    "alpha = 0.05  # 5% significance level\n",
    "\n",
    "# Print the results\n",
    "print(\"F-Statistic:\", f_statistic)\n",
    "print(\"P-Value:\", p_value)\n",
    "\n",
    "# Determine if the variances are significantly different\n",
    "if p_value < alpha:\n",
    "    print(\"Reject the null hypothesis: Variances are not equal.\")\n",
    "else:\n",
    "    print(\"Fail to reject the null hypothesis: Variances are equal.\")"
   ]
  },
  {
   "cell_type": "code",
   "execution_count": null,
   "id": "6b707c7e-5658-4921-a868-8e960d1cfefa",
   "metadata": {},
   "outputs": [],
   "source": []
  }
 ],
 "metadata": {
  "kernelspec": {
   "display_name": "Python 3 (ipykernel)",
   "language": "python",
   "name": "python3"
  },
  "language_info": {
   "codemirror_mode": {
    "name": "ipython",
    "version": 3
   },
   "file_extension": ".py",
   "mimetype": "text/x-python",
   "name": "python",
   "nbconvert_exporter": "python",
   "pygments_lexer": "ipython3",
   "version": "3.10.8"
  }
 },
 "nbformat": 4,
 "nbformat_minor": 5
}
