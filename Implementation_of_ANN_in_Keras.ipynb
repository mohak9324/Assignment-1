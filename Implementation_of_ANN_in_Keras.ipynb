{
  "nbformat": 4,
  "nbformat_minor": 0,
  "metadata": {
    "colab": {
      "provenance": []
    },
    "kernelspec": {
      "name": "python3",
      "display_name": "Python 3"
    },
    "language_info": {
      "name": "python"
    }
  },
  "cells": [
    {
      "cell_type": "code",
      "execution_count": 22,
      "metadata": {
        "id": "brptykFTatQk"
      },
      "outputs": [],
      "source": [
        "import tensorflow as tf\n",
        "from tensorflow import keras\n",
        "import pandas as pd\n",
        "from sklearn.model_selection import train_test_split\n",
        "from tensorflow.keras.models import Sequential\n",
        "from tensorflow.keras.layers import Dense"
      ]
    },
    {
      "cell_type": "code",
      "source": [
        "tf.__version__"
      ],
      "metadata": {
        "colab": {
          "base_uri": "https://localhost:8080/",
          "height": 35
        },
        "id": "HZ2QnQNcbPK_",
        "outputId": "40fca21d-f854-4f10-e31f-fc8ea7f4526c"
      },
      "execution_count": 7,
      "outputs": [
        {
          "output_type": "execute_result",
          "data": {
            "text/plain": [
              "'2.17.1'"
            ],
            "application/vnd.google.colaboratory.intrinsic+json": {
              "type": "string"
            }
          },
          "metadata": {},
          "execution_count": 7
        }
      ]
    },
    {
      "cell_type": "code",
      "source": [
        "keras.__version__"
      ],
      "metadata": {
        "colab": {
          "base_uri": "https://localhost:8080/",
          "height": 35
        },
        "id": "5FQaFbKubUMY",
        "outputId": "726685cd-0c82-424e-8c2b-b113d653c73a"
      },
      "execution_count": 8,
      "outputs": [
        {
          "output_type": "execute_result",
          "data": {
            "text/plain": [
              "'3.5.0'"
            ],
            "application/vnd.google.colaboratory.intrinsic+json": {
              "type": "string"
            }
          },
          "metadata": {},
          "execution_count": 8
        }
      ]
    },
    {
      "cell_type": "code",
      "source": [
        "data=pd.read_csv('wine.csv')"
      ],
      "metadata": {
        "id": "STCwuMxJbdsp"
      },
      "execution_count": 9,
      "outputs": []
    },
    {
      "cell_type": "code",
      "source": [
        "data.columns.to_list()"
      ],
      "metadata": {
        "colab": {
          "base_uri": "https://localhost:8080/"
        },
        "id": "V0N41MzAdGcZ",
        "outputId": "275ec223-c363-4aef-86ca-561020c23862"
      },
      "execution_count": 10,
      "outputs": [
        {
          "output_type": "execute_result",
          "data": {
            "text/plain": [
              "['fixed acidity',\n",
              " 'volatile acidity',\n",
              " 'citric acid',\n",
              " 'residual sugar',\n",
              " 'chlorides',\n",
              " 'free sulfur dioxide',\n",
              " 'total sulfur dioxide',\n",
              " 'density',\n",
              " 'pH',\n",
              " 'sulphates',\n",
              " 'alcohol',\n",
              " 'quality']"
            ]
          },
          "metadata": {},
          "execution_count": 10
        }
      ]
    },
    {
      "cell_type": "code",
      "source": [],
      "metadata": {
        "id": "atlVLyvBdOTB"
      },
      "execution_count": 10,
      "outputs": []
    },
    {
      "cell_type": "markdown",
      "source": [
        "Q3. Check for null values, identify categorical variables, and encode them."
      ],
      "metadata": {
        "id": "Q7FP2egczrFV"
      }
    },
    {
      "cell_type": "code",
      "source": [
        "data.isnull().sum()"
      ],
      "metadata": {
        "colab": {
          "base_uri": "https://localhost:8080/",
          "height": 460
        },
        "id": "bvwkhOxFzrin",
        "outputId": "572c73d4-02d3-4181-d371-11263386308d"
      },
      "execution_count": 11,
      "outputs": [
        {
          "output_type": "execute_result",
          "data": {
            "text/plain": [
              "fixed acidity           0\n",
              "volatile acidity        0\n",
              "citric acid             0\n",
              "residual sugar          0\n",
              "chlorides               0\n",
              "free sulfur dioxide     0\n",
              "total sulfur dioxide    0\n",
              "density                 0\n",
              "pH                      0\n",
              "sulphates               0\n",
              "alcohol                 0\n",
              "quality                 0\n",
              "dtype: int64"
            ],
            "text/html": [
              "<div>\n",
              "<style scoped>\n",
              "    .dataframe tbody tr th:only-of-type {\n",
              "        vertical-align: middle;\n",
              "    }\n",
              "\n",
              "    .dataframe tbody tr th {\n",
              "        vertical-align: top;\n",
              "    }\n",
              "\n",
              "    .dataframe thead th {\n",
              "        text-align: right;\n",
              "    }\n",
              "</style>\n",
              "<table border=\"1\" class=\"dataframe\">\n",
              "  <thead>\n",
              "    <tr style=\"text-align: right;\">\n",
              "      <th></th>\n",
              "      <th>0</th>\n",
              "    </tr>\n",
              "  </thead>\n",
              "  <tbody>\n",
              "    <tr>\n",
              "      <th>fixed acidity</th>\n",
              "      <td>0</td>\n",
              "    </tr>\n",
              "    <tr>\n",
              "      <th>volatile acidity</th>\n",
              "      <td>0</td>\n",
              "    </tr>\n",
              "    <tr>\n",
              "      <th>citric acid</th>\n",
              "      <td>0</td>\n",
              "    </tr>\n",
              "    <tr>\n",
              "      <th>residual sugar</th>\n",
              "      <td>0</td>\n",
              "    </tr>\n",
              "    <tr>\n",
              "      <th>chlorides</th>\n",
              "      <td>0</td>\n",
              "    </tr>\n",
              "    <tr>\n",
              "      <th>free sulfur dioxide</th>\n",
              "      <td>0</td>\n",
              "    </tr>\n",
              "    <tr>\n",
              "      <th>total sulfur dioxide</th>\n",
              "      <td>0</td>\n",
              "    </tr>\n",
              "    <tr>\n",
              "      <th>density</th>\n",
              "      <td>0</td>\n",
              "    </tr>\n",
              "    <tr>\n",
              "      <th>pH</th>\n",
              "      <td>0</td>\n",
              "    </tr>\n",
              "    <tr>\n",
              "      <th>sulphates</th>\n",
              "      <td>0</td>\n",
              "    </tr>\n",
              "    <tr>\n",
              "      <th>alcohol</th>\n",
              "      <td>0</td>\n",
              "    </tr>\n",
              "    <tr>\n",
              "      <th>quality</th>\n",
              "      <td>0</td>\n",
              "    </tr>\n",
              "  </tbody>\n",
              "</table>\n",
              "</div><br><label><b>dtype:</b> int64</label>"
            ]
          },
          "metadata": {},
          "execution_count": 11
        }
      ]
    },
    {
      "cell_type": "code",
      "source": [
        "data.select_dtypes(include=['object']).columns.to_list()"
      ],
      "metadata": {
        "colab": {
          "base_uri": "https://localhost:8080/"
        },
        "id": "LQyo1Wm1ztOc",
        "outputId": "92018d1a-d2ea-4177-a897-59da153cb690"
      },
      "execution_count": 12,
      "outputs": [
        {
          "output_type": "execute_result",
          "data": {
            "text/plain": [
              "['quality']"
            ]
          },
          "metadata": {},
          "execution_count": 12
        }
      ]
    },
    {
      "cell_type": "code",
      "source": [
        "encoded_data=pd.get_dummies(data,columns=['quality'],drop_first=True)"
      ],
      "metadata": {
        "id": "xN4_qR2mz9hq"
      },
      "execution_count": 13,
      "outputs": []
    },
    {
      "cell_type": "code",
      "source": [],
      "metadata": {
        "id": "FxJq5hF00YBy"
      },
      "execution_count": 13,
      "outputs": []
    },
    {
      "cell_type": "markdown",
      "source": [
        "Q4. Separate the features and target variables from the dataset."
      ],
      "metadata": {
        "id": "6nKoC4WW0lPJ"
      }
    },
    {
      "cell_type": "code",
      "source": [
        "encoded_data.head()"
      ],
      "metadata": {
        "colab": {
          "base_uri": "https://localhost:8080/",
          "height": 223
        },
        "id": "9-AeTyYI0lxB",
        "outputId": "8d168e47-2012-4d10-e43f-a5052e6cb151"
      },
      "execution_count": 14,
      "outputs": [
        {
          "output_type": "execute_result",
          "data": {
            "text/plain": [
              "   fixed acidity  volatile acidity  citric acid  residual sugar  chlorides  \\\n",
              "0            7.4              0.70         0.00             1.9      0.076   \n",
              "1            7.8              0.88         0.00             2.6      0.098   \n",
              "2            7.8              0.76         0.04             2.3      0.092   \n",
              "3           11.2              0.28         0.56             1.9      0.075   \n",
              "4            7.4              0.70         0.00             1.9      0.076   \n",
              "\n",
              "   free sulfur dioxide  total sulfur dioxide  density    pH  sulphates  \\\n",
              "0                 11.0                  34.0   0.9978  3.51       0.56   \n",
              "1                 25.0                  67.0   0.9968  3.20       0.68   \n",
              "2                 15.0                  54.0   0.9970  3.26       0.65   \n",
              "3                 17.0                  60.0   0.9980  3.16       0.58   \n",
              "4                 11.0                  34.0   0.9978  3.51       0.56   \n",
              "\n",
              "   alcohol  quality_good  \n",
              "0      9.4         False  \n",
              "1      9.8         False  \n",
              "2      9.8         False  \n",
              "3      9.8          True  \n",
              "4      9.4         False  "
            ],
            "text/html": [
              "\n",
              "  <div id=\"df-2b541bdd-d06d-4a74-becf-0733063bc38e\" class=\"colab-df-container\">\n",
              "    <div>\n",
              "<style scoped>\n",
              "    .dataframe tbody tr th:only-of-type {\n",
              "        vertical-align: middle;\n",
              "    }\n",
              "\n",
              "    .dataframe tbody tr th {\n",
              "        vertical-align: top;\n",
              "    }\n",
              "\n",
              "    .dataframe thead th {\n",
              "        text-align: right;\n",
              "    }\n",
              "</style>\n",
              "<table border=\"1\" class=\"dataframe\">\n",
              "  <thead>\n",
              "    <tr style=\"text-align: right;\">\n",
              "      <th></th>\n",
              "      <th>fixed acidity</th>\n",
              "      <th>volatile acidity</th>\n",
              "      <th>citric acid</th>\n",
              "      <th>residual sugar</th>\n",
              "      <th>chlorides</th>\n",
              "      <th>free sulfur dioxide</th>\n",
              "      <th>total sulfur dioxide</th>\n",
              "      <th>density</th>\n",
              "      <th>pH</th>\n",
              "      <th>sulphates</th>\n",
              "      <th>alcohol</th>\n",
              "      <th>quality_good</th>\n",
              "    </tr>\n",
              "  </thead>\n",
              "  <tbody>\n",
              "    <tr>\n",
              "      <th>0</th>\n",
              "      <td>7.4</td>\n",
              "      <td>0.70</td>\n",
              "      <td>0.00</td>\n",
              "      <td>1.9</td>\n",
              "      <td>0.076</td>\n",
              "      <td>11.0</td>\n",
              "      <td>34.0</td>\n",
              "      <td>0.9978</td>\n",
              "      <td>3.51</td>\n",
              "      <td>0.56</td>\n",
              "      <td>9.4</td>\n",
              "      <td>False</td>\n",
              "    </tr>\n",
              "    <tr>\n",
              "      <th>1</th>\n",
              "      <td>7.8</td>\n",
              "      <td>0.88</td>\n",
              "      <td>0.00</td>\n",
              "      <td>2.6</td>\n",
              "      <td>0.098</td>\n",
              "      <td>25.0</td>\n",
              "      <td>67.0</td>\n",
              "      <td>0.9968</td>\n",
              "      <td>3.20</td>\n",
              "      <td>0.68</td>\n",
              "      <td>9.8</td>\n",
              "      <td>False</td>\n",
              "    </tr>\n",
              "    <tr>\n",
              "      <th>2</th>\n",
              "      <td>7.8</td>\n",
              "      <td>0.76</td>\n",
              "      <td>0.04</td>\n",
              "      <td>2.3</td>\n",
              "      <td>0.092</td>\n",
              "      <td>15.0</td>\n",
              "      <td>54.0</td>\n",
              "      <td>0.9970</td>\n",
              "      <td>3.26</td>\n",
              "      <td>0.65</td>\n",
              "      <td>9.8</td>\n",
              "      <td>False</td>\n",
              "    </tr>\n",
              "    <tr>\n",
              "      <th>3</th>\n",
              "      <td>11.2</td>\n",
              "      <td>0.28</td>\n",
              "      <td>0.56</td>\n",
              "      <td>1.9</td>\n",
              "      <td>0.075</td>\n",
              "      <td>17.0</td>\n",
              "      <td>60.0</td>\n",
              "      <td>0.9980</td>\n",
              "      <td>3.16</td>\n",
              "      <td>0.58</td>\n",
              "      <td>9.8</td>\n",
              "      <td>True</td>\n",
              "    </tr>\n",
              "    <tr>\n",
              "      <th>4</th>\n",
              "      <td>7.4</td>\n",
              "      <td>0.70</td>\n",
              "      <td>0.00</td>\n",
              "      <td>1.9</td>\n",
              "      <td>0.076</td>\n",
              "      <td>11.0</td>\n",
              "      <td>34.0</td>\n",
              "      <td>0.9978</td>\n",
              "      <td>3.51</td>\n",
              "      <td>0.56</td>\n",
              "      <td>9.4</td>\n",
              "      <td>False</td>\n",
              "    </tr>\n",
              "  </tbody>\n",
              "</table>\n",
              "</div>\n",
              "    <div class=\"colab-df-buttons\">\n",
              "\n",
              "  <div class=\"colab-df-container\">\n",
              "    <button class=\"colab-df-convert\" onclick=\"convertToInteractive('df-2b541bdd-d06d-4a74-becf-0733063bc38e')\"\n",
              "            title=\"Convert this dataframe to an interactive table.\"\n",
              "            style=\"display:none;\">\n",
              "\n",
              "  <svg xmlns=\"http://www.w3.org/2000/svg\" height=\"24px\" viewBox=\"0 -960 960 960\">\n",
              "    <path d=\"M120-120v-720h720v720H120Zm60-500h600v-160H180v160Zm220 220h160v-160H400v160Zm0 220h160v-160H400v160ZM180-400h160v-160H180v160Zm440 0h160v-160H620v160ZM180-180h160v-160H180v160Zm440 0h160v-160H620v160Z\"/>\n",
              "  </svg>\n",
              "    </button>\n",
              "\n",
              "  <style>\n",
              "    .colab-df-container {\n",
              "      display:flex;\n",
              "      gap: 12px;\n",
              "    }\n",
              "\n",
              "    .colab-df-convert {\n",
              "      background-color: #E8F0FE;\n",
              "      border: none;\n",
              "      border-radius: 50%;\n",
              "      cursor: pointer;\n",
              "      display: none;\n",
              "      fill: #1967D2;\n",
              "      height: 32px;\n",
              "      padding: 0 0 0 0;\n",
              "      width: 32px;\n",
              "    }\n",
              "\n",
              "    .colab-df-convert:hover {\n",
              "      background-color: #E2EBFA;\n",
              "      box-shadow: 0px 1px 2px rgba(60, 64, 67, 0.3), 0px 1px 3px 1px rgba(60, 64, 67, 0.15);\n",
              "      fill: #174EA6;\n",
              "    }\n",
              "\n",
              "    .colab-df-buttons div {\n",
              "      margin-bottom: 4px;\n",
              "    }\n",
              "\n",
              "    [theme=dark] .colab-df-convert {\n",
              "      background-color: #3B4455;\n",
              "      fill: #D2E3FC;\n",
              "    }\n",
              "\n",
              "    [theme=dark] .colab-df-convert:hover {\n",
              "      background-color: #434B5C;\n",
              "      box-shadow: 0px 1px 3px 1px rgba(0, 0, 0, 0.15);\n",
              "      filter: drop-shadow(0px 1px 2px rgba(0, 0, 0, 0.3));\n",
              "      fill: #FFFFFF;\n",
              "    }\n",
              "  </style>\n",
              "\n",
              "    <script>\n",
              "      const buttonEl =\n",
              "        document.querySelector('#df-2b541bdd-d06d-4a74-becf-0733063bc38e button.colab-df-convert');\n",
              "      buttonEl.style.display =\n",
              "        google.colab.kernel.accessAllowed ? 'block' : 'none';\n",
              "\n",
              "      async function convertToInteractive(key) {\n",
              "        const element = document.querySelector('#df-2b541bdd-d06d-4a74-becf-0733063bc38e');\n",
              "        const dataTable =\n",
              "          await google.colab.kernel.invokeFunction('convertToInteractive',\n",
              "                                                    [key], {});\n",
              "        if (!dataTable) return;\n",
              "\n",
              "        const docLinkHtml = 'Like what you see? Visit the ' +\n",
              "          '<a target=\"_blank\" href=https://colab.research.google.com/notebooks/data_table.ipynb>data table notebook</a>'\n",
              "          + ' to learn more about interactive tables.';\n",
              "        element.innerHTML = '';\n",
              "        dataTable['output_type'] = 'display_data';\n",
              "        await google.colab.output.renderOutput(dataTable, element);\n",
              "        const docLink = document.createElement('div');\n",
              "        docLink.innerHTML = docLinkHtml;\n",
              "        element.appendChild(docLink);\n",
              "      }\n",
              "    </script>\n",
              "  </div>\n",
              "\n",
              "\n",
              "<div id=\"df-6012b885-cbd8-4f8a-b0de-f89533222bf0\">\n",
              "  <button class=\"colab-df-quickchart\" onclick=\"quickchart('df-6012b885-cbd8-4f8a-b0de-f89533222bf0')\"\n",
              "            title=\"Suggest charts\"\n",
              "            style=\"display:none;\">\n",
              "\n",
              "<svg xmlns=\"http://www.w3.org/2000/svg\" height=\"24px\"viewBox=\"0 0 24 24\"\n",
              "     width=\"24px\">\n",
              "    <g>\n",
              "        <path d=\"M19 3H5c-1.1 0-2 .9-2 2v14c0 1.1.9 2 2 2h14c1.1 0 2-.9 2-2V5c0-1.1-.9-2-2-2zM9 17H7v-7h2v7zm4 0h-2V7h2v10zm4 0h-2v-4h2v4z\"/>\n",
              "    </g>\n",
              "</svg>\n",
              "  </button>\n",
              "\n",
              "<style>\n",
              "  .colab-df-quickchart {\n",
              "      --bg-color: #E8F0FE;\n",
              "      --fill-color: #1967D2;\n",
              "      --hover-bg-color: #E2EBFA;\n",
              "      --hover-fill-color: #174EA6;\n",
              "      --disabled-fill-color: #AAA;\n",
              "      --disabled-bg-color: #DDD;\n",
              "  }\n",
              "\n",
              "  [theme=dark] .colab-df-quickchart {\n",
              "      --bg-color: #3B4455;\n",
              "      --fill-color: #D2E3FC;\n",
              "      --hover-bg-color: #434B5C;\n",
              "      --hover-fill-color: #FFFFFF;\n",
              "      --disabled-bg-color: #3B4455;\n",
              "      --disabled-fill-color: #666;\n",
              "  }\n",
              "\n",
              "  .colab-df-quickchart {\n",
              "    background-color: var(--bg-color);\n",
              "    border: none;\n",
              "    border-radius: 50%;\n",
              "    cursor: pointer;\n",
              "    display: none;\n",
              "    fill: var(--fill-color);\n",
              "    height: 32px;\n",
              "    padding: 0;\n",
              "    width: 32px;\n",
              "  }\n",
              "\n",
              "  .colab-df-quickchart:hover {\n",
              "    background-color: var(--hover-bg-color);\n",
              "    box-shadow: 0 1px 2px rgba(60, 64, 67, 0.3), 0 1px 3px 1px rgba(60, 64, 67, 0.15);\n",
              "    fill: var(--button-hover-fill-color);\n",
              "  }\n",
              "\n",
              "  .colab-df-quickchart-complete:disabled,\n",
              "  .colab-df-quickchart-complete:disabled:hover {\n",
              "    background-color: var(--disabled-bg-color);\n",
              "    fill: var(--disabled-fill-color);\n",
              "    box-shadow: none;\n",
              "  }\n",
              "\n",
              "  .colab-df-spinner {\n",
              "    border: 2px solid var(--fill-color);\n",
              "    border-color: transparent;\n",
              "    border-bottom-color: var(--fill-color);\n",
              "    animation:\n",
              "      spin 1s steps(1) infinite;\n",
              "  }\n",
              "\n",
              "  @keyframes spin {\n",
              "    0% {\n",
              "      border-color: transparent;\n",
              "      border-bottom-color: var(--fill-color);\n",
              "      border-left-color: var(--fill-color);\n",
              "    }\n",
              "    20% {\n",
              "      border-color: transparent;\n",
              "      border-left-color: var(--fill-color);\n",
              "      border-top-color: var(--fill-color);\n",
              "    }\n",
              "    30% {\n",
              "      border-color: transparent;\n",
              "      border-left-color: var(--fill-color);\n",
              "      border-top-color: var(--fill-color);\n",
              "      border-right-color: var(--fill-color);\n",
              "    }\n",
              "    40% {\n",
              "      border-color: transparent;\n",
              "      border-right-color: var(--fill-color);\n",
              "      border-top-color: var(--fill-color);\n",
              "    }\n",
              "    60% {\n",
              "      border-color: transparent;\n",
              "      border-right-color: var(--fill-color);\n",
              "    }\n",
              "    80% {\n",
              "      border-color: transparent;\n",
              "      border-right-color: var(--fill-color);\n",
              "      border-bottom-color: var(--fill-color);\n",
              "    }\n",
              "    90% {\n",
              "      border-color: transparent;\n",
              "      border-bottom-color: var(--fill-color);\n",
              "    }\n",
              "  }\n",
              "</style>\n",
              "\n",
              "  <script>\n",
              "    async function quickchart(key) {\n",
              "      const quickchartButtonEl =\n",
              "        document.querySelector('#' + key + ' button');\n",
              "      quickchartButtonEl.disabled = true;  // To prevent multiple clicks.\n",
              "      quickchartButtonEl.classList.add('colab-df-spinner');\n",
              "      try {\n",
              "        const charts = await google.colab.kernel.invokeFunction(\n",
              "            'suggestCharts', [key], {});\n",
              "      } catch (error) {\n",
              "        console.error('Error during call to suggestCharts:', error);\n",
              "      }\n",
              "      quickchartButtonEl.classList.remove('colab-df-spinner');\n",
              "      quickchartButtonEl.classList.add('colab-df-quickchart-complete');\n",
              "    }\n",
              "    (() => {\n",
              "      let quickchartButtonEl =\n",
              "        document.querySelector('#df-6012b885-cbd8-4f8a-b0de-f89533222bf0 button');\n",
              "      quickchartButtonEl.style.display =\n",
              "        google.colab.kernel.accessAllowed ? 'block' : 'none';\n",
              "    })();\n",
              "  </script>\n",
              "</div>\n",
              "\n",
              "    </div>\n",
              "  </div>\n"
            ],
            "application/vnd.google.colaboratory.intrinsic+json": {
              "type": "dataframe",
              "variable_name": "encoded_data",
              "summary": "{\n  \"name\": \"encoded_data\",\n  \"rows\": 1599,\n  \"fields\": [\n    {\n      \"column\": \"fixed acidity\",\n      \"properties\": {\n        \"dtype\": \"number\",\n        \"std\": 1.7410963181277006,\n        \"min\": 4.6,\n        \"max\": 15.9,\n        \"num_unique_values\": 96,\n        \"samples\": [\n          5.3,\n          12.7,\n          12.6\n        ],\n        \"semantic_type\": \"\",\n        \"description\": \"\"\n      }\n    },\n    {\n      \"column\": \"volatile acidity\",\n      \"properties\": {\n        \"dtype\": \"number\",\n        \"std\": 0.17905970415353498,\n        \"min\": 0.12,\n        \"max\": 1.58,\n        \"num_unique_values\": 143,\n        \"samples\": [\n          1.025,\n          0.4,\n          0.87\n        ],\n        \"semantic_type\": \"\",\n        \"description\": \"\"\n      }\n    },\n    {\n      \"column\": \"citric acid\",\n      \"properties\": {\n        \"dtype\": \"number\",\n        \"std\": 0.19480113740531785,\n        \"min\": 0.0,\n        \"max\": 1.0,\n        \"num_unique_values\": 80,\n        \"samples\": [\n          0.37,\n          0.0,\n          0.09\n        ],\n        \"semantic_type\": \"\",\n        \"description\": \"\"\n      }\n    },\n    {\n      \"column\": \"residual sugar\",\n      \"properties\": {\n        \"dtype\": \"number\",\n        \"std\": 1.4099280595072805,\n        \"min\": 0.9,\n        \"max\": 15.5,\n        \"num_unique_values\": 91,\n        \"samples\": [\n          11.0,\n          3.0,\n          15.5\n        ],\n        \"semantic_type\": \"\",\n        \"description\": \"\"\n      }\n    },\n    {\n      \"column\": \"chlorides\",\n      \"properties\": {\n        \"dtype\": \"number\",\n        \"std\": 0.047065302010090154,\n        \"min\": 0.012,\n        \"max\": 0.611,\n        \"num_unique_values\": 153,\n        \"samples\": [\n          0.096,\n          0.343,\n          0.159\n        ],\n        \"semantic_type\": \"\",\n        \"description\": \"\"\n      }\n    },\n    {\n      \"column\": \"free sulfur dioxide\",\n      \"properties\": {\n        \"dtype\": \"number\",\n        \"std\": 10.46015696980973,\n        \"min\": 1.0,\n        \"max\": 72.0,\n        \"num_unique_values\": 60,\n        \"samples\": [\n          11.0,\n          9.0,\n          32.0\n        ],\n        \"semantic_type\": \"\",\n        \"description\": \"\"\n      }\n    },\n    {\n      \"column\": \"total sulfur dioxide\",\n      \"properties\": {\n        \"dtype\": \"number\",\n        \"std\": 32.89532447829901,\n        \"min\": 6.0,\n        \"max\": 289.0,\n        \"num_unique_values\": 144,\n        \"samples\": [\n          68.0,\n          35.0,\n          101.0\n        ],\n        \"semantic_type\": \"\",\n        \"description\": \"\"\n      }\n    },\n    {\n      \"column\": \"density\",\n      \"properties\": {\n        \"dtype\": \"number\",\n        \"std\": 0.0018873339538425559,\n        \"min\": 0.99007,\n        \"max\": 1.00369,\n        \"num_unique_values\": 436,\n        \"samples\": [\n          0.99974,\n          1.0001,\n          0.99471\n        ],\n        \"semantic_type\": \"\",\n        \"description\": \"\"\n      }\n    },\n    {\n      \"column\": \"pH\",\n      \"properties\": {\n        \"dtype\": \"number\",\n        \"std\": 0.15438646490354266,\n        \"min\": 2.74,\n        \"max\": 4.01,\n        \"num_unique_values\": 89,\n        \"samples\": [\n          3.07,\n          3.0,\n          3.15\n        ],\n        \"semantic_type\": \"\",\n        \"description\": \"\"\n      }\n    },\n    {\n      \"column\": \"sulphates\",\n      \"properties\": {\n        \"dtype\": \"number\",\n        \"std\": 0.16950697959010977,\n        \"min\": 0.33,\n        \"max\": 2.0,\n        \"num_unique_values\": 96,\n        \"samples\": [\n          1.07,\n          1.04,\n          1.18\n        ],\n        \"semantic_type\": \"\",\n        \"description\": \"\"\n      }\n    },\n    {\n      \"column\": \"alcohol\",\n      \"properties\": {\n        \"dtype\": \"number\",\n        \"std\": 1.0656675818473926,\n        \"min\": 8.4,\n        \"max\": 14.9,\n        \"num_unique_values\": 65,\n        \"samples\": [\n          8.5,\n          9.95,\n          9.4\n        ],\n        \"semantic_type\": \"\",\n        \"description\": \"\"\n      }\n    },\n    {\n      \"column\": \"quality_good\",\n      \"properties\": {\n        \"dtype\": \"boolean\",\n        \"num_unique_values\": 2,\n        \"samples\": [\n          true,\n          false\n        ],\n        \"semantic_type\": \"\",\n        \"description\": \"\"\n      }\n    }\n  ]\n}"
            }
          },
          "metadata": {},
          "execution_count": 14
        }
      ]
    },
    {
      "cell_type": "code",
      "source": [
        "X=encoded_data.drop(['quality_good'],axis=1)\n",
        "y=encoded_data['quality_good']"
      ],
      "metadata": {
        "id": "yHNhYQCX1CBz"
      },
      "execution_count": 15,
      "outputs": []
    },
    {
      "cell_type": "code",
      "source": [],
      "metadata": {
        "id": "QKtiRfiB0xja"
      },
      "execution_count": 15,
      "outputs": []
    },
    {
      "cell_type": "markdown",
      "source": [
        "Q5. Perform a train-test split, dividing the data into training, validation, and test datasets."
      ],
      "metadata": {
        "id": "9Z3mtZgo3DFb"
      }
    },
    {
      "cell_type": "code",
      "source": [
        "X_train,X_temp,y_train,y_temp=train_test_split(X,y,test_size=0.2,random_state=42)"
      ],
      "metadata": {
        "id": "VIUSKwND3Dgw"
      },
      "execution_count": 16,
      "outputs": []
    },
    {
      "cell_type": "code",
      "source": [
        "print(\"Training set features (X_train):\", X_train.shape)\n",
        "print(\"Training set target (y_train):\", y_train.shape)\n",
        "print(\"Temporary set features (X_temp):\", X_temp.shape)\n",
        "print(\"Temporary set target (y_temp):\", y_temp.shape)"
      ],
      "metadata": {
        "colab": {
          "base_uri": "https://localhost:8080/"
        },
        "id": "FZshAf8s3_6K",
        "outputId": "7d093893-3e6e-4a82-ede5-765011085a35"
      },
      "execution_count": 17,
      "outputs": [
        {
          "output_type": "stream",
          "name": "stdout",
          "text": [
            "Training set features (X_train): (1279, 11)\n",
            "Training set target (y_train): (1279,)\n",
            "Temporary set features (X_temp): (320, 11)\n",
            "Temporary set target (y_temp): (320,)\n"
          ]
        }
      ]
    },
    {
      "cell_type": "code",
      "source": [
        "X_val,X_test,y_val,y_test=train_test_split(X_temp,y_temp,test_size=0.5,random_state=42)"
      ],
      "metadata": {
        "id": "z24mgoAv3mlc"
      },
      "execution_count": 18,
      "outputs": []
    },
    {
      "cell_type": "code",
      "source": [
        "print(\"\\nValidation set features (X_val):\", X_val.shape)\n",
        "print(\"Validation set target (y_val):\", y_val.shape)\n",
        "print(\"Test set features (X_test):\", X_test.shape)\n",
        "print(\"Test set target (y_test):\", y_test.shape)"
      ],
      "metadata": {
        "colab": {
          "base_uri": "https://localhost:8080/"
        },
        "id": "nDvYhihf36me",
        "outputId": "7c592997-abd1-456a-b23b-a49aeb338130"
      },
      "execution_count": 19,
      "outputs": [
        {
          "output_type": "stream",
          "name": "stdout",
          "text": [
            "\n",
            "Validation set features (X_val): (160, 11)\n",
            "Validation set target (y_val): (160,)\n",
            "Test set features (X_test): (160, 11)\n",
            "Test set target (y_test): (160,)\n"
          ]
        }
      ]
    },
    {
      "cell_type": "markdown",
      "source": [
        "Q6. Scale the dataset using an appropriate scaling technique."
      ],
      "metadata": {
        "id": "NPRcS4yX9Glo"
      }
    },
    {
      "cell_type": "code",
      "source": [
        "from sklearn.preprocessing import StandardScaler"
      ],
      "metadata": {
        "id": "FWQQDRtS4DEZ"
      },
      "execution_count": 20,
      "outputs": []
    },
    {
      "cell_type": "code",
      "source": [
        "scaler=StandardScaler()\n",
        "\n",
        "#fit the  scaler on the training set and transform it\n",
        "X_train_scaed=scaler.fit_transform(X_train)\n",
        "\n",
        "# transform the validation and test sets using the same scaler\n",
        "X_val_scaled=scaler.transform(X_val)\n",
        "X_test_scaled=scaler.transform(X_test)\n"
      ],
      "metadata": {
        "id": "pkE1GPT79OyM"
      },
      "execution_count": 21,
      "outputs": []
    },
    {
      "cell_type": "markdown",
      "source": [
        "Q7. Design and implement at least two hidden layers and an output layer for the binary categorical\n",
        "variables."
      ],
      "metadata": {
        "id": "8szFS3pH_Az5"
      }
    },
    {
      "cell_type": "code",
      "source": [
        "# Initialize the neural network\n",
        "model=Sequential()\n",
        "\n",
        "# Input layer and first hidden layer\n",
        "model.add(Dense(64,input_dim=X_train_scaed.shape[1],activation='relu'))\n",
        "# Second hidden layer\n",
        "model.add(Dense(32,activation='relu'))\n",
        "\n",
        "# Output layer for binary classification\n",
        "model.add(Dense(1,activation='sigmoid'))"
      ],
      "metadata": {
        "colab": {
          "base_uri": "https://localhost:8080/"
        },
        "id": "Whmi18zU-P4F",
        "outputId": "e1edd6d8-54b1-468f-cdcc-799161f6cdb4"
      },
      "execution_count": 23,
      "outputs": [
        {
          "output_type": "stream",
          "name": "stderr",
          "text": [
            "/usr/local/lib/python3.10/dist-packages/keras/src/layers/core/dense.py:87: UserWarning: Do not pass an `input_shape`/`input_dim` argument to a layer. When using Sequential models, prefer using an `Input(shape)` object as the first layer in the model instead.\n",
            "  super().__init__(activity_regularizer=activity_regularizer, **kwargs)\n"
          ]
        }
      ]
    },
    {
      "cell_type": "code",
      "source": [
        "# Compile the model\n",
        "model.compile(optimizer='adam',loss='binary_crossentropy',metrics=['accuracy'])\n",
        "\n",
        "# Display the model summary\n",
        "model.summary()"
      ],
      "metadata": {
        "colab": {
          "base_uri": "https://localhost:8080/",
          "height": 225
        },
        "id": "nTx5fzCHAPOT",
        "outputId": "37e89977-7cb9-4d55-9fa6-d4ce14b44762"
      },
      "execution_count": 24,
      "outputs": [
        {
          "output_type": "display_data",
          "data": {
            "text/plain": [
              "\u001b[1mModel: \"sequential\"\u001b[0m\n"
            ],
            "text/html": [
              "<pre style=\"white-space:pre;overflow-x:auto;line-height:normal;font-family:Menlo,'DejaVu Sans Mono',consolas,'Courier New',monospace\"><span style=\"font-weight: bold\">Model: \"sequential\"</span>\n",
              "</pre>\n"
            ]
          },
          "metadata": {}
        },
        {
          "output_type": "display_data",
          "data": {
            "text/plain": [
              "┏━━━━━━━━━━━━━━━━━━━━━━━━━━━━━━━━━━━━━━┳━━━━━━━━━━━━━━━━━━━━━━━━━━━━━┳━━━━━━━━━━━━━━━━━┓\n",
              "┃\u001b[1m \u001b[0m\u001b[1mLayer (type)                        \u001b[0m\u001b[1m \u001b[0m┃\u001b[1m \u001b[0m\u001b[1mOutput Shape               \u001b[0m\u001b[1m \u001b[0m┃\u001b[1m \u001b[0m\u001b[1m        Param #\u001b[0m\u001b[1m \u001b[0m┃\n",
              "┡━━━━━━━━━━━━━━━━━━━━━━━━━━━━━━━━━━━━━━╇━━━━━━━━━━━━━━━━━━━━━━━━━━━━━╇━━━━━━━━━━━━━━━━━┩\n",
              "│ dense (\u001b[38;5;33mDense\u001b[0m)                        │ (\u001b[38;5;45mNone\u001b[0m, \u001b[38;5;34m64\u001b[0m)                  │             \u001b[38;5;34m768\u001b[0m │\n",
              "├──────────────────────────────────────┼─────────────────────────────┼─────────────────┤\n",
              "│ dense_1 (\u001b[38;5;33mDense\u001b[0m)                      │ (\u001b[38;5;45mNone\u001b[0m, \u001b[38;5;34m32\u001b[0m)                  │           \u001b[38;5;34m2,080\u001b[0m │\n",
              "├──────────────────────────────────────┼─────────────────────────────┼─────────────────┤\n",
              "│ dense_2 (\u001b[38;5;33mDense\u001b[0m)                      │ (\u001b[38;5;45mNone\u001b[0m, \u001b[38;5;34m1\u001b[0m)                   │              \u001b[38;5;34m33\u001b[0m │\n",
              "└──────────────────────────────────────┴─────────────────────────────┴─────────────────┘\n"
            ],
            "text/html": [
              "<pre style=\"white-space:pre;overflow-x:auto;line-height:normal;font-family:Menlo,'DejaVu Sans Mono',consolas,'Courier New',monospace\">┏━━━━━━━━━━━━━━━━━━━━━━━━━━━━━━━━━━━━━━┳━━━━━━━━━━━━━━━━━━━━━━━━━━━━━┳━━━━━━━━━━━━━━━━━┓\n",
              "┃<span style=\"font-weight: bold\"> Layer (type)                         </span>┃<span style=\"font-weight: bold\"> Output Shape                </span>┃<span style=\"font-weight: bold\">         Param # </span>┃\n",
              "┡━━━━━━━━━━━━━━━━━━━━━━━━━━━━━━━━━━━━━━╇━━━━━━━━━━━━━━━━━━━━━━━━━━━━━╇━━━━━━━━━━━━━━━━━┩\n",
              "│ dense (<span style=\"color: #0087ff; text-decoration-color: #0087ff\">Dense</span>)                        │ (<span style=\"color: #00d7ff; text-decoration-color: #00d7ff\">None</span>, <span style=\"color: #00af00; text-decoration-color: #00af00\">64</span>)                  │             <span style=\"color: #00af00; text-decoration-color: #00af00\">768</span> │\n",
              "├──────────────────────────────────────┼─────────────────────────────┼─────────────────┤\n",
              "│ dense_1 (<span style=\"color: #0087ff; text-decoration-color: #0087ff\">Dense</span>)                      │ (<span style=\"color: #00d7ff; text-decoration-color: #00d7ff\">None</span>, <span style=\"color: #00af00; text-decoration-color: #00af00\">32</span>)                  │           <span style=\"color: #00af00; text-decoration-color: #00af00\">2,080</span> │\n",
              "├──────────────────────────────────────┼─────────────────────────────┼─────────────────┤\n",
              "│ dense_2 (<span style=\"color: #0087ff; text-decoration-color: #0087ff\">Dense</span>)                      │ (<span style=\"color: #00d7ff; text-decoration-color: #00d7ff\">None</span>, <span style=\"color: #00af00; text-decoration-color: #00af00\">1</span>)                   │              <span style=\"color: #00af00; text-decoration-color: #00af00\">33</span> │\n",
              "└──────────────────────────────────────┴─────────────────────────────┴─────────────────┘\n",
              "</pre>\n"
            ]
          },
          "metadata": {}
        },
        {
          "output_type": "display_data",
          "data": {
            "text/plain": [
              "\u001b[1m Total params: \u001b[0m\u001b[38;5;34m2,881\u001b[0m (11.25 KB)\n"
            ],
            "text/html": [
              "<pre style=\"white-space:pre;overflow-x:auto;line-height:normal;font-family:Menlo,'DejaVu Sans Mono',consolas,'Courier New',monospace\"><span style=\"font-weight: bold\"> Total params: </span><span style=\"color: #00af00; text-decoration-color: #00af00\">2,881</span> (11.25 KB)\n",
              "</pre>\n"
            ]
          },
          "metadata": {}
        },
        {
          "output_type": "display_data",
          "data": {
            "text/plain": [
              "\u001b[1m Trainable params: \u001b[0m\u001b[38;5;34m2,881\u001b[0m (11.25 KB)\n"
            ],
            "text/html": [
              "<pre style=\"white-space:pre;overflow-x:auto;line-height:normal;font-family:Menlo,'DejaVu Sans Mono',consolas,'Courier New',monospace\"><span style=\"font-weight: bold\"> Trainable params: </span><span style=\"color: #00af00; text-decoration-color: #00af00\">2,881</span> (11.25 KB)\n",
              "</pre>\n"
            ]
          },
          "metadata": {}
        },
        {
          "output_type": "display_data",
          "data": {
            "text/plain": [
              "\u001b[1m Non-trainable params: \u001b[0m\u001b[38;5;34m0\u001b[0m (0.00 B)\n"
            ],
            "text/html": [
              "<pre style=\"white-space:pre;overflow-x:auto;line-height:normal;font-family:Menlo,'DejaVu Sans Mono',consolas,'Courier New',monospace\"><span style=\"font-weight: bold\"> Non-trainable params: </span><span style=\"color: #00af00; text-decoration-color: #00af00\">0</span> (0.00 B)\n",
              "</pre>\n"
            ]
          },
          "metadata": {}
        }
      ]
    },
    {
      "cell_type": "code",
      "source": [
        "# Train the model\n",
        "\n",
        "history=model.fit(X_train_scaed,y_train,\n",
        "                  validation_data=(X_val_scaled,y_val),\n",
        "                  epochs=20,# Number of training epochs\n",
        "                  batch_size=32, # Number of samples per batch\n",
        "                  verbose=1)# Print training progress"
      ],
      "metadata": {
        "colab": {
          "base_uri": "https://localhost:8080/"
        },
        "id": "F7cXx4yBAd1_",
        "outputId": "eddc6cf4-6ec0-4368-cdbf-7d59ba0b0113"
      },
      "execution_count": 28,
      "outputs": [
        {
          "output_type": "stream",
          "name": "stdout",
          "text": [
            "Epoch 1/20\n",
            "\u001b[1m40/40\u001b[0m \u001b[32m━━━━━━━━━━━━━━━━━━━━\u001b[0m\u001b[37m\u001b[0m \u001b[1m0s\u001b[0m 9ms/step - accuracy: 0.7356 - loss: 0.5247 - val_accuracy: 0.7125 - val_loss: 0.5448\n",
            "Epoch 2/20\n",
            "\u001b[1m40/40\u001b[0m \u001b[32m━━━━━━━━━━━━━━━━━━━━\u001b[0m\u001b[37m\u001b[0m \u001b[1m0s\u001b[0m 4ms/step - accuracy: 0.7513 - loss: 0.5159 - val_accuracy: 0.6812 - val_loss: 0.5444\n",
            "Epoch 3/20\n",
            "\u001b[1m40/40\u001b[0m \u001b[32m━━━━━━━━━━━━━━━━━━━━\u001b[0m\u001b[37m\u001b[0m \u001b[1m0s\u001b[0m 4ms/step - accuracy: 0.7809 - loss: 0.4723 - val_accuracy: 0.7188 - val_loss: 0.5404\n",
            "Epoch 4/20\n",
            "\u001b[1m40/40\u001b[0m \u001b[32m━━━━━━━━━━━━━━━━━━━━\u001b[0m\u001b[37m\u001b[0m \u001b[1m0s\u001b[0m 3ms/step - accuracy: 0.7577 - loss: 0.5039 - val_accuracy: 0.7250 - val_loss: 0.5340\n",
            "Epoch 5/20\n",
            "\u001b[1m40/40\u001b[0m \u001b[32m━━━━━━━━━━━━━━━━━━━━\u001b[0m\u001b[37m\u001b[0m \u001b[1m0s\u001b[0m 4ms/step - accuracy: 0.7851 - loss: 0.4621 - val_accuracy: 0.7188 - val_loss: 0.5343\n",
            "Epoch 6/20\n",
            "\u001b[1m40/40\u001b[0m \u001b[32m━━━━━━━━━━━━━━━━━━━━\u001b[0m\u001b[37m\u001b[0m \u001b[1m0s\u001b[0m 4ms/step - accuracy: 0.7769 - loss: 0.4669 - val_accuracy: 0.7188 - val_loss: 0.5325\n",
            "Epoch 7/20\n",
            "\u001b[1m40/40\u001b[0m \u001b[32m━━━━━━━━━━━━━━━━━━━━\u001b[0m\u001b[37m\u001b[0m \u001b[1m0s\u001b[0m 6ms/step - accuracy: 0.7751 - loss: 0.4710 - val_accuracy: 0.7250 - val_loss: 0.5303\n",
            "Epoch 8/20\n",
            "\u001b[1m40/40\u001b[0m \u001b[32m━━━━━━━━━━━━━━━━━━━━\u001b[0m\u001b[37m\u001b[0m \u001b[1m1s\u001b[0m 7ms/step - accuracy: 0.7777 - loss: 0.4662 - val_accuracy: 0.7312 - val_loss: 0.5309\n",
            "Epoch 9/20\n",
            "\u001b[1m40/40\u001b[0m \u001b[32m━━━━━━━━━━━━━━━━━━━━\u001b[0m\u001b[37m\u001b[0m \u001b[1m0s\u001b[0m 7ms/step - accuracy: 0.7800 - loss: 0.4662 - val_accuracy: 0.7312 - val_loss: 0.5326\n",
            "Epoch 10/20\n",
            "\u001b[1m40/40\u001b[0m \u001b[32m━━━━━━━━━━━━━━━━━━━━\u001b[0m\u001b[37m\u001b[0m \u001b[1m0s\u001b[0m 8ms/step - accuracy: 0.7866 - loss: 0.4540 - val_accuracy: 0.7125 - val_loss: 0.5359\n",
            "Epoch 11/20\n",
            "\u001b[1m40/40\u001b[0m \u001b[32m━━━━━━━━━━━━━━━━━━━━\u001b[0m\u001b[37m\u001b[0m \u001b[1m1s\u001b[0m 6ms/step - accuracy: 0.7948 - loss: 0.4529 - val_accuracy: 0.7125 - val_loss: 0.5386\n",
            "Epoch 12/20\n",
            "\u001b[1m40/40\u001b[0m \u001b[32m━━━━━━━━━━━━━━━━━━━━\u001b[0m\u001b[37m\u001b[0m \u001b[1m1s\u001b[0m 6ms/step - accuracy: 0.8153 - loss: 0.4150 - val_accuracy: 0.7250 - val_loss: 0.5337\n",
            "Epoch 13/20\n",
            "\u001b[1m40/40\u001b[0m \u001b[32m━━━━━━━━━━━━━━━━━━━━\u001b[0m\u001b[37m\u001b[0m \u001b[1m0s\u001b[0m 7ms/step - accuracy: 0.8128 - loss: 0.4276 - val_accuracy: 0.7375 - val_loss: 0.5334\n",
            "Epoch 14/20\n",
            "\u001b[1m40/40\u001b[0m \u001b[32m━━━━━━━━━━━━━━━━━━━━\u001b[0m\u001b[37m\u001b[0m \u001b[1m1s\u001b[0m 6ms/step - accuracy: 0.7911 - loss: 0.4529 - val_accuracy: 0.7375 - val_loss: 0.5299\n",
            "Epoch 15/20\n",
            "\u001b[1m40/40\u001b[0m \u001b[32m━━━━━━━━━━━━━━━━━━━━\u001b[0m\u001b[37m\u001b[0m \u001b[1m1s\u001b[0m 5ms/step - accuracy: 0.7968 - loss: 0.4331 - val_accuracy: 0.7063 - val_loss: 0.5473\n",
            "Epoch 16/20\n",
            "\u001b[1m40/40\u001b[0m \u001b[32m━━━━━━━━━━━━━━━━━━━━\u001b[0m\u001b[37m\u001b[0m \u001b[1m0s\u001b[0m 5ms/step - accuracy: 0.8128 - loss: 0.4412 - val_accuracy: 0.7437 - val_loss: 0.5341\n",
            "Epoch 17/20\n",
            "\u001b[1m40/40\u001b[0m \u001b[32m━━━━━━━━━━━━━━━━━━━━\u001b[0m\u001b[37m\u001b[0m \u001b[1m0s\u001b[0m 4ms/step - accuracy: 0.7883 - loss: 0.4541 - val_accuracy: 0.7312 - val_loss: 0.5359\n",
            "Epoch 18/20\n",
            "\u001b[1m40/40\u001b[0m \u001b[32m━━━━━━━━━━━━━━━━━━━━\u001b[0m\u001b[37m\u001b[0m \u001b[1m0s\u001b[0m 3ms/step - accuracy: 0.8187 - loss: 0.4246 - val_accuracy: 0.7437 - val_loss: 0.5319\n",
            "Epoch 19/20\n",
            "\u001b[1m40/40\u001b[0m \u001b[32m━━━━━━━━━━━━━━━━━━━━\u001b[0m\u001b[37m\u001b[0m \u001b[1m0s\u001b[0m 3ms/step - accuracy: 0.7997 - loss: 0.4370 - val_accuracy: 0.7250 - val_loss: 0.5354\n",
            "Epoch 20/20\n",
            "\u001b[1m40/40\u001b[0m \u001b[32m━━━━━━━━━━━━━━━━━━━━\u001b[0m\u001b[37m\u001b[0m \u001b[1m0s\u001b[0m 2ms/step - accuracy: 0.8208 - loss: 0.4184 - val_accuracy: 0.7312 - val_loss: 0.5336\n"
          ]
        }
      ]
    },
    {
      "cell_type": "code",
      "source": [
        "# Evaluate the model on the test set\n",
        "test_loss, test_accuracy = model.evaluate(X_test_scaled, y_test)\n",
        "print(f\"Test Loss: {test_loss:.4f}\")\n",
        "print(f\"Test Accuracy: {test_accuracy:.4f}\")"
      ],
      "metadata": {
        "colab": {
          "base_uri": "https://localhost:8080/"
        },
        "id": "1acotkTxAzf5",
        "outputId": "842cfc0a-81d3-4db5-b5a5-c357958677c4"
      },
      "execution_count": 29,
      "outputs": [
        {
          "output_type": "stream",
          "name": "stdout",
          "text": [
            "\u001b[1m5/5\u001b[0m \u001b[32m━━━━━━━━━━━━━━━━━━━━\u001b[0m\u001b[37m\u001b[0m \u001b[1m0s\u001b[0m 3ms/step - accuracy: 0.7964 - loss: 0.4451 \n",
            "Test Loss: 0.4442\n",
            "Test Accuracy: 0.7875\n"
          ]
        }
      ]
    },
    {
      "cell_type": "markdown",
      "source": [
        "Q9. Print the summary of the model architecture."
      ],
      "metadata": {
        "id": "kmZNP0p7D4fZ"
      }
    },
    {
      "cell_type": "code",
      "source": [
        "model.summary()"
      ],
      "metadata": {
        "colab": {
          "base_uri": "https://localhost:8080/",
          "height": 241
        },
        "id": "iwClLrTlBVv7",
        "outputId": "d670f2f6-46a1-473d-c796-019df54072b1"
      },
      "execution_count": 30,
      "outputs": [
        {
          "output_type": "display_data",
          "data": {
            "text/plain": [
              "\u001b[1mModel: \"sequential\"\u001b[0m\n"
            ],
            "text/html": [
              "<pre style=\"white-space:pre;overflow-x:auto;line-height:normal;font-family:Menlo,'DejaVu Sans Mono',consolas,'Courier New',monospace\"><span style=\"font-weight: bold\">Model: \"sequential\"</span>\n",
              "</pre>\n"
            ]
          },
          "metadata": {}
        },
        {
          "output_type": "display_data",
          "data": {
            "text/plain": [
              "┏━━━━━━━━━━━━━━━━━━━━━━━━━━━━━━━━━━━━━━┳━━━━━━━━━━━━━━━━━━━━━━━━━━━━━┳━━━━━━━━━━━━━━━━━┓\n",
              "┃\u001b[1m \u001b[0m\u001b[1mLayer (type)                        \u001b[0m\u001b[1m \u001b[0m┃\u001b[1m \u001b[0m\u001b[1mOutput Shape               \u001b[0m\u001b[1m \u001b[0m┃\u001b[1m \u001b[0m\u001b[1m        Param #\u001b[0m\u001b[1m \u001b[0m┃\n",
              "┡━━━━━━━━━━━━━━━━━━━━━━━━━━━━━━━━━━━━━━╇━━━━━━━━━━━━━━━━━━━━━━━━━━━━━╇━━━━━━━━━━━━━━━━━┩\n",
              "│ dense (\u001b[38;5;33mDense\u001b[0m)                        │ (\u001b[38;5;45mNone\u001b[0m, \u001b[38;5;34m64\u001b[0m)                  │             \u001b[38;5;34m768\u001b[0m │\n",
              "├──────────────────────────────────────┼─────────────────────────────┼─────────────────┤\n",
              "│ dense_1 (\u001b[38;5;33mDense\u001b[0m)                      │ (\u001b[38;5;45mNone\u001b[0m, \u001b[38;5;34m32\u001b[0m)                  │           \u001b[38;5;34m2,080\u001b[0m │\n",
              "├──────────────────────────────────────┼─────────────────────────────┼─────────────────┤\n",
              "│ dense_2 (\u001b[38;5;33mDense\u001b[0m)                      │ (\u001b[38;5;45mNone\u001b[0m, \u001b[38;5;34m1\u001b[0m)                   │              \u001b[38;5;34m33\u001b[0m │\n",
              "└──────────────────────────────────────┴─────────────────────────────┴─────────────────┘\n"
            ],
            "text/html": [
              "<pre style=\"white-space:pre;overflow-x:auto;line-height:normal;font-family:Menlo,'DejaVu Sans Mono',consolas,'Courier New',monospace\">┏━━━━━━━━━━━━━━━━━━━━━━━━━━━━━━━━━━━━━━┳━━━━━━━━━━━━━━━━━━━━━━━━━━━━━┳━━━━━━━━━━━━━━━━━┓\n",
              "┃<span style=\"font-weight: bold\"> Layer (type)                         </span>┃<span style=\"font-weight: bold\"> Output Shape                </span>┃<span style=\"font-weight: bold\">         Param # </span>┃\n",
              "┡━━━━━━━━━━━━━━━━━━━━━━━━━━━━━━━━━━━━━━╇━━━━━━━━━━━━━━━━━━━━━━━━━━━━━╇━━━━━━━━━━━━━━━━━┩\n",
              "│ dense (<span style=\"color: #0087ff; text-decoration-color: #0087ff\">Dense</span>)                        │ (<span style=\"color: #00d7ff; text-decoration-color: #00d7ff\">None</span>, <span style=\"color: #00af00; text-decoration-color: #00af00\">64</span>)                  │             <span style=\"color: #00af00; text-decoration-color: #00af00\">768</span> │\n",
              "├──────────────────────────────────────┼─────────────────────────────┼─────────────────┤\n",
              "│ dense_1 (<span style=\"color: #0087ff; text-decoration-color: #0087ff\">Dense</span>)                      │ (<span style=\"color: #00d7ff; text-decoration-color: #00d7ff\">None</span>, <span style=\"color: #00af00; text-decoration-color: #00af00\">32</span>)                  │           <span style=\"color: #00af00; text-decoration-color: #00af00\">2,080</span> │\n",
              "├──────────────────────────────────────┼─────────────────────────────┼─────────────────┤\n",
              "│ dense_2 (<span style=\"color: #0087ff; text-decoration-color: #0087ff\">Dense</span>)                      │ (<span style=\"color: #00d7ff; text-decoration-color: #00d7ff\">None</span>, <span style=\"color: #00af00; text-decoration-color: #00af00\">1</span>)                   │              <span style=\"color: #00af00; text-decoration-color: #00af00\">33</span> │\n",
              "└──────────────────────────────────────┴─────────────────────────────┴─────────────────┘\n",
              "</pre>\n"
            ]
          },
          "metadata": {}
        },
        {
          "output_type": "display_data",
          "data": {
            "text/plain": [
              "\u001b[1m Total params: \u001b[0m\u001b[38;5;34m8,645\u001b[0m (33.77 KB)\n"
            ],
            "text/html": [
              "<pre style=\"white-space:pre;overflow-x:auto;line-height:normal;font-family:Menlo,'DejaVu Sans Mono',consolas,'Courier New',monospace\"><span style=\"font-weight: bold\"> Total params: </span><span style=\"color: #00af00; text-decoration-color: #00af00\">8,645</span> (33.77 KB)\n",
              "</pre>\n"
            ]
          },
          "metadata": {}
        },
        {
          "output_type": "display_data",
          "data": {
            "text/plain": [
              "\u001b[1m Trainable params: \u001b[0m\u001b[38;5;34m2,881\u001b[0m (11.25 KB)\n"
            ],
            "text/html": [
              "<pre style=\"white-space:pre;overflow-x:auto;line-height:normal;font-family:Menlo,'DejaVu Sans Mono',consolas,'Courier New',monospace\"><span style=\"font-weight: bold\"> Trainable params: </span><span style=\"color: #00af00; text-decoration-color: #00af00\">2,881</span> (11.25 KB)\n",
              "</pre>\n"
            ]
          },
          "metadata": {}
        },
        {
          "output_type": "display_data",
          "data": {
            "text/plain": [
              "\u001b[1m Non-trainable params: \u001b[0m\u001b[38;5;34m0\u001b[0m (0.00 B)\n"
            ],
            "text/html": [
              "<pre style=\"white-space:pre;overflow-x:auto;line-height:normal;font-family:Menlo,'DejaVu Sans Mono',consolas,'Courier New',monospace\"><span style=\"font-weight: bold\"> Non-trainable params: </span><span style=\"color: #00af00; text-decoration-color: #00af00\">0</span> (0.00 B)\n",
              "</pre>\n"
            ]
          },
          "metadata": {}
        },
        {
          "output_type": "display_data",
          "data": {
            "text/plain": [
              "\u001b[1m Optimizer params: \u001b[0m\u001b[38;5;34m5,764\u001b[0m (22.52 KB)\n"
            ],
            "text/html": [
              "<pre style=\"white-space:pre;overflow-x:auto;line-height:normal;font-family:Menlo,'DejaVu Sans Mono',consolas,'Courier New',monospace\"><span style=\"font-weight: bold\"> Optimizer params: </span><span style=\"color: #00af00; text-decoration-color: #00af00\">5,764</span> (22.52 KB)\n",
              "</pre>\n"
            ]
          },
          "metadata": {}
        }
      ]
    },
    {
      "cell_type": "markdown",
      "source": [
        "Q10. Set the loss function(‘binary_crossentropy’), optimizer, and include the accuracy metric in the model.\n",
        "\n",
        "\n",
        "Q11. Compile the model with the specified loss function, optimizer, and metrics."
      ],
      "metadata": {
        "id": "U-70a_BiEEnC"
      }
    },
    {
      "cell_type": "code",
      "source": [
        "model.compile(optimizer='adam',loss='binary_crossentropy',metrics=['accuracy'])"
      ],
      "metadata": {
        "id": "qpPmQb-bD6N5"
      },
      "execution_count": 31,
      "outputs": []
    },
    {
      "cell_type": "markdown",
      "source": [
        "Q12. Fit the model to the training data using appropriate batch size and number of epochs."
      ],
      "metadata": {
        "id": "dUWxrMCyEPIA"
      }
    },
    {
      "cell_type": "code",
      "source": [
        "history=model.fit(X_train_scaed,y_train,\n",
        "                  validation_data=(X_val_scaled,y_val),\n",
        "                  epochs=20,# Number of training epochs\n",
        "                  batch_size=32, # Number of samples per batch\n",
        "                  verbose=1)# Print training progress"
      ],
      "metadata": {
        "colab": {
          "base_uri": "https://localhost:8080/"
        },
        "id": "nIbqKC5eELz8",
        "outputId": "64447a6f-1031-4397-e97c-3ba98dac3d78"
      },
      "execution_count": 32,
      "outputs": [
        {
          "output_type": "stream",
          "name": "stdout",
          "text": [
            "Epoch 1/20\n",
            "\u001b[1m40/40\u001b[0m \u001b[32m━━━━━━━━━━━━━━━━━━━━\u001b[0m\u001b[37m\u001b[0m \u001b[1m2s\u001b[0m 15ms/step - accuracy: 0.8218 - loss: 0.4147 - val_accuracy: 0.7375 - val_loss: 0.5340\n",
            "Epoch 2/20\n",
            "\u001b[1m40/40\u001b[0m \u001b[32m━━━━━━━━━━━━━━━━━━━━\u001b[0m\u001b[37m\u001b[0m \u001b[1m1s\u001b[0m 6ms/step - accuracy: 0.7815 - loss: 0.4419 - val_accuracy: 0.7375 - val_loss: 0.5396\n",
            "Epoch 3/20\n",
            "\u001b[1m40/40\u001b[0m \u001b[32m━━━━━━━━━━━━━━━━━━━━\u001b[0m\u001b[37m\u001b[0m \u001b[1m1s\u001b[0m 5ms/step - accuracy: 0.8021 - loss: 0.4336 - val_accuracy: 0.7437 - val_loss: 0.5314\n",
            "Epoch 4/20\n",
            "\u001b[1m40/40\u001b[0m \u001b[32m━━━━━━━━━━━━━━━━━━━━\u001b[0m\u001b[37m\u001b[0m \u001b[1m0s\u001b[0m 7ms/step - accuracy: 0.8149 - loss: 0.4133 - val_accuracy: 0.7375 - val_loss: 0.5327\n",
            "Epoch 5/20\n",
            "\u001b[1m40/40\u001b[0m \u001b[32m━━━━━━━━━━━━━━━━━━━━\u001b[0m\u001b[37m\u001b[0m \u001b[1m1s\u001b[0m 6ms/step - accuracy: 0.8325 - loss: 0.3885 - val_accuracy: 0.7500 - val_loss: 0.5290\n",
            "Epoch 6/20\n",
            "\u001b[1m40/40\u001b[0m \u001b[32m━━━━━━━━━━━━━━━━━━━━\u001b[0m\u001b[37m\u001b[0m \u001b[1m1s\u001b[0m 4ms/step - accuracy: 0.7986 - loss: 0.4245 - val_accuracy: 0.7437 - val_loss: 0.5307\n",
            "Epoch 7/20\n",
            "\u001b[1m40/40\u001b[0m \u001b[32m━━━━━━━━━━━━━━━━━━━━\u001b[0m\u001b[37m\u001b[0m \u001b[1m0s\u001b[0m 2ms/step - accuracy: 0.8255 - loss: 0.3852 - val_accuracy: 0.7312 - val_loss: 0.5349\n",
            "Epoch 8/20\n",
            "\u001b[1m40/40\u001b[0m \u001b[32m━━━━━━━━━━━━━━━━━━━━\u001b[0m\u001b[37m\u001b[0m \u001b[1m0s\u001b[0m 3ms/step - accuracy: 0.8117 - loss: 0.4209 - val_accuracy: 0.7437 - val_loss: 0.5267\n",
            "Epoch 9/20\n",
            "\u001b[1m40/40\u001b[0m \u001b[32m━━━━━━━━━━━━━━━━━━━━\u001b[0m\u001b[37m\u001b[0m \u001b[1m0s\u001b[0m 3ms/step - accuracy: 0.8037 - loss: 0.4036 - val_accuracy: 0.7375 - val_loss: 0.5284\n",
            "Epoch 10/20\n",
            "\u001b[1m40/40\u001b[0m \u001b[32m━━━━━━━━━━━━━━━━━━━━\u001b[0m\u001b[37m\u001b[0m \u001b[1m0s\u001b[0m 2ms/step - accuracy: 0.8100 - loss: 0.4198 - val_accuracy: 0.7437 - val_loss: 0.5275\n",
            "Epoch 11/20\n",
            "\u001b[1m40/40\u001b[0m \u001b[32m━━━━━━━━━━━━━━━━━━━━\u001b[0m\u001b[37m\u001b[0m \u001b[1m0s\u001b[0m 2ms/step - accuracy: 0.8061 - loss: 0.4095 - val_accuracy: 0.7437 - val_loss: 0.5288\n",
            "Epoch 12/20\n",
            "\u001b[1m40/40\u001b[0m \u001b[32m━━━━━━━━━━━━━━━━━━━━\u001b[0m\u001b[37m\u001b[0m \u001b[1m0s\u001b[0m 3ms/step - accuracy: 0.8255 - loss: 0.3922 - val_accuracy: 0.7500 - val_loss: 0.5262\n",
            "Epoch 13/20\n",
            "\u001b[1m40/40\u001b[0m \u001b[32m━━━━━━━━━━━━━━━━━━━━\u001b[0m\u001b[37m\u001b[0m \u001b[1m0s\u001b[0m 3ms/step - accuracy: 0.8268 - loss: 0.3958 - val_accuracy: 0.7437 - val_loss: 0.5252\n",
            "Epoch 14/20\n",
            "\u001b[1m40/40\u001b[0m \u001b[32m━━━━━━━━━━━━━━━━━━━━\u001b[0m\u001b[37m\u001b[0m \u001b[1m0s\u001b[0m 3ms/step - accuracy: 0.8294 - loss: 0.3830 - val_accuracy: 0.7375 - val_loss: 0.5309\n",
            "Epoch 15/20\n",
            "\u001b[1m40/40\u001b[0m \u001b[32m━━━━━━━━━━━━━━━━━━━━\u001b[0m\u001b[37m\u001b[0m \u001b[1m0s\u001b[0m 3ms/step - accuracy: 0.7978 - loss: 0.4064 - val_accuracy: 0.7437 - val_loss: 0.5187\n",
            "Epoch 16/20\n",
            "\u001b[1m40/40\u001b[0m \u001b[32m━━━━━━━━━━━━━━━━━━━━\u001b[0m\u001b[37m\u001b[0m \u001b[1m0s\u001b[0m 3ms/step - accuracy: 0.8248 - loss: 0.3779 - val_accuracy: 0.7500 - val_loss: 0.5231\n",
            "Epoch 17/20\n",
            "\u001b[1m40/40\u001b[0m \u001b[32m━━━━━━━━━━━━━━━━━━━━\u001b[0m\u001b[37m\u001b[0m \u001b[1m0s\u001b[0m 3ms/step - accuracy: 0.8309 - loss: 0.3837 - val_accuracy: 0.7312 - val_loss: 0.5290\n",
            "Epoch 18/20\n",
            "\u001b[1m40/40\u001b[0m \u001b[32m━━━━━━━━━━━━━━━━━━━━\u001b[0m\u001b[37m\u001b[0m \u001b[1m0s\u001b[0m 2ms/step - accuracy: 0.8080 - loss: 0.4031 - val_accuracy: 0.7500 - val_loss: 0.5261\n",
            "Epoch 19/20\n",
            "\u001b[1m40/40\u001b[0m \u001b[32m━━━━━━━━━━━━━━━━━━━━\u001b[0m\u001b[37m\u001b[0m \u001b[1m0s\u001b[0m 2ms/step - accuracy: 0.8266 - loss: 0.3639 - val_accuracy: 0.7500 - val_loss: 0.5251\n",
            "Epoch 20/20\n",
            "\u001b[1m40/40\u001b[0m \u001b[32m━━━━━━━━━━━━━━━━━━━━\u001b[0m\u001b[37m\u001b[0m \u001b[1m0s\u001b[0m 2ms/step - accuracy: 0.8349 - loss: 0.3822 - val_accuracy: 0.7500 - val_loss: 0.5243\n"
          ]
        }
      ]
    },
    {
      "cell_type": "markdown",
      "source": [
        "Q13. Obtain the model's parameters (weights and biases)."
      ],
      "metadata": {
        "id": "6zg883u_EgJU"
      }
    },
    {
      "cell_type": "code",
      "source": [
        "weights_and_biases=model.get_weights()"
      ],
      "metadata": {
        "id": "OiwEEaJ_ESQm"
      },
      "execution_count": 33,
      "outputs": []
    },
    {
      "cell_type": "code",
      "source": [
        "print(f\"Total number of parameter arrays: {len(weights_and_biases)}\")"
      ],
      "metadata": {
        "colab": {
          "base_uri": "https://localhost:8080/"
        },
        "id": "7JMkJ_YTEr4g",
        "outputId": "cb7e567e-5334-4aee-b87a-73269bee5955"
      },
      "execution_count": 35,
      "outputs": [
        {
          "output_type": "stream",
          "name": "stdout",
          "text": [
            "Total number of parameter arrays: 6\n"
          ]
        }
      ]
    },
    {
      "cell_type": "code",
      "source": [
        "# Inspect weights and biases layer by layer\n",
        "for i,layer_weights in enumerate(weights_and_biases):\n",
        "  #print(layer_weights)\n",
        "  print(f\"\\nLayer {i // 2 + 1} - {'Weights' if i % 2 == 0 else 'Biases'}:\")\n",
        "  print(layer_weights)"
      ],
      "metadata": {
        "colab": {
          "base_uri": "https://localhost:8080/"
        },
        "id": "h2CDAoBqEtIB",
        "outputId": "f1ccbf78-7d6c-4d01-8c65-b90b3a34e713"
      },
      "execution_count": 39,
      "outputs": [
        {
          "output_type": "stream",
          "name": "stdout",
          "text": [
            "\n",
            "Layer 1 - Weights:\n",
            "[[ 1.81337327e-01 -6.37803003e-02 -1.64402246e-01 -1.68334574e-01\n",
            "   6.75637648e-02  8.74088705e-02  1.04693048e-01 -1.48256510e-01\n",
            "   3.14413041e-01  1.75326034e-01 -1.67921409e-01  3.19419116e-01\n",
            "   2.83312500e-01  2.65329510e-01  1.33047253e-01 -3.18941742e-01\n",
            "   6.60747290e-02 -2.74913106e-02 -4.36143160e-01 -3.26495618e-01\n",
            "   7.32227862e-02 -1.75704341e-02 -1.06589854e-01 -1.30118132e-01\n",
            "  -1.44693255e-01 -2.49925423e-02 -3.35205942e-01 -8.05315599e-02\n",
            "  -2.21238717e-01  4.57736671e-01  3.49057972e-01 -2.33886331e-01\n",
            "   1.04876868e-01  5.57961911e-02  2.83382297e-01  1.49803400e-01\n",
            "  -3.36785540e-02 -3.30323696e-01 -2.69580781e-01 -1.38434574e-01\n",
            "   4.00557786e-01  1.62527394e-02  2.90925354e-01  1.07949190e-01\n",
            "  -8.03617537e-02 -6.05087802e-02 -6.99571297e-02 -1.23325326e-01\n",
            "   2.09336299e-02 -3.88321459e-01  1.21453516e-02  5.45811057e-02\n",
            "   3.10762614e-01  4.76716571e-02  2.19621226e-01  1.43462673e-01\n",
            "   1.16067991e-01 -3.98062319e-02  1.40413195e-01  1.98182300e-01\n",
            "   2.23573655e-01 -1.45136163e-01 -2.25983988e-02 -1.36969313e-02]\n",
            " [-8.41517374e-02  1.29684895e-01  9.90192778e-03  5.60288737e-03\n",
            "   7.21993819e-02 -4.71854731e-02  6.20039962e-02  1.96705312e-01\n",
            "   1.07839830e-01  2.36040860e-01 -2.71091759e-01 -1.31378502e-01\n",
            "  -1.83137618e-02  9.18719769e-02  1.85076401e-01 -1.58255681e-01\n",
            "  -6.98318426e-03  8.90713781e-02 -7.14218542e-02  2.92771813e-02\n",
            "  -2.49434322e-01  4.32547033e-01 -2.80222774e-01 -4.11313683e-01\n",
            "   2.98688471e-01  1.06672272e-01 -3.74141455e-01 -7.41400197e-02\n",
            "   2.30400547e-01 -9.85462591e-02 -1.17946871e-01  2.65835464e-01\n",
            "  -1.84408315e-02  2.02099308e-01  2.57235050e-01 -1.08638309e-01\n",
            "   1.24909326e-01 -3.22913229e-02 -2.86591619e-01  2.28270918e-01\n",
            "   6.06821887e-02 -3.16379726e-01  6.43247068e-02  1.76153004e-01\n",
            "   2.25783423e-01 -1.86265960e-01 -5.10784760e-02 -2.94170201e-01\n",
            "  -8.54180828e-02  7.66941682e-02  2.35954180e-01  1.36103677e-02\n",
            "  -2.18895346e-01 -1.09290138e-01 -3.44867408e-02  2.48030961e-01\n",
            "  -1.83355048e-01 -9.53517035e-02 -2.46442974e-01  4.40644145e-01\n",
            "   1.61289960e-01 -1.72882736e-01 -2.51670241e-01  2.19805673e-01]\n",
            " [ 7.75372535e-02 -1.12588279e-01  4.58905809e-02 -9.77404974e-03\n",
            "   1.73984662e-01  1.64429247e-01  7.14475811e-02 -2.33643368e-01\n",
            "  -3.63889307e-01  3.79814863e-01 -1.12674125e-01 -2.30079904e-01\n",
            "  -8.98539275e-02 -4.46841151e-01  1.43935487e-01 -9.98919681e-02\n",
            "   6.87469766e-02  7.82046393e-02  1.83416918e-01 -4.24640268e-01\n",
            "  -1.66485712e-01  2.55683780e-01  9.95061770e-02  3.21959168e-01\n",
            "  -2.86796736e-03 -2.21887290e-01  1.74549714e-01  1.00330271e-01\n",
            "   1.39974207e-01  6.50717467e-02 -1.13154918e-01 -2.61019468e-01\n",
            "   2.75261626e-02  1.79811358e-01 -5.85885644e-02  1.97788969e-01\n",
            "   2.18448788e-02  2.53169220e-02  2.20175430e-01  7.71422833e-02\n",
            "   2.48152614e-01  1.97417259e-01  2.04406053e-01 -7.68374726e-02\n",
            "  -4.61804904e-02  8.65511298e-02 -2.64409810e-01  1.35130510e-02\n",
            "   5.89946136e-02 -1.24799512e-01  2.54426990e-02  1.00982059e-02\n",
            "   9.06395242e-02 -1.19728707e-01  3.13276872e-02 -1.79463014e-01\n",
            "   2.65919715e-01  3.55807304e-01  1.29315853e-01  1.02770127e-01\n",
            "  -3.35843600e-02 -2.43371770e-01  2.91049600e-01 -2.84204274e-01]\n",
            " [-2.82417759e-02 -7.81899840e-02  2.56327614e-02 -3.83371972e-02\n",
            "   2.52306908e-01  7.71604106e-02 -2.95050800e-01 -3.38256806e-01\n",
            "  -7.88800716e-02 -3.25097404e-02  5.82699589e-02  2.56230414e-01\n",
            "  -2.51431286e-01 -1.29553862e-02 -1.44307017e-01  2.97594607e-01\n",
            "  -6.72814623e-03 -7.85133094e-02 -2.36467123e-01 -1.66868433e-01\n",
            "   1.80770740e-01  1.83042437e-01 -2.52530843e-01 -5.72472513e-02\n",
            "  -1.61582930e-03 -1.45382196e-01  1.89275444e-01  7.22739771e-02\n",
            "  -1.10688709e-01 -1.72967277e-02  1.74314663e-01  1.85450271e-01\n",
            "  -2.13605464e-01  3.03999424e-01  6.97164834e-02 -3.48687321e-01\n",
            "  -3.18258166e-01  1.68317050e-01  3.39690596e-02  7.32762888e-02\n",
            "  -1.23910122e-01 -2.22438082e-01  7.41337165e-02 -1.46032140e-01\n",
            "  -3.32805008e-01 -1.19980879e-01  1.14656284e-01  1.22226179e-01\n",
            "   6.75324723e-02 -1.64764911e-01  2.21972913e-01  1.00230716e-01\n",
            "   1.99050888e-01 -3.99776548e-01 -5.12254179e-01 -1.36923209e-01\n",
            "   9.12801325e-02  1.87721878e-01 -1.33896098e-01 -1.56976491e-01\n",
            "   1.55737758e-01  3.13936651e-01  2.30035577e-02 -9.16995406e-02]\n",
            " [ 3.31944048e-01  2.83702731e-01 -6.68152034e-01  2.56742388e-01\n",
            "  -7.29415044e-02 -2.37980306e-01  3.22655290e-01  1.72550797e-01\n",
            "  -2.37929210e-01 -1.50599349e-02 -3.44534256e-02 -5.74222058e-02\n",
            "   4.59996521e-01 -1.76899105e-01 -1.33320272e-01 -1.40580416e-01\n",
            "   1.95228338e-01 -1.05323292e-01  2.29007989e-01  1.43746778e-01\n",
            "  -3.21355671e-01  6.06261902e-02 -3.43083769e-01 -4.67145592e-02\n",
            "   1.58588678e-01 -1.04325280e-01 -2.48640314e-01 -2.02760790e-02\n",
            "   4.51358333e-02 -3.61001492e-02 -1.08345546e-01  7.58198351e-02\n",
            "  -6.03734031e-02  2.24652424e-01 -6.38004169e-02 -2.49725565e-01\n",
            "   2.45557278e-02  8.57473686e-02 -1.94632441e-01  1.73357710e-01\n",
            "   1.60623621e-03  6.81638569e-02  1.88607633e-01 -2.08452612e-01\n",
            "  -6.45748004e-02  8.92585795e-03 -3.87601554e-01 -2.66864687e-01\n",
            "  -2.79914767e-01  1.26770556e-01 -1.37961611e-01 -2.38593683e-01\n",
            "   2.05401212e-01  1.82270631e-01  4.25888114e-02  7.02061802e-02\n",
            "  -4.13410783e-01  1.43476754e-01 -2.29184926e-01 -1.54517427e-01\n",
            "  -1.28226697e-01 -2.43567079e-01  3.87122899e-01  3.92153710e-01]\n",
            " [-2.87406743e-01 -6.82912916e-02  5.60951680e-02  1.28191248e-01\n",
            "   3.40095162e-01  2.21471861e-01  2.70556599e-01 -3.22835714e-01\n",
            "  -1.09331071e-01 -3.76800895e-02  2.89312571e-01 -1.47753432e-01\n",
            "  -1.79274872e-01 -9.59515746e-05 -9.22266170e-02 -1.69477258e-02\n",
            "  -8.46051425e-02  1.10563353e-01 -2.39668757e-01 -1.18167117e-01\n",
            "  -8.72513503e-02  1.87679887e-01  8.77564102e-02  4.43165414e-02\n",
            "   3.88679132e-02  3.32792908e-01  2.07451940e-01  3.55337173e-01\n",
            "   6.28271401e-02 -5.69518507e-02 -2.19023839e-01  9.35622975e-02\n",
            "  -3.32284629e-01 -3.55856299e-01 -2.22184951e-03 -2.70774603e-01\n",
            "  -3.79558429e-02  2.00923964e-01 -2.74373293e-01 -1.78914517e-02\n",
            "  -1.44597828e-01 -2.57914543e-01 -7.52501935e-02 -2.57638216e-01\n",
            "   1.14585780e-01  1.53278977e-01 -2.21876770e-01 -2.18843654e-01\n",
            "  -1.38328984e-01  2.46813685e-01 -1.28833875e-01 -4.11138684e-01\n",
            "   4.27993461e-02  2.37084642e-01 -5.68142347e-03 -1.53747484e-01\n",
            "   3.03034812e-01  7.40040690e-02 -2.19887972e-01  4.86904502e-01\n",
            "  -2.06910744e-01  3.90782028e-01  4.66046989e-01  3.22095722e-01]\n",
            " [-1.69037620e-03 -5.18144369e-02 -5.83606176e-02 -3.19636643e-01\n",
            "   3.11827898e-01  3.98121104e-02  1.56627402e-01 -2.01027736e-01\n",
            "  -1.44419938e-01  1.86566576e-01 -1.69045210e-01 -2.27232471e-01\n",
            "   3.23247045e-01 -4.39870417e-01  9.98259559e-02 -1.24119386e-01\n",
            "  -2.45766550e-01 -1.58844650e-01  8.47304687e-02  9.74069461e-02\n",
            "  -2.30143741e-01 -2.74348587e-01  4.72043641e-02 -7.87222311e-02\n",
            "   2.19031855e-01  2.25764737e-01  2.20218301e-01 -1.61243170e-01\n",
            "  -1.51849706e-02 -8.73799622e-02 -2.77873605e-01  1.59654319e-01\n",
            "  -1.77217111e-01 -2.49607921e-01  1.86521709e-02  7.49442652e-02\n",
            "   5.63561218e-03  5.28948158e-02  2.06682980e-01  1.49762169e-01\n",
            "   3.49152267e-01 -1.56529918e-01 -1.82448551e-01  1.18673198e-01\n",
            "  -8.69966596e-02  2.05741674e-02 -2.75689542e-01  2.16701478e-01\n",
            "  -1.93141803e-01  4.54577170e-02  2.29962990e-01 -3.80071759e-01\n",
            "  -4.47519049e-02 -1.55738726e-01 -1.50262550e-01 -2.11419404e-01\n",
            "  -3.60546857e-01  2.47040883e-01 -2.21614212e-01 -4.50881898e-01\n",
            "   8.56673345e-02 -1.30657777e-02  5.09820580e-02 -6.89858869e-02]\n",
            " [ 2.48428248e-02  5.47794476e-02 -1.78966850e-01 -1.70725837e-01\n",
            "  -1.01197265e-01  1.18693188e-01  2.67455056e-02  2.49830440e-01\n",
            "   9.37214047e-02 -3.52853835e-01 -1.88031822e-01 -8.20819065e-02\n",
            "  -3.34369481e-01 -2.67135590e-01 -1.62732750e-01 -1.23085804e-01\n",
            "   1.01633750e-01  2.85264552e-01  1.04701281e-01  4.06365633e-01\n",
            "   1.56459197e-01  1.09068953e-01 -3.83392721e-02 -3.48155081e-01\n",
            "  -8.54232311e-02 -1.28348619e-01 -1.48030266e-01 -4.22147429e-03\n",
            "   4.38678227e-02  5.38687520e-02  3.73348147e-01 -3.29860985e-01\n",
            "  -1.70439243e-01 -1.48102209e-01  1.43182129e-02 -1.02799438e-01\n",
            "   8.78428593e-02  3.87650467e-02  4.86346073e-02  1.22218363e-01\n",
            "   8.44231248e-02  2.80463219e-01  2.00465992e-01 -2.00225953e-02\n",
            "  -1.11958772e-01 -1.14298113e-01  1.75625514e-02 -2.72369534e-01\n",
            "   1.39946491e-01  2.48685315e-01 -9.62919146e-02 -1.60734817e-01\n",
            "  -4.39199209e-02 -1.52507752e-01 -4.54075277e-01 -1.88970238e-01\n",
            "  -3.09523195e-01  1.02180550e-02  6.02230169e-02  2.92715997e-01\n",
            "  -4.49458137e-02  2.13109210e-01 -1.17764547e-02 -1.36428565e-01]\n",
            " [ 1.62846982e-01  1.16457656e-01  3.35401714e-01 -1.70767486e-01\n",
            "   2.32364565e-01 -9.98427495e-02 -9.93134156e-02  1.81549117e-02\n",
            "  -2.19240889e-01 -1.49136603e-01 -1.55880049e-01  8.45578164e-02\n",
            "  -1.04621714e-02 -2.80668706e-01  3.30594063e-01 -2.62053341e-01\n",
            "   1.89770997e-01  1.58971362e-02  1.90002650e-01  1.87738329e-01\n",
            "   4.84014787e-02 -9.85139832e-02 -2.18230173e-01 -1.93013459e-01\n",
            "  -1.54783130e-01 -2.88771898e-01 -2.02640295e-01  1.34552255e-01\n",
            "   2.49567226e-01 -5.01113653e-01  1.44991875e-01 -9.44648087e-02\n",
            "   2.62270551e-02  1.43672392e-01 -2.00897679e-01  8.49647596e-02\n",
            "   2.59139575e-02 -1.78424016e-01  3.16233605e-01  9.22328532e-02\n",
            "  -1.07247317e-02  9.72721428e-02 -3.06557417e-02  1.50032401e-01\n",
            "   2.49367163e-01 -1.97346166e-01  2.78468013e-01  1.93335891e-01\n",
            "  -1.91463449e-03 -1.93899527e-01 -2.81735539e-01  3.11101019e-01\n",
            "  -6.86002821e-02  3.49731684e-01 -3.69622521e-02  1.20146289e-01\n",
            "  -4.34143752e-01 -2.56074250e-01  4.71575037e-02  2.85899341e-01\n",
            "  -2.15857029e-01 -9.90133956e-02  3.05454761e-01  3.10314178e-01]\n",
            " [ 1.30828217e-01  2.50799149e-01  2.28407145e-01  6.31118491e-02\n",
            "   3.06442985e-03  2.01578625e-02  4.04184833e-02 -1.00735918e-01\n",
            "  -1.41113084e-02  1.68122612e-02  8.10399801e-02 -2.67362818e-02\n",
            "  -9.06637460e-02  2.77788281e-01 -3.77771467e-01 -2.27603853e-01\n",
            "  -2.56436825e-01  3.00697654e-01 -9.41941813e-02 -1.25570402e-01\n",
            "   1.27874643e-01  1.67406321e-01  2.87644237e-01  1.17129594e-01\n",
            "   6.13833219e-02 -9.37072933e-02  3.01134199e-01 -2.26773903e-01\n",
            "  -3.54157448e-01  1.48337379e-01  3.12609941e-01 -2.61789054e-01\n",
            "   3.31233740e-01  3.43974971e-04 -2.16063082e-01  2.85511408e-02\n",
            "   1.90836146e-01  2.46845841e-01  2.81609058e-01  2.39041030e-01\n",
            "   3.23403686e-01  6.24075010e-02 -1.59046143e-01 -3.66335481e-01\n",
            "   2.94054389e-01  1.39607579e-01 -1.48605406e-01 -5.26513793e-02\n",
            "  -4.65460300e-01 -1.18795529e-01 -2.32109293e-01 -3.46966684e-01\n",
            "  -2.83072203e-01  3.88539606e-03  2.45878831e-01 -5.53879082e-01\n",
            "  -1.86678737e-01  2.31298320e-02 -1.45366669e-01  7.88649842e-02\n",
            "  -5.65807484e-02  2.17211440e-01 -4.14434612e-01 -2.64178276e-01]\n",
            " [ 1.81492373e-01 -3.76280338e-01  2.52591521e-01  2.18025818e-01\n",
            "   2.73495495e-01  3.13009769e-01 -3.63021821e-01 -1.44951716e-01\n",
            "   2.49196067e-01  3.92326973e-02  1.20999567e-01  1.27125345e-02\n",
            "   1.96281761e-01 -3.69609326e-01 -6.60117492e-02  6.71407282e-02\n",
            "  -2.40914777e-01  2.70603597e-01 -2.99551547e-01 -9.95693449e-03\n",
            "   9.68099236e-02  2.87506372e-01 -1.70581982e-01 -8.50741938e-02\n",
            "  -3.21477324e-01 -2.90340692e-01  1.27535611e-01  3.75525713e-01\n",
            "  -7.70753697e-02 -3.68002318e-02 -9.84922871e-02  2.77889788e-01\n",
            "  -6.56137839e-02 -1.43728077e-01 -2.84161597e-01  1.02445446e-01\n",
            "  -8.62402618e-02 -3.93634170e-01 -1.70369864e-01 -2.24815160e-01\n",
            "  -1.12761438e-01 -2.65865088e-01 -4.78340201e-02  7.64549077e-02\n",
            "  -3.37365150e-01  3.73292863e-01  1.25272378e-01 -6.52705953e-02\n",
            "  -2.06961602e-01 -2.70643741e-01  8.44386369e-02 -6.69025779e-02\n",
            "   2.48659804e-01  1.29665202e-02 -1.23652220e-01 -1.84567541e-01\n",
            "  -1.62374511e-01 -5.09976037e-02 -7.55841210e-02 -7.91095048e-02\n",
            "   1.23751394e-01 -3.67612511e-01  3.29411961e-03  1.03236124e-01]]\n",
            "\n",
            "Layer 1 - Biases:\n",
            "[ 0.03864431 -0.03926495  0.05837555 -0.01180325 -0.17795135  0.05985071\n",
            "  0.01828976  0.06979834  0.10447983 -0.0382329   0.08983618 -0.03460792\n",
            " -0.00946993  0.09183294  0.01489887 -0.02972755 -0.02686448  0.02395326\n",
            " -0.0145333   0.09835654 -0.01074146  0.08913164 -0.00100497  0.04995381\n",
            " -0.00798419 -0.0722519   0.02823186  0.08356051 -0.01029812 -0.08832377\n",
            " -0.00751756 -0.05537003  0.05614205 -0.07519434 -0.09867354 -0.08492742\n",
            " -0.14004102 -0.10079889 -0.03187477 -0.02853973 -0.05748985  0.08505745\n",
            " -0.08784141 -0.12216055  0.08604253  0.0877964   0.05039669 -0.04627569\n",
            " -0.06552652 -0.07092221  0.09423673  0.01876972 -0.02367719  0.08213989\n",
            " -0.01673431 -0.0040713   0.14927867 -0.05585426 -0.07743926 -0.09513996\n",
            "  0.00989282  0.01102298  0.08399732 -0.14124577]\n",
            "\n",
            "Layer 2 - Weights:\n",
            "[[-0.24975783 -0.2591161  -0.0746714  ... -0.0874624   0.24887043\n",
            "   0.2978529 ]\n",
            " [ 0.2064802  -0.17896372  0.2852541  ...  0.194015    0.09707591\n",
            "   0.18337582]\n",
            " [-0.22439472 -0.14647454 -0.36879447 ... -0.3140336  -0.2513815\n",
            "  -0.08889651]\n",
            " ...\n",
            " [-0.10106546 -0.3090079   0.12279893 ... -0.12305992  0.18286459\n",
            "   0.20620663]\n",
            " [ 0.22392254 -0.45641014 -0.04725524 ...  0.09581871  0.07873853\n",
            "   0.2730096 ]\n",
            " [ 0.23913902  0.13196903  0.10388378 ...  0.26256925  0.18193126\n",
            "  -0.29447109]]\n",
            "\n",
            "Layer 2 - Biases:\n",
            "[-0.02597781  0.01696227  0.04083091  0.01283513  0.0112075   0.12772909\n",
            "  0.1519224   0.09816873  0.05041951  0.03530386 -0.02607851 -0.08045559\n",
            " -0.03492045 -0.02574283  0.03988533 -0.07478462 -0.07312083  0.12310348\n",
            "  0.02847168 -0.03307772 -0.0337557  -0.07196854 -0.02404176 -0.07591195\n",
            " -0.05803891  0.02247467  0.02629461 -0.05792396  0.08350326 -0.06390458\n",
            " -0.00786158  0.10151235]\n",
            "\n",
            "Layer 3 - Weights:\n",
            "[[-0.30382928]\n",
            " [ 0.75571513]\n",
            " [ 0.59290844]\n",
            " [-0.48981646]\n",
            " [ 0.50955683]\n",
            " [ 0.59480083]\n",
            " [ 0.17498226]\n",
            " [ 0.21761777]\n",
            " [ 0.6228403 ]\n",
            " [ 0.39819965]\n",
            " [-0.6715549 ]\n",
            " [-0.37897575]\n",
            " [-0.5423473 ]\n",
            " [ 0.38429734]\n",
            " [ 0.65819937]\n",
            " [-0.5991887 ]\n",
            " [-0.595053  ]\n",
            " [ 0.5940781 ]\n",
            " [ 0.61432236]\n",
            " [-0.5499306 ]\n",
            " [-0.3190088 ]\n",
            " [-0.2902811 ]\n",
            " [-0.6226816 ]\n",
            " [-0.71129435]\n",
            " [-0.41179442]\n",
            " [ 0.33239493]\n",
            " [-0.7961416 ]\n",
            " [-0.30118865]\n",
            " [ 0.39219862]\n",
            " [-0.37443748]\n",
            " [-0.35818744]\n",
            " [ 0.20211327]]\n",
            "\n",
            "Layer 3 - Biases:\n",
            "[0.10975788]\n"
          ]
        }
      ]
    },
    {
      "cell_type": "code",
      "source": [
        "for layer in model.layers:\n",
        "    weights = layer.get_weights()\n",
        "    print(f\"Layer {layer.name}:\")\n",
        "    print(f\"  Weights shape: {weights[0].shape}\")\n",
        "    print(f\"  Biases shape: {weights[1].shape}\")"
      ],
      "metadata": {
        "colab": {
          "base_uri": "https://localhost:8080/"
        },
        "id": "P7Ed-2BxFFEq",
        "outputId": "09c61161-d9f9-4c8d-9db6-515757f96461"
      },
      "execution_count": 40,
      "outputs": [
        {
          "output_type": "stream",
          "name": "stdout",
          "text": [
            "Layer dense:\n",
            "  Weights shape: (11, 64)\n",
            "  Biases shape: (64,)\n",
            "Layer dense_1:\n",
            "  Weights shape: (64, 32)\n",
            "  Biases shape: (32,)\n",
            "Layer dense_2:\n",
            "  Weights shape: (32, 1)\n",
            "  Biases shape: (1,)\n"
          ]
        }
      ]
    },
    {
      "cell_type": "markdown",
      "source": [
        "Q14. Store the model's training history as a Pandas DataFrame."
      ],
      "metadata": {
        "id": "Hu4BIOw1FsyY"
      }
    },
    {
      "cell_type": "code",
      "source": [
        "history_df=pd.DataFrame(history.history)\n"
      ],
      "metadata": {
        "id": "-axLgfr0FkYO"
      },
      "execution_count": 41,
      "outputs": []
    },
    {
      "cell_type": "code",
      "source": [
        "history_df"
      ],
      "metadata": {
        "colab": {
          "base_uri": "https://localhost:8080/",
          "height": 676
        },
        "id": "xJkU-S53F4Hp",
        "outputId": "b1a07523-888b-448e-c472-ceee5bac8bc9"
      },
      "execution_count": 42,
      "outputs": [
        {
          "output_type": "execute_result",
          "data": {
            "text/plain": [
              "    accuracy      loss  val_accuracy  val_loss\n",
              "0   0.807662  0.431785       0.73750  0.534034\n",
              "1   0.805317  0.427865       0.73750  0.539642\n",
              "2   0.813135  0.424470       0.74375  0.531422\n",
              "3   0.804535  0.422992       0.73750  0.532732\n",
              "4   0.808444  0.422641       0.75000  0.529046\n",
              "5   0.810008  0.415348       0.74375  0.530664\n",
              "6   0.804535  0.413481       0.73125  0.534901\n",
              "7   0.813917  0.411970       0.74375  0.526734\n",
              "8   0.809226  0.407176       0.73750  0.528358\n",
              "9   0.819390  0.405772       0.74375  0.527511\n",
              "10  0.814699  0.406625       0.74375  0.528807\n",
              "11  0.814699  0.400762       0.75000  0.526225\n",
              "12  0.818608  0.399985       0.74375  0.525180\n",
              "13  0.821736  0.396242       0.73750  0.530888\n",
              "14  0.813135  0.395335       0.74375  0.518701\n",
              "15  0.818608  0.389682       0.75000  0.523094\n",
              "16  0.828772  0.386833       0.73125  0.528957\n",
              "17  0.827991  0.386876       0.75000  0.526121\n",
              "18  0.820172  0.382413       0.75000  0.525139\n",
              "19  0.831118  0.376707       0.75000  0.524296"
            ],
            "text/html": [
              "\n",
              "  <div id=\"df-b4efb48e-5369-4851-a452-122728c7eeb5\" class=\"colab-df-container\">\n",
              "    <div>\n",
              "<style scoped>\n",
              "    .dataframe tbody tr th:only-of-type {\n",
              "        vertical-align: middle;\n",
              "    }\n",
              "\n",
              "    .dataframe tbody tr th {\n",
              "        vertical-align: top;\n",
              "    }\n",
              "\n",
              "    .dataframe thead th {\n",
              "        text-align: right;\n",
              "    }\n",
              "</style>\n",
              "<table border=\"1\" class=\"dataframe\">\n",
              "  <thead>\n",
              "    <tr style=\"text-align: right;\">\n",
              "      <th></th>\n",
              "      <th>accuracy</th>\n",
              "      <th>loss</th>\n",
              "      <th>val_accuracy</th>\n",
              "      <th>val_loss</th>\n",
              "    </tr>\n",
              "  </thead>\n",
              "  <tbody>\n",
              "    <tr>\n",
              "      <th>0</th>\n",
              "      <td>0.807662</td>\n",
              "      <td>0.431785</td>\n",
              "      <td>0.73750</td>\n",
              "      <td>0.534034</td>\n",
              "    </tr>\n",
              "    <tr>\n",
              "      <th>1</th>\n",
              "      <td>0.805317</td>\n",
              "      <td>0.427865</td>\n",
              "      <td>0.73750</td>\n",
              "      <td>0.539642</td>\n",
              "    </tr>\n",
              "    <tr>\n",
              "      <th>2</th>\n",
              "      <td>0.813135</td>\n",
              "      <td>0.424470</td>\n",
              "      <td>0.74375</td>\n",
              "      <td>0.531422</td>\n",
              "    </tr>\n",
              "    <tr>\n",
              "      <th>3</th>\n",
              "      <td>0.804535</td>\n",
              "      <td>0.422992</td>\n",
              "      <td>0.73750</td>\n",
              "      <td>0.532732</td>\n",
              "    </tr>\n",
              "    <tr>\n",
              "      <th>4</th>\n",
              "      <td>0.808444</td>\n",
              "      <td>0.422641</td>\n",
              "      <td>0.75000</td>\n",
              "      <td>0.529046</td>\n",
              "    </tr>\n",
              "    <tr>\n",
              "      <th>5</th>\n",
              "      <td>0.810008</td>\n",
              "      <td>0.415348</td>\n",
              "      <td>0.74375</td>\n",
              "      <td>0.530664</td>\n",
              "    </tr>\n",
              "    <tr>\n",
              "      <th>6</th>\n",
              "      <td>0.804535</td>\n",
              "      <td>0.413481</td>\n",
              "      <td>0.73125</td>\n",
              "      <td>0.534901</td>\n",
              "    </tr>\n",
              "    <tr>\n",
              "      <th>7</th>\n",
              "      <td>0.813917</td>\n",
              "      <td>0.411970</td>\n",
              "      <td>0.74375</td>\n",
              "      <td>0.526734</td>\n",
              "    </tr>\n",
              "    <tr>\n",
              "      <th>8</th>\n",
              "      <td>0.809226</td>\n",
              "      <td>0.407176</td>\n",
              "      <td>0.73750</td>\n",
              "      <td>0.528358</td>\n",
              "    </tr>\n",
              "    <tr>\n",
              "      <th>9</th>\n",
              "      <td>0.819390</td>\n",
              "      <td>0.405772</td>\n",
              "      <td>0.74375</td>\n",
              "      <td>0.527511</td>\n",
              "    </tr>\n",
              "    <tr>\n",
              "      <th>10</th>\n",
              "      <td>0.814699</td>\n",
              "      <td>0.406625</td>\n",
              "      <td>0.74375</td>\n",
              "      <td>0.528807</td>\n",
              "    </tr>\n",
              "    <tr>\n",
              "      <th>11</th>\n",
              "      <td>0.814699</td>\n",
              "      <td>0.400762</td>\n",
              "      <td>0.75000</td>\n",
              "      <td>0.526225</td>\n",
              "    </tr>\n",
              "    <tr>\n",
              "      <th>12</th>\n",
              "      <td>0.818608</td>\n",
              "      <td>0.399985</td>\n",
              "      <td>0.74375</td>\n",
              "      <td>0.525180</td>\n",
              "    </tr>\n",
              "    <tr>\n",
              "      <th>13</th>\n",
              "      <td>0.821736</td>\n",
              "      <td>0.396242</td>\n",
              "      <td>0.73750</td>\n",
              "      <td>0.530888</td>\n",
              "    </tr>\n",
              "    <tr>\n",
              "      <th>14</th>\n",
              "      <td>0.813135</td>\n",
              "      <td>0.395335</td>\n",
              "      <td>0.74375</td>\n",
              "      <td>0.518701</td>\n",
              "    </tr>\n",
              "    <tr>\n",
              "      <th>15</th>\n",
              "      <td>0.818608</td>\n",
              "      <td>0.389682</td>\n",
              "      <td>0.75000</td>\n",
              "      <td>0.523094</td>\n",
              "    </tr>\n",
              "    <tr>\n",
              "      <th>16</th>\n",
              "      <td>0.828772</td>\n",
              "      <td>0.386833</td>\n",
              "      <td>0.73125</td>\n",
              "      <td>0.528957</td>\n",
              "    </tr>\n",
              "    <tr>\n",
              "      <th>17</th>\n",
              "      <td>0.827991</td>\n",
              "      <td>0.386876</td>\n",
              "      <td>0.75000</td>\n",
              "      <td>0.526121</td>\n",
              "    </tr>\n",
              "    <tr>\n",
              "      <th>18</th>\n",
              "      <td>0.820172</td>\n",
              "      <td>0.382413</td>\n",
              "      <td>0.75000</td>\n",
              "      <td>0.525139</td>\n",
              "    </tr>\n",
              "    <tr>\n",
              "      <th>19</th>\n",
              "      <td>0.831118</td>\n",
              "      <td>0.376707</td>\n",
              "      <td>0.75000</td>\n",
              "      <td>0.524296</td>\n",
              "    </tr>\n",
              "  </tbody>\n",
              "</table>\n",
              "</div>\n",
              "    <div class=\"colab-df-buttons\">\n",
              "\n",
              "  <div class=\"colab-df-container\">\n",
              "    <button class=\"colab-df-convert\" onclick=\"convertToInteractive('df-b4efb48e-5369-4851-a452-122728c7eeb5')\"\n",
              "            title=\"Convert this dataframe to an interactive table.\"\n",
              "            style=\"display:none;\">\n",
              "\n",
              "  <svg xmlns=\"http://www.w3.org/2000/svg\" height=\"24px\" viewBox=\"0 -960 960 960\">\n",
              "    <path d=\"M120-120v-720h720v720H120Zm60-500h600v-160H180v160Zm220 220h160v-160H400v160Zm0 220h160v-160H400v160ZM180-400h160v-160H180v160Zm440 0h160v-160H620v160ZM180-180h160v-160H180v160Zm440 0h160v-160H620v160Z\"/>\n",
              "  </svg>\n",
              "    </button>\n",
              "\n",
              "  <style>\n",
              "    .colab-df-container {\n",
              "      display:flex;\n",
              "      gap: 12px;\n",
              "    }\n",
              "\n",
              "    .colab-df-convert {\n",
              "      background-color: #E8F0FE;\n",
              "      border: none;\n",
              "      border-radius: 50%;\n",
              "      cursor: pointer;\n",
              "      display: none;\n",
              "      fill: #1967D2;\n",
              "      height: 32px;\n",
              "      padding: 0 0 0 0;\n",
              "      width: 32px;\n",
              "    }\n",
              "\n",
              "    .colab-df-convert:hover {\n",
              "      background-color: #E2EBFA;\n",
              "      box-shadow: 0px 1px 2px rgba(60, 64, 67, 0.3), 0px 1px 3px 1px rgba(60, 64, 67, 0.15);\n",
              "      fill: #174EA6;\n",
              "    }\n",
              "\n",
              "    .colab-df-buttons div {\n",
              "      margin-bottom: 4px;\n",
              "    }\n",
              "\n",
              "    [theme=dark] .colab-df-convert {\n",
              "      background-color: #3B4455;\n",
              "      fill: #D2E3FC;\n",
              "    }\n",
              "\n",
              "    [theme=dark] .colab-df-convert:hover {\n",
              "      background-color: #434B5C;\n",
              "      box-shadow: 0px 1px 3px 1px rgba(0, 0, 0, 0.15);\n",
              "      filter: drop-shadow(0px 1px 2px rgba(0, 0, 0, 0.3));\n",
              "      fill: #FFFFFF;\n",
              "    }\n",
              "  </style>\n",
              "\n",
              "    <script>\n",
              "      const buttonEl =\n",
              "        document.querySelector('#df-b4efb48e-5369-4851-a452-122728c7eeb5 button.colab-df-convert');\n",
              "      buttonEl.style.display =\n",
              "        google.colab.kernel.accessAllowed ? 'block' : 'none';\n",
              "\n",
              "      async function convertToInteractive(key) {\n",
              "        const element = document.querySelector('#df-b4efb48e-5369-4851-a452-122728c7eeb5');\n",
              "        const dataTable =\n",
              "          await google.colab.kernel.invokeFunction('convertToInteractive',\n",
              "                                                    [key], {});\n",
              "        if (!dataTable) return;\n",
              "\n",
              "        const docLinkHtml = 'Like what you see? Visit the ' +\n",
              "          '<a target=\"_blank\" href=https://colab.research.google.com/notebooks/data_table.ipynb>data table notebook</a>'\n",
              "          + ' to learn more about interactive tables.';\n",
              "        element.innerHTML = '';\n",
              "        dataTable['output_type'] = 'display_data';\n",
              "        await google.colab.output.renderOutput(dataTable, element);\n",
              "        const docLink = document.createElement('div');\n",
              "        docLink.innerHTML = docLinkHtml;\n",
              "        element.appendChild(docLink);\n",
              "      }\n",
              "    </script>\n",
              "  </div>\n",
              "\n",
              "\n",
              "<div id=\"df-ee793dc2-a27e-4f86-8f9d-99f401574ac4\">\n",
              "  <button class=\"colab-df-quickchart\" onclick=\"quickchart('df-ee793dc2-a27e-4f86-8f9d-99f401574ac4')\"\n",
              "            title=\"Suggest charts\"\n",
              "            style=\"display:none;\">\n",
              "\n",
              "<svg xmlns=\"http://www.w3.org/2000/svg\" height=\"24px\"viewBox=\"0 0 24 24\"\n",
              "     width=\"24px\">\n",
              "    <g>\n",
              "        <path d=\"M19 3H5c-1.1 0-2 .9-2 2v14c0 1.1.9 2 2 2h14c1.1 0 2-.9 2-2V5c0-1.1-.9-2-2-2zM9 17H7v-7h2v7zm4 0h-2V7h2v10zm4 0h-2v-4h2v4z\"/>\n",
              "    </g>\n",
              "</svg>\n",
              "  </button>\n",
              "\n",
              "<style>\n",
              "  .colab-df-quickchart {\n",
              "      --bg-color: #E8F0FE;\n",
              "      --fill-color: #1967D2;\n",
              "      --hover-bg-color: #E2EBFA;\n",
              "      --hover-fill-color: #174EA6;\n",
              "      --disabled-fill-color: #AAA;\n",
              "      --disabled-bg-color: #DDD;\n",
              "  }\n",
              "\n",
              "  [theme=dark] .colab-df-quickchart {\n",
              "      --bg-color: #3B4455;\n",
              "      --fill-color: #D2E3FC;\n",
              "      --hover-bg-color: #434B5C;\n",
              "      --hover-fill-color: #FFFFFF;\n",
              "      --disabled-bg-color: #3B4455;\n",
              "      --disabled-fill-color: #666;\n",
              "  }\n",
              "\n",
              "  .colab-df-quickchart {\n",
              "    background-color: var(--bg-color);\n",
              "    border: none;\n",
              "    border-radius: 50%;\n",
              "    cursor: pointer;\n",
              "    display: none;\n",
              "    fill: var(--fill-color);\n",
              "    height: 32px;\n",
              "    padding: 0;\n",
              "    width: 32px;\n",
              "  }\n",
              "\n",
              "  .colab-df-quickchart:hover {\n",
              "    background-color: var(--hover-bg-color);\n",
              "    box-shadow: 0 1px 2px rgba(60, 64, 67, 0.3), 0 1px 3px 1px rgba(60, 64, 67, 0.15);\n",
              "    fill: var(--button-hover-fill-color);\n",
              "  }\n",
              "\n",
              "  .colab-df-quickchart-complete:disabled,\n",
              "  .colab-df-quickchart-complete:disabled:hover {\n",
              "    background-color: var(--disabled-bg-color);\n",
              "    fill: var(--disabled-fill-color);\n",
              "    box-shadow: none;\n",
              "  }\n",
              "\n",
              "  .colab-df-spinner {\n",
              "    border: 2px solid var(--fill-color);\n",
              "    border-color: transparent;\n",
              "    border-bottom-color: var(--fill-color);\n",
              "    animation:\n",
              "      spin 1s steps(1) infinite;\n",
              "  }\n",
              "\n",
              "  @keyframes spin {\n",
              "    0% {\n",
              "      border-color: transparent;\n",
              "      border-bottom-color: var(--fill-color);\n",
              "      border-left-color: var(--fill-color);\n",
              "    }\n",
              "    20% {\n",
              "      border-color: transparent;\n",
              "      border-left-color: var(--fill-color);\n",
              "      border-top-color: var(--fill-color);\n",
              "    }\n",
              "    30% {\n",
              "      border-color: transparent;\n",
              "      border-left-color: var(--fill-color);\n",
              "      border-top-color: var(--fill-color);\n",
              "      border-right-color: var(--fill-color);\n",
              "    }\n",
              "    40% {\n",
              "      border-color: transparent;\n",
              "      border-right-color: var(--fill-color);\n",
              "      border-top-color: var(--fill-color);\n",
              "    }\n",
              "    60% {\n",
              "      border-color: transparent;\n",
              "      border-right-color: var(--fill-color);\n",
              "    }\n",
              "    80% {\n",
              "      border-color: transparent;\n",
              "      border-right-color: var(--fill-color);\n",
              "      border-bottom-color: var(--fill-color);\n",
              "    }\n",
              "    90% {\n",
              "      border-color: transparent;\n",
              "      border-bottom-color: var(--fill-color);\n",
              "    }\n",
              "  }\n",
              "</style>\n",
              "\n",
              "  <script>\n",
              "    async function quickchart(key) {\n",
              "      const quickchartButtonEl =\n",
              "        document.querySelector('#' + key + ' button');\n",
              "      quickchartButtonEl.disabled = true;  // To prevent multiple clicks.\n",
              "      quickchartButtonEl.classList.add('colab-df-spinner');\n",
              "      try {\n",
              "        const charts = await google.colab.kernel.invokeFunction(\n",
              "            'suggestCharts', [key], {});\n",
              "      } catch (error) {\n",
              "        console.error('Error during call to suggestCharts:', error);\n",
              "      }\n",
              "      quickchartButtonEl.classList.remove('colab-df-spinner');\n",
              "      quickchartButtonEl.classList.add('colab-df-quickchart-complete');\n",
              "    }\n",
              "    (() => {\n",
              "      let quickchartButtonEl =\n",
              "        document.querySelector('#df-ee793dc2-a27e-4f86-8f9d-99f401574ac4 button');\n",
              "      quickchartButtonEl.style.display =\n",
              "        google.colab.kernel.accessAllowed ? 'block' : 'none';\n",
              "    })();\n",
              "  </script>\n",
              "</div>\n",
              "\n",
              "  <div id=\"id_a4639282-9b93-493c-a343-24b1740db166\">\n",
              "    <style>\n",
              "      .colab-df-generate {\n",
              "        background-color: #E8F0FE;\n",
              "        border: none;\n",
              "        border-radius: 50%;\n",
              "        cursor: pointer;\n",
              "        display: none;\n",
              "        fill: #1967D2;\n",
              "        height: 32px;\n",
              "        padding: 0 0 0 0;\n",
              "        width: 32px;\n",
              "      }\n",
              "\n",
              "      .colab-df-generate:hover {\n",
              "        background-color: #E2EBFA;\n",
              "        box-shadow: 0px 1px 2px rgba(60, 64, 67, 0.3), 0px 1px 3px 1px rgba(60, 64, 67, 0.15);\n",
              "        fill: #174EA6;\n",
              "      }\n",
              "\n",
              "      [theme=dark] .colab-df-generate {\n",
              "        background-color: #3B4455;\n",
              "        fill: #D2E3FC;\n",
              "      }\n",
              "\n",
              "      [theme=dark] .colab-df-generate:hover {\n",
              "        background-color: #434B5C;\n",
              "        box-shadow: 0px 1px 3px 1px rgba(0, 0, 0, 0.15);\n",
              "        filter: drop-shadow(0px 1px 2px rgba(0, 0, 0, 0.3));\n",
              "        fill: #FFFFFF;\n",
              "      }\n",
              "    </style>\n",
              "    <button class=\"colab-df-generate\" onclick=\"generateWithVariable('history_df')\"\n",
              "            title=\"Generate code using this dataframe.\"\n",
              "            style=\"display:none;\">\n",
              "\n",
              "  <svg xmlns=\"http://www.w3.org/2000/svg\" height=\"24px\"viewBox=\"0 0 24 24\"\n",
              "       width=\"24px\">\n",
              "    <path d=\"M7,19H8.4L18.45,9,17,7.55,7,17.6ZM5,21V16.75L18.45,3.32a2,2,0,0,1,2.83,0l1.4,1.43a1.91,1.91,0,0,1,.58,1.4,1.91,1.91,0,0,1-.58,1.4L9.25,21ZM18.45,9,17,7.55Zm-12,3A5.31,5.31,0,0,0,4.9,8.1,5.31,5.31,0,0,0,1,6.5,5.31,5.31,0,0,0,4.9,4.9,5.31,5.31,0,0,0,6.5,1,5.31,5.31,0,0,0,8.1,4.9,5.31,5.31,0,0,0,12,6.5,5.46,5.46,0,0,0,6.5,12Z\"/>\n",
              "  </svg>\n",
              "    </button>\n",
              "    <script>\n",
              "      (() => {\n",
              "      const buttonEl =\n",
              "        document.querySelector('#id_a4639282-9b93-493c-a343-24b1740db166 button.colab-df-generate');\n",
              "      buttonEl.style.display =\n",
              "        google.colab.kernel.accessAllowed ? 'block' : 'none';\n",
              "\n",
              "      buttonEl.onclick = () => {\n",
              "        google.colab.notebook.generateWithVariable('history_df');\n",
              "      }\n",
              "      })();\n",
              "    </script>\n",
              "  </div>\n",
              "\n",
              "    </div>\n",
              "  </div>\n"
            ],
            "application/vnd.google.colaboratory.intrinsic+json": {
              "type": "dataframe",
              "variable_name": "history_df",
              "summary": "{\n  \"name\": \"history_df\",\n  \"rows\": 20,\n  \"fields\": [\n    {\n      \"column\": \"accuracy\",\n      \"properties\": {\n        \"dtype\": \"number\",\n        \"std\": 0.007981008883879146,\n        \"min\": 0.8045347929000854,\n        \"max\": 0.8311180472373962,\n        \"num_unique_values\": 16,\n        \"samples\": [\n          0.8076622486114502,\n          0.8053166270256042,\n          0.8100078105926514\n        ],\n        \"semantic_type\": \"\",\n        \"description\": \"\"\n      }\n    },\n    {\n      \"column\": \"loss\",\n      \"properties\": {\n        \"dtype\": \"number\",\n        \"std\": 0.016068318281036525,\n        \"min\": 0.376706600189209,\n        \"max\": 0.4317847490310669,\n        \"num_unique_values\": 20,\n        \"samples\": [\n          0.4317847490310669,\n          0.38687562942504883,\n          0.38968247175216675\n        ],\n        \"semantic_type\": \"\",\n        \"description\": \"\"\n      }\n    },\n    {\n      \"column\": \"val_accuracy\",\n      \"properties\": {\n        \"dtype\": \"number\",\n        \"std\": 0.006175541655865809,\n        \"min\": 0.731249988079071,\n        \"max\": 0.75,\n        \"num_unique_values\": 4,\n        \"samples\": [\n          0.7437499761581421,\n          0.731249988079071,\n          0.737500011920929\n        ],\n        \"semantic_type\": \"\",\n        \"description\": \"\"\n      }\n    },\n    {\n      \"column\": \"val_loss\",\n      \"properties\": {\n        \"dtype\": \"number\",\n        \"std\": 0.004662668434987287,\n        \"min\": 0.5187007784843445,\n        \"max\": 0.5396422147750854,\n        \"num_unique_values\": 20,\n        \"samples\": [\n          0.5340336561203003,\n          0.5261207818984985,\n          0.5230941772460938\n        ],\n        \"semantic_type\": \"\",\n        \"description\": \"\"\n      }\n    }\n  ]\n}"
            }
          },
          "metadata": {},
          "execution_count": 42
        }
      ]
    },
    {
      "cell_type": "markdown",
      "source": [
        "Q15. Plot the training history (e.g., accuracy and loss) using suitable visualization techniques."
      ],
      "metadata": {
        "id": "RZo3_dboGCTT"
      }
    },
    {
      "cell_type": "code",
      "source": [
        "import matplotlib.pyplot as plt"
      ],
      "metadata": {
        "id": "XUNXUTgoF5Rw"
      },
      "execution_count": 43,
      "outputs": []
    },
    {
      "cell_type": "code",
      "source": [
        "# Plot training and validation loss\n",
        "plt.figure(figsize=(10,6))\n",
        "plt.plot(history.history['loss'],label='training_loss')\n",
        "plt.plot(history.history['val_loss'],label='Validation Loss')\n",
        "plt.xlabel('Epochs')\n",
        "plt.ylabel('loss')\n",
        "plt.legend()\n",
        "plt.grid()\n",
        "plt.show()"
      ],
      "metadata": {
        "colab": {
          "base_uri": "https://localhost:8080/",
          "height": 542
        },
        "id": "lkx3trutGls_",
        "outputId": "6736ca70-ba4c-4568-e4c1-910d35f1e964"
      },
      "execution_count": 47,
      "outputs": [
        {
          "output_type": "display_data",
          "data": {
            "text/plain": [
              "<Figure size 1000x600 with 1 Axes>"
            ],
            "image/png": "[encoded data removed]"
          },
          "metadata": {}
        }
      ]
    },
    {
      "cell_type": "code",
      "source": [
        "plt.figure(figsize=(10,6))\n",
        "plt.plot(history.history['accuracy'],label='training accuracy')\n",
        "plt.plot(history.history['val_accuracy'],label='Validation accuracy')\n",
        "plt.xlabel('Epochs')\n",
        "plt.ylabel('accuracy')\n",
        "plt.legend()\n",
        "plt.grid()\n",
        "plt.show()"
      ],
      "metadata": {
        "colab": {
          "base_uri": "https://localhost:8080/",
          "height": 542
        },
        "id": "tvVOR9MkG-Fj",
        "outputId": "b786ff7d-32d4-49e5-d8cf-d7b991296fa4"
      },
      "execution_count": 48,
      "outputs": [
        {
          "output_type": "display_data",
          "data": {
            "text/plain": [
              "<Figure size 1000x600 with 1 Axes>"
            ],
            "image/png": "[encoded data removed]"
          },
          "metadata": {}
        }
      ]
    },
    {
      "cell_type": "markdown",
      "source": [
        "Q16. Evaluate the model's performance using the test dataset and report relevant metrics."
      ],
      "metadata": {
        "id": "39uAgqTYHedM"
      }
    },
    {
      "cell_type": "code",
      "source": [
        "# Evaluate the model on the test dataset\n",
        "test_loss, test_accuracy = model.evaluate(X_test_scaled, y_test, verbose=1)\n",
        "\n",
        "# Print the evaluation results\n",
        "print(f\"Test Loss: {test_loss:.4f}\")\n",
        "print(f\"Test Accuracy: {test_accuracy:.4f}\")"
      ],
      "metadata": {
        "colab": {
          "base_uri": "https://localhost:8080/"
        },
        "id": "4sKh5BHtHU80",
        "outputId": "c77920e1-15f6-4512-a510-1511324ccca8"
      },
      "execution_count": 49,
      "outputs": [
        {
          "output_type": "stream",
          "name": "stdout",
          "text": [
            "\u001b[1m5/5\u001b[0m \u001b[32m━━━━━━━━━━━━━━━━━━━━\u001b[0m\u001b[37m\u001b[0m \u001b[1m0s\u001b[0m 3ms/step - accuracy: 0.7993 - loss: 0.4276 \n",
            "Test Loss: 0.4223\n",
            "Test Accuracy: 0.7937\n"
          ]
        }
      ]
    },
    {
      "cell_type": "code",
      "source": [
        "from sklearn.metrics import classification_report,confusion_matrix"
      ],
      "metadata": {
        "id": "iv78Y6uKHkGQ"
      },
      "execution_count": 51,
      "outputs": []
    },
    {
      "cell_type": "code",
      "source": [
        "# Predict classes on the test set\n",
        "y_pred_prob=model.predict(X_test_scaled)\n",
        "y_pred=(y_pred_prob>0.5).astype(int)\n",
        "\n",
        "# Generate a classification report\n",
        "\n",
        "print(classification_report(y_test, y_pred, target_names=['Class 0', 'Class 1']))"
      ],
      "metadata": {
        "colab": {
          "base_uri": "https://localhost:8080/"
        },
        "id": "o3Iw9t6KHvVx",
        "outputId": "5fda561a-c9a8-4a8b-bb4a-09cc4467a36b"
      },
      "execution_count": 53,
      "outputs": [
        {
          "output_type": "stream",
          "name": "stdout",
          "text": [
            "\u001b[1m5/5\u001b[0m \u001b[32m━━━━━━━━━━━━━━━━━━━━\u001b[0m\u001b[37m\u001b[0m \u001b[1m0s\u001b[0m 2ms/step \n",
            "              precision    recall  f1-score   support\n",
            "\n",
            "     Class 0       0.76      0.79      0.78        72\n",
            "     Class 1       0.82      0.80      0.81        88\n",
            "\n",
            "    accuracy                           0.79       160\n",
            "   macro avg       0.79      0.79      0.79       160\n",
            "weighted avg       0.79      0.79      0.79       160\n",
            "\n"
          ]
        }
      ]
    },
    {
      "cell_type": "code",
      "source": [
        "conf_matrix = confusion_matrix(y_test, y_pred)\n",
        "print(conf_matrix)"
      ],
      "metadata": {
        "colab": {
          "base_uri": "https://localhost:8080/"
        },
        "id": "0XFG3ce3IJqL",
        "outputId": "152c8611-b446-448f-e957-a50f7032d54b"
      },
      "execution_count": 54,
      "outputs": [
        {
          "output_type": "stream",
          "name": "stdout",
          "text": [
            "[[57 15]\n",
            " [18 70]]\n"
          ]
        }
      ]
    },
    {
      "cell_type": "code",
      "source": [],
      "metadata": {
        "id": "rnOQu1JLIW-k"
      },
      "execution_count": null,
      "outputs": []
    }
  ]
}