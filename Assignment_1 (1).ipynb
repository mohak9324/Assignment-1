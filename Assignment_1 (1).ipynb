{
 "cells": [
  {
   "cell_type": "code",
   "execution_count": 1,
   "id": "c0411b72-85d0-40b4-b956-66c2860388ce",
   "metadata": {},
   "outputs": [],
   "source": [
    "#Q1"
   ]
  },
  {
   "cell_type": "code",
   "execution_count": 2,
   "id": "7275d720-68f5-4e41-a20d-2362e0160e0a",
   "metadata": {},
   "outputs": [],
   "source": [
    "string='Mohak'"
   ]
  },
  {
   "cell_type": "code",
   "execution_count": 3,
   "id": "c5a71e8c-568f-4345-be7a-ee8fbed618e1",
   "metadata": {},
   "outputs": [],
   "source": [
    "lst=[1,2,3,4]"
   ]
  },
  {
   "cell_type": "code",
   "execution_count": 4,
   "id": "243b9f3a-15e5-4245-a0cb-c41faae3a16b",
   "metadata": {},
   "outputs": [],
   "source": [
    "flt=12.34"
   ]
  },
  {
   "cell_type": "code",
   "execution_count": 5,
   "id": "cc712baf-c364-49be-b93a-f0e06e68dc4d",
   "metadata": {},
   "outputs": [],
   "source": [
    "tupl=(1,2,3)"
   ]
  },
  {
   "cell_type": "code",
   "execution_count": 6,
   "id": "f2e67c15-ee78-41c5-a76f-17baefc21e70",
   "metadata": {},
   "outputs": [],
   "source": [
    "#Q2"
   ]
  },
  {
   "cell_type": "code",
   "execution_count": 13,
   "id": "21c7873a-826d-448c-9e71-b9913be28ec8",
   "metadata": {},
   "outputs": [],
   "source": [
    "var=''"
   ]
  },
  {
   "cell_type": "code",
   "execution_count": 14,
   "id": "0431ce50-07eb-4da6-b314-669008d1d97f",
   "metadata": {},
   "outputs": [
    {
     "data": {
      "text/plain": [
       "str"
      ]
     },
     "execution_count": 14,
     "metadata": {},
     "output_type": "execute_result"
    }
   ],
   "source": [
    "type(var)"
   ]
  },
  {
   "cell_type": "code",
   "execution_count": 11,
   "id": "ab659617-0267-421e-9d7a-3f7804342dde",
   "metadata": {},
   "outputs": [],
   "source": [
    "var='[DS,ML,Python]'"
   ]
  },
  {
   "cell_type": "code",
   "execution_count": 12,
   "id": "83dab8cf-116d-44da-af4c-8796566bbcf9",
   "metadata": {},
   "outputs": [
    {
     "data": {
      "text/plain": [
       "str"
      ]
     },
     "execution_count": 12,
     "metadata": {},
     "output_type": "execute_result"
    }
   ],
   "source": [
    "type(var)"
   ]
  },
  {
   "cell_type": "code",
   "execution_count": 15,
   "id": "e14b55e7-0bfa-46f0-b130-d6cb68630b78",
   "metadata": {},
   "outputs": [],
   "source": [
    "var3=['DS','ML','Python']"
   ]
  },
  {
   "cell_type": "code",
   "execution_count": 17,
   "id": "52ed0404-16ae-4149-93c5-93ae5d864327",
   "metadata": {},
   "outputs": [
    {
     "data": {
      "text/plain": [
       "list"
      ]
     },
     "execution_count": 17,
     "metadata": {},
     "output_type": "execute_result"
    }
   ],
   "source": [
    "type(var3)"
   ]
  },
  {
   "cell_type": "code",
   "execution_count": 18,
   "id": "5721962a-6902-464a-8b9e-2b5ce6b54258",
   "metadata": {},
   "outputs": [],
   "source": [
    "var4=1"
   ]
  },
  {
   "cell_type": "code",
   "execution_count": 20,
   "id": "d3594ddd-8594-48ec-818f-06d39864480d",
   "metadata": {},
   "outputs": [
    {
     "data": {
      "text/plain": [
       "int"
      ]
     },
     "execution_count": 20,
     "metadata": {},
     "output_type": "execute_result"
    }
   ],
   "source": [
    "type(var4)"
   ]
  },
  {
   "cell_type": "code",
   "execution_count": 21,
   "id": "be6734a3-279b-4874-ad1a-0464d61b9b9d",
   "metadata": {},
   "outputs": [],
   "source": [
    "#Q3"
   ]
  },
  {
   "cell_type": "code",
   "execution_count": 22,
   "id": "6d823bec-3ea6-4257-ab2d-6078b82e711d",
   "metadata": {},
   "outputs": [
    {
     "data": {
      "text/plain": [
       "1.25"
      ]
     },
     "execution_count": 22,
     "metadata": {},
     "output_type": "execute_result"
    }
   ],
   "source": [
    "5/4"
   ]
  },
  {
   "cell_type": "code",
   "execution_count": 30,
   "id": "fd23255d-968a-4f6b-ab2c-c3862fa85efa",
   "metadata": {},
   "outputs": [
    {
     "data": {
      "text/plain": [
       "0"
      ]
     },
     "execution_count": 30,
     "metadata": {},
     "output_type": "execute_result"
    }
   ],
   "source": [
    "8%4"
   ]
  },
  {
   "cell_type": "code",
   "execution_count": 31,
   "id": "f3d3380f-50ed-4921-84a6-697b41a14204",
   "metadata": {},
   "outputs": [
    {
     "data": {
      "text/plain": [
       "1"
      ]
     },
     "execution_count": 31,
     "metadata": {},
     "output_type": "execute_result"
    }
   ],
   "source": [
    "5//4"
   ]
  },
  {
   "cell_type": "code",
   "execution_count": 25,
   "id": "d5892f94-d76b-4a08-930c-a8735cb1a6af",
   "metadata": {},
   "outputs": [
    {
     "data": {
      "text/plain": [
       "625"
      ]
     },
     "execution_count": 25,
     "metadata": {},
     "output_type": "execute_result"
    }
   ],
   "source": [
    "5**4"
   ]
  },
  {
   "cell_type": "code",
   "execution_count": 26,
   "id": "9712559f-5344-4562-bcdd-f19729a42ad4",
   "metadata": {},
   "outputs": [],
   "source": [
    "#Q4"
   ]
  },
  {
   "cell_type": "code",
   "execution_count": 27,
   "id": "331e1e18-7bd0-491a-8d6a-4af902e7664d",
   "metadata": {},
   "outputs": [],
   "source": [
    "lst=[1,1.4,'Mohak',True]"
   ]
  },
  {
   "cell_type": "code",
   "execution_count": 28,
   "id": "8d958a6a-c175-4159-9d7d-f0b7fcbaf3f7",
   "metadata": {},
   "outputs": [
    {
     "name": "stdout",
     "output_type": "stream",
     "text": [
      "1 <class 'int'>\n",
      "1.4 <class 'float'>\n",
      "Mohak <class 'str'>\n",
      "True <class 'bool'>\n"
     ]
    }
   ],
   "source": [
    "for i in lst:\n",
    "    print(i,type(i))"
   ]
  },
  {
   "cell_type": "code",
   "execution_count": 29,
   "id": "f9111930-2d46-422d-9f78-e7b86e6feb13",
   "metadata": {},
   "outputs": [],
   "source": [
    "#Q5"
   ]
  },
  {
   "cell_type": "code",
   "execution_count": 35,
   "id": "941525af-e40b-42e0-a288-8653852d432a",
   "metadata": {},
   "outputs": [
    {
     "name": "stdin",
     "output_type": "stream",
     "text": [
      "Plz enter number 8\n",
      "Please enter number 4\n"
     ]
    },
    {
     "name": "stdout",
     "output_type": "stream",
     "text": [
      "Number A is divisible by number B 1 times.\n"
     ]
    }
   ],
   "source": [
    "A = int(input(\"Plz enter number\"))\n",
    "B = int(input(\"Please enter number\"))\n",
    "count = 0\n",
    "\n",
    "while A % B == 0:\n",
    "    A = A // B\n",
    "    count += 1\n",
    "\n",
    "print(\"Number A is divisible by number B\", count, \"times.\")\n"
   ]
  },
  {
   "cell_type": "code",
   "execution_count": 36,
   "id": "23702da3-3f92-4ac8-aa20-0601a70cf3cb",
   "metadata": {},
   "outputs": [],
   "source": [
    "#Q6"
   ]
  },
  {
   "cell_type": "code",
   "execution_count": 1,
   "id": "eadd0817-a30d-417c-9e16-6e8ad62a67c3",
   "metadata": {},
   "outputs": [],
   "source": [
    "lst=[3,6,8,9,10,11,12,14,15,17,18,19,20,21,23,24,25,26,27,28,30,33,35,36,37]"
   ]
  },
  {
   "cell_type": "code",
   "execution_count": 4,
   "id": "8ff2a68d-326d-45eb-974e-6efe9b9a76a3",
   "metadata": {},
   "outputs": [
    {
     "name": "stdout",
     "output_type": "stream",
     "text": [
      "3 Divisible by 3\n",
      "6 Divisible by 3\n",
      "8 Not Divisible by 3\n",
      "9 Divisible by 3\n",
      "10 Not Divisible by 3\n",
      "11 Not Divisible by 3\n",
      "12 Divisible by 3\n",
      "14 Not Divisible by 3\n",
      "15 Divisible by 3\n",
      "17 Not Divisible by 3\n",
      "18 Divisible by 3\n",
      "19 Not Divisible by 3\n",
      "20 Not Divisible by 3\n",
      "21 Divisible by 3\n",
      "23 Not Divisible by 3\n",
      "24 Divisible by 3\n",
      "25 Not Divisible by 3\n",
      "26 Not Divisible by 3\n",
      "27 Divisible by 3\n",
      "28 Not Divisible by 3\n",
      "30 Divisible by 3\n",
      "33 Divisible by 3\n",
      "35 Not Divisible by 3\n",
      "36 Divisible by 3\n",
      "37 Not Divisible by 3\n"
     ]
    }
   ],
   "source": [
    "for i in lst:\n",
    "    if(i%3==0):\n",
    "        print(i,\"Divisible by 3\")\n",
    "    else:\n",
    "        print(i,\"Not Divisible by 3\")"
   ]
  },
  {
   "cell_type": "code",
   "execution_count": 5,
   "id": "f8d8e921-daa2-48c9-bc70-b241012484d8",
   "metadata": {},
   "outputs": [],
   "source": [
    "#Q7"
   ]
  },
  {
   "cell_type": "code",
   "execution_count": 6,
   "id": "a978e04e-3a1c-42f7-890f-cb1f2749045e",
   "metadata": {},
   "outputs": [],
   "source": [
    "# Mutable Object: whose value can be changed\n",
    "#ImMutable: whose value can not be changed"
   ]
  },
  {
   "cell_type": "code",
   "execution_count": 7,
   "id": "8797f03d-e2b8-4fb0-bf87-787ec497bb02",
   "metadata": {},
   "outputs": [],
   "source": [
    "lst=[3,2,1]"
   ]
  },
  {
   "cell_type": "code",
   "execution_count": 8,
   "id": "477e9890-b5a1-4834-99c0-82b5a7fb49f8",
   "metadata": {},
   "outputs": [],
   "source": [
    "lst[1]=5"
   ]
  },
  {
   "cell_type": "code",
   "execution_count": 9,
   "id": "5e51ee18-a947-48d0-a0f3-52992673be0a",
   "metadata": {},
   "outputs": [
    {
     "data": {
      "text/plain": [
       "[3, 5, 1]"
      ]
     },
     "execution_count": 9,
     "metadata": {},
     "output_type": "execute_result"
    }
   ],
   "source": [
    "lst"
   ]
  },
  {
   "cell_type": "code",
   "execution_count": 10,
   "id": "9a77e433-9c6c-44b0-969a-c6348c3bf03a",
   "metadata": {},
   "outputs": [],
   "source": [
    "tpl=(1,2,3)"
   ]
  },
  {
   "cell_type": "code",
   "execution_count": 11,
   "id": "56068505-b7fe-466b-a5f3-2a95ab2d7d5b",
   "metadata": {},
   "outputs": [
    {
     "data": {
      "text/plain": [
       "2"
      ]
     },
     "execution_count": 11,
     "metadata": {},
     "output_type": "execute_result"
    }
   ],
   "source": [
    "tpl[1]"
   ]
  },
  {
   "cell_type": "code",
   "execution_count": 12,
   "id": "2fac0099-6dde-4fa3-90a5-3fbfd1831fac",
   "metadata": {},
   "outputs": [
    {
     "ename": "NameError",
     "evalue": "name 'tbl' is not defined",
     "output_type": "error",
     "traceback": [
      "\u001b[0;31m---------------------------------------------------------------------------\u001b[0m",
      "\u001b[0;31mNameError\u001b[0m                                 Traceback (most recent call last)",
      "Cell \u001b[0;32mIn[12], line 1\u001b[0m\n\u001b[0;32m----> 1\u001b[0m \u001b[43mtbl\u001b[49m[\u001b[38;5;241m1\u001b[39m]\u001b[38;5;241m=\u001b[39m\u001b[38;5;241m5\u001b[39m\n",
      "\u001b[0;31mNameError\u001b[0m: name 'tbl' is not defined"
     ]
    }
   ],
   "source": [
    "tbl[1]=5"
   ]
  },
  {
   "cell_type": "code",
   "execution_count": null,
   "id": "364724aa-26b6-439c-80a8-4effb9da4a72",
   "metadata": {},
   "outputs": [],
   "source": []
  }
 ],
 "metadata": {
  "kernelspec": {
   "display_name": "Python 3 (ipykernel)",
   "language": "python",
   "name": "python3"
  },
  "language_info": {
   "codemirror_mode": {
    "name": "ipython",
    "version": 3
   },
   "file_extension": ".py",
   "mimetype": "text/x-python",
   "name": "python",
   "nbconvert_exporter": "python",
   "pygments_lexer": "ipython3",
   "version": "3.10.8"
  }
 },
 "nbformat": 4,
 "nbformat_minor": 5
}
