{
 "cells": [
  {
   "cell_type": "code",
   "execution_count": 1,
   "id": "2f95958f-8ee4-4081-beb1-07687641d9ea",
   "metadata": {},
   "outputs": [],
   "source": [
    "#Q1"
   ]
  },
  {
   "cell_type": "markdown",
   "id": "4af87663-e232-42eb-8fcf-4da5d88abe34",
   "metadata": {},
   "source": [
    "The Probability Density Function (PDF) is a fundamental concept in probability and statistics, particularly in the context of continuous random variables. It describes the probability distribution of a continuous random variable, which means it gives the probability that the variable takes on a specific value or falls within a particular range.\n",
    "\n",
    "The PDF has several key properties:\n",
    "\n",
    "Non-negative values: The PDF is always non-negative, meaning that for any possible value of the continuous random variable, the PDF value is greater than or equal to zero.\n",
    "\n",
    "Area under the curve: The total area under the PDF curve over the entire range of possible values is equal to 1. In other words, the PDF represents a probability distribution, and the sum of all probabilities must be 1.\n",
    "\n",
    "Probability within a range: To find the probability that the random variable falls within a certain interval (a, b), you integrate the PDF over that interval. Mathematically, it can be expressed as follows:\n",
    "\n",
    "P(a ≤ X ≤ b) = ∫[a to b] f(x) dx\n",
    "\n",
    "Where:\n",
    "\n",
    "P(a ≤ X ≤ b) represents the probability that X falls within the interval (a, b).\n",
    "f(x) is the PDF of the random variable X.\n",
    "∫[a to b] denotes the integral from a to b, which calculates the area under the PDF curve between a and b.\n",
    "Point probability: The probability of a specific value (e.g., P(X = x)) for a continuous random variable is typically zero because there are infinitely many possible values in a continuous range. Instead, you calculate the probability of a range (as mentioned in #3).\n",
    "\n",
    "Common probability density functions include the normal distribution (bell-shaped curve), uniform distribution, exponential distribution, and many others. Each has its own mathematical formula that defines the shape of the PDF and how probabilities are distributed across the range of values for the random variable.\n",
    "\n",
    "The PDF is a fundamental tool in statistics, as it allows you to model and analyze the behavior of continuous random variables and make probabilistic predictions about their outcomes."
   ]
  },
  {
   "cell_type": "code",
   "execution_count": 2,
   "id": "37850759-dce3-4fc8-80a0-02fe04c3f8ce",
   "metadata": {},
   "outputs": [],
   "source": [
    "#Q2"
   ]
  },
  {
   "cell_type": "markdown",
   "id": "aaf2d7dd-cf67-450e-ac88-55b206ea9051",
   "metadata": {},
   "source": [
    "1. Normal / Gaussian Distribution\n",
    "2. Bernouli distribution\n",
    "3. Binomial Distribution\n",
    "4. Poisson Distribution\n",
    "5. Uniform distribution\n",
    "6. Log Normal distriution"
   ]
  },
  {
   "cell_type": "code",
   "execution_count": 4,
   "id": "673d5292-be66-4247-b81d-93d2bfe1a10b",
   "metadata": {},
   "outputs": [],
   "source": [
    "#Q3"
   ]
  },
  {
   "cell_type": "code",
   "execution_count": 2,
   "id": "c3c18085-0371-4a97-8fb8-b119f1b4ebb6",
   "metadata": {},
   "outputs": [],
   "source": [
    "import scipy.stats as stats"
   ]
  },
  {
   "cell_type": "code",
   "execution_count": 3,
   "id": "0ac474e6-78ca-45b6-b07d-37f23e718050",
   "metadata": {},
   "outputs": [
    {
     "name": "stdout",
     "output_type": "stream",
     "text": [
      "0.2129653370149015\n"
     ]
    }
   ],
   "source": [
    "def calculate_pdf(mean,std_dev,x):\n",
    "    pdf=stats.norm.pdf(x,loc=mean,scale=std_dev)\n",
    "    return pdf\n",
    "    \n",
    "mean=3\n",
    "std_dev=1.5\n",
    "x=4\n",
    "\n",
    "pdf_value=calculate_pdf(mean,std_dev,x)\n",
    "print(pdf_value)"
   ]
  },
  {
   "cell_type": "code",
   "execution_count": 1,
   "id": "ade06f81-bd6e-4dd0-81ec-1baf58b0ef2f",
   "metadata": {},
   "outputs": [],
   "source": [
    "#Q4"
   ]
  },
  {
   "cell_type": "markdown",
   "id": "f2ff3a5e-def8-4cdb-8395-ae28252d3d56",
   "metadata": {},
   "source": [
    "The binomial distribution is a discrete probability distribution that models the number of successes in a fixed number of independent Bernoulli trials (experiments with two possible outcomes: success and failure), where each trial has the same probability of success (denoted as 'p'). The properties of the binomial distribution include:\n",
    "\n",
    "Discreteness: The binomial distribution is used for counting the number of successes in a fixed number of trials, so the random variable is discrete. It takes on non-negative integer values (0, 1, 2, ...) because you can't have a fraction or a negative number of successes.\n",
    "\n",
    "Fixed Number of Trials (n): The number of trials (experiments) is fixed and known in advance, denoted as 'n.'\n",
    "\n",
    "Independent Trials: Each trial is assumed to be independent of the others. The outcome of one trial does not affect the outcome of the others.\n",
    "\n",
    "Constant Probability of Success (p): The probability of success (e.g., getting a \"heads\" in a coin flip) is the same for each trial and is denoted as 'p.'\n",
    "\n",
    "Two Possible Outcomes: Each trial has two possible outcomes: success (usually denoted as '1') or failure (usually denoted as '0').\n",
    "\n",
    "Probability Mass Function: The probability mass function (PMF) of the binomial distribution is given by the formula:\n",
    "\n",
    "P(X = k) = C(n, k) * p^k * (1-p)^(n-k)\n",
    "\n",
    "Where:\n",
    "\n",
    "P(X = k) is the probability of getting exactly 'k' successes in 'n' trials.\n",
    "C(n, k) is the binomial coefficient, often denoted as \"n choose k,\" which represents the number of ways to choose 'k' successes from 'n' trials.\n",
    "p is the probability of success in a single trial.\n",
    "(1-p) is the probability of failure in a single trial.\n",
    "Two examples of events where the binomial distribution can be applied are:\n",
    "\n",
    "Coin Flips: When flipping a fair coin (with a probability of success, p = 0.5) multiple times (n times), you can model the number of heads obtained as a binomial distribution. For example, you can calculate the probability of getting exactly 3 heads in 5 coin flips.\n",
    "\n",
    "Quality Control: In a manufacturing process where each item has a certain probability of being defective (e.g., p = 0.1), you can use the binomial distribution to model the number of defective items in a random sample of 'n' items. For instance, you can calculate the probability that out of 20 randomly selected items, exactly 2 are defective."
   ]
  },
  {
   "cell_type": "code",
   "execution_count": 2,
   "id": "9df40a3a-163a-4bff-a6d0-17eae85a3859",
   "metadata": {},
   "outputs": [],
   "source": [
    "#Q5"
   ]
  },
  {
   "cell_type": "code",
   "execution_count": 1,
   "id": "c66aed68-792d-4840-9788-ef9707bc9825",
   "metadata": {},
   "outputs": [],
   "source": [
    "import numpy as np\n",
    "import matplotlib.pyplot as plt"
   ]
  },
  {
   "cell_type": "code",
   "execution_count": 8,
   "id": "d153f706-eadc-48b5-bd71-2c317914e0af",
   "metadata": {},
   "outputs": [
    {
     "data": {
      "image/png": "[encoded data removed]",
      "text/plain": [
       "<Figure size 640x480 with 1 Axes>"
      ]
     },
     "metadata": {},
     "output_type": "display_data"
    }
   ],
   "source": [
    "n=1000\n",
    "p=0.4\n",
    "\n",
    "random_sample=np.random.binomial(1,p,n)\n",
    "\n",
    "\n",
    "plt.hist(random_sample,bins=2,edgecolor='k',alpha=0.7)\n",
    "plt.show()"
   ]
  },
  {
   "cell_type": "code",
   "execution_count": 9,
   "id": "24c5ee76-d365-4f06-9689-6115cd0eca98",
   "metadata": {},
   "outputs": [],
   "source": [
    "#Q6"
   ]
  },
  {
   "cell_type": "code",
   "execution_count": 3,
   "id": "b4bc4667-1c75-4b34-a47f-f4a5a96a99b0",
   "metadata": {},
   "outputs": [
    {
     "name": "stdout",
     "output_type": "stream",
     "text": [
      "0.43347012036670896\n"
     ]
    }
   ],
   "source": [
    "def calculated_poisson_cdf(mean,x):\n",
    "    cdf=stats.poisson.cdf(x,mu=mean)\n",
    "    return cdf\n",
    "\n",
    "mean=4\n",
    "x=3\n",
    "\n",
    "cdf_value=calculated_poisson_cdf(mean,x)\n",
    "print(cdf_value)"
   ]
  },
  {
   "cell_type": "code",
   "execution_count": 4,
   "id": "3d0f2281-1354-448b-9175-7befbe66baf0",
   "metadata": {},
   "outputs": [],
   "source": [
    "#Q7"
   ]
  },
  {
   "cell_type": "markdown",
   "id": "83e20ee5-f5ad-4de4-ac05-e8d6f6bffdf7",
   "metadata": {},
   "source": [
    "he Binomial distribution and Poisson distribution are both probability distributions used to model the number of events or successes in a series of independent trials or occurrences. However, they differ in several key ways:\n",
    "\n",
    "Number of Trials (n):\n",
    "\n",
    "Binomial Distribution: In a Binomial distribution, the number of trials (n) is fixed and known in advance. You perform a fixed number of trials, each with two possible outcomes (success or failure), and you're interested in counting the number of successes in those trials.\n",
    "Poisson Distribution: In a Poisson distribution, there is no fixed number of trials. It is used to model events that occur in a fixed interval of time or space, such as the number of phone calls at a call center in an hour. The number of events is not predetermined; it can vary.\n",
    "Probability of Success (p) and Event Rate (λ):\n",
    "\n",
    "Binomial Distribution: The probability of success (p) is constant and the same for each trial. It represents the likelihood of success in a single trial.\n",
    "Poisson Distribution: The Poisson distribution is characterized by an event rate parameter (λ), which represents the average number of events in a fixed interval. Instead of specifying the probability of success in each trial, you specify the average rate of occurrence for the entire interval."
   ]
  },
  {
   "cell_type": "code",
   "execution_count": 5,
   "id": "cd8db133-cc2f-4f2c-8496-34048c40a24e",
   "metadata": {},
   "outputs": [],
   "source": [
    "#Q8"
   ]
  },
  {
   "cell_type": "code",
   "execution_count": 6,
   "id": "46c363fd-4c18-4bf8-a2ff-a2b7c282e841",
   "metadata": {},
   "outputs": [
    {
     "name": "stdout",
     "output_type": "stream",
     "text": [
      "5.037\n",
      "4.9476309999999994\n"
     ]
    }
   ],
   "source": [
    "mean=5\n",
    "sample_size=1000\n",
    "\n",
    "random_sample=np.random.poisson(mean,sample_size)\n",
    "\n",
    "sample_mean= np.mean(random_sample)\n",
    "sample_variance=np.var(random_sample)\n",
    "\n",
    "print(sample_mean)\n",
    "print(sample_variance)"
   ]
  },
  {
   "cell_type": "code",
   "execution_count": 1,
   "id": "2ce1aefa-e90f-421a-a991-f329eca83ebe",
   "metadata": {},
   "outputs": [],
   "source": [
    "#Q9"
   ]
  },
  {
   "cell_type": "markdown",
   "id": "8a73e403-e3f6-4d5f-9efd-72decf4ac79b",
   "metadata": {},
   "source": [
    "\n",
    "The relationship between mean (expected value) and variance differs between the Binomial distribution and the Poisson distribution:\n",
    "\n",
    "Binomial Distribution:\n",
    "In a Binomial distribution, where the number of trials is fixed (n) and each trial has a constant probability of success (p), the relationship between the mean and variance is as follows:\n",
    "\n",
    "Mean (μ) = n * p\n",
    "Variance (σ^2) = n * p * (1 - p)\n",
    "\n",
    "In other words, the mean of a Binomial distribution is directly proportional to both the number of trials (n) and the probability of success (p), while the variance is also influenced by both parameters but also depends on the probability of failure (1 - p). As the number of trials or the probability of success increases, the mean and variance of the Binomial distribution increase as well.\n",
    "\n",
    "Poisson Distribution:\n",
    "In a Poisson distribution, which is used to model rare events occurring in a fixed interval of time or space, the relationship between the mean (λ, lambda) and variance is different:\n",
    "\n",
    "Mean (λ) = Variance (σ^2)\n",
    "\n",
    "In the Poisson distribution, the mean (λ) is equal to the variance (σ^2). This means that the spread or dispersion of the data in a Poisson distribution is solely determined by its mean. When the mean number of events in a given interval is known, you can also directly determine the variance.\n",
    "\n",
    "In summary, for the Binomial distribution, the variance depends on both the number of trials and the probability of success, while for the Poisson distribution, the variance is solely determined by its mean, and they are equal."
   ]
  },
  {
   "cell_type": "code",
   "execution_count": 2,
   "id": "cd6872e0-6d4d-40c5-92f1-5d94d21d3a5c",
   "metadata": {},
   "outputs": [],
   "source": [
    "#Q10"
   ]
  },
  {
   "cell_type": "markdown",
   "id": "3c93c700-5eee-41f0-aa3e-3480144808a6",
   "metadata": {},
   "source": [
    "In a normal distribution, the least frequent data points are found in the tails of the distribution, far away from the mean."
   ]
  },
  {
   "cell_type": "code",
   "execution_count": null,
   "id": "0700e1c7-bf15-4d1e-bd9e-e33cf393bf91",
   "metadata": {},
   "outputs": [],
   "source": []
  }
 ],
 "metadata": {
  "kernelspec": {
   "display_name": "Python 3 (ipykernel)",
   "language": "python",
   "name": "python3"
  },
  "language_info": {
   "codemirror_mode": {
    "name": "ipython",
    "version": 3
   },
   "file_extension": ".py",
   "mimetype": "text/x-python",
   "name": "python",
   "nbconvert_exporter": "python",
   "pygments_lexer": "ipython3",
   "version": "3.10.8"
  }
 },
 "nbformat": 4,
 "nbformat_minor": 5
}
